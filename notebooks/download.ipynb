{
 "cells": [
  {
   "cell_type": "code",
   "execution_count": 3,
   "metadata": {
    "collapsed": true
   },
   "outputs": [],
   "source": [
    "import numpy as np\n",
    "import pandas as pd\n",
    "import os\n",
    "\n",
    "os.chdir('../')"
   ]
  },
  {
   "cell_type": "code",
   "execution_count": 4,
   "outputs": [
    {
     "name": "stdout",
     "output_type": "stream",
     "text": [
      "--2021-05-02 14:25:28--  http://www.shl-dataset.org/wp-content/uploads/SHLChallenge2021/SHL-2021-Train.zip\r\n",
      "Resolving www.shl-dataset.org (www.shl-dataset.org)... 37.187.125.22\r\n",
      "Connecting to www.shl-dataset.org (www.shl-dataset.org)|37.187.125.22|:80... connected.\r\n",
      "HTTP request sent, awaiting response... 200 OK\r\n",
      "Length: 87184289 (83M) [application/zip]\r\n",
      "Saving to: ‘data/SHL-2021-Train.zip’\r\n",
      "\r\n",
      "SHL-2021-Train.zip  100%[===================>]  83.14M  3.52MB/s    in 23s     \r\n",
      "\r\n",
      "2021-05-02 14:25:52 (3.55 MB/s) - ‘data/SHL-2021-Train.zip’ saved [87184289/87184289]\r\n",
      "\r\n",
      "--2021-05-02 14:25:52--  http://www.shl-dataset.org/wp-content/uploads/SHLChallenge2021/SHL-2021-Validate.zip\r\n",
      "Resolving www.shl-dataset.org (www.shl-dataset.org)... 37.187.125.22\r\n",
      "Connecting to www.shl-dataset.org (www.shl-dataset.org)|37.187.125.22|:80... connected.\r\n",
      "HTTP request sent, awaiting response... 200 OK\r\n",
      "Length: 9252605 (8.8M) [application/zip]\r\n",
      "Saving to: ‘data/SHL-2021-Validate.zip’\r\n",
      "\r\n",
      "SHL-2021-Validate.z 100%[===================>]   8.82M  3.06MB/s    in 2.9s    \r\n",
      "\r\n",
      "2021-05-02 14:25:55 (3.06 MB/s) - ‘data/SHL-2021-Validate.zip’ saved [9252605/9252605]\r\n",
      "\r\n",
      "--2021-05-02 14:25:55--  http://www.shl-dataset.org/wp-content/uploads/SHLChallenge2021/SHL-2021-Test.zip\r\n",
      "Resolving www.shl-dataset.org (www.shl-dataset.org)... 37.187.125.22\r\n",
      "Connecting to www.shl-dataset.org (www.shl-dataset.org)|37.187.125.22|:80... connected.\r\n",
      "HTTP request sent, awaiting response... 200 OK\r\n",
      "Length: 47889214 (46M) [application/zip]\r\n",
      "Saving to: ‘data/SHL-2021-Test.zip’\r\n",
      "\r\n",
      "SHL-2021-Test.zip   100%[===================>]  45.67M  3.56MB/s    in 13s     \r\n",
      "\r\n",
      "2021-05-02 14:26:09 (3.39 MB/s) - ‘data/SHL-2021-Test.zip’ saved [47889214/47889214]\r\n",
      "\r\n"
     ]
    }
   ],
   "source": [
    "!wget 'http://www.shl-dataset.org/wp-content/uploads/SHLChallenge2021/SHL-2021-Train.zip' -P data/\n",
    "!wget 'http://www.shl-dataset.org/wp-content/uploads/SHLChallenge2021/SHL-2021-Validate.zip' -P data/\n",
    "!wget 'http://www.shl-dataset.org/wp-content/uploads/SHLChallenge2021/SHL-2021-Test.zip' -P data/"
   ],
   "metadata": {
    "collapsed": false,
    "pycharm": {
     "name": "#%%\n"
    }
   }
  },
  {
   "cell_type": "code",
   "execution_count": 6,
   "outputs": [
    {
     "name": "stdout",
     "output_type": "stream",
     "text": [
      "Archive:  data/SHL-2021-Train.zip\r\n",
      "  inflating: data/train/Cells.txt    \r\n",
      "  inflating: data/train/GPS.txt      \r\n",
      "  inflating: data/train/Label.txt    \r\n",
      "  inflating: data/train/Location.txt  \r\n",
      "  inflating: data/train/WiFi.txt     \r\n",
      "Archive:  data/SHL-2021-Validate.zip\r\n",
      "  inflating: data/validate/Cells.txt  \r\n",
      "  inflating: data/validate/GPS.txt   \r\n",
      "  inflating: data/validate/Label.txt  \r\n",
      "  inflating: data/validate/Location.txt  \r\n",
      "  inflating: data/validate/WiFi.txt  \r\n",
      "Archive:  data/SHL-2021-Test.zip\r\n",
      "  inflating: data/test/Cells.txt     \r\n",
      "  inflating: data/test/GPS.txt       \r\n",
      "  inflating: data/test/Label_idx.txt  \r\n",
      "  inflating: data/test/Location.txt  \r\n",
      "  inflating: data/test/WiFi.txt      \r\n"
     ]
    }
   ],
   "source": [
    "!mkdir -p data/train\n",
    "!mkdir -p data/validate\n",
    "!mkdir -p data/test\n",
    "!unzip data/SHL-2021-Train.zip -d data/train\n",
    "!unzip data/SHL-2021-Validate.zip -d data/validate\n",
    "!unzip data/SHL-2021-Test.zip -d data/test"
   ],
   "metadata": {
    "collapsed": false,
    "pycharm": {
     "name": "#%%\n"
    }
   }
  },
  {
   "cell_type": "code",
   "execution_count": null,
   "outputs": [],
   "source": [
    "def convert_data(file):\n",
    "    "
   ],
   "metadata": {
    "collapsed": false,
    "pycharm": {
     "name": "#%%\n"
    }
   }
  }
 ],
 "metadata": {
  "kernelspec": {
   "display_name": "Python 3",
   "language": "python",
   "name": "python3"
  },
  "language_info": {
   "codemirror_mode": {
    "name": "ipython",
    "version": 2
   },
   "file_extension": ".py",
   "mimetype": "text/x-python",
   "name": "python",
   "nbconvert_exporter": "python",
   "pygments_lexer": "ipython2",
   "version": "2.7.6"
  }
 },
 "nbformat": 4,
 "nbformat_minor": 0
}