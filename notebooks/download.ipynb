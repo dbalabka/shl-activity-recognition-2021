{
 "cells": [
  {
   "cell_type": "code",
   "execution_count": 1,
   "metadata": {
    "collapsed": true
   },
   "outputs": [],
   "source": [
    "import numpy as np\n",
    "import pandas as pd\n",
    "import os\n"
   ]
  },
  {
   "cell_type": "code",
   "execution_count": 6,
   "outputs": [
    {
     "name": "stdout",
     "output_type": "stream",
     "text": [
      "--2021-05-29 17:53:57--  http://www.shl-dataset.org/wp-content/uploads/SHLChallenge2021/SHL-2021-Train.zip\r\n",
      "Resolving www.shl-dataset.org (www.shl-dataset.org)... 37.187.125.22\r\n",
      "Connecting to www.shl-dataset.org (www.shl-dataset.org)|37.187.125.22|:80... connected.\r\n",
      "HTTP request sent, awaiting response... 200 OK\r\n",
      "Length: 87184289 (83M) [application/zip]\r\n",
      "Saving to: ‘../data/SHL-2021-Train.zip’\r\n",
      "\r\n",
      "SHL-2021-Train.zip  100%[===================>]  83.14M  10.1MB/s    in 8.7s    \r\n",
      "\r\n",
      "2021-05-29 17:54:06 (9.53 MB/s) - ‘../data/SHL-2021-Train.zip’ saved [87184289/87184289]\r\n",
      "\r\n",
      "--2021-05-29 17:54:06--  http://www.shl-dataset.org/wp-content/uploads/SHLChallenge2021/SHL-2021-Validate_11052021.zip\r\n",
      "Resolving www.shl-dataset.org (www.shl-dataset.org)... 37.187.125.22\r\n",
      "Connecting to www.shl-dataset.org (www.shl-dataset.org)|37.187.125.22|:80... connected.\r\n",
      "HTTP request sent, awaiting response... 200 OK\r\n",
      "Length: 11381456 (11M) [application/zip]\r\n",
      "Saving to: ‘../data/SHL-2021-Validate_11052021.zip’\r\n",
      "\r\n",
      "SHL-2021-Validate_1 100%[===================>]  10.85M  6.65MB/s    in 1.6s    \r\n",
      "\r\n",
      "2021-05-29 17:54:08 (6.65 MB/s) - ‘../data/SHL-2021-Validate_11052021.zip’ saved [11381456/11381456]\r\n",
      "\r\n",
      "--2021-05-29 17:54:08--  http://www.shl-dataset.org/wp-content/uploads/SHLChallenge2021/SHL-2021-Test.zip\r\n",
      "Resolving www.shl-dataset.org (www.shl-dataset.org)... 37.187.125.22\r\n",
      "Connecting to www.shl-dataset.org (www.shl-dataset.org)|37.187.125.22|:80... connected.\r\n",
      "HTTP request sent, awaiting response... 200 OK\r\n",
      "Length: 47889214 (46M) [application/zip]\r\n",
      "Saving to: ‘../data/SHL-2021-Test.zip’\r\n",
      "\r\n",
      "SHL-2021-Test.zip   100%[===================>]  45.67M  9.91MB/s    in 5.0s    \r\n",
      "\r\n",
      "2021-05-29 17:54:13 (9.05 MB/s) - ‘../data/SHL-2021-Test.zip’ saved [47889214/47889214]\r\n",
      "\r\n"
     ]
    }
   ],
   "source": [
    "!rm ../data/*.zip\n",
    "!wget 'http://www.shl-dataset.org/wp-content/uploads/SHLChallenge2021/SHL-2021-Train.zip' -P ../data/\n",
    "!wget 'http://www.shl-dataset.org/wp-content/uploads/SHLChallenge2021/SHL-2021-Validate_11052021.zip' -P ../data/\n",
    "!wget 'http://www.shl-dataset.org/wp-content/uploads/SHLChallenge2021/SHL-2021-Test.zip' -P ../data/"
   ],
   "metadata": {
    "collapsed": false,
    "pycharm": {
     "name": "#%%\n"
    }
   }
  },
  {
   "cell_type": "code",
   "execution_count": 9,
   "outputs": [
    {
     "name": "stdout",
     "output_type": "stream",
     "text": [
      "Archive:  ../data/SHL-2021-Train.zip\r\n",
      "  inflating: ../data/train/Cells.txt  \r\n",
      "  inflating: ../data/train/GPS.txt   \r\n",
      "  inflating: ../data/train/Label.txt  \r\n",
      "  inflating: ../data/train/Location.txt  \r\n",
      "  inflating: ../data/train/WiFi.txt  \r\n",
      "Archive:  ../data/SHL-2021-Validate_11052021.zip\r\n",
      "  inflating: ../data/validate/Cells.txt  \r\n",
      "  inflating: ../data/validate/GPS.txt  \r\n",
      "  inflating: ../data/validate/Label.txt  \r\n",
      "  inflating: ../data/validate/Location.txt  \r\n",
      "  inflating: ../data/validate/WiFi.txt  \r\n",
      "Archive:  ../data/SHL-2021-Test.zip\r\n",
      "  inflating: ../data/test/Cells.txt  \r\n",
      "  inflating: ../data/test/GPS.txt    \r\n",
      "  inflating: ../data/test/Label_idx.txt  \r\n",
      "  inflating: ../data/test/Location.txt  \r\n",
      "  inflating: ../data/test/WiFi.txt   \r\n"
     ]
    }
   ],
   "source": [
    "!mkdir -p ../data/train\n",
    "!mkdir -p ../data/validate\n",
    "!mkdir -p ../data/test\n",
    "!unzip -o ../data/SHL-2021-Train.zip -d ../data/train\n",
    "!unzip -o ../data/SHL-2021-Validate_11052021.zip -d ../data/validate\n",
    "!unzip -o ../data/SHL-2021-Test.zip -d ../data/test"
   ],
   "metadata": {
    "collapsed": false,
    "pycharm": {
     "name": "#%%\n"
    }
   }
  }
 ],
 "metadata": {
  "kernelspec": {
   "display_name": "Python 3",
   "language": "python",
   "name": "python3"
  },
  "language_info": {
   "codemirror_mode": {
    "name": "ipython",
    "version": 2
   },
   "file_extension": ".py",
   "mimetype": "text/x-python",
   "name": "python",
   "nbconvert_exporter": "python",
   "pygments_lexer": "ipython2",
   "version": "2.7.6"
  }
 },
 "nbformat": 4,
 "nbformat_minor": 0
}