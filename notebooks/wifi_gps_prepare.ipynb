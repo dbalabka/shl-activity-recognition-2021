{
 "cells": [
  {
   "cell_type": "code",
   "execution_count": 1,
   "metadata": {
    "collapsed": true
   },
   "outputs": [],
   "source": [
    "import numpy as np\n",
    "import pandas as pd\n",
    "import os\n",
    "\n",
    "os.chdir('../')"
   ]
  },
  {
   "cell_type": "code",
   "execution_count": 2,
   "outputs": [],
   "source": [
    "def parse_csv(path, columns, sep=';', chunk_size=5, head_size=4, tail_columns_count = 0):\n",
    "    data = []\n",
    "    with open(path) as file:\n",
    "        for line in file:\n",
    "            measurement = line.split(sep)\n",
    "            head = measurement[:head_size]\n",
    "\n",
    "            if len(measurement[head_size:]) % chunk_size != tail_columns_count:\n",
    "                raise Exception('Row size incorrect for line: ' + line)\n",
    "\n",
    "            for chunk_num in range(len(measurement[head_size:]) // chunk_size):\n",
    "                data.append(head + measurement[head_size + chunk_size * chunk_num:head_size + chunk_size * chunk_num + chunk_size])\n",
    "\n",
    "    return pd.DataFrame(data, columns=columns)"
   ],
   "metadata": {
    "collapsed": false,
    "pycharm": {
     "name": "#%%\n"
    }
   }
  },
  {
   "cell_type": "markdown",
   "source": [
    "# Covert WiFi files into Parquet format"
   ],
   "metadata": {
    "collapsed": false,
    "pycharm": {
     "name": "#%% md\n"
    }
   }
  },
  {
   "cell_type": "code",
   "execution_count": 5,
   "outputs": [
    {
     "data": {
      "text/plain": "        Epoch time [ms]         Ignore1       Ignore2 Unknown  \\\n0         1497426495755     94062335923   25013238017      11   \n1         1497426495755     94062335923   25013238017      11   \n2         1497426495755     94062335923   25013238017      11   \n3         1497426495755     94062335923   25013238017      11   \n4         1497426495755     94062335923   25013238017      11   \n...                 ...             ...           ...     ...   \n1486473   1499462768865  39302909359643  225472967673       8   \n1486474   1499462768865  39302909359643  225472967673       8   \n1486475   1499462768865  39302909359643  225472967673       8   \n1486476   1499462768865  39302909359643  225472967673       8   \n1486477   1499462768865  39302909359643  225472967673       8   \n\n                     BSSID                SSID RSSI Frequency [MHz]  \\\n0        70:50:af:2d:ed:d9            SKY484B1  -36            2462   \n1        74:44:01:f9:12:4c  virginmedia7072875  -66            2437   \n2        22:03:d8:03:39:62            BTWifi-X  -66            2462   \n3        1c:a5:32:a2:fd:1b      EXT2-VM7640780  -72            2437   \n4        00:03:d8:03:39:62         BTHub3-PHSH  -65            2462   \n...                    ...                 ...  ...             ...   \n1486473  92:4d:4a:2a:f5:7c            BTWifi-X  -82            2462   \n1486474  64:0f:29:0d:f7:b1       Albion Dental  -70            2432   \n1486475  92:4d:4a:2a:f5:7f     BTWifi-with-FON  -82            2462   \n1486476  64:0f:29:0d:f7:b4          BTOpenzone  -70            2432   \n1486477  88:ce:fa:86:f5:04     TALKTALK-86F4FC  -88            2412   \n\n                                              Capabilities  \n0                                [WPA2-PSK-CCMP][WPS][ESS]  \n1        [WPA-PSK-CCMP+TKIP][WPA2-PSK-CCMP+TKIP][WPS][ESS]  \n2        [WPA-EAP-CCMP+TKIP][WPA2-EAP-CCMP+TKIP-preauth...  \n3                                     [WPA2-PSK-CCMP][ESS]  \n4        [WPA-PSK-CCMP+TKIP][WPA2-PSK-CCMP+TKIP][WPS][ESS]  \n...                                                    ...  \n1486473                       [WPA2-EAP-CCMP-preauth][ESS]  \n1486474                               [WPA2-PSK-CCMP][ESS]  \n1486475                                              [ESS]  \n1486476                                              [ESS]  \n1486477  [WPA-PSK-CCMP+TKIP][WPA2-PSK-CCMP+TKIP][WPS][E...  \n\n[1486478 rows x 9 columns]",
      "text/html": "<div>\n<style scoped>\n    .dataframe tbody tr th:only-of-type {\n        vertical-align: middle;\n    }\n\n    .dataframe tbody tr th {\n        vertical-align: top;\n    }\n\n    .dataframe thead th {\n        text-align: right;\n    }\n</style>\n<table border=\"1\" class=\"dataframe\">\n  <thead>\n    <tr style=\"text-align: right;\">\n      <th></th>\n      <th>Epoch time [ms]</th>\n      <th>Ignore1</th>\n      <th>Ignore2</th>\n      <th>Unknown</th>\n      <th>BSSID</th>\n      <th>SSID</th>\n      <th>RSSI</th>\n      <th>Frequency [MHz]</th>\n      <th>Capabilities</th>\n    </tr>\n  </thead>\n  <tbody>\n    <tr>\n      <th>0</th>\n      <td>1497426495755</td>\n      <td>94062335923</td>\n      <td>25013238017</td>\n      <td>11</td>\n      <td>70:50:af:2d:ed:d9</td>\n      <td>SKY484B1</td>\n      <td>-36</td>\n      <td>2462</td>\n      <td>[WPA2-PSK-CCMP][WPS][ESS]</td>\n    </tr>\n    <tr>\n      <th>1</th>\n      <td>1497426495755</td>\n      <td>94062335923</td>\n      <td>25013238017</td>\n      <td>11</td>\n      <td>74:44:01:f9:12:4c</td>\n      <td>virginmedia7072875</td>\n      <td>-66</td>\n      <td>2437</td>\n      <td>[WPA-PSK-CCMP+TKIP][WPA2-PSK-CCMP+TKIP][WPS][ESS]</td>\n    </tr>\n    <tr>\n      <th>2</th>\n      <td>1497426495755</td>\n      <td>94062335923</td>\n      <td>25013238017</td>\n      <td>11</td>\n      <td>22:03:d8:03:39:62</td>\n      <td>BTWifi-X</td>\n      <td>-66</td>\n      <td>2462</td>\n      <td>[WPA-EAP-CCMP+TKIP][WPA2-EAP-CCMP+TKIP-preauth...</td>\n    </tr>\n    <tr>\n      <th>3</th>\n      <td>1497426495755</td>\n      <td>94062335923</td>\n      <td>25013238017</td>\n      <td>11</td>\n      <td>1c:a5:32:a2:fd:1b</td>\n      <td>EXT2-VM7640780</td>\n      <td>-72</td>\n      <td>2437</td>\n      <td>[WPA2-PSK-CCMP][ESS]</td>\n    </tr>\n    <tr>\n      <th>4</th>\n      <td>1497426495755</td>\n      <td>94062335923</td>\n      <td>25013238017</td>\n      <td>11</td>\n      <td>00:03:d8:03:39:62</td>\n      <td>BTHub3-PHSH</td>\n      <td>-65</td>\n      <td>2462</td>\n      <td>[WPA-PSK-CCMP+TKIP][WPA2-PSK-CCMP+TKIP][WPS][ESS]</td>\n    </tr>\n    <tr>\n      <th>...</th>\n      <td>...</td>\n      <td>...</td>\n      <td>...</td>\n      <td>...</td>\n      <td>...</td>\n      <td>...</td>\n      <td>...</td>\n      <td>...</td>\n      <td>...</td>\n    </tr>\n    <tr>\n      <th>1486473</th>\n      <td>1499462768865</td>\n      <td>39302909359643</td>\n      <td>225472967673</td>\n      <td>8</td>\n      <td>92:4d:4a:2a:f5:7c</td>\n      <td>BTWifi-X</td>\n      <td>-82</td>\n      <td>2462</td>\n      <td>[WPA2-EAP-CCMP-preauth][ESS]</td>\n    </tr>\n    <tr>\n      <th>1486474</th>\n      <td>1499462768865</td>\n      <td>39302909359643</td>\n      <td>225472967673</td>\n      <td>8</td>\n      <td>64:0f:29:0d:f7:b1</td>\n      <td>Albion Dental</td>\n      <td>-70</td>\n      <td>2432</td>\n      <td>[WPA2-PSK-CCMP][ESS]</td>\n    </tr>\n    <tr>\n      <th>1486475</th>\n      <td>1499462768865</td>\n      <td>39302909359643</td>\n      <td>225472967673</td>\n      <td>8</td>\n      <td>92:4d:4a:2a:f5:7f</td>\n      <td>BTWifi-with-FON</td>\n      <td>-82</td>\n      <td>2462</td>\n      <td>[ESS]</td>\n    </tr>\n    <tr>\n      <th>1486476</th>\n      <td>1499462768865</td>\n      <td>39302909359643</td>\n      <td>225472967673</td>\n      <td>8</td>\n      <td>64:0f:29:0d:f7:b4</td>\n      <td>BTOpenzone</td>\n      <td>-70</td>\n      <td>2432</td>\n      <td>[ESS]</td>\n    </tr>\n    <tr>\n      <th>1486477</th>\n      <td>1499462768865</td>\n      <td>39302909359643</td>\n      <td>225472967673</td>\n      <td>8</td>\n      <td>88:ce:fa:86:f5:04</td>\n      <td>TALKTALK-86F4FC</td>\n      <td>-88</td>\n      <td>2412</td>\n      <td>[WPA-PSK-CCMP+TKIP][WPA2-PSK-CCMP+TKIP][WPS][E...</td>\n    </tr>\n  </tbody>\n</table>\n<p>1486478 rows × 9 columns</p>\n</div>"
     },
     "metadata": {},
     "output_type": "display_data"
    }
   ],
   "source": [
    "settings = {\n",
    "    'columns': ['Epoch time [ms]', 'Ignore1', 'Ignore2', 'Unknown', 'BSSID', 'SSID', 'RSSI', 'Frequency [MHz]', 'Capabilities'],\n",
    "}\n",
    "df = parse_csv(\n",
    "    'data/validate/WiFi.txt',\n",
    "    **settings\n",
    ")\n",
    "display(df)\n",
    "\n",
    "df.to_parquet('data/validate/WiFi.parquet')\n",
    "parse_csv('data/train/WiFi.txt', **settings).to_parquet('data/train/WiFi.parquet')\n",
    "parse_csv('data/test/WiFi.txt', **settings).to_parquet('data/test/WiFi.parquet')"
   ],
   "metadata": {
    "collapsed": false,
    "pycharm": {
     "name": "#%%\n"
    }
   }
  },
  {
   "cell_type": "code",
   "execution_count": 6,
   "outputs": [],
   "source": [
    "# Covert GSM files into Parquet format"
   ],
   "metadata": {
    "collapsed": false,
    "pycharm": {
     "name": "#%%\n"
    }
   }
  },
  {
   "cell_type": "code",
   "execution_count": 7,
   "outputs": [
    {
     "data": {
      "text/plain": "        Epoch time [ms]         Ignore1       Ignore2   ID   SNR  \\\n0         1497426497900     96207437485   25013238017  168  27.0   \n1         1497426498504     96810820297   25013238017   17  36.0   \n2         1497426498504     96810820297   25013238017  168  27.0   \n3         1497426499510     97817632276   25013238017   15  22.0   \n4         1497426499510     97817632276   25013238017   17  37.0   \n...                 ...             ...           ...  ...   ...   \n1516194   1497460951343  19834947491818  -14929687822  169  25.0   \n1516195   1497460952344  19835948809005  -14929687822   10  22.0   \n1516196   1497460952344  19835948809005  -14929687822  169  25.0   \n1516197   1497460953344  19836948478797  -14929687822   10  22.0   \n1516198   1497460953344  19836948478797  -14929687822  169  25.0   \n\n        Azimuth [degrees] Elevation [degrees]  \n0                   109.0                23.0  \n1                    61.0                33.0  \n2                   109.0                23.0  \n3                   179.0                51.0  \n4                    61.0                33.0  \n...                   ...                 ...  \n1516194             132.0                40.0  \n1516195              99.0                57.0  \n1516196             132.0                40.0  \n1516197              99.0                57.0  \n1516198             132.0                40.0  \n\n[1516199 rows x 7 columns]",
      "text/html": "<div>\n<style scoped>\n    .dataframe tbody tr th:only-of-type {\n        vertical-align: middle;\n    }\n\n    .dataframe tbody tr th {\n        vertical-align: top;\n    }\n\n    .dataframe thead th {\n        text-align: right;\n    }\n</style>\n<table border=\"1\" class=\"dataframe\">\n  <thead>\n    <tr style=\"text-align: right;\">\n      <th></th>\n      <th>Epoch time [ms]</th>\n      <th>Ignore1</th>\n      <th>Ignore2</th>\n      <th>ID</th>\n      <th>SNR</th>\n      <th>Azimuth [degrees]</th>\n      <th>Elevation [degrees]</th>\n    </tr>\n  </thead>\n  <tbody>\n    <tr>\n      <th>0</th>\n      <td>1497426497900</td>\n      <td>96207437485</td>\n      <td>25013238017</td>\n      <td>168</td>\n      <td>27.0</td>\n      <td>109.0</td>\n      <td>23.0</td>\n    </tr>\n    <tr>\n      <th>1</th>\n      <td>1497426498504</td>\n      <td>96810820297</td>\n      <td>25013238017</td>\n      <td>17</td>\n      <td>36.0</td>\n      <td>61.0</td>\n      <td>33.0</td>\n    </tr>\n    <tr>\n      <th>2</th>\n      <td>1497426498504</td>\n      <td>96810820297</td>\n      <td>25013238017</td>\n      <td>168</td>\n      <td>27.0</td>\n      <td>109.0</td>\n      <td>23.0</td>\n    </tr>\n    <tr>\n      <th>3</th>\n      <td>1497426499510</td>\n      <td>97817632276</td>\n      <td>25013238017</td>\n      <td>15</td>\n      <td>22.0</td>\n      <td>179.0</td>\n      <td>51.0</td>\n    </tr>\n    <tr>\n      <th>4</th>\n      <td>1497426499510</td>\n      <td>97817632276</td>\n      <td>25013238017</td>\n      <td>17</td>\n      <td>37.0</td>\n      <td>61.0</td>\n      <td>33.0</td>\n    </tr>\n    <tr>\n      <th>...</th>\n      <td>...</td>\n      <td>...</td>\n      <td>...</td>\n      <td>...</td>\n      <td>...</td>\n      <td>...</td>\n      <td>...</td>\n    </tr>\n    <tr>\n      <th>1516194</th>\n      <td>1497460951343</td>\n      <td>19834947491818</td>\n      <td>-14929687822</td>\n      <td>169</td>\n      <td>25.0</td>\n      <td>132.0</td>\n      <td>40.0</td>\n    </tr>\n    <tr>\n      <th>1516195</th>\n      <td>1497460952344</td>\n      <td>19835948809005</td>\n      <td>-14929687822</td>\n      <td>10</td>\n      <td>22.0</td>\n      <td>99.0</td>\n      <td>57.0</td>\n    </tr>\n    <tr>\n      <th>1516196</th>\n      <td>1497460952344</td>\n      <td>19835948809005</td>\n      <td>-14929687822</td>\n      <td>169</td>\n      <td>25.0</td>\n      <td>132.0</td>\n      <td>40.0</td>\n    </tr>\n    <tr>\n      <th>1516197</th>\n      <td>1497460953344</td>\n      <td>19836948478797</td>\n      <td>-14929687822</td>\n      <td>10</td>\n      <td>22.0</td>\n      <td>99.0</td>\n      <td>57.0</td>\n    </tr>\n    <tr>\n      <th>1516198</th>\n      <td>1497460953344</td>\n      <td>19836948478797</td>\n      <td>-14929687822</td>\n      <td>169</td>\n      <td>25.0</td>\n      <td>132.0</td>\n      <td>40.0</td>\n    </tr>\n  </tbody>\n</table>\n<p>1516199 rows × 7 columns</p>\n</div>"
     },
     "metadata": {},
     "output_type": "display_data"
    }
   ],
   "source": [
    "settings = {\n",
    "    'columns': ['Epoch time [ms]', 'Ignore1', 'Ignore2' , 'ID', 'SNR', 'Azimuth [degrees]', 'Elevation [degrees]'],\n",
    "    'head_size': 3,\n",
    "    'chunk_size': 4,\n",
    "    'sep': ' ',\n",
    "    'tail_columns_count': 1,\n",
    "}\n",
    "df = parse_csv(\n",
    "    'data/validate/GPS.txt',\n",
    "    **settings,\n",
    ")\n",
    "display(df)\n",
    "\n",
    "df.to_parquet('data/validate/GPS.parquet')\n",
    "parse_csv('data/train/GPS.txt', **settings).to_parquet('data/train/GPS.parquet')\n",
    "parse_csv('data/test/GPS.txt', **settings).to_parquet('data/test/GPS.parquet')"
   ],
   "metadata": {
    "collapsed": false,
    "pycharm": {
     "name": "#%%\n"
    }
   }
  },
  {
   "cell_type": "code",
   "execution_count": null,
   "outputs": [],
   "source": [],
   "metadata": {
    "collapsed": false,
    "pycharm": {
     "name": "#%%\n"
    }
   }
  }
 ],
 "metadata": {
  "kernelspec": {
   "display_name": "Python 3",
   "language": "python",
   "name": "python3"
  },
  "language_info": {
   "codemirror_mode": {
    "name": "ipython",
    "version": 2
   },
   "file_extension": ".py",
   "mimetype": "text/x-python",
   "name": "python",
   "nbconvert_exporter": "python",
   "pygments_lexer": "ipython2",
   "version": "2.7.6"
  }
 },
 "nbformat": 4,
 "nbformat_minor": 0
}