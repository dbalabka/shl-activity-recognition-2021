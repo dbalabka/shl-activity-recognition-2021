{
 "cells": [
  {
   "cell_type": "code",
   "execution_count": 5,
   "metadata": {
    "collapsed": true
   },
   "outputs": [
    {
     "name": "stdout",
     "output_type": "stream",
     "text": [
      "The autoreload extension is already loaded. To reload it, use:\n",
      "  %reload_ext autoreload\n"
     ]
    }
   ],
   "source": [
    "import re\n",
    "\n",
    "import numpy as np\n",
    "import pandas as pd\n",
    "import os\n",
    "import featuretools as ft\n",
    "from shl.prepare import normalize_epoch_time, normalize_lat_long\n",
    "import plotly.express as px\n",
    "from sklearn.feature_extraction.text import TfidfVectorizer\n",
    "from sklearn.neighbors import DistanceMetric\n",
    "\n",
    "from shl.features import WifiFeature\n",
    "import matplotlib\n",
    "import folium\n",
    "import branca.colormap as cm\n",
    "\n",
    "%load_ext autoreload\n",
    "%autoreload 2"
   ]
  },
  {
   "cell_type": "code",
   "execution_count": 2,
   "outputs": [],
   "source": [
    "train_location = normalize_epoch_time(pd.read_parquet('../data/train/Location.parquet'), 'epoch_time')\n",
    "test_location = normalize_epoch_time(pd.read_parquet('../data/test/Location.parquet'), 'epoch_time')\n",
    "validate_location = normalize_epoch_time(pd.read_parquet('../data/validate/Location.parquet'), 'epoch_time')\n",
    "train_label = normalize_epoch_time(pd.read_parquet('../data/train/Label.parquet'), 'epoch_time')\n",
    "test_label = normalize_epoch_time(pd.read_parquet('../data/test/Label_idx.parquet'), 'epoch_time')\n",
    "validate_label = normalize_epoch_time(pd.read_parquet('../data/validate/Label.parquet'), 'epoch_time')"
   ],
   "metadata": {
    "collapsed": false,
    "pycharm": {
     "name": "#%%\n"
    }
   }
  },
  {
   "cell_type": "code",
   "execution_count": 10,
   "outputs": [
    {
     "data": {
      "text/plain": "        epoch_time_id    London  Brighton\n0       1490431658000  0.665419  0.023635\n1       1490431660000  0.665422  0.023632\n2       1490431661000  0.665432  0.023621\n3       1490431662000  0.665444  0.023613\n4       1490431663000  0.665645  0.023557\n...               ...       ...       ...\n911104  1499268278000  0.663119  0.025111\n911105  1499268279000  0.663119  0.025111\n911106  1499268280000  0.663119  0.025111\n911107  1499268281000  0.663119  0.025111\n911108  1499268282000  0.663118  0.025112\n\n[911109 rows x 3 columns]",
      "text/html": "<div>\n<style scoped>\n    .dataframe tbody tr th:only-of-type {\n        vertical-align: middle;\n    }\n\n    .dataframe tbody tr th {\n        vertical-align: top;\n    }\n\n    .dataframe thead th {\n        text-align: right;\n    }\n</style>\n<table border=\"1\" class=\"dataframe\">\n  <thead>\n    <tr style=\"text-align: right;\">\n      <th></th>\n      <th>epoch_time_id</th>\n      <th>London</th>\n      <th>Brighton</th>\n    </tr>\n  </thead>\n  <tbody>\n    <tr>\n      <th>0</th>\n      <td>1490431658000</td>\n      <td>0.665419</td>\n      <td>0.023635</td>\n    </tr>\n    <tr>\n      <th>1</th>\n      <td>1490431660000</td>\n      <td>0.665422</td>\n      <td>0.023632</td>\n    </tr>\n    <tr>\n      <th>2</th>\n      <td>1490431661000</td>\n      <td>0.665432</td>\n      <td>0.023621</td>\n    </tr>\n    <tr>\n      <th>3</th>\n      <td>1490431662000</td>\n      <td>0.665444</td>\n      <td>0.023613</td>\n    </tr>\n    <tr>\n      <th>4</th>\n      <td>1490431663000</td>\n      <td>0.665645</td>\n      <td>0.023557</td>\n    </tr>\n    <tr>\n      <th>...</th>\n      <td>...</td>\n      <td>...</td>\n      <td>...</td>\n    </tr>\n    <tr>\n      <th>911104</th>\n      <td>1499268278000</td>\n      <td>0.663119</td>\n      <td>0.025111</td>\n    </tr>\n    <tr>\n      <th>911105</th>\n      <td>1499268279000</td>\n      <td>0.663119</td>\n      <td>0.025111</td>\n    </tr>\n    <tr>\n      <th>911106</th>\n      <td>1499268280000</td>\n      <td>0.663119</td>\n      <td>0.025111</td>\n    </tr>\n    <tr>\n      <th>911107</th>\n      <td>1499268281000</td>\n      <td>0.663119</td>\n      <td>0.025111</td>\n    </tr>\n    <tr>\n      <th>911108</th>\n      <td>1499268282000</td>\n      <td>0.663118</td>\n      <td>0.025112</td>\n    </tr>\n  </tbody>\n</table>\n<p>911109 rows × 3 columns</p>\n</div>"
     },
     "metadata": {},
     "output_type": "display_data"
    }
   ],
   "source": [
    "feature_points = {\n",
    "    'London': [\n",
    "        [51.509865, -0.118092]\n",
    "    ],\n",
    "    'Brighton': [\n",
    "        [50.827778, -0.152778]\n",
    "    ],\n",
    "    'parks': [\n",
    "\n",
    "    ],\n",
    "    'shopping malls': [\n",
    "\n",
    "    ],\n",
    "    'stations': [\n",
    "\n",
    "    ]\n",
    "}\n",
    "\n",
    "def calculate_minimal_distance(data: pd.DataFrame, points):\n",
    "    dist = DistanceMetric.get_metric('haversine')\n",
    "    dist_matrix = dist.pairwise(data[['Latitude','Longitude']], points)\n",
    "    return dist_matrix.min(axis=1)\n",
    "\n",
    "def create_distance_features(data: pd.DataFrame):\n",
    "    features = data[['epoch_time_id']]\n",
    "    for name, points in feature_points.items():\n",
    "        if len(points) > 0:\n",
    "            features[f'distance_{name}'] = calculate_minimal_distance(data, points)\n",
    "\n",
    "    return features\n",
    "\n",
    "train_distances = create_distance_features(train_location)\n",
    "display(train_distances)\n",
    "\n",
    "train_distances.to_parquet('../data/train/features_distances.parquet')\n",
    "create_distance_features(test_location).to_parquet('../data/test/features_distances.parquet')\n",
    "create_distance_features(validate_location).to_parquet('../data/validate/features_distances.parquet')"
   ],
   "metadata": {
    "collapsed": false,
    "pycharm": {
     "name": "#%%\n"
    }
   }
  },
  {
   "cell_type": "code",
   "execution_count": 7,
   "outputs": [
    {
     "data": {
      "text/plain": "array([0.66541873, 0.66542151, 0.6654316 , ..., 0.66311923, 0.66311923,\n       0.66311772])"
     },
     "metadata": {},
     "output_type": "display_data"
    }
   ],
   "source": [
    "dist = DistanceMetric.get_metric('haversine')\n",
    "dist_matrix = dist.pairwise(train_location[['Latitude','Longitude']], feature_points['London'])\n",
    "# Note that 3959 is the radius of the earth in miles\n",
    "# df_dist_matrix = (\n",
    "#     pd.DataFrame(dist_matrix,index=locations_A['city_A'],\n",
    "#                  columns=locations_B['city_B'])\n",
    "# )\n",
    "\n",
    "display(dist_matrix.min(axis=1))"
   ],
   "metadata": {
    "collapsed": false,
    "pycharm": {
     "name": "#%%\n"
    }
   }
  },
  {
   "cell_type": "code",
   "execution_count": null,
   "outputs": [],
   "source": [],
   "metadata": {
    "collapsed": false,
    "pycharm": {
     "name": "#%%\n"
    }
   }
  }
 ],
 "metadata": {
  "kernelspec": {
   "display_name": "Python 3",
   "language": "python",
   "name": "python3"
  },
  "language_info": {
   "codemirror_mode": {
    "name": "ipython",
    "version": 2
   },
   "file_extension": ".py",
   "mimetype": "text/x-python",
   "name": "python",
   "nbconvert_exporter": "python",
   "pygments_lexer": "ipython2",
   "version": "2.7.6"
  }
 },
 "nbformat": 4,
 "nbformat_minor": 0
}