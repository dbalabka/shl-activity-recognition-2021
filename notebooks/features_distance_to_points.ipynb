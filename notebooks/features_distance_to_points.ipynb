{
 "cells": [
  {
   "cell_type": "code",
   "execution_count": 1,
   "outputs": [],
   "source": [
    "%load_ext autoreload\n",
    "%autoreload 2\n",
    "\n",
    "%load_ext dotenv\n",
    "%dotenv"
   ],
   "metadata": {
    "collapsed": false,
    "pycharm": {
     "name": "#%%\n"
    }
   }
  },
  {
   "cell_type": "code",
   "execution_count": 2,
   "outputs": [],
   "source": [
    "import re\n",
    "\n",
    "import numpy as np\n",
    "import pandas as pd\n",
    "import os\n",
    "import featuretools as ft\n",
    "from shl.prepare import normalize_epoch_time, normalize_lat_long, calculate_window, calculate_shift\n",
    "import plotly.express as px\n",
    "from sklearn.feature_extraction.text import TfidfVectorizer\n",
    "from sklearn.neighbors import DistanceMetric\n",
    "from shapely.geometry import Polygon, LineString, Point\n",
    "from tqdm import tqdm\n",
    "import geopandas as gpd\n",
    "\n",
    "from shl.features import WifiFeature\n",
    "import matplotlib\n",
    "import folium\n",
    "import branca.colormap as cm"
   ],
   "metadata": {
    "collapsed": false,
    "pycharm": {
     "name": "#%%\n"
    }
   }
  },
  {
   "cell_type": "code",
   "execution_count": 3,
   "metadata": {
    "collapsed": false,
    "jupyter": {
     "outputs_hidden": false
    },
    "pycharm": {
     "name": "#%%\n"
    }
   },
   "outputs": [],
   "source": [
    "train_location = normalize_epoch_time(pd.read_parquet('../data/train/Location.parquet'), 'epoch_time')\n",
    "test_location = normalize_epoch_time(pd.read_parquet('../data/test/Location.parquet'), 'epoch_time')\n",
    "validate_location = normalize_epoch_time(pd.read_parquet('../data/validate/Location.parquet'), 'epoch_time')\n",
    "train_label = normalize_epoch_time(pd.read_parquet('../data/train/Label.parquet'), 'epoch_time')\n",
    "test_label = normalize_epoch_time(pd.read_parquet('../data/test/Label_idx.parquet'), 'epoch_time')\n",
    "validate_label = normalize_epoch_time(pd.read_parquet('../data/validate/Label.parquet'), 'epoch_time')"
   ]
  },
  {
   "cell_type": "code",
   "execution_count": 4,
   "metadata": {
    "collapsed": false,
    "jupyter": {
     "outputs_hidden": false
    },
    "pycharm": {
     "name": "#%%\n"
    }
   },
   "outputs": [
    {
     "data": {
      "text/plain": "        epoch_time_id  distance_London  distance_Brighton  distance_parks  \\\n0       1490431658000         0.665419           0.023635        0.010603   \n1       1490431660000         0.665422           0.023632        0.010606   \n2       1490431661000         0.665432           0.023621        0.010617   \n3       1490431662000         0.665444           0.023613        0.010628   \n4       1490431663000         0.665645           0.023557        0.010769   \n...               ...              ...                ...             ...   \n911104  1499268278000         0.663119           0.025111        0.008683   \n911105  1499268279000         0.663119           0.025111        0.008683   \n911106  1499268280000         0.663119           0.025111        0.008683   \n911107  1499268281000         0.663119           0.025111        0.008683   \n911108  1499268282000         0.663118           0.025112        0.008682   \n\n        distance_London_window_60_mean  distance_London_window_60_std  \\\n0                             0.666419                       0.000388   \n1                             0.666419                       0.000388   \n2                             0.666419                       0.000388   \n3                             0.666419                       0.000388   \n4                             0.666419                       0.000388   \n...                                ...                            ...   \n911104                        0.663099                       0.000012   \n911105                        0.663099                       0.000012   \n911106                        0.663099                       0.000012   \n911107                        0.663099                       0.000012   \n911108                        0.663099                       0.000012   \n\n        distance_London_window_60_median  distance_Brighton_window_60_mean  \\\n0                               0.666553                          0.022820   \n1                               0.666553                          0.022820   \n2                               0.666553                          0.022820   \n3                               0.666553                          0.022820   \n4                               0.666553                          0.022820   \n...                                  ...                               ...   \n911104                          0.663093                          0.025117   \n911105                          0.663093                          0.025117   \n911106                          0.663093                          0.025117   \n911107                          0.663093                          0.025117   \n911108                          0.663093                          0.025117   \n\n        distance_Brighton_window_60_std  distance_Brighton_window_60_median  \\\n0                              0.000467                            0.022708   \n1                              0.000467                            0.022708   \n2                              0.000467                            0.022708   \n3                              0.000467                            0.022708   \n4                              0.000467                            0.022708   \n...                                 ...                                 ...   \n911104                         0.000055                            0.025126   \n911105                         0.000055                            0.025126   \n911106                         0.000055                            0.025126   \n911107                         0.000055                            0.025126   \n911108                         0.000055                            0.025126   \n\n        ...  distance_parks_window_300_median_shift_60_future  \\\n0       ...                                               NaN   \n1       ...                                               NaN   \n2       ...                                               NaN   \n3       ...                                               NaN   \n4       ...                                               NaN   \n...     ...                                               ...   \n911104  ...                                               NaN   \n911105  ...                                               NaN   \n911106  ...                                               NaN   \n911107  ...                                               NaN   \n911108  ...                                               NaN   \n\n        distance_London_window_600_mean_shift_60_future  \\\n0                                                   NaN   \n1                                                   NaN   \n2                                                   NaN   \n3                                                   NaN   \n4                                                   NaN   \n...                                                 ...   \n911104                                              NaN   \n911105                                              NaN   \n911106                                              NaN   \n911107                                              NaN   \n911108                                              NaN   \n\n        distance_London_window_600_std_shift_60_future  \\\n0                                                  NaN   \n1                                                  NaN   \n2                                                  NaN   \n3                                                  NaN   \n4                                                  NaN   \n...                                                ...   \n911104                                             NaN   \n911105                                             NaN   \n911106                                             NaN   \n911107                                             NaN   \n911108                                             NaN   \n\n        distance_London_window_600_median_shift_60_future  \\\n0                                                     NaN   \n1                                                     NaN   \n2                                                     NaN   \n3                                                     NaN   \n4                                                     NaN   \n...                                                   ...   \n911104                                                NaN   \n911105                                                NaN   \n911106                                                NaN   \n911107                                                NaN   \n911108                                                NaN   \n\n        distance_Brighton_window_600_mean_shift_60_future  \\\n0                                                     NaN   \n1                                                     NaN   \n2                                                     NaN   \n3                                                     NaN   \n4                                                     NaN   \n...                                                   ...   \n911104                                                NaN   \n911105                                                NaN   \n911106                                                NaN   \n911107                                                NaN   \n911108                                                NaN   \n\n        distance_Brighton_window_600_std_shift_60_future  \\\n0                                                    NaN   \n1                                                    NaN   \n2                                                    NaN   \n3                                                    NaN   \n4                                                    NaN   \n...                                                  ...   \n911104                                               NaN   \n911105                                               NaN   \n911106                                               NaN   \n911107                                               NaN   \n911108                                               NaN   \n\n        distance_Brighton_window_600_median_shift_60_future  \\\n0                                                     NaN     \n1                                                     NaN     \n2                                                     NaN     \n3                                                     NaN     \n4                                                     NaN     \n...                                                   ...     \n911104                                                NaN     \n911105                                                NaN     \n911106                                                NaN     \n911107                                                NaN     \n911108                                                NaN     \n\n        distance_parks_window_600_mean_shift_60_future  \\\n0                                                  NaN   \n1                                                  NaN   \n2                                                  NaN   \n3                                                  NaN   \n4                                                  NaN   \n...                                                ...   \n911104                                             NaN   \n911105                                             NaN   \n911106                                             NaN   \n911107                                             NaN   \n911108                                             NaN   \n\n        distance_parks_window_600_std_shift_60_future  \\\n0                                                 NaN   \n1                                                 NaN   \n2                                                 NaN   \n3                                                 NaN   \n4                                                 NaN   \n...                                               ...   \n911104                                            NaN   \n911105                                            NaN   \n911106                                            NaN   \n911107                                            NaN   \n911108                                            NaN   \n\n        distance_parks_window_600_median_shift_60_future  \n0                                                    NaN  \n1                                                    NaN  \n2                                                    NaN  \n3                                                    NaN  \n4                                                    NaN  \n...                                                  ...  \n911104                                               NaN  \n911105                                               NaN  \n911106                                               NaN  \n911107                                               NaN  \n911108                                               NaN  \n\n[911109 rows x 85 columns]",
      "text/html": "<div>\n<style scoped>\n    .dataframe tbody tr th:only-of-type {\n        vertical-align: middle;\n    }\n\n    .dataframe tbody tr th {\n        vertical-align: top;\n    }\n\n    .dataframe thead th {\n        text-align: right;\n    }\n</style>\n<table border=\"1\" class=\"dataframe\">\n  <thead>\n    <tr style=\"text-align: right;\">\n      <th></th>\n      <th>epoch_time_id</th>\n      <th>distance_London</th>\n      <th>distance_Brighton</th>\n      <th>distance_parks</th>\n      <th>distance_London_window_60_mean</th>\n      <th>distance_London_window_60_std</th>\n      <th>distance_London_window_60_median</th>\n      <th>distance_Brighton_window_60_mean</th>\n      <th>distance_Brighton_window_60_std</th>\n      <th>distance_Brighton_window_60_median</th>\n      <th>...</th>\n      <th>distance_parks_window_300_median_shift_60_future</th>\n      <th>distance_London_window_600_mean_shift_60_future</th>\n      <th>distance_London_window_600_std_shift_60_future</th>\n      <th>distance_London_window_600_median_shift_60_future</th>\n      <th>distance_Brighton_window_600_mean_shift_60_future</th>\n      <th>distance_Brighton_window_600_std_shift_60_future</th>\n      <th>distance_Brighton_window_600_median_shift_60_future</th>\n      <th>distance_parks_window_600_mean_shift_60_future</th>\n      <th>distance_parks_window_600_std_shift_60_future</th>\n      <th>distance_parks_window_600_median_shift_60_future</th>\n    </tr>\n  </thead>\n  <tbody>\n    <tr>\n      <th>0</th>\n      <td>1490431658000</td>\n      <td>0.665419</td>\n      <td>0.023635</td>\n      <td>0.010603</td>\n      <td>0.666419</td>\n      <td>0.000388</td>\n      <td>0.666553</td>\n      <td>0.022820</td>\n      <td>0.000467</td>\n      <td>0.022708</td>\n      <td>...</td>\n      <td>NaN</td>\n      <td>NaN</td>\n      <td>NaN</td>\n      <td>NaN</td>\n      <td>NaN</td>\n      <td>NaN</td>\n      <td>NaN</td>\n      <td>NaN</td>\n      <td>NaN</td>\n      <td>NaN</td>\n    </tr>\n    <tr>\n      <th>1</th>\n      <td>1490431660000</td>\n      <td>0.665422</td>\n      <td>0.023632</td>\n      <td>0.010606</td>\n      <td>0.666419</td>\n      <td>0.000388</td>\n      <td>0.666553</td>\n      <td>0.022820</td>\n      <td>0.000467</td>\n      <td>0.022708</td>\n      <td>...</td>\n      <td>NaN</td>\n      <td>NaN</td>\n      <td>NaN</td>\n      <td>NaN</td>\n      <td>NaN</td>\n      <td>NaN</td>\n      <td>NaN</td>\n      <td>NaN</td>\n      <td>NaN</td>\n      <td>NaN</td>\n    </tr>\n    <tr>\n      <th>2</th>\n      <td>1490431661000</td>\n      <td>0.665432</td>\n      <td>0.023621</td>\n      <td>0.010617</td>\n      <td>0.666419</td>\n      <td>0.000388</td>\n      <td>0.666553</td>\n      <td>0.022820</td>\n      <td>0.000467</td>\n      <td>0.022708</td>\n      <td>...</td>\n      <td>NaN</td>\n      <td>NaN</td>\n      <td>NaN</td>\n      <td>NaN</td>\n      <td>NaN</td>\n      <td>NaN</td>\n      <td>NaN</td>\n      <td>NaN</td>\n      <td>NaN</td>\n      <td>NaN</td>\n    </tr>\n    <tr>\n      <th>3</th>\n      <td>1490431662000</td>\n      <td>0.665444</td>\n      <td>0.023613</td>\n      <td>0.010628</td>\n      <td>0.666419</td>\n      <td>0.000388</td>\n      <td>0.666553</td>\n      <td>0.022820</td>\n      <td>0.000467</td>\n      <td>0.022708</td>\n      <td>...</td>\n      <td>NaN</td>\n      <td>NaN</td>\n      <td>NaN</td>\n      <td>NaN</td>\n      <td>NaN</td>\n      <td>NaN</td>\n      <td>NaN</td>\n      <td>NaN</td>\n      <td>NaN</td>\n      <td>NaN</td>\n    </tr>\n    <tr>\n      <th>4</th>\n      <td>1490431663000</td>\n      <td>0.665645</td>\n      <td>0.023557</td>\n      <td>0.010769</td>\n      <td>0.666419</td>\n      <td>0.000388</td>\n      <td>0.666553</td>\n      <td>0.022820</td>\n      <td>0.000467</td>\n      <td>0.022708</td>\n      <td>...</td>\n      <td>NaN</td>\n      <td>NaN</td>\n      <td>NaN</td>\n      <td>NaN</td>\n      <td>NaN</td>\n      <td>NaN</td>\n      <td>NaN</td>\n      <td>NaN</td>\n      <td>NaN</td>\n      <td>NaN</td>\n    </tr>\n    <tr>\n      <th>...</th>\n      <td>...</td>\n      <td>...</td>\n      <td>...</td>\n      <td>...</td>\n      <td>...</td>\n      <td>...</td>\n      <td>...</td>\n      <td>...</td>\n      <td>...</td>\n      <td>...</td>\n      <td>...</td>\n      <td>...</td>\n      <td>...</td>\n      <td>...</td>\n      <td>...</td>\n      <td>...</td>\n      <td>...</td>\n      <td>...</td>\n      <td>...</td>\n      <td>...</td>\n      <td>...</td>\n    </tr>\n    <tr>\n      <th>911104</th>\n      <td>1499268278000</td>\n      <td>0.663119</td>\n      <td>0.025111</td>\n      <td>0.008683</td>\n      <td>0.663099</td>\n      <td>0.000012</td>\n      <td>0.663093</td>\n      <td>0.025117</td>\n      <td>0.000055</td>\n      <td>0.025126</td>\n      <td>...</td>\n      <td>NaN</td>\n      <td>NaN</td>\n      <td>NaN</td>\n      <td>NaN</td>\n      <td>NaN</td>\n      <td>NaN</td>\n      <td>NaN</td>\n      <td>NaN</td>\n      <td>NaN</td>\n      <td>NaN</td>\n    </tr>\n    <tr>\n      <th>911105</th>\n      <td>1499268279000</td>\n      <td>0.663119</td>\n      <td>0.025111</td>\n      <td>0.008683</td>\n      <td>0.663099</td>\n      <td>0.000012</td>\n      <td>0.663093</td>\n      <td>0.025117</td>\n      <td>0.000055</td>\n      <td>0.025126</td>\n      <td>...</td>\n      <td>NaN</td>\n      <td>NaN</td>\n      <td>NaN</td>\n      <td>NaN</td>\n      <td>NaN</td>\n      <td>NaN</td>\n      <td>NaN</td>\n      <td>NaN</td>\n      <td>NaN</td>\n      <td>NaN</td>\n    </tr>\n    <tr>\n      <th>911106</th>\n      <td>1499268280000</td>\n      <td>0.663119</td>\n      <td>0.025111</td>\n      <td>0.008683</td>\n      <td>0.663099</td>\n      <td>0.000012</td>\n      <td>0.663093</td>\n      <td>0.025117</td>\n      <td>0.000055</td>\n      <td>0.025126</td>\n      <td>...</td>\n      <td>NaN</td>\n      <td>NaN</td>\n      <td>NaN</td>\n      <td>NaN</td>\n      <td>NaN</td>\n      <td>NaN</td>\n      <td>NaN</td>\n      <td>NaN</td>\n      <td>NaN</td>\n      <td>NaN</td>\n    </tr>\n    <tr>\n      <th>911107</th>\n      <td>1499268281000</td>\n      <td>0.663119</td>\n      <td>0.025111</td>\n      <td>0.008683</td>\n      <td>0.663099</td>\n      <td>0.000012</td>\n      <td>0.663093</td>\n      <td>0.025117</td>\n      <td>0.000055</td>\n      <td>0.025126</td>\n      <td>...</td>\n      <td>NaN</td>\n      <td>NaN</td>\n      <td>NaN</td>\n      <td>NaN</td>\n      <td>NaN</td>\n      <td>NaN</td>\n      <td>NaN</td>\n      <td>NaN</td>\n      <td>NaN</td>\n      <td>NaN</td>\n    </tr>\n    <tr>\n      <th>911108</th>\n      <td>1499268282000</td>\n      <td>0.663118</td>\n      <td>0.025112</td>\n      <td>0.008682</td>\n      <td>0.663099</td>\n      <td>0.000012</td>\n      <td>0.663093</td>\n      <td>0.025117</td>\n      <td>0.000055</td>\n      <td>0.025126</td>\n      <td>...</td>\n      <td>NaN</td>\n      <td>NaN</td>\n      <td>NaN</td>\n      <td>NaN</td>\n      <td>NaN</td>\n      <td>NaN</td>\n      <td>NaN</td>\n      <td>NaN</td>\n      <td>NaN</td>\n      <td>NaN</td>\n    </tr>\n  </tbody>\n</table>\n<p>911109 rows × 85 columns</p>\n</div>"
     },
     "metadata": {},
     "output_type": "display_data"
    }
   ],
   "source": [
    "feature_points = {\n",
    "    'London': [\n",
    "        [51.509865, -0.118092]\n",
    "    ],\n",
    "    'Brighton': [\n",
    "        [50.827778, -0.152778]\n",
    "    ],\n",
    "    'parks': [\n",
    "        # Hollingbury Golf Course\n",
    "        [50.85423803467499, -0.12791258170001926],\n",
    "        # St Ann’s Well Gardens\n",
    "        [50.829876823789675, -0.15525600010959892],\n",
    "        # Preston Park\n",
    "        [50.839694335541274, -0.1462660790420134],\n",
    "        # Waterwall conservation area\n",
    "        [50.8659, -0.1750],\n",
    "        # Withdean park\n",
    "        [50.8546, -0.1497],\n",
    "        # Stanmer park\n",
    "        [50.8678, -0.0968],\n",
    "        # Upper Lodge Wood\n",
    "        [50.8751, -0.1177],\n",
    "        # Pudding bag\n",
    "        [50.8710, -0.1161],\n",
    "        # Great Wood\n",
    "        [50.8653, -0.1036],\n",
    "        # Grubbings\n",
    "        [50.8729, -0.0971],\n",
    "        # Milbark wood\n",
    "        [50.8783, -0.0982],\n",
    "        # High park wood\n",
    "        [50.8849, -0.1078],\n",
    "        # Green broom\n",
    "        [50.8833, -0.1107],\n",
    "        # Moon's plantations\n",
    "        [50.8774, -0.0840],\n",
    "        # Friston forest\n",
    "        [50.7783, 0.1894],\n",
    "        # Malthouse wood\n",
    "        [51.0042, -0.2044],\n",
    "        # Bedgebury forest\n",
    "        [51.0694, 0.4649],\n",
    "        # Swinley forest\n",
    "        [51.3726, -0.7292],\n",
    "        # Crowthore wood\n",
    "        [51.3808, -0.7598],\n",
    "        # Queen Elizabeth Country Parh\n",
    "        [50.9651, -0.9695],\n",
    "        # Hurth wood\n",
    "        [51.1854, -0.4278],\n",
    "        # Winterfold wood\n",
    "        [51.1764, -0.4564],\n",
    "        # Queen's park\n",
    "        [50.8249, -0.1248],\n",
    "    ],\n",
    "    'shopping malls': [\n",
    "\n",
    "    ],\n",
    "    'stations': [\n",
    "\n",
    "    ]\n",
    "}\n",
    "\n",
    "def calculate_minimal_distance(data: pd.DataFrame, points):\n",
    "    dist = DistanceMetric.get_metric('haversine')\n",
    "    dist_matrix = dist.pairwise(data[['Latitude','Longitude']], points)\n",
    "    return dist_matrix.min(axis=1)\n",
    "\n",
    "def create_point_distance_features(data: pd.DataFrame):\n",
    "    features = data[['epoch_time_id']]\n",
    "    for name, points in feature_points.items():\n",
    "        if len(points) > 0:\n",
    "            if type(points[0]) == list: \n",
    "                features[f'distance_{name}'] = calculate_minimal_distance(data, points)\n",
    "            elif type(points[0]) == dict:\n",
    "                for point in points:\n",
    "                    point_name, point_loc = list(point.keys())[0], list(point.values())[0]\n",
    "                    features[f'distance_{name}_{point_name}'] = calculate_minimal_distance(data, [point_loc])\n",
    "\n",
    "    return features\n",
    "\n",
    "settings = {\n",
    "    'fill_limit': 30,\n",
    "    'window_sizes': [60, 300, 600],\n",
    "    'window_center': True,\n",
    "    # 'window_functions': ['mean', 'std'],\n",
    "    'columns': ['distance_London', 'distance_Brighton', 'distance_parks'],\n",
    "    'functions': ['mean', 'std', 'median'],\n",
    "}\n",
    "shift_settings = {\n",
    "    'periods': [60, 300, 600],\n",
    "    'columns_patterns': ['window_'],\n",
    "    'fill_limit': 30,\n",
    "}\n",
    "train_distances_to_points_with_windows = calculate_shift(calculate_window(create_point_distance_features(train_location), **settings), **shift_settings)\n",
    "display(train_distances_to_points_with_windows)\n",
    "\n",
    "train_distances_to_points_with_windows.to_parquet('../data/train/features_distances.parquet')\n",
    "calculate_shift(calculate_window(create_point_distance_features(test_location), **settings), **shift_settings).to_parquet('../data/test/features_distances.parquet')\n",
    "calculate_shift(calculate_window(create_point_distance_features(validate_location), **settings), **shift_settings).to_parquet('../data/validate/features_distances.parquet')"
   ]
  },
  {
   "cell_type": "code",
   "execution_count": 5,
   "outputs": [
    {
     "data": {
      "text/plain": "                                             geometry\n0   LINESTRING (-0.14132 50.82902, -0.14151 50.830...\n1   LINESTRING (-0.93849 50.85162, -0.93633 50.851...\n2   LINESTRING (-0.14087 50.82901, -0.14089 50.829...\n3   LINESTRING (0.27687 50.80288, 0.27665 50.80432...\n4   LINESTRING (-0.14108 50.82902, -0.14104 50.829...\n5   LINESTRING (-0.16576 51.23988, -0.16623 51.239...\n6   LINESTRING (-0.17003 51.23156, -0.16928 51.233...\n7   LINESTRING (-0.16563 51.23996, -0.15608 51.255...\n8   LINESTRING (-0.08851 51.38370, -0.08783 51.384...\n9   LINESTRING (-0.07169 51.40712, -0.07087 51.406...\n10  LINESTRING (-0.08866 51.38366, -0.08802 51.384...\n11  LINESTRING (-0.15881 51.46964, -0.15722 51.470...\n12  LINESTRING (-0.07107 51.40356, -0.06774 51.409...\n13  LINESTRING (-0.04929 51.48633, -0.05047 51.487...\n14  LINESTRING (-0.07785 51.51141, -0.07461 51.510...\n15  LINESTRING (-0.00416 51.54174, -0.00543 51.541...",
      "text/html": "<div>\n<style scoped>\n    .dataframe tbody tr th:only-of-type {\n        vertical-align: middle;\n    }\n\n    .dataframe tbody tr th {\n        vertical-align: top;\n    }\n\n    .dataframe thead th {\n        text-align: right;\n    }\n</style>\n<table border=\"1\" class=\"dataframe\">\n  <thead>\n    <tr style=\"text-align: right;\">\n      <th></th>\n      <th>geometry</th>\n    </tr>\n  </thead>\n  <tbody>\n    <tr>\n      <th>0</th>\n      <td>LINESTRING (-0.14132 50.82902, -0.14151 50.830...</td>\n    </tr>\n    <tr>\n      <th>1</th>\n      <td>LINESTRING (-0.93849 50.85162, -0.93633 50.851...</td>\n    </tr>\n    <tr>\n      <th>2</th>\n      <td>LINESTRING (-0.14087 50.82901, -0.14089 50.829...</td>\n    </tr>\n    <tr>\n      <th>3</th>\n      <td>LINESTRING (0.27687 50.80288, 0.27665 50.80432...</td>\n    </tr>\n    <tr>\n      <th>4</th>\n      <td>LINESTRING (-0.14108 50.82902, -0.14104 50.829...</td>\n    </tr>\n    <tr>\n      <th>5</th>\n      <td>LINESTRING (-0.16576 51.23988, -0.16623 51.239...</td>\n    </tr>\n    <tr>\n      <th>6</th>\n      <td>LINESTRING (-0.17003 51.23156, -0.16928 51.233...</td>\n    </tr>\n    <tr>\n      <th>7</th>\n      <td>LINESTRING (-0.16563 51.23996, -0.15608 51.255...</td>\n    </tr>\n    <tr>\n      <th>8</th>\n      <td>LINESTRING (-0.08851 51.38370, -0.08783 51.384...</td>\n    </tr>\n    <tr>\n      <th>9</th>\n      <td>LINESTRING (-0.07169 51.40712, -0.07087 51.406...</td>\n    </tr>\n    <tr>\n      <th>10</th>\n      <td>LINESTRING (-0.08866 51.38366, -0.08802 51.384...</td>\n    </tr>\n    <tr>\n      <th>11</th>\n      <td>LINESTRING (-0.15881 51.46964, -0.15722 51.470...</td>\n    </tr>\n    <tr>\n      <th>12</th>\n      <td>LINESTRING (-0.07107 51.40356, -0.06774 51.409...</td>\n    </tr>\n    <tr>\n      <th>13</th>\n      <td>LINESTRING (-0.04929 51.48633, -0.05047 51.487...</td>\n    </tr>\n    <tr>\n      <th>14</th>\n      <td>LINESTRING (-0.07785 51.51141, -0.07461 51.510...</td>\n    </tr>\n    <tr>\n      <th>15</th>\n      <td>LINESTRING (-0.00416 51.54174, -0.00543 51.541...</td>\n    </tr>\n  </tbody>\n</table>\n</div>"
     },
     "metadata": {},
     "output_type": "display_data"
    }
   ],
   "source": [
    "railways = gpd.read_file('../additional_data/railways.json')\n",
    "display(railways)"
   ],
   "metadata": {
    "collapsed": false,
    "pycharm": {
     "name": "#%%\n"
    }
   }
  },
  {
   "cell_type": "code",
   "execution_count": 6,
   "outputs": [
    {
     "data": {
      "text/plain": "                                             geometry\n0   LINESTRING (0.07963 51.54034, 0.07729 51.54146...\n1   LINESTRING (0.01027 51.51106, 0.00955 51.51240...\n2   LINESTRING (-0.18799 51.57114, -0.19263 51.572...\n3   LINESTRING (-0.23859 51.58982, -0.24056 51.590...\n4   LINESTRING (-0.30260 51.61922, -0.30124 51.617...\n5   LINESTRING (-0.37130 51.57519, -0.36957 51.574...\n6   LINESTRING (-0.37130 51.57515, -0.36744 51.574...\n7   LINESTRING (-0.22702 51.49365, -0.22505 51.493...\n8   LINESTRING (-0.19207 51.48249, -0.19288 51.481...\n9   LINESTRING (0.09334 51.60333, 0.09079 51.59488...\n10  LINESTRING (0.01225 51.57156, 0.00985 51.56995...\n11  LINESTRING (-0.00062 51.54358, -0.00171 51.542...\n12  LINESTRING (-0.30127 51.51495, -0.29676 51.515...\n13  LINESTRING (-0.30154 51.51523, -0.29650 51.515...\n14  LINESTRING (-0.47823 51.54639, -0.47593 51.547...\n15  LINESTRING (-0.30109 51.46313, -0.29822 51.463...\n16  LINESTRING (-0.38446 51.47383, -0.38287 51.474...\n17  LINESTRING (-0.32171 51.49750, -0.32019 51.498...\n18  LINESTRING (-0.36950 51.54847, -0.35525 51.544...\n19  LINESTRING (-0.33489 51.59222, -0.33073 51.590...\n20  LINESTRING (-0.22493 51.49352, -0.22534 51.495...\n21  LINESTRING (-0.13128 51.64732, -0.12952 51.646...\n22  LINESTRING (0.05538 51.64131, 0.05420 51.64043...\n23  LINESTRING (0.04077 51.61576, 0.04120 51.61616...\n24  LINESTRING (0.25163 51.55904, 0.24434 51.55920...\n25  LINESTRING (-0.00739 51.55201, -0.00698 51.551...\n26  LINESTRING (-0.00408 51.54113, -0.00538 51.540...",
      "text/html": "<div>\n<style scoped>\n    .dataframe tbody tr th:only-of-type {\n        vertical-align: middle;\n    }\n\n    .dataframe tbody tr th {\n        vertical-align: top;\n    }\n\n    .dataframe thead th {\n        text-align: right;\n    }\n</style>\n<table border=\"1\" class=\"dataframe\">\n  <thead>\n    <tr style=\"text-align: right;\">\n      <th></th>\n      <th>geometry</th>\n    </tr>\n  </thead>\n  <tbody>\n    <tr>\n      <th>0</th>\n      <td>LINESTRING (0.07963 51.54034, 0.07729 51.54146...</td>\n    </tr>\n    <tr>\n      <th>1</th>\n      <td>LINESTRING (0.01027 51.51106, 0.00955 51.51240...</td>\n    </tr>\n    <tr>\n      <th>2</th>\n      <td>LINESTRING (-0.18799 51.57114, -0.19263 51.572...</td>\n    </tr>\n    <tr>\n      <th>3</th>\n      <td>LINESTRING (-0.23859 51.58982, -0.24056 51.590...</td>\n    </tr>\n    <tr>\n      <th>4</th>\n      <td>LINESTRING (-0.30260 51.61922, -0.30124 51.617...</td>\n    </tr>\n    <tr>\n      <th>5</th>\n      <td>LINESTRING (-0.37130 51.57519, -0.36957 51.574...</td>\n    </tr>\n    <tr>\n      <th>6</th>\n      <td>LINESTRING (-0.37130 51.57515, -0.36744 51.574...</td>\n    </tr>\n    <tr>\n      <th>7</th>\n      <td>LINESTRING (-0.22702 51.49365, -0.22505 51.493...</td>\n    </tr>\n    <tr>\n      <th>8</th>\n      <td>LINESTRING (-0.19207 51.48249, -0.19288 51.481...</td>\n    </tr>\n    <tr>\n      <th>9</th>\n      <td>LINESTRING (0.09334 51.60333, 0.09079 51.59488...</td>\n    </tr>\n    <tr>\n      <th>10</th>\n      <td>LINESTRING (0.01225 51.57156, 0.00985 51.56995...</td>\n    </tr>\n    <tr>\n      <th>11</th>\n      <td>LINESTRING (-0.00062 51.54358, -0.00171 51.542...</td>\n    </tr>\n    <tr>\n      <th>12</th>\n      <td>LINESTRING (-0.30127 51.51495, -0.29676 51.515...</td>\n    </tr>\n    <tr>\n      <th>13</th>\n      <td>LINESTRING (-0.30154 51.51523, -0.29650 51.515...</td>\n    </tr>\n    <tr>\n      <th>14</th>\n      <td>LINESTRING (-0.47823 51.54639, -0.47593 51.547...</td>\n    </tr>\n    <tr>\n      <th>15</th>\n      <td>LINESTRING (-0.30109 51.46313, -0.29822 51.463...</td>\n    </tr>\n    <tr>\n      <th>16</th>\n      <td>LINESTRING (-0.38446 51.47383, -0.38287 51.474...</td>\n    </tr>\n    <tr>\n      <th>17</th>\n      <td>LINESTRING (-0.32171 51.49750, -0.32019 51.498...</td>\n    </tr>\n    <tr>\n      <th>18</th>\n      <td>LINESTRING (-0.36950 51.54847, -0.35525 51.544...</td>\n    </tr>\n    <tr>\n      <th>19</th>\n      <td>LINESTRING (-0.33489 51.59222, -0.33073 51.590...</td>\n    </tr>\n    <tr>\n      <th>20</th>\n      <td>LINESTRING (-0.22493 51.49352, -0.22534 51.495...</td>\n    </tr>\n    <tr>\n      <th>21</th>\n      <td>LINESTRING (-0.13128 51.64732, -0.12952 51.646...</td>\n    </tr>\n    <tr>\n      <th>22</th>\n      <td>LINESTRING (0.05538 51.64131, 0.05420 51.64043...</td>\n    </tr>\n    <tr>\n      <th>23</th>\n      <td>LINESTRING (0.04077 51.61576, 0.04120 51.61616...</td>\n    </tr>\n    <tr>\n      <th>24</th>\n      <td>LINESTRING (0.25163 51.55904, 0.24434 51.55920...</td>\n    </tr>\n    <tr>\n      <th>25</th>\n      <td>LINESTRING (-0.00739 51.55201, -0.00698 51.551...</td>\n    </tr>\n    <tr>\n      <th>26</th>\n      <td>LINESTRING (-0.00408 51.54113, -0.00538 51.540...</td>\n    </tr>\n  </tbody>\n</table>\n</div>"
     },
     "metadata": {},
     "output_type": "display_data"
    }
   ],
   "source": [
    "subway = gpd.read_file('../additional_data/subway.json')\n",
    "display(subway)"
   ],
   "metadata": {
    "collapsed": false,
    "pycharm": {
     "name": "#%%\n"
    }
   }
  },
  {
   "cell_type": "code",
   "execution_count": 7,
   "outputs": [],
   "source": [
    "feature_lines = {\n",
    "    'subway': gpd.read_file('../additional_data/subway.json'),\n",
    "    'railways': gpd.read_file('../additional_data/railways.json'),\n",
    "}\n",
    "\n",
    "def calculate_min_distance_to_lines(point: Point, lines: gpd.GeoDataFrame):\n",
    "    return min(map(point.distance, lines.loc[:, 'geometry']))\n",
    "\n",
    "def create_distance_to_lines_features(data: pd.DataFrame):\n",
    "    features = {\n",
    "        'epoch_time_id': data['epoch_time_id'],\n",
    "    }\n",
    "    for name, lines in feature_lines.items():\n",
    "        distances = []\n",
    "        for _, row in tqdm(data.iterrows(), total=data.shape[0]):\n",
    "            distances.append(calculate_min_distance_to_lines(Point(row['Longitude'], row['Latitude']), lines))\n",
    "        features[f'distance_{name}'] = distances\n",
    "\n",
    "    return pd.DataFrame(features)"
   ],
   "metadata": {
    "collapsed": false,
    "pycharm": {
     "name": "#%%\n"
    }
   }
  },
  {
   "cell_type": "code",
   "execution_count": 8,
   "outputs": [
    {
     "name": "stderr",
     "output_type": "stream",
     "text": [
      "100%|██████████| 911109/911109 [12:12<00:00, 1244.14it/s]\n",
      "100%|██████████| 911109/911109 [11:33<00:00, 1312.88it/s]\n"
     ]
    },
    {
     "data": {
      "text/plain": "        epoch_time_id  distance_subway  distance_railways  \\\n0       1490431658000         0.581761           0.006968   \n1       1490431660000         0.581764           0.006965   \n2       1490431661000         0.581773           0.006957   \n3       1490431662000         0.581785           0.006946   \n4       1490431663000         0.582004           0.006713   \n...               ...              ...                ...   \n911104  1499268278000         0.579433           0.009272   \n911105  1499268279000         0.579433           0.009272   \n911106  1499268280000         0.579433           0.009272   \n911107  1499268281000         0.579433           0.009272   \n911108  1499268282000         0.579432           0.009273   \n\n        distance_subway_window_60_mean  distance_subway_window_60_std  \\\n0                             0.582727                       0.000372   \n1                             0.582727                       0.000372   \n2                             0.582727                       0.000372   \n3                             0.582727                       0.000372   \n4                             0.582727                       0.000372   \n...                                ...                            ...   \n911104                        0.579411                       0.000019   \n911105                        0.579411                       0.000019   \n911106                        0.579411                       0.000019   \n911107                        0.579411                       0.000019   \n911108                        0.579411                       0.000019   \n\n        distance_subway_window_60_median  distance_railways_window_60_mean  \\\n0                               0.582794                          0.006055   \n1                               0.582794                          0.006055   \n2                               0.582794                          0.006055   \n3                               0.582794                          0.006055   \n4                               0.582794                          0.006055   \n...                                  ...                               ...   \n911104                          0.579412                          0.009296   \n911105                          0.579412                          0.009296   \n911106                          0.579412                          0.009296   \n911107                          0.579412                          0.009296   \n911108                          0.579412                          0.009296   \n\n        distance_railways_window_60_std  distance_railways_window_60_median  \\\n0                              0.000362                            0.006051   \n1                              0.000362                            0.006051   \n2                              0.000362                            0.006051   \n3                              0.000362                            0.006051   \n4                              0.000362                            0.006051   \n...                                 ...                                 ...   \n911104                         0.000034                            0.009282   \n911105                         0.000034                            0.009282   \n911106                         0.000034                            0.009282   \n911107                         0.000034                            0.009282   \n911108                         0.000034                            0.009282   \n\n        distance_subway_window_300_mean  ...  \\\n0                                   NaN  ...   \n1                                   NaN  ...   \n2                                   NaN  ...   \n3                                   NaN  ...   \n4                                   NaN  ...   \n...                                 ...  ...   \n911104                              NaN  ...   \n911105                              NaN  ...   \n911106                              NaN  ...   \n911107                              NaN  ...   \n911108                              NaN  ...   \n\n        distance_subway_window_300_median_shift_60_future  \\\n0                                                     NaN   \n1                                                     NaN   \n2                                                     NaN   \n3                                                     NaN   \n4                                                     NaN   \n...                                                   ...   \n911104                                                NaN   \n911105                                                NaN   \n911106                                                NaN   \n911107                                                NaN   \n911108                                                NaN   \n\n        distance_railways_window_300_mean_shift_60_future  \\\n0                                                     NaN   \n1                                                     NaN   \n2                                                     NaN   \n3                                                     NaN   \n4                                                     NaN   \n...                                                   ...   \n911104                                                NaN   \n911105                                                NaN   \n911106                                                NaN   \n911107                                                NaN   \n911108                                                NaN   \n\n        distance_railways_window_300_std_shift_60_future  \\\n0                                                    NaN   \n1                                                    NaN   \n2                                                    NaN   \n3                                                    NaN   \n4                                                    NaN   \n...                                                  ...   \n911104                                               NaN   \n911105                                               NaN   \n911106                                               NaN   \n911107                                               NaN   \n911108                                               NaN   \n\n        distance_railways_window_300_median_shift_60_future  \\\n0                                                     NaN     \n1                                                     NaN     \n2                                                     NaN     \n3                                                     NaN     \n4                                                     NaN     \n...                                                   ...     \n911104                                                NaN     \n911105                                                NaN     \n911106                                                NaN     \n911107                                                NaN     \n911108                                                NaN     \n\n        distance_subway_window_600_mean_shift_60_future  \\\n0                                                   NaN   \n1                                                   NaN   \n2                                                   NaN   \n3                                                   NaN   \n4                                                   NaN   \n...                                                 ...   \n911104                                              NaN   \n911105                                              NaN   \n911106                                              NaN   \n911107                                              NaN   \n911108                                              NaN   \n\n        distance_subway_window_600_std_shift_60_future  \\\n0                                                  NaN   \n1                                                  NaN   \n2                                                  NaN   \n3                                                  NaN   \n4                                                  NaN   \n...                                                ...   \n911104                                             NaN   \n911105                                             NaN   \n911106                                             NaN   \n911107                                             NaN   \n911108                                             NaN   \n\n        distance_subway_window_600_median_shift_60_future  \\\n0                                                     NaN   \n1                                                     NaN   \n2                                                     NaN   \n3                                                     NaN   \n4                                                     NaN   \n...                                                   ...   \n911104                                                NaN   \n911105                                                NaN   \n911106                                                NaN   \n911107                                                NaN   \n911108                                                NaN   \n\n        distance_railways_window_600_mean_shift_60_future  \\\n0                                                     NaN   \n1                                                     NaN   \n2                                                     NaN   \n3                                                     NaN   \n4                                                     NaN   \n...                                                   ...   \n911104                                                NaN   \n911105                                                NaN   \n911106                                                NaN   \n911107                                                NaN   \n911108                                                NaN   \n\n        distance_railways_window_600_std_shift_60_future  \\\n0                                                    NaN   \n1                                                    NaN   \n2                                                    NaN   \n3                                                    NaN   \n4                                                    NaN   \n...                                                  ...   \n911104                                               NaN   \n911105                                               NaN   \n911106                                               NaN   \n911107                                               NaN   \n911108                                               NaN   \n\n        distance_railways_window_600_median_shift_60_future  \n0                                                     NaN    \n1                                                     NaN    \n2                                                     NaN    \n3                                                     NaN    \n4                                                     NaN    \n...                                                   ...    \n911104                                                NaN    \n911105                                                NaN    \n911106                                                NaN    \n911107                                                NaN    \n911108                                                NaN    \n\n[911109 rows x 57 columns]",
      "text/html": "<div>\n<style scoped>\n    .dataframe tbody tr th:only-of-type {\n        vertical-align: middle;\n    }\n\n    .dataframe tbody tr th {\n        vertical-align: top;\n    }\n\n    .dataframe thead th {\n        text-align: right;\n    }\n</style>\n<table border=\"1\" class=\"dataframe\">\n  <thead>\n    <tr style=\"text-align: right;\">\n      <th></th>\n      <th>epoch_time_id</th>\n      <th>distance_subway</th>\n      <th>distance_railways</th>\n      <th>distance_subway_window_60_mean</th>\n      <th>distance_subway_window_60_std</th>\n      <th>distance_subway_window_60_median</th>\n      <th>distance_railways_window_60_mean</th>\n      <th>distance_railways_window_60_std</th>\n      <th>distance_railways_window_60_median</th>\n      <th>distance_subway_window_300_mean</th>\n      <th>...</th>\n      <th>distance_subway_window_300_median_shift_60_future</th>\n      <th>distance_railways_window_300_mean_shift_60_future</th>\n      <th>distance_railways_window_300_std_shift_60_future</th>\n      <th>distance_railways_window_300_median_shift_60_future</th>\n      <th>distance_subway_window_600_mean_shift_60_future</th>\n      <th>distance_subway_window_600_std_shift_60_future</th>\n      <th>distance_subway_window_600_median_shift_60_future</th>\n      <th>distance_railways_window_600_mean_shift_60_future</th>\n      <th>distance_railways_window_600_std_shift_60_future</th>\n      <th>distance_railways_window_600_median_shift_60_future</th>\n    </tr>\n  </thead>\n  <tbody>\n    <tr>\n      <th>0</th>\n      <td>1490431658000</td>\n      <td>0.581761</td>\n      <td>0.006968</td>\n      <td>0.582727</td>\n      <td>0.000372</td>\n      <td>0.582794</td>\n      <td>0.006055</td>\n      <td>0.000362</td>\n      <td>0.006051</td>\n      <td>NaN</td>\n      <td>...</td>\n      <td>NaN</td>\n      <td>NaN</td>\n      <td>NaN</td>\n      <td>NaN</td>\n      <td>NaN</td>\n      <td>NaN</td>\n      <td>NaN</td>\n      <td>NaN</td>\n      <td>NaN</td>\n      <td>NaN</td>\n    </tr>\n    <tr>\n      <th>1</th>\n      <td>1490431660000</td>\n      <td>0.581764</td>\n      <td>0.006965</td>\n      <td>0.582727</td>\n      <td>0.000372</td>\n      <td>0.582794</td>\n      <td>0.006055</td>\n      <td>0.000362</td>\n      <td>0.006051</td>\n      <td>NaN</td>\n      <td>...</td>\n      <td>NaN</td>\n      <td>NaN</td>\n      <td>NaN</td>\n      <td>NaN</td>\n      <td>NaN</td>\n      <td>NaN</td>\n      <td>NaN</td>\n      <td>NaN</td>\n      <td>NaN</td>\n      <td>NaN</td>\n    </tr>\n    <tr>\n      <th>2</th>\n      <td>1490431661000</td>\n      <td>0.581773</td>\n      <td>0.006957</td>\n      <td>0.582727</td>\n      <td>0.000372</td>\n      <td>0.582794</td>\n      <td>0.006055</td>\n      <td>0.000362</td>\n      <td>0.006051</td>\n      <td>NaN</td>\n      <td>...</td>\n      <td>NaN</td>\n      <td>NaN</td>\n      <td>NaN</td>\n      <td>NaN</td>\n      <td>NaN</td>\n      <td>NaN</td>\n      <td>NaN</td>\n      <td>NaN</td>\n      <td>NaN</td>\n      <td>NaN</td>\n    </tr>\n    <tr>\n      <th>3</th>\n      <td>1490431662000</td>\n      <td>0.581785</td>\n      <td>0.006946</td>\n      <td>0.582727</td>\n      <td>0.000372</td>\n      <td>0.582794</td>\n      <td>0.006055</td>\n      <td>0.000362</td>\n      <td>0.006051</td>\n      <td>NaN</td>\n      <td>...</td>\n      <td>NaN</td>\n      <td>NaN</td>\n      <td>NaN</td>\n      <td>NaN</td>\n      <td>NaN</td>\n      <td>NaN</td>\n      <td>NaN</td>\n      <td>NaN</td>\n      <td>NaN</td>\n      <td>NaN</td>\n    </tr>\n    <tr>\n      <th>4</th>\n      <td>1490431663000</td>\n      <td>0.582004</td>\n      <td>0.006713</td>\n      <td>0.582727</td>\n      <td>0.000372</td>\n      <td>0.582794</td>\n      <td>0.006055</td>\n      <td>0.000362</td>\n      <td>0.006051</td>\n      <td>NaN</td>\n      <td>...</td>\n      <td>NaN</td>\n      <td>NaN</td>\n      <td>NaN</td>\n      <td>NaN</td>\n      <td>NaN</td>\n      <td>NaN</td>\n      <td>NaN</td>\n      <td>NaN</td>\n      <td>NaN</td>\n      <td>NaN</td>\n    </tr>\n    <tr>\n      <th>...</th>\n      <td>...</td>\n      <td>...</td>\n      <td>...</td>\n      <td>...</td>\n      <td>...</td>\n      <td>...</td>\n      <td>...</td>\n      <td>...</td>\n      <td>...</td>\n      <td>...</td>\n      <td>...</td>\n      <td>...</td>\n      <td>...</td>\n      <td>...</td>\n      <td>...</td>\n      <td>...</td>\n      <td>...</td>\n      <td>...</td>\n      <td>...</td>\n      <td>...</td>\n      <td>...</td>\n    </tr>\n    <tr>\n      <th>911104</th>\n      <td>1499268278000</td>\n      <td>0.579433</td>\n      <td>0.009272</td>\n      <td>0.579411</td>\n      <td>0.000019</td>\n      <td>0.579412</td>\n      <td>0.009296</td>\n      <td>0.000034</td>\n      <td>0.009282</td>\n      <td>NaN</td>\n      <td>...</td>\n      <td>NaN</td>\n      <td>NaN</td>\n      <td>NaN</td>\n      <td>NaN</td>\n      <td>NaN</td>\n      <td>NaN</td>\n      <td>NaN</td>\n      <td>NaN</td>\n      <td>NaN</td>\n      <td>NaN</td>\n    </tr>\n    <tr>\n      <th>911105</th>\n      <td>1499268279000</td>\n      <td>0.579433</td>\n      <td>0.009272</td>\n      <td>0.579411</td>\n      <td>0.000019</td>\n      <td>0.579412</td>\n      <td>0.009296</td>\n      <td>0.000034</td>\n      <td>0.009282</td>\n      <td>NaN</td>\n      <td>...</td>\n      <td>NaN</td>\n      <td>NaN</td>\n      <td>NaN</td>\n      <td>NaN</td>\n      <td>NaN</td>\n      <td>NaN</td>\n      <td>NaN</td>\n      <td>NaN</td>\n      <td>NaN</td>\n      <td>NaN</td>\n    </tr>\n    <tr>\n      <th>911106</th>\n      <td>1499268280000</td>\n      <td>0.579433</td>\n      <td>0.009272</td>\n      <td>0.579411</td>\n      <td>0.000019</td>\n      <td>0.579412</td>\n      <td>0.009296</td>\n      <td>0.000034</td>\n      <td>0.009282</td>\n      <td>NaN</td>\n      <td>...</td>\n      <td>NaN</td>\n      <td>NaN</td>\n      <td>NaN</td>\n      <td>NaN</td>\n      <td>NaN</td>\n      <td>NaN</td>\n      <td>NaN</td>\n      <td>NaN</td>\n      <td>NaN</td>\n      <td>NaN</td>\n    </tr>\n    <tr>\n      <th>911107</th>\n      <td>1499268281000</td>\n      <td>0.579433</td>\n      <td>0.009272</td>\n      <td>0.579411</td>\n      <td>0.000019</td>\n      <td>0.579412</td>\n      <td>0.009296</td>\n      <td>0.000034</td>\n      <td>0.009282</td>\n      <td>NaN</td>\n      <td>...</td>\n      <td>NaN</td>\n      <td>NaN</td>\n      <td>NaN</td>\n      <td>NaN</td>\n      <td>NaN</td>\n      <td>NaN</td>\n      <td>NaN</td>\n      <td>NaN</td>\n      <td>NaN</td>\n      <td>NaN</td>\n    </tr>\n    <tr>\n      <th>911108</th>\n      <td>1499268282000</td>\n      <td>0.579432</td>\n      <td>0.009273</td>\n      <td>0.579411</td>\n      <td>0.000019</td>\n      <td>0.579412</td>\n      <td>0.009296</td>\n      <td>0.000034</td>\n      <td>0.009282</td>\n      <td>NaN</td>\n      <td>...</td>\n      <td>NaN</td>\n      <td>NaN</td>\n      <td>NaN</td>\n      <td>NaN</td>\n      <td>NaN</td>\n      <td>NaN</td>\n      <td>NaN</td>\n      <td>NaN</td>\n      <td>NaN</td>\n      <td>NaN</td>\n    </tr>\n  </tbody>\n</table>\n<p>911109 rows × 57 columns</p>\n</div>"
     },
     "metadata": {},
     "output_type": "display_data"
    },
    {
     "name": "stderr",
     "output_type": "stream",
     "text": [
      "100%|██████████| 562565/562565 [07:12<00:00, 1301.40it/s]\n",
      "100%|██████████| 562565/562565 [07:09<00:00, 1309.72it/s]\n",
      "100%|██████████| 101524/101524 [01:27<00:00, 1164.95it/s]\n",
      "100%|██████████| 101524/101524 [01:01<00:00, 1645.16it/s]\n"
     ]
    }
   ],
   "source": [
    "settings = {\n",
    "    'fill_limit': 30,\n",
    "    'window_sizes': [60, 300, 600],\n",
    "    'window_center': True,\n",
    "    # 'window_functions': ['mean', 'std'],\n",
    "    'columns': ['distance_subway', 'distance_railways'],\n",
    "    'functions': ['mean', 'std', 'median'],\n",
    "}\n",
    "shift_settings = {\n",
    "    'periods': [60, 300, 600],\n",
    "    'columns_patterns': ['window_'],\n",
    "    'fill_limit': 30,\n",
    "}\n",
    "train_distances_to_lines_with_windows = calculate_shift(calculate_window(create_distance_to_lines_features(train_location), **settings), **shift_settings)\n",
    "display(train_distances_to_lines_with_windows)\n",
    "\n",
    "train_distances_to_lines_with_windows.to_parquet('../data/train/train_distances_to_lines_with_windows.parquet')\n",
    "calculate_shift(calculate_window(create_distance_to_lines_features(test_location), **settings), **shift_settings).to_parquet('../data/test/test_distances_to_lines_with_windows.parquet')\n",
    "calculate_shift(calculate_window(create_distance_to_lines_features(validate_location), **settings), **shift_settings).to_parquet('../data/validate/validate_distances_to_lines_with_windows.parquet')\n"
   ],
   "metadata": {
    "collapsed": false,
    "pycharm": {
     "name": "#%%\n"
    }
   }
  },
  {
   "cell_type": "code",
   "execution_count": 9,
   "outputs": [
    {
     "data": {
      "text/plain": "           epoch_time  label  epoch_time_id  distance_subway  \\\n0       1490431658000      4  1490431658000         0.581761   \n1       1490431660000      4  1490431660000         0.581764   \n2       1490431661000      4  1490431661000         0.581773   \n3       1490431662000      4  1490431662000         0.581785   \n4       1490431663000      4  1490431663000         0.582004   \n...               ...    ...            ...              ...   \n662501  1499267848000      5  1499267848000         0.581049   \n662502  1499267849000      5  1499267849000         0.580982   \n662503  1499267850000      5  1499267850000         0.580913   \n662504  1499267851000      5  1499267851000         0.580845   \n662505  1499267852000      5  1499267852000         0.580771   \n\n        distance_railways  distance_subway_window_60_mean  \\\n0                0.006968                        0.582727   \n1                0.006965                        0.582727   \n2                0.006957                        0.582727   \n3                0.006946                        0.582727   \n4                0.006713                        0.582727   \n...                   ...                             ...   \n662501           0.007721                        0.581106   \n662502           0.007789                        0.581046   \n662503           0.007859                        0.580986   \n662504           0.007928                        0.580926   \n662505           0.008004                        0.580865   \n\n        distance_subway_window_60_std  distance_subway_window_60_median  \\\n0                            0.000372                          0.582794   \n1                            0.000372                          0.582794   \n2                            0.000372                          0.582794   \n3                            0.000372                          0.582794   \n4                            0.000372                          0.582794   \n...                               ...                               ...   \n662501                       0.001277                          0.581081   \n662502                       0.001270                          0.581015   \n662503                       0.001259                          0.580947   \n662504                       0.001244                          0.580879   \n662505                       0.001227                          0.580808   \n\n        distance_railways_window_60_mean  distance_railways_window_60_std  \\\n0                               0.006055                         0.000362   \n1                               0.006055                         0.000362   \n2                               0.006055                         0.000362   \n3                               0.006055                         0.000362   \n4                               0.006055                         0.000362   \n...                                  ...                              ...   \n662501                          0.007655                         0.001293   \n662502                          0.007715                         0.001286   \n662503                          0.007776                         0.001274   \n662504                          0.007837                         0.001260   \n662505                          0.007897                         0.001242   \n\n        ...  distance_subway_window_300_median_shift_60_future  \\\n0       ...                                                NaN   \n1       ...                                                NaN   \n2       ...                                                NaN   \n3       ...                                                NaN   \n4       ...                                                NaN   \n...     ...                                                ...   \n662501  ...                                           0.579412   \n662502  ...                                           0.579411   \n662503  ...                                           0.579411   \n662504  ...                                           0.579411   \n662505  ...                                           0.579410   \n\n        distance_railways_window_300_mean_shift_60_future  \\\n0                                                     NaN   \n1                                                     NaN   \n2                                                     NaN   \n3                                                     NaN   \n4                                                     NaN   \n...                                                   ...   \n662501                                           0.008349   \n662502                                           0.008360   \n662503                                           0.008371   \n662504                                           0.008382   \n662505                                           0.008393   \n\n        distance_railways_window_300_std_shift_60_future  \\\n0                                                    NaN   \n1                                                    NaN   \n2                                                    NaN   \n3                                                    NaN   \n4                                                    NaN   \n...                                                  ...   \n662501                                          0.001454   \n662502                                          0.001449   \n662503                                          0.001443   \n662504                                          0.001438   \n662505                                          0.001433   \n\n        distance_railways_window_300_median_shift_60_future  \\\n0                                                     NaN     \n1                                                     NaN     \n2                                                     NaN     \n3                                                     NaN     \n4                                                     NaN     \n...                                                   ...     \n662501                                           0.009338     \n662502                                           0.009339     \n662503                                           0.009339     \n662504                                           0.009339     \n662505                                           0.009340     \n\n        distance_subway_window_600_mean_shift_60_future  \\\n0                                                   NaN   \n1                                                   NaN   \n2                                                   NaN   \n3                                                   NaN   \n4                                                   NaN   \n...                                                 ...   \n662501                                         0.581817   \n662502                                         0.581796   \n662503                                         0.581775   \n662504                                         0.581755   \n662505                                         0.581735   \n\n        distance_subway_window_600_std_shift_60_future  \\\n0                                                  NaN   \n1                                                  NaN   \n2                                                  NaN   \n3                                                  NaN   \n4                                                  NaN   \n...                                                ...   \n662501                                        0.003460   \n662502                                        0.003437   \n662503                                        0.003414   \n662504                                        0.003392   \n662505                                        0.003370   \n\n        distance_subway_window_600_median_shift_60_future  \\\n0                                                     NaN   \n1                                                     NaN   \n2                                                     NaN   \n3                                                     NaN   \n4                                                     NaN   \n...                                                   ...   \n662501                                           0.579412   \n662502                                           0.579411   \n662503                                           0.579411   \n662504                                           0.579411   \n662505                                           0.579410   \n\n        distance_railways_window_600_mean_shift_60_future  \\\n0                                                     NaN   \n1                                                     NaN   \n2                                                     NaN   \n3                                                     NaN   \n4                                                     NaN   \n...                                                   ...   \n662501                                           0.007197   \n662502                                           0.007209   \n662503                                           0.007220   \n662504                                           0.007232   \n662505                                           0.007244   \n\n        distance_railways_window_600_std_shift_60_future  \\\n0                                                    NaN   \n1                                                    NaN   \n2                                                    NaN   \n3                                                    NaN   \n4                                                    NaN   \n...                                                  ...   \n662501                                          0.002964   \n662502                                          0.002960   \n662503                                          0.002954   \n662504                                          0.002949   \n662505                                          0.002943   \n\n        distance_railways_window_600_median_shift_60_future  \n0                                                     NaN    \n1                                                     NaN    \n2                                                     NaN    \n3                                                     NaN    \n4                                                     NaN    \n...                                                   ...    \n662501                                           0.009338    \n662502                                           0.009339    \n662503                                           0.009339    \n662504                                           0.009339    \n662505                                           0.009340    \n\n[662506 rows x 59 columns]",
      "text/html": "<div>\n<style scoped>\n    .dataframe tbody tr th:only-of-type {\n        vertical-align: middle;\n    }\n\n    .dataframe tbody tr th {\n        vertical-align: top;\n    }\n\n    .dataframe thead th {\n        text-align: right;\n    }\n</style>\n<table border=\"1\" class=\"dataframe\">\n  <thead>\n    <tr style=\"text-align: right;\">\n      <th></th>\n      <th>epoch_time</th>\n      <th>label</th>\n      <th>epoch_time_id</th>\n      <th>distance_subway</th>\n      <th>distance_railways</th>\n      <th>distance_subway_window_60_mean</th>\n      <th>distance_subway_window_60_std</th>\n      <th>distance_subway_window_60_median</th>\n      <th>distance_railways_window_60_mean</th>\n      <th>distance_railways_window_60_std</th>\n      <th>...</th>\n      <th>distance_subway_window_300_median_shift_60_future</th>\n      <th>distance_railways_window_300_mean_shift_60_future</th>\n      <th>distance_railways_window_300_std_shift_60_future</th>\n      <th>distance_railways_window_300_median_shift_60_future</th>\n      <th>distance_subway_window_600_mean_shift_60_future</th>\n      <th>distance_subway_window_600_std_shift_60_future</th>\n      <th>distance_subway_window_600_median_shift_60_future</th>\n      <th>distance_railways_window_600_mean_shift_60_future</th>\n      <th>distance_railways_window_600_std_shift_60_future</th>\n      <th>distance_railways_window_600_median_shift_60_future</th>\n    </tr>\n  </thead>\n  <tbody>\n    <tr>\n      <th>0</th>\n      <td>1490431658000</td>\n      <td>4</td>\n      <td>1490431658000</td>\n      <td>0.581761</td>\n      <td>0.006968</td>\n      <td>0.582727</td>\n      <td>0.000372</td>\n      <td>0.582794</td>\n      <td>0.006055</td>\n      <td>0.000362</td>\n      <td>...</td>\n      <td>NaN</td>\n      <td>NaN</td>\n      <td>NaN</td>\n      <td>NaN</td>\n      <td>NaN</td>\n      <td>NaN</td>\n      <td>NaN</td>\n      <td>NaN</td>\n      <td>NaN</td>\n      <td>NaN</td>\n    </tr>\n    <tr>\n      <th>1</th>\n      <td>1490431660000</td>\n      <td>4</td>\n      <td>1490431660000</td>\n      <td>0.581764</td>\n      <td>0.006965</td>\n      <td>0.582727</td>\n      <td>0.000372</td>\n      <td>0.582794</td>\n      <td>0.006055</td>\n      <td>0.000362</td>\n      <td>...</td>\n      <td>NaN</td>\n      <td>NaN</td>\n      <td>NaN</td>\n      <td>NaN</td>\n      <td>NaN</td>\n      <td>NaN</td>\n      <td>NaN</td>\n      <td>NaN</td>\n      <td>NaN</td>\n      <td>NaN</td>\n    </tr>\n    <tr>\n      <th>2</th>\n      <td>1490431661000</td>\n      <td>4</td>\n      <td>1490431661000</td>\n      <td>0.581773</td>\n      <td>0.006957</td>\n      <td>0.582727</td>\n      <td>0.000372</td>\n      <td>0.582794</td>\n      <td>0.006055</td>\n      <td>0.000362</td>\n      <td>...</td>\n      <td>NaN</td>\n      <td>NaN</td>\n      <td>NaN</td>\n      <td>NaN</td>\n      <td>NaN</td>\n      <td>NaN</td>\n      <td>NaN</td>\n      <td>NaN</td>\n      <td>NaN</td>\n      <td>NaN</td>\n    </tr>\n    <tr>\n      <th>3</th>\n      <td>1490431662000</td>\n      <td>4</td>\n      <td>1490431662000</td>\n      <td>0.581785</td>\n      <td>0.006946</td>\n      <td>0.582727</td>\n      <td>0.000372</td>\n      <td>0.582794</td>\n      <td>0.006055</td>\n      <td>0.000362</td>\n      <td>...</td>\n      <td>NaN</td>\n      <td>NaN</td>\n      <td>NaN</td>\n      <td>NaN</td>\n      <td>NaN</td>\n      <td>NaN</td>\n      <td>NaN</td>\n      <td>NaN</td>\n      <td>NaN</td>\n      <td>NaN</td>\n    </tr>\n    <tr>\n      <th>4</th>\n      <td>1490431663000</td>\n      <td>4</td>\n      <td>1490431663000</td>\n      <td>0.582004</td>\n      <td>0.006713</td>\n      <td>0.582727</td>\n      <td>0.000372</td>\n      <td>0.582794</td>\n      <td>0.006055</td>\n      <td>0.000362</td>\n      <td>...</td>\n      <td>NaN</td>\n      <td>NaN</td>\n      <td>NaN</td>\n      <td>NaN</td>\n      <td>NaN</td>\n      <td>NaN</td>\n      <td>NaN</td>\n      <td>NaN</td>\n      <td>NaN</td>\n      <td>NaN</td>\n    </tr>\n    <tr>\n      <th>...</th>\n      <td>...</td>\n      <td>...</td>\n      <td>...</td>\n      <td>...</td>\n      <td>...</td>\n      <td>...</td>\n      <td>...</td>\n      <td>...</td>\n      <td>...</td>\n      <td>...</td>\n      <td>...</td>\n      <td>...</td>\n      <td>...</td>\n      <td>...</td>\n      <td>...</td>\n      <td>...</td>\n      <td>...</td>\n      <td>...</td>\n      <td>...</td>\n      <td>...</td>\n      <td>...</td>\n    </tr>\n    <tr>\n      <th>662501</th>\n      <td>1499267848000</td>\n      <td>5</td>\n      <td>1499267848000</td>\n      <td>0.581049</td>\n      <td>0.007721</td>\n      <td>0.581106</td>\n      <td>0.001277</td>\n      <td>0.581081</td>\n      <td>0.007655</td>\n      <td>0.001293</td>\n      <td>...</td>\n      <td>0.579412</td>\n      <td>0.008349</td>\n      <td>0.001454</td>\n      <td>0.009338</td>\n      <td>0.581817</td>\n      <td>0.003460</td>\n      <td>0.579412</td>\n      <td>0.007197</td>\n      <td>0.002964</td>\n      <td>0.009338</td>\n    </tr>\n    <tr>\n      <th>662502</th>\n      <td>1499267849000</td>\n      <td>5</td>\n      <td>1499267849000</td>\n      <td>0.580982</td>\n      <td>0.007789</td>\n      <td>0.581046</td>\n      <td>0.001270</td>\n      <td>0.581015</td>\n      <td>0.007715</td>\n      <td>0.001286</td>\n      <td>...</td>\n      <td>0.579411</td>\n      <td>0.008360</td>\n      <td>0.001449</td>\n      <td>0.009339</td>\n      <td>0.581796</td>\n      <td>0.003437</td>\n      <td>0.579411</td>\n      <td>0.007209</td>\n      <td>0.002960</td>\n      <td>0.009339</td>\n    </tr>\n    <tr>\n      <th>662503</th>\n      <td>1499267850000</td>\n      <td>5</td>\n      <td>1499267850000</td>\n      <td>0.580913</td>\n      <td>0.007859</td>\n      <td>0.580986</td>\n      <td>0.001259</td>\n      <td>0.580947</td>\n      <td>0.007776</td>\n      <td>0.001274</td>\n      <td>...</td>\n      <td>0.579411</td>\n      <td>0.008371</td>\n      <td>0.001443</td>\n      <td>0.009339</td>\n      <td>0.581775</td>\n      <td>0.003414</td>\n      <td>0.579411</td>\n      <td>0.007220</td>\n      <td>0.002954</td>\n      <td>0.009339</td>\n    </tr>\n    <tr>\n      <th>662504</th>\n      <td>1499267851000</td>\n      <td>5</td>\n      <td>1499267851000</td>\n      <td>0.580845</td>\n      <td>0.007928</td>\n      <td>0.580926</td>\n      <td>0.001244</td>\n      <td>0.580879</td>\n      <td>0.007837</td>\n      <td>0.001260</td>\n      <td>...</td>\n      <td>0.579411</td>\n      <td>0.008382</td>\n      <td>0.001438</td>\n      <td>0.009339</td>\n      <td>0.581755</td>\n      <td>0.003392</td>\n      <td>0.579411</td>\n      <td>0.007232</td>\n      <td>0.002949</td>\n      <td>0.009339</td>\n    </tr>\n    <tr>\n      <th>662505</th>\n      <td>1499267852000</td>\n      <td>5</td>\n      <td>1499267852000</td>\n      <td>0.580771</td>\n      <td>0.008004</td>\n      <td>0.580865</td>\n      <td>0.001227</td>\n      <td>0.580808</td>\n      <td>0.007897</td>\n      <td>0.001242</td>\n      <td>...</td>\n      <td>0.579410</td>\n      <td>0.008393</td>\n      <td>0.001433</td>\n      <td>0.009340</td>\n      <td>0.581735</td>\n      <td>0.003370</td>\n      <td>0.579410</td>\n      <td>0.007244</td>\n      <td>0.002943</td>\n      <td>0.009340</td>\n    </tr>\n  </tbody>\n</table>\n<p>662506 rows × 59 columns</p>\n</div>"
     },
     "execution_count": 9,
     "metadata": {},
     "output_type": "execute_result"
    }
   ],
   "source": [
    "train_label.merge(train_distances_to_lines_with_windows, on=\"epoch_time_id\")"
   ],
   "metadata": {
    "collapsed": false,
    "pycharm": {
     "name": "#%%\n"
    }
   }
  },
  {
   "cell_type": "code",
   "execution_count": null,
   "outputs": [],
   "source": [],
   "metadata": {
    "collapsed": false,
    "pycharm": {
     "name": "#%%\n"
    }
   }
  }
 ],
 "metadata": {
  "kernelspec": {
   "display_name": "Python 3",
   "language": "python",
   "name": "python3"
  },
  "language_info": {
   "codemirror_mode": {
    "name": "ipython",
    "version": 3
   },
   "file_extension": ".py",
   "mimetype": "text/x-python",
   "name": "python",
   "nbconvert_exporter": "python",
   "pygments_lexer": "ipython3",
   "version": "3.8.0"
  }
 },
 "nbformat": 4,
 "nbformat_minor": 4
}