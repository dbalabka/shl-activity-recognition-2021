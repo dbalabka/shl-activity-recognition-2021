{
 "cells": [
  {
   "cell_type": "code",
   "execution_count": 1,
   "outputs": [],
   "source": [
    "%load_ext autoreload\n",
    "%autoreload 2\n",
    "\n",
    "%load_ext dotenv\n",
    "%dotenv"
   ],
   "metadata": {
    "collapsed": false,
    "pycharm": {
     "name": "#%%\n"
    }
   }
  },
  {
   "cell_type": "code",
   "execution_count": 2,
   "outputs": [],
   "source": [
    "import re\n",
    "\n",
    "import numpy as np\n",
    "import pandas as pd\n",
    "import os\n",
    "import featuretools as ft\n",
    "from shl.prepare import normalize_epoch_time, normalize_lat_long, calculate_window, calculate_shift, fillna_agg_by_label\n",
    "import plotly.express as px\n",
    "from sklearn.feature_extraction.text import TfidfVectorizer\n",
    "from sklearn.neighbors import DistanceMetric\n",
    "from sklearn.metrics.pairwise import haversine_distances\n",
    "from sklearn.metrics import pairwise_distances_argmin_min\n",
    "from shapely.geometry import Polygon, LineString, Point\n",
    "from tqdm import tqdm\n",
    "import geopandas as gpd\n",
    "import pickle\n",
    "\n",
    "from shl.features import WifiFeature\n",
    "import matplotlib\n",
    "import folium\n",
    "import branca.colormap as cm"
   ],
   "metadata": {
    "collapsed": false,
    "pycharm": {
     "name": "#%%\n"
    }
   }
  },
  {
   "cell_type": "code",
   "execution_count": 3,
   "metadata": {
    "collapsed": false,
    "jupyter": {
     "outputs_hidden": false
    },
    "pycharm": {
     "name": "#%%\n"
    }
   },
   "outputs": [],
   "source": [
    "train_location = normalize_epoch_time(pd.read_parquet('../data/train/Location.parquet'), 'epoch_time')\n",
    "test_location = normalize_epoch_time(pd.read_parquet('../data/test/Location.parquet'), 'epoch_time')\n",
    "validate_location = normalize_epoch_time(pd.read_parquet('../data/validate/Location.parquet'), 'epoch_time')\n",
    "train_label = normalize_epoch_time(pd.read_parquet('../data/train/Label.parquet'), 'epoch_time')\n",
    "test_label = normalize_epoch_time(pd.read_parquet('../data/test/Label_idx.parquet'), 'epoch_time')\n",
    "validate_label = normalize_epoch_time(pd.read_parquet('../data/validate/Label.parquet'), 'epoch_time')"
   ]
  },
  {
   "cell_type": "code",
   "execution_count": 4,
   "metadata": {
    "collapsed": false,
    "jupyter": {
     "outputs_hidden": false
    },
    "pycharm": {
     "name": "#%%\n"
    }
   },
   "outputs": [
    {
     "data": {
      "text/plain": "        epoch_time_id  distance_London  distance_Brighton  distance_parks  \\\n0       1490431583000         0.665536           0.025955        0.010956   \n1       1490431584000         0.665536           0.025955        0.010956   \n2       1490431585000         0.665536           0.025955        0.010956   \n3       1490431586000         0.665536           0.025955        0.010956   \n4       1490431587000         0.665536           0.025955        0.010956   \n...               ...              ...                ...             ...   \n987383  1499268278000         0.663243           0.027238        0.009174   \n987384  1499268279000         0.663243           0.027238        0.009175   \n987385  1499268280000         0.663243           0.027238        0.009175   \n987386  1499268281000         0.663243           0.027238        0.009175   \n987387  1499268282000         0.663241           0.027239        0.009173   \n\n        distance_bus_stops  distance_London_window_60_mean  \\\n0                 0.001025                        0.665536   \n1                 0.001025                        0.665536   \n2                 0.001025                        0.665536   \n3                 0.001025                        0.665536   \n4                 0.001025                        0.665536   \n...                    ...                             ...   \n987383            0.001605                        0.663223   \n987384            0.001605                        0.663223   \n987385            0.001605                        0.663223   \n987386            0.001605                        0.663223   \n987387            0.001606                        0.663223   \n\n        distance_London_window_60_std  distance_London_window_60_median  \\\n0                            0.000000                          0.665536   \n1                            0.000000                          0.665536   \n2                            0.000000                          0.665536   \n3                            0.000000                          0.665536   \n4                            0.000000                          0.665536   \n...                               ...                               ...   \n987383                       0.000012                          0.663219   \n987384                       0.000012                          0.663219   \n987385                       0.000012                          0.663219   \n987386                       0.000012                          0.663219   \n987387                       0.000012                          0.663219   \n\n        distance_Brighton_window_60_mean  distance_Brighton_window_60_std  \\\n0                               0.025955                         0.000000   \n1                               0.025955                         0.000000   \n2                               0.025955                         0.000000   \n3                               0.025955                         0.000000   \n4                               0.025955                         0.000000   \n...                                  ...                              ...   \n987383                          0.027241                         0.000072   \n987384                          0.027241                         0.000072   \n987385                          0.027241                         0.000072   \n987386                          0.027241                         0.000072   \n987387                          0.027241                         0.000072   \n\n        ...  distance_parks_window_300_median_shift_60_future  \\\n0       ...                                               NaN   \n1       ...                                               NaN   \n2       ...                                               NaN   \n3       ...                                               NaN   \n4       ...                                               NaN   \n...     ...                                               ...   \n987383  ...                                               NaN   \n987384  ...                                               NaN   \n987385  ...                                               NaN   \n987386  ...                                               NaN   \n987387  ...                                               NaN   \n\n        distance_London_window_600_mean_shift_60_future  \\\n0                                                   NaN   \n1                                                   NaN   \n2                                                   NaN   \n3                                                   NaN   \n4                                                   NaN   \n...                                                 ...   \n987383                                              NaN   \n987384                                              NaN   \n987385                                              NaN   \n987386                                              NaN   \n987387                                              NaN   \n\n        distance_London_window_600_std_shift_60_future  \\\n0                                                  NaN   \n1                                                  NaN   \n2                                                  NaN   \n3                                                  NaN   \n4                                                  NaN   \n...                                                ...   \n987383                                             NaN   \n987384                                             NaN   \n987385                                             NaN   \n987386                                             NaN   \n987387                                             NaN   \n\n        distance_London_window_600_median_shift_60_future  \\\n0                                                     NaN   \n1                                                     NaN   \n2                                                     NaN   \n3                                                     NaN   \n4                                                     NaN   \n...                                                   ...   \n987383                                                NaN   \n987384                                                NaN   \n987385                                                NaN   \n987386                                                NaN   \n987387                                                NaN   \n\n        distance_Brighton_window_600_mean_shift_60_future  \\\n0                                                     NaN   \n1                                                     NaN   \n2                                                     NaN   \n3                                                     NaN   \n4                                                     NaN   \n...                                                   ...   \n987383                                                NaN   \n987384                                                NaN   \n987385                                                NaN   \n987386                                                NaN   \n987387                                                NaN   \n\n        distance_Brighton_window_600_std_shift_60_future  \\\n0                                                    NaN   \n1                                                    NaN   \n2                                                    NaN   \n3                                                    NaN   \n4                                                    NaN   \n...                                                  ...   \n987383                                               NaN   \n987384                                               NaN   \n987385                                               NaN   \n987386                                               NaN   \n987387                                               NaN   \n\n        distance_Brighton_window_600_median_shift_60_future  \\\n0                                                     NaN     \n1                                                     NaN     \n2                                                     NaN     \n3                                                     NaN     \n4                                                     NaN     \n...                                                   ...     \n987383                                                NaN     \n987384                                                NaN     \n987385                                                NaN     \n987386                                                NaN     \n987387                                                NaN     \n\n        distance_parks_window_600_mean_shift_60_future  \\\n0                                                  NaN   \n1                                                  NaN   \n2                                                  NaN   \n3                                                  NaN   \n4                                                  NaN   \n...                                                ...   \n987383                                             NaN   \n987384                                             NaN   \n987385                                             NaN   \n987386                                             NaN   \n987387                                             NaN   \n\n        distance_parks_window_600_std_shift_60_future  \\\n0                                                 NaN   \n1                                                 NaN   \n2                                                 NaN   \n3                                                 NaN   \n4                                                 NaN   \n...                                               ...   \n987383                                            NaN   \n987384                                            NaN   \n987385                                            NaN   \n987386                                            NaN   \n987387                                            NaN   \n\n        distance_parks_window_600_median_shift_60_future  \n0                                                    NaN  \n1                                                    NaN  \n2                                                    NaN  \n3                                                    NaN  \n4                                                    NaN  \n...                                                  ...  \n987383                                               NaN  \n987384                                               NaN  \n987385                                               NaN  \n987386                                               NaN  \n987387                                               NaN  \n\n[987388 rows x 86 columns]",
      "text/html": "<div>\n<style scoped>\n    .dataframe tbody tr th:only-of-type {\n        vertical-align: middle;\n    }\n\n    .dataframe tbody tr th {\n        vertical-align: top;\n    }\n\n    .dataframe thead th {\n        text-align: right;\n    }\n</style>\n<table border=\"1\" class=\"dataframe\">\n  <thead>\n    <tr style=\"text-align: right;\">\n      <th></th>\n      <th>epoch_time_id</th>\n      <th>distance_London</th>\n      <th>distance_Brighton</th>\n      <th>distance_parks</th>\n      <th>distance_bus_stops</th>\n      <th>distance_London_window_60_mean</th>\n      <th>distance_London_window_60_std</th>\n      <th>distance_London_window_60_median</th>\n      <th>distance_Brighton_window_60_mean</th>\n      <th>distance_Brighton_window_60_std</th>\n      <th>...</th>\n      <th>distance_parks_window_300_median_shift_60_future</th>\n      <th>distance_London_window_600_mean_shift_60_future</th>\n      <th>distance_London_window_600_std_shift_60_future</th>\n      <th>distance_London_window_600_median_shift_60_future</th>\n      <th>distance_Brighton_window_600_mean_shift_60_future</th>\n      <th>distance_Brighton_window_600_std_shift_60_future</th>\n      <th>distance_Brighton_window_600_median_shift_60_future</th>\n      <th>distance_parks_window_600_mean_shift_60_future</th>\n      <th>distance_parks_window_600_std_shift_60_future</th>\n      <th>distance_parks_window_600_median_shift_60_future</th>\n    </tr>\n  </thead>\n  <tbody>\n    <tr>\n      <th>0</th>\n      <td>1490431583000</td>\n      <td>0.665536</td>\n      <td>0.025955</td>\n      <td>0.010956</td>\n      <td>0.001025</td>\n      <td>0.665536</td>\n      <td>0.000000</td>\n      <td>0.665536</td>\n      <td>0.025955</td>\n      <td>0.000000</td>\n      <td>...</td>\n      <td>NaN</td>\n      <td>NaN</td>\n      <td>NaN</td>\n      <td>NaN</td>\n      <td>NaN</td>\n      <td>NaN</td>\n      <td>NaN</td>\n      <td>NaN</td>\n      <td>NaN</td>\n      <td>NaN</td>\n    </tr>\n    <tr>\n      <th>1</th>\n      <td>1490431584000</td>\n      <td>0.665536</td>\n      <td>0.025955</td>\n      <td>0.010956</td>\n      <td>0.001025</td>\n      <td>0.665536</td>\n      <td>0.000000</td>\n      <td>0.665536</td>\n      <td>0.025955</td>\n      <td>0.000000</td>\n      <td>...</td>\n      <td>NaN</td>\n      <td>NaN</td>\n      <td>NaN</td>\n      <td>NaN</td>\n      <td>NaN</td>\n      <td>NaN</td>\n      <td>NaN</td>\n      <td>NaN</td>\n      <td>NaN</td>\n      <td>NaN</td>\n    </tr>\n    <tr>\n      <th>2</th>\n      <td>1490431585000</td>\n      <td>0.665536</td>\n      <td>0.025955</td>\n      <td>0.010956</td>\n      <td>0.001025</td>\n      <td>0.665536</td>\n      <td>0.000000</td>\n      <td>0.665536</td>\n      <td>0.025955</td>\n      <td>0.000000</td>\n      <td>...</td>\n      <td>NaN</td>\n      <td>NaN</td>\n      <td>NaN</td>\n      <td>NaN</td>\n      <td>NaN</td>\n      <td>NaN</td>\n      <td>NaN</td>\n      <td>NaN</td>\n      <td>NaN</td>\n      <td>NaN</td>\n    </tr>\n    <tr>\n      <th>3</th>\n      <td>1490431586000</td>\n      <td>0.665536</td>\n      <td>0.025955</td>\n      <td>0.010956</td>\n      <td>0.001025</td>\n      <td>0.665536</td>\n      <td>0.000000</td>\n      <td>0.665536</td>\n      <td>0.025955</td>\n      <td>0.000000</td>\n      <td>...</td>\n      <td>NaN</td>\n      <td>NaN</td>\n      <td>NaN</td>\n      <td>NaN</td>\n      <td>NaN</td>\n      <td>NaN</td>\n      <td>NaN</td>\n      <td>NaN</td>\n      <td>NaN</td>\n      <td>NaN</td>\n    </tr>\n    <tr>\n      <th>4</th>\n      <td>1490431587000</td>\n      <td>0.665536</td>\n      <td>0.025955</td>\n      <td>0.010956</td>\n      <td>0.001025</td>\n      <td>0.665536</td>\n      <td>0.000000</td>\n      <td>0.665536</td>\n      <td>0.025955</td>\n      <td>0.000000</td>\n      <td>...</td>\n      <td>NaN</td>\n      <td>NaN</td>\n      <td>NaN</td>\n      <td>NaN</td>\n      <td>NaN</td>\n      <td>NaN</td>\n      <td>NaN</td>\n      <td>NaN</td>\n      <td>NaN</td>\n      <td>NaN</td>\n    </tr>\n    <tr>\n      <th>...</th>\n      <td>...</td>\n      <td>...</td>\n      <td>...</td>\n      <td>...</td>\n      <td>...</td>\n      <td>...</td>\n      <td>...</td>\n      <td>...</td>\n      <td>...</td>\n      <td>...</td>\n      <td>...</td>\n      <td>...</td>\n      <td>...</td>\n      <td>...</td>\n      <td>...</td>\n      <td>...</td>\n      <td>...</td>\n      <td>...</td>\n      <td>...</td>\n      <td>...</td>\n      <td>...</td>\n    </tr>\n    <tr>\n      <th>987383</th>\n      <td>1499268278000</td>\n      <td>0.663243</td>\n      <td>0.027238</td>\n      <td>0.009174</td>\n      <td>0.001605</td>\n      <td>0.663223</td>\n      <td>0.000012</td>\n      <td>0.663219</td>\n      <td>0.027241</td>\n      <td>0.000072</td>\n      <td>...</td>\n      <td>NaN</td>\n      <td>NaN</td>\n      <td>NaN</td>\n      <td>NaN</td>\n      <td>NaN</td>\n      <td>NaN</td>\n      <td>NaN</td>\n      <td>NaN</td>\n      <td>NaN</td>\n      <td>NaN</td>\n    </tr>\n    <tr>\n      <th>987384</th>\n      <td>1499268279000</td>\n      <td>0.663243</td>\n      <td>0.027238</td>\n      <td>0.009175</td>\n      <td>0.001605</td>\n      <td>0.663223</td>\n      <td>0.000012</td>\n      <td>0.663219</td>\n      <td>0.027241</td>\n      <td>0.000072</td>\n      <td>...</td>\n      <td>NaN</td>\n      <td>NaN</td>\n      <td>NaN</td>\n      <td>NaN</td>\n      <td>NaN</td>\n      <td>NaN</td>\n      <td>NaN</td>\n      <td>NaN</td>\n      <td>NaN</td>\n      <td>NaN</td>\n    </tr>\n    <tr>\n      <th>987385</th>\n      <td>1499268280000</td>\n      <td>0.663243</td>\n      <td>0.027238</td>\n      <td>0.009175</td>\n      <td>0.001605</td>\n      <td>0.663223</td>\n      <td>0.000012</td>\n      <td>0.663219</td>\n      <td>0.027241</td>\n      <td>0.000072</td>\n      <td>...</td>\n      <td>NaN</td>\n      <td>NaN</td>\n      <td>NaN</td>\n      <td>NaN</td>\n      <td>NaN</td>\n      <td>NaN</td>\n      <td>NaN</td>\n      <td>NaN</td>\n      <td>NaN</td>\n      <td>NaN</td>\n    </tr>\n    <tr>\n      <th>987386</th>\n      <td>1499268281000</td>\n      <td>0.663243</td>\n      <td>0.027238</td>\n      <td>0.009175</td>\n      <td>0.001605</td>\n      <td>0.663223</td>\n      <td>0.000012</td>\n      <td>0.663219</td>\n      <td>0.027241</td>\n      <td>0.000072</td>\n      <td>...</td>\n      <td>NaN</td>\n      <td>NaN</td>\n      <td>NaN</td>\n      <td>NaN</td>\n      <td>NaN</td>\n      <td>NaN</td>\n      <td>NaN</td>\n      <td>NaN</td>\n      <td>NaN</td>\n      <td>NaN</td>\n    </tr>\n    <tr>\n      <th>987387</th>\n      <td>1499268282000</td>\n      <td>0.663241</td>\n      <td>0.027239</td>\n      <td>0.009173</td>\n      <td>0.001606</td>\n      <td>0.663223</td>\n      <td>0.000012</td>\n      <td>0.663219</td>\n      <td>0.027241</td>\n      <td>0.000072</td>\n      <td>...</td>\n      <td>NaN</td>\n      <td>NaN</td>\n      <td>NaN</td>\n      <td>NaN</td>\n      <td>NaN</td>\n      <td>NaN</td>\n      <td>NaN</td>\n      <td>NaN</td>\n      <td>NaN</td>\n      <td>NaN</td>\n    </tr>\n  </tbody>\n</table>\n<p>987388 rows × 86 columns</p>\n</div>"
     },
     "metadata": {},
     "output_type": "display_data"
    }
   ],
   "source": [
    "with open('../additional_data/bus_stops.pickle', 'rb') as f:\n",
    "    bus_stops = pickle.load(f)\n",
    "\n",
    "feature_points = {\n",
    "    'London': [\n",
    "        [51.509865, -0.118092]\n",
    "    ],\n",
    "    'Brighton': [\n",
    "        [50.827778, -0.152778]\n",
    "    ],\n",
    "    'parks': [\n",
    "        # Hollingbury Golf Course\n",
    "        [50.85423803467499, -0.12791258170001926],\n",
    "        # St Ann’s Well Gardens\n",
    "        [50.829876823789675, -0.15525600010959892],\n",
    "        # Preston Park\n",
    "        [50.839694335541274, -0.1462660790420134],\n",
    "        # Waterwall conservation area\n",
    "        [50.8659, -0.1750],\n",
    "        # Withdean park\n",
    "        [50.8546, -0.1497],\n",
    "        # Stanmer park\n",
    "        [50.8678, -0.0968],\n",
    "        # Upper Lodge Wood\n",
    "        [50.8751, -0.1177],\n",
    "        # Pudding bag\n",
    "        [50.8710, -0.1161],\n",
    "        # Great Wood\n",
    "        [50.8653, -0.1036],\n",
    "        # Grubbings\n",
    "        [50.8729, -0.0971],\n",
    "        # Milbark wood\n",
    "        [50.8783, -0.0982],\n",
    "        # High park wood\n",
    "        [50.8849, -0.1078],\n",
    "        # Green broom\n",
    "        [50.8833, -0.1107],\n",
    "        # Moon's plantations\n",
    "        [50.8774, -0.0840],\n",
    "        # Friston forest\n",
    "        [50.7783, 0.1894],\n",
    "        # Malthouse wood\n",
    "        [51.0042, -0.2044],\n",
    "        # Bedgebury forest\n",
    "        [51.0694, 0.4649],\n",
    "        # Swinley forest\n",
    "        [51.3726, -0.7292],\n",
    "        # Crowthore wood\n",
    "        [51.3808, -0.7598],\n",
    "        # Queen Elizabeth Country Parh\n",
    "        [50.9651, -0.9695],\n",
    "        # Hurth wood\n",
    "        [51.1854, -0.4278],\n",
    "        # Winterfold wood\n",
    "        [51.1764, -0.4564],\n",
    "        # Queen's park\n",
    "        [50.8249, -0.1248],\n",
    "    ],\n",
    "    'bus_stops': bus_stops,\n",
    "    'shopping malls': [\n",
    "\n",
    "    ],\n",
    "    'stations': [\n",
    "\n",
    "    ]\n",
    "}\n",
    "\n",
    "def calculate_minimal_distance(data: pd.DataFrame, points):\n",
    "    from sklearn.neighbors import BallTree\n",
    "    tree = BallTree(np.array(points), leaf_size=15)\n",
    "    distances, indices = tree.query(data[['Latitude','Longitude']], k=1)\n",
    "    return distances\n",
    "    # return pairwise_distances_argmin_min(data[['Latitude','Longitude']], np.array(points))\n",
    "\n",
    "def create_point_distance_features(data: pd.DataFrame):\n",
    "    features = data[['epoch_time_id']]\n",
    "    for name, points in feature_points.items():\n",
    "        if len(points) > 0:\n",
    "            if type(points[0]) == list: \n",
    "                features[f'distance_{name}'] = calculate_minimal_distance(data, points)\n",
    "            elif type(points[0]) == dict:\n",
    "                for point in points:\n",
    "                    point_name, point_loc = list(point.keys())[0], list(point.values())[0]\n",
    "                    features[f'distance_{name}_{point_name}'] = calculate_minimal_distance(data, [point_loc])\n",
    "\n",
    "    return features\n",
    "\n",
    "settings = {\n",
    "    'fill_limit': 30,\n",
    "    'window_sizes': [60, 300, 600],\n",
    "    'window_center': True,\n",
    "    # 'window_functions': ['mean', 'std'],\n",
    "    'columns': ['distance_London', 'distance_Brighton', 'distance_parks'],\n",
    "    'functions': ['mean', 'std', 'median'],\n",
    "}\n",
    "shift_settings = {\n",
    "    'periods': [60, 300, 600],\n",
    "    'columns_patterns': ['window_'],\n",
    "    'fill_limit': 30,\n",
    "}\n",
    "train_distances_to_points_with_windows = fillna_agg_by_label(calculate_shift(calculate_window(create_point_distance_features(train_location), **settings), **shift_settings), train_label)\n",
    "display(train_distances_to_points_with_windows)\n",
    "\n",
    "train_distances_to_points_with_windows.to_parquet('../data/train/features_distances.parquet')\n",
    "fillna_agg_by_label(calculate_shift(calculate_window(create_point_distance_features(test_location), **settings), **shift_settings), test_label).to_parquet('../data/test/features_distances.parquet')\n",
    "fillna_agg_by_label(calculate_shift(calculate_window(create_point_distance_features(validate_location), **settings), **shift_settings), validate_label).to_parquet('../data/validate/features_distances.parquet')"
   ]
  },
  {
   "cell_type": "code",
   "execution_count": 5,
   "outputs": [
    {
     "data": {
      "text/plain": "           epoch_time  label  epoch_time_id  distance_London  \\\n0       1490431583000      4  1490431583000         0.665536   \n1       1490431584000      4  1490431584000         0.665536   \n2       1490431585000      4  1490431585000         0.665536   \n3       1490431586000      4  1490431586000         0.665536   \n4       1490431587000      4  1490431587000         0.665536   \n...               ...    ...            ...              ...   \n738780  1499267848000      5  1499267848000         0.664882   \n738781  1499267849000      5  1499267849000         0.664818   \n738782  1499267850000      5  1499267850000         0.664751   \n738783  1499267851000      5  1499267851000         0.664687   \n738784  1499267852000      5  1499267852000         0.664617   \n\n        distance_Brighton  distance_parks  distance_bus_stops  \\\n0                0.025955        0.010956            0.001025   \n1                0.025955        0.010956            0.001025   \n2                0.025955        0.010956            0.001025   \n3                0.025955        0.010956            0.001025   \n4                0.025955        0.010956            0.001025   \n...                   ...             ...                 ...   \n738780           0.026065        0.010585            0.001078   \n738781           0.026094        0.010540            0.001078   \n738782           0.026121        0.010495            0.001086   \n738783           0.026146        0.010453            0.001099   \n738784           0.026174        0.010407            0.001120   \n\n        distance_London_window_60_mean  distance_London_window_60_std  \\\n0                             0.665536                       0.000000   \n1                             0.665536                       0.000000   \n2                             0.665536                       0.000000   \n3                             0.665536                       0.000000   \n4                             0.665536                       0.000000   \n...                                ...                            ...   \n738780                        0.664906                       0.001210   \n738781                        0.664847                       0.001201   \n738782                        0.664788                       0.001188   \n738783                        0.664729                       0.001173   \n738784                        0.664671                       0.001156   \n\n        distance_London_window_60_median  ...  \\\n0                               0.665536  ...   \n1                               0.665536  ...   \n2                               0.665536  ...   \n3                               0.665536  ...   \n4                               0.665536  ...   \n...                                  ...  ...   \n738780                          0.664913  ...   \n738781                          0.664850  ...   \n738782                          0.664785  ...   \n738783                          0.664719  ...   \n738784                          0.664652  ...   \n\n        distance_parks_window_300_median_shift_60_future  \\\n0                                                    NaN   \n1                                                    NaN   \n2                                                    NaN   \n3                                                    NaN   \n4                                                    NaN   \n...                                                  ...   \n738780                                          0.009372   \n738781                                          0.009372   \n738782                                          0.009372   \n738783                                          0.009372   \n738784                                          0.009372   \n\n        distance_London_window_600_mean_shift_60_future  \\\n0                                                   NaN   \n1                                                   NaN   \n2                                                   NaN   \n3                                                   NaN   \n4                                                   NaN   \n...                                                 ...   \n738780                                         0.665902   \n738781                                         0.665880   \n738782                                         0.665858   \n738783                                         0.665836   \n738784                                         0.665815   \n\n        distance_London_window_600_std_shift_60_future  \\\n0                                                  NaN   \n1                                                  NaN   \n2                                                  NaN   \n3                                                  NaN   \n4                                                  NaN   \n...                                                ...   \n738780                                        0.003862   \n738781                                        0.003839   \n738782                                        0.003817   \n738783                                        0.003794   \n738784                                        0.003772   \n\n        distance_London_window_600_median_shift_60_future  \\\n0                                                     NaN   \n1                                                     NaN   \n2                                                     NaN   \n3                                                     NaN   \n4                                                     NaN   \n...                                                   ...   \n738780                                           0.663269   \n738781                                           0.663269   \n738782                                           0.663269   \n738783                                           0.663269   \n738784                                           0.663269   \n\n        distance_Brighton_window_600_mean_shift_60_future  \\\n0                                                     NaN   \n1                                                     NaN   \n2                                                     NaN   \n3                                                     NaN   \n4                                                     NaN   \n...                                                   ...   \n738780                                           0.024118   \n738781                                           0.024139   \n738782                                           0.024159   \n738783                                           0.024180   \n738784                                           0.024202   \n\n        distance_Brighton_window_600_std_shift_60_future  \\\n0                                                    NaN   \n1                                                    NaN   \n2                                                    NaN   \n3                                                    NaN   \n4                                                    NaN   \n...                                                  ...   \n738780                                          0.004610   \n738781                                          0.004595   \n738782                                          0.004580   \n738783                                          0.004564   \n738784                                          0.004548   \n\n        distance_Brighton_window_600_median_shift_60_future  \\\n0                                                     NaN     \n1                                                     NaN     \n2                                                     NaN     \n3                                                     NaN     \n4                                                     NaN     \n...                                                   ...     \n738780                                            0.02697     \n738781                                            0.02697     \n738782                                            0.02697     \n738783                                            0.02697     \n738784                                            0.02697     \n\n        distance_parks_window_600_mean_shift_60_future  \\\n0                                                  NaN   \n1                                                  NaN   \n2                                                  NaN   \n3                                                  NaN   \n4                                                  NaN   \n...                                                ...   \n738780                                        0.009280   \n738781                                        0.009280   \n738782                                        0.009281   \n738783                                        0.009282   \n738784                                        0.009283   \n\n        distance_parks_window_600_std_shift_60_future  \\\n0                                                 NaN   \n1                                                 NaN   \n2                                                 NaN   \n3                                                 NaN   \n4                                                 NaN   \n...                                               ...   \n738780                                       0.001754   \n738781                                       0.001754   \n738782                                       0.001754   \n738783                                       0.001753   \n738784                                       0.001753   \n\n        distance_parks_window_600_median_shift_60_future  \n0                                                    NaN  \n1                                                    NaN  \n2                                                    NaN  \n3                                                    NaN  \n4                                                    NaN  \n...                                                  ...  \n738780                                          0.009343  \n738781                                          0.009343  \n738782                                          0.009343  \n738783                                          0.009343  \n738784                                          0.009343  \n\n[738785 rows x 88 columns]",
      "text/html": "<div>\n<style scoped>\n    .dataframe tbody tr th:only-of-type {\n        vertical-align: middle;\n    }\n\n    .dataframe tbody tr th {\n        vertical-align: top;\n    }\n\n    .dataframe thead th {\n        text-align: right;\n    }\n</style>\n<table border=\"1\" class=\"dataframe\">\n  <thead>\n    <tr style=\"text-align: right;\">\n      <th></th>\n      <th>epoch_time</th>\n      <th>label</th>\n      <th>epoch_time_id</th>\n      <th>distance_London</th>\n      <th>distance_Brighton</th>\n      <th>distance_parks</th>\n      <th>distance_bus_stops</th>\n      <th>distance_London_window_60_mean</th>\n      <th>distance_London_window_60_std</th>\n      <th>distance_London_window_60_median</th>\n      <th>...</th>\n      <th>distance_parks_window_300_median_shift_60_future</th>\n      <th>distance_London_window_600_mean_shift_60_future</th>\n      <th>distance_London_window_600_std_shift_60_future</th>\n      <th>distance_London_window_600_median_shift_60_future</th>\n      <th>distance_Brighton_window_600_mean_shift_60_future</th>\n      <th>distance_Brighton_window_600_std_shift_60_future</th>\n      <th>distance_Brighton_window_600_median_shift_60_future</th>\n      <th>distance_parks_window_600_mean_shift_60_future</th>\n      <th>distance_parks_window_600_std_shift_60_future</th>\n      <th>distance_parks_window_600_median_shift_60_future</th>\n    </tr>\n  </thead>\n  <tbody>\n    <tr>\n      <th>0</th>\n      <td>1490431583000</td>\n      <td>4</td>\n      <td>1490431583000</td>\n      <td>0.665536</td>\n      <td>0.025955</td>\n      <td>0.010956</td>\n      <td>0.001025</td>\n      <td>0.665536</td>\n      <td>0.000000</td>\n      <td>0.665536</td>\n      <td>...</td>\n      <td>NaN</td>\n      <td>NaN</td>\n      <td>NaN</td>\n      <td>NaN</td>\n      <td>NaN</td>\n      <td>NaN</td>\n      <td>NaN</td>\n      <td>NaN</td>\n      <td>NaN</td>\n      <td>NaN</td>\n    </tr>\n    <tr>\n      <th>1</th>\n      <td>1490431584000</td>\n      <td>4</td>\n      <td>1490431584000</td>\n      <td>0.665536</td>\n      <td>0.025955</td>\n      <td>0.010956</td>\n      <td>0.001025</td>\n      <td>0.665536</td>\n      <td>0.000000</td>\n      <td>0.665536</td>\n      <td>...</td>\n      <td>NaN</td>\n      <td>NaN</td>\n      <td>NaN</td>\n      <td>NaN</td>\n      <td>NaN</td>\n      <td>NaN</td>\n      <td>NaN</td>\n      <td>NaN</td>\n      <td>NaN</td>\n      <td>NaN</td>\n    </tr>\n    <tr>\n      <th>2</th>\n      <td>1490431585000</td>\n      <td>4</td>\n      <td>1490431585000</td>\n      <td>0.665536</td>\n      <td>0.025955</td>\n      <td>0.010956</td>\n      <td>0.001025</td>\n      <td>0.665536</td>\n      <td>0.000000</td>\n      <td>0.665536</td>\n      <td>...</td>\n      <td>NaN</td>\n      <td>NaN</td>\n      <td>NaN</td>\n      <td>NaN</td>\n      <td>NaN</td>\n      <td>NaN</td>\n      <td>NaN</td>\n      <td>NaN</td>\n      <td>NaN</td>\n      <td>NaN</td>\n    </tr>\n    <tr>\n      <th>3</th>\n      <td>1490431586000</td>\n      <td>4</td>\n      <td>1490431586000</td>\n      <td>0.665536</td>\n      <td>0.025955</td>\n      <td>0.010956</td>\n      <td>0.001025</td>\n      <td>0.665536</td>\n      <td>0.000000</td>\n      <td>0.665536</td>\n      <td>...</td>\n      <td>NaN</td>\n      <td>NaN</td>\n      <td>NaN</td>\n      <td>NaN</td>\n      <td>NaN</td>\n      <td>NaN</td>\n      <td>NaN</td>\n      <td>NaN</td>\n      <td>NaN</td>\n      <td>NaN</td>\n    </tr>\n    <tr>\n      <th>4</th>\n      <td>1490431587000</td>\n      <td>4</td>\n      <td>1490431587000</td>\n      <td>0.665536</td>\n      <td>0.025955</td>\n      <td>0.010956</td>\n      <td>0.001025</td>\n      <td>0.665536</td>\n      <td>0.000000</td>\n      <td>0.665536</td>\n      <td>...</td>\n      <td>NaN</td>\n      <td>NaN</td>\n      <td>NaN</td>\n      <td>NaN</td>\n      <td>NaN</td>\n      <td>NaN</td>\n      <td>NaN</td>\n      <td>NaN</td>\n      <td>NaN</td>\n      <td>NaN</td>\n    </tr>\n    <tr>\n      <th>...</th>\n      <td>...</td>\n      <td>...</td>\n      <td>...</td>\n      <td>...</td>\n      <td>...</td>\n      <td>...</td>\n      <td>...</td>\n      <td>...</td>\n      <td>...</td>\n      <td>...</td>\n      <td>...</td>\n      <td>...</td>\n      <td>...</td>\n      <td>...</td>\n      <td>...</td>\n      <td>...</td>\n      <td>...</td>\n      <td>...</td>\n      <td>...</td>\n      <td>...</td>\n      <td>...</td>\n    </tr>\n    <tr>\n      <th>738780</th>\n      <td>1499267848000</td>\n      <td>5</td>\n      <td>1499267848000</td>\n      <td>0.664882</td>\n      <td>0.026065</td>\n      <td>0.010585</td>\n      <td>0.001078</td>\n      <td>0.664906</td>\n      <td>0.001210</td>\n      <td>0.664913</td>\n      <td>...</td>\n      <td>0.009372</td>\n      <td>0.665902</td>\n      <td>0.003862</td>\n      <td>0.663269</td>\n      <td>0.024118</td>\n      <td>0.004610</td>\n      <td>0.02697</td>\n      <td>0.009280</td>\n      <td>0.001754</td>\n      <td>0.009343</td>\n    </tr>\n    <tr>\n      <th>738781</th>\n      <td>1499267849000</td>\n      <td>5</td>\n      <td>1499267849000</td>\n      <td>0.664818</td>\n      <td>0.026094</td>\n      <td>0.010540</td>\n      <td>0.001078</td>\n      <td>0.664847</td>\n      <td>0.001201</td>\n      <td>0.664850</td>\n      <td>...</td>\n      <td>0.009372</td>\n      <td>0.665880</td>\n      <td>0.003839</td>\n      <td>0.663269</td>\n      <td>0.024139</td>\n      <td>0.004595</td>\n      <td>0.02697</td>\n      <td>0.009280</td>\n      <td>0.001754</td>\n      <td>0.009343</td>\n    </tr>\n    <tr>\n      <th>738782</th>\n      <td>1499267850000</td>\n      <td>5</td>\n      <td>1499267850000</td>\n      <td>0.664751</td>\n      <td>0.026121</td>\n      <td>0.010495</td>\n      <td>0.001086</td>\n      <td>0.664788</td>\n      <td>0.001188</td>\n      <td>0.664785</td>\n      <td>...</td>\n      <td>0.009372</td>\n      <td>0.665858</td>\n      <td>0.003817</td>\n      <td>0.663269</td>\n      <td>0.024159</td>\n      <td>0.004580</td>\n      <td>0.02697</td>\n      <td>0.009281</td>\n      <td>0.001754</td>\n      <td>0.009343</td>\n    </tr>\n    <tr>\n      <th>738783</th>\n      <td>1499267851000</td>\n      <td>5</td>\n      <td>1499267851000</td>\n      <td>0.664687</td>\n      <td>0.026146</td>\n      <td>0.010453</td>\n      <td>0.001099</td>\n      <td>0.664729</td>\n      <td>0.001173</td>\n      <td>0.664719</td>\n      <td>...</td>\n      <td>0.009372</td>\n      <td>0.665836</td>\n      <td>0.003794</td>\n      <td>0.663269</td>\n      <td>0.024180</td>\n      <td>0.004564</td>\n      <td>0.02697</td>\n      <td>0.009282</td>\n      <td>0.001753</td>\n      <td>0.009343</td>\n    </tr>\n    <tr>\n      <th>738784</th>\n      <td>1499267852000</td>\n      <td>5</td>\n      <td>1499267852000</td>\n      <td>0.664617</td>\n      <td>0.026174</td>\n      <td>0.010407</td>\n      <td>0.001120</td>\n      <td>0.664671</td>\n      <td>0.001156</td>\n      <td>0.664652</td>\n      <td>...</td>\n      <td>0.009372</td>\n      <td>0.665815</td>\n      <td>0.003772</td>\n      <td>0.663269</td>\n      <td>0.024202</td>\n      <td>0.004548</td>\n      <td>0.02697</td>\n      <td>0.009283</td>\n      <td>0.001753</td>\n      <td>0.009343</td>\n    </tr>\n  </tbody>\n</table>\n<p>738785 rows × 88 columns</p>\n</div>"
     },
     "execution_count": 5,
     "metadata": {},
     "output_type": "execute_result"
    }
   ],
   "source": [
    "train_distances_to_points_with_windows_with_label = train_label.merge(train_distances_to_points_with_windows, on='epoch_time_id')\n",
    "train_distances_to_points_with_windows_with_label"
   ],
   "metadata": {
    "collapsed": false,
    "pycharm": {
     "name": "#%%\n"
    }
   }
  },
  {
   "cell_type": "code",
   "execution_count": 6,
   "outputs": [
    {
     "data": {
      "text/plain": "                                             geometry\n0   LINESTRING (-0.14132 50.82902, -0.14151 50.830...\n1   LINESTRING (-0.93849 50.85162, -0.93633 50.851...\n2   LINESTRING (-0.14087 50.82901, -0.14089 50.829...\n3   LINESTRING (0.27687 50.80288, 0.27665 50.80432...\n4   LINESTRING (-0.14108 50.82902, -0.14104 50.829...\n5   LINESTRING (-0.16576 51.23988, -0.16623 51.239...\n6   LINESTRING (-0.17003 51.23156, -0.16928 51.233...\n7   LINESTRING (-0.16563 51.23996, -0.15608 51.255...\n8   LINESTRING (-0.08851 51.38370, -0.08783 51.384...\n9   LINESTRING (-0.07169 51.40712, -0.07087 51.406...\n10  LINESTRING (-0.08866 51.38366, -0.08802 51.384...\n11  LINESTRING (-0.15881 51.46964, -0.15722 51.470...\n12  LINESTRING (-0.07107 51.40356, -0.06774 51.409...\n13  LINESTRING (-0.04929 51.48633, -0.05047 51.487...\n14  LINESTRING (-0.07785 51.51141, -0.07461 51.510...\n15  LINESTRING (-0.00416 51.54174, -0.00543 51.541...",
      "text/html": "<div>\n<style scoped>\n    .dataframe tbody tr th:only-of-type {\n        vertical-align: middle;\n    }\n\n    .dataframe tbody tr th {\n        vertical-align: top;\n    }\n\n    .dataframe thead th {\n        text-align: right;\n    }\n</style>\n<table border=\"1\" class=\"dataframe\">\n  <thead>\n    <tr style=\"text-align: right;\">\n      <th></th>\n      <th>geometry</th>\n    </tr>\n  </thead>\n  <tbody>\n    <tr>\n      <th>0</th>\n      <td>LINESTRING (-0.14132 50.82902, -0.14151 50.830...</td>\n    </tr>\n    <tr>\n      <th>1</th>\n      <td>LINESTRING (-0.93849 50.85162, -0.93633 50.851...</td>\n    </tr>\n    <tr>\n      <th>2</th>\n      <td>LINESTRING (-0.14087 50.82901, -0.14089 50.829...</td>\n    </tr>\n    <tr>\n      <th>3</th>\n      <td>LINESTRING (0.27687 50.80288, 0.27665 50.80432...</td>\n    </tr>\n    <tr>\n      <th>4</th>\n      <td>LINESTRING (-0.14108 50.82902, -0.14104 50.829...</td>\n    </tr>\n    <tr>\n      <th>5</th>\n      <td>LINESTRING (-0.16576 51.23988, -0.16623 51.239...</td>\n    </tr>\n    <tr>\n      <th>6</th>\n      <td>LINESTRING (-0.17003 51.23156, -0.16928 51.233...</td>\n    </tr>\n    <tr>\n      <th>7</th>\n      <td>LINESTRING (-0.16563 51.23996, -0.15608 51.255...</td>\n    </tr>\n    <tr>\n      <th>8</th>\n      <td>LINESTRING (-0.08851 51.38370, -0.08783 51.384...</td>\n    </tr>\n    <tr>\n      <th>9</th>\n      <td>LINESTRING (-0.07169 51.40712, -0.07087 51.406...</td>\n    </tr>\n    <tr>\n      <th>10</th>\n      <td>LINESTRING (-0.08866 51.38366, -0.08802 51.384...</td>\n    </tr>\n    <tr>\n      <th>11</th>\n      <td>LINESTRING (-0.15881 51.46964, -0.15722 51.470...</td>\n    </tr>\n    <tr>\n      <th>12</th>\n      <td>LINESTRING (-0.07107 51.40356, -0.06774 51.409...</td>\n    </tr>\n    <tr>\n      <th>13</th>\n      <td>LINESTRING (-0.04929 51.48633, -0.05047 51.487...</td>\n    </tr>\n    <tr>\n      <th>14</th>\n      <td>LINESTRING (-0.07785 51.51141, -0.07461 51.510...</td>\n    </tr>\n    <tr>\n      <th>15</th>\n      <td>LINESTRING (-0.00416 51.54174, -0.00543 51.541...</td>\n    </tr>\n  </tbody>\n</table>\n</div>"
     },
     "metadata": {},
     "output_type": "display_data"
    }
   ],
   "source": [
    "railways = gpd.read_file('../additional_data/railways.json')\n",
    "display(railways)"
   ],
   "metadata": {
    "collapsed": false,
    "pycharm": {
     "name": "#%%\n"
    }
   }
  },
  {
   "cell_type": "code",
   "execution_count": 7,
   "outputs": [
    {
     "data": {
      "text/plain": "                                             geometry\n0   LINESTRING (0.07963 51.54034, 0.07729 51.54146...\n1   LINESTRING (0.01027 51.51106, 0.00955 51.51240...\n2   LINESTRING (-0.18799 51.57114, -0.19263 51.572...\n3   LINESTRING (-0.23859 51.58982, -0.24056 51.590...\n4   LINESTRING (-0.30260 51.61922, -0.30124 51.617...\n5   LINESTRING (-0.37130 51.57519, -0.36957 51.574...\n6   LINESTRING (-0.37130 51.57515, -0.36744 51.574...\n7   LINESTRING (-0.22702 51.49365, -0.22505 51.493...\n8   LINESTRING (-0.19207 51.48249, -0.19288 51.481...\n9   LINESTRING (0.09334 51.60333, 0.09079 51.59488...\n10  LINESTRING (0.01225 51.57156, 0.00985 51.56995...\n11  LINESTRING (-0.00062 51.54358, -0.00171 51.542...\n12  LINESTRING (-0.30127 51.51495, -0.29676 51.515...\n13  LINESTRING (-0.30154 51.51523, -0.29650 51.515...\n14  LINESTRING (-0.47823 51.54639, -0.47593 51.547...\n15  LINESTRING (-0.30109 51.46313, -0.29822 51.463...\n16  LINESTRING (-0.38446 51.47383, -0.38287 51.474...\n17  LINESTRING (-0.32171 51.49750, -0.32019 51.498...\n18  LINESTRING (-0.36950 51.54847, -0.35525 51.544...\n19  LINESTRING (-0.33489 51.59222, -0.33073 51.590...\n20  LINESTRING (-0.22493 51.49352, -0.22534 51.495...\n21  LINESTRING (-0.13128 51.64732, -0.12952 51.646...\n22  LINESTRING (0.05538 51.64131, 0.05420 51.64043...\n23  LINESTRING (0.04077 51.61576, 0.04120 51.61616...\n24  LINESTRING (0.25163 51.55904, 0.24434 51.55920...\n25  LINESTRING (-0.00739 51.55201, -0.00698 51.551...\n26  LINESTRING (-0.00408 51.54113, -0.00538 51.540...",
      "text/html": "<div>\n<style scoped>\n    .dataframe tbody tr th:only-of-type {\n        vertical-align: middle;\n    }\n\n    .dataframe tbody tr th {\n        vertical-align: top;\n    }\n\n    .dataframe thead th {\n        text-align: right;\n    }\n</style>\n<table border=\"1\" class=\"dataframe\">\n  <thead>\n    <tr style=\"text-align: right;\">\n      <th></th>\n      <th>geometry</th>\n    </tr>\n  </thead>\n  <tbody>\n    <tr>\n      <th>0</th>\n      <td>LINESTRING (0.07963 51.54034, 0.07729 51.54146...</td>\n    </tr>\n    <tr>\n      <th>1</th>\n      <td>LINESTRING (0.01027 51.51106, 0.00955 51.51240...</td>\n    </tr>\n    <tr>\n      <th>2</th>\n      <td>LINESTRING (-0.18799 51.57114, -0.19263 51.572...</td>\n    </tr>\n    <tr>\n      <th>3</th>\n      <td>LINESTRING (-0.23859 51.58982, -0.24056 51.590...</td>\n    </tr>\n    <tr>\n      <th>4</th>\n      <td>LINESTRING (-0.30260 51.61922, -0.30124 51.617...</td>\n    </tr>\n    <tr>\n      <th>5</th>\n      <td>LINESTRING (-0.37130 51.57519, -0.36957 51.574...</td>\n    </tr>\n    <tr>\n      <th>6</th>\n      <td>LINESTRING (-0.37130 51.57515, -0.36744 51.574...</td>\n    </tr>\n    <tr>\n      <th>7</th>\n      <td>LINESTRING (-0.22702 51.49365, -0.22505 51.493...</td>\n    </tr>\n    <tr>\n      <th>8</th>\n      <td>LINESTRING (-0.19207 51.48249, -0.19288 51.481...</td>\n    </tr>\n    <tr>\n      <th>9</th>\n      <td>LINESTRING (0.09334 51.60333, 0.09079 51.59488...</td>\n    </tr>\n    <tr>\n      <th>10</th>\n      <td>LINESTRING (0.01225 51.57156, 0.00985 51.56995...</td>\n    </tr>\n    <tr>\n      <th>11</th>\n      <td>LINESTRING (-0.00062 51.54358, -0.00171 51.542...</td>\n    </tr>\n    <tr>\n      <th>12</th>\n      <td>LINESTRING (-0.30127 51.51495, -0.29676 51.515...</td>\n    </tr>\n    <tr>\n      <th>13</th>\n      <td>LINESTRING (-0.30154 51.51523, -0.29650 51.515...</td>\n    </tr>\n    <tr>\n      <th>14</th>\n      <td>LINESTRING (-0.47823 51.54639, -0.47593 51.547...</td>\n    </tr>\n    <tr>\n      <th>15</th>\n      <td>LINESTRING (-0.30109 51.46313, -0.29822 51.463...</td>\n    </tr>\n    <tr>\n      <th>16</th>\n      <td>LINESTRING (-0.38446 51.47383, -0.38287 51.474...</td>\n    </tr>\n    <tr>\n      <th>17</th>\n      <td>LINESTRING (-0.32171 51.49750, -0.32019 51.498...</td>\n    </tr>\n    <tr>\n      <th>18</th>\n      <td>LINESTRING (-0.36950 51.54847, -0.35525 51.544...</td>\n    </tr>\n    <tr>\n      <th>19</th>\n      <td>LINESTRING (-0.33489 51.59222, -0.33073 51.590...</td>\n    </tr>\n    <tr>\n      <th>20</th>\n      <td>LINESTRING (-0.22493 51.49352, -0.22534 51.495...</td>\n    </tr>\n    <tr>\n      <th>21</th>\n      <td>LINESTRING (-0.13128 51.64732, -0.12952 51.646...</td>\n    </tr>\n    <tr>\n      <th>22</th>\n      <td>LINESTRING (0.05538 51.64131, 0.05420 51.64043...</td>\n    </tr>\n    <tr>\n      <th>23</th>\n      <td>LINESTRING (0.04077 51.61576, 0.04120 51.61616...</td>\n    </tr>\n    <tr>\n      <th>24</th>\n      <td>LINESTRING (0.25163 51.55904, 0.24434 51.55920...</td>\n    </tr>\n    <tr>\n      <th>25</th>\n      <td>LINESTRING (-0.00739 51.55201, -0.00698 51.551...</td>\n    </tr>\n    <tr>\n      <th>26</th>\n      <td>LINESTRING (-0.00408 51.54113, -0.00538 51.540...</td>\n    </tr>\n  </tbody>\n</table>\n</div>"
     },
     "metadata": {},
     "output_type": "display_data"
    }
   ],
   "source": [
    "subway = gpd.read_file('../additional_data/subway.json')\n",
    "display(subway)"
   ],
   "metadata": {
    "collapsed": false,
    "pycharm": {
     "name": "#%%\n"
    }
   }
  },
  {
   "cell_type": "code",
   "execution_count": 8,
   "outputs": [],
   "source": [
    "feature_lines = {\n",
    "    'subway': gpd.read_file('../additional_data/subway.json'),\n",
    "    'railways': gpd.read_file('../additional_data/railways.json'),\n",
    "    'bus_routes': gpd.read_file('../additional_data/bus_routes.json'),\n",
    "}\n",
    "\n",
    "def calculate_min_distance_to_lines(point: Point, lines: gpd.GeoDataFrame):\n",
    "    return min(map(point.distance, lines.loc[:, 'geometry']))\n",
    "\n",
    "def create_distance_to_lines_features(data: pd.DataFrame):\n",
    "    features = {\n",
    "        'epoch_time_id': data['epoch_time_id'],\n",
    "    }\n",
    "    for name, lines in feature_lines.items():\n",
    "        distances = []\n",
    "        for _, row in tqdm(data.iterrows(), total=data.shape[0]):\n",
    "            distances.append(calculate_min_distance_to_lines(Point(row['Longitude'], row['Latitude']), lines))\n",
    "        features[f'distance_{name}'] = distances\n",
    "\n",
    "    return pd.DataFrame(features)"
   ],
   "metadata": {
    "collapsed": false,
    "pycharm": {
     "name": "#%%\n"
    }
   }
  },
  {
   "cell_type": "code",
   "execution_count": null,
   "outputs": [
    {
     "name": "stderr",
     "output_type": "stream",
     "text": [
      " 82%|████████▏ | 806320/987388 [13:54<05:04, 593.82it/s] "
     ]
    }
   ],
   "source": [
    "settings = {\n",
    "    'fill_limit': 30,\n",
    "    'window_sizes': [60, 300, 600],\n",
    "    'window_center': True,\n",
    "    # 'window_functions': ['mean', 'std'],\n",
    "    'columns': ['distance_subway', 'distance_railways'],\n",
    "    'functions': ['mean', 'std', 'median'],\n",
    "}\n",
    "shift_settings = {\n",
    "    'periods': [60, 300, 600],\n",
    "    'columns_patterns': ['window_'],\n",
    "    'fill_limit': 30,\n",
    "}\n",
    "train_distances_to_lines_with_windows = fillna_agg_by_label(calculate_shift(calculate_window(create_distance_to_lines_features(train_location), **settings), **shift_settings), train_label)\n",
    "display(train_distances_to_lines_with_windows)\n",
    "\n",
    "train_distances_to_lines_with_windows.to_parquet('../data/train/features_distances_to_lines_with_windows.parquet')\n",
    "fillna_agg_by_label(calculate_shift(calculate_window(create_distance_to_lines_features(test_location), **settings), **shift_settings), test_label).to_parquet('../data/test/features_distances_to_lines_with_windows.parquet')\n",
    "fillna_agg_by_label(calculate_shift(calculate_window(create_distance_to_lines_features(validate_location), **settings), **shift_settings), validate_label).to_parquet('../data/validate/dfeatures_istances_to_lines_with_windows.parquet')\n"
   ],
   "metadata": {
    "collapsed": false,
    "pycharm": {
     "name": "#%%\n",
     "is_executing": true
    }
   }
  },
  {
   "cell_type": "code",
   "execution_count": null,
   "outputs": [],
   "source": [
    "train_label.merge(train_distances_to_lines_with_windows, on=\"epoch_time_id\")"
   ],
   "metadata": {
    "collapsed": false,
    "pycharm": {
     "name": "#%%\n",
     "is_executing": true
    }
   }
  },
  {
   "cell_type": "code",
   "execution_count": null,
   "outputs": [],
   "source": [],
   "metadata": {
    "collapsed": false,
    "pycharm": {
     "name": "#%%\n"
    }
   }
  }
 ],
 "metadata": {
  "kernelspec": {
   "display_name": "Python 3",
   "language": "python",
   "name": "python3"
  },
  "language_info": {
   "codemirror_mode": {
    "name": "ipython",
    "version": 3
   },
   "file_extension": ".py",
   "mimetype": "text/x-python",
   "name": "python",
   "nbconvert_exporter": "python",
   "pygments_lexer": "ipython3",
   "version": "3.8.0"
  }
 },
 "nbformat": 4,
 "nbformat_minor": 4
}