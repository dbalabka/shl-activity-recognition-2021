{
 "cells": [
  {
   "cell_type": "code",
   "execution_count": 1,
   "metadata": {
    "collapsed": true
   },
   "outputs": [],
   "source": [
    "import numpy as np\n",
    "import pandas as pd\n",
    "import os\n",
    "\n",
    "os.chdir('../')"
   ]
  },
  {
   "cell_type": "code",
   "execution_count": 18,
   "outputs": [
    {
     "data": {
      "text/plain": "        Epoch time [ms]         Ignore1       Ignore2 Unknown  \\\n0         1497426495755     94062335923   25013238017      11   \n1         1497426495755     94062335923   25013238017      11   \n2         1497426495755     94062335923   25013238017      11   \n3         1497426495755     94062335923   25013238017      11   \n4         1497426495755     94062335923   25013238017      11   \n...                 ...             ...           ...     ...   \n1486473   1499462768865  39302909359643  225472967673       8   \n1486474   1499462768865  39302909359643  225472967673       8   \n1486475   1499462768865  39302909359643  225472967673       8   \n1486476   1499462768865  39302909359643  225472967673       8   \n1486477   1499462768865  39302909359643  225472967673       8   \n\n                     BSSID                SSID RSSI Frequency [MHz]  \\\n0        70:50:af:2d:ed:d9            SKY484B1  -36            2462   \n1        74:44:01:f9:12:4c  virginmedia7072875  -66            2437   \n2        22:03:d8:03:39:62            BTWifi-X  -66            2462   \n3        1c:a5:32:a2:fd:1b      EXT2-VM7640780  -72            2437   \n4        00:03:d8:03:39:62         BTHub3-PHSH  -65            2462   \n...                    ...                 ...  ...             ...   \n1486473  92:4d:4a:2a:f5:7c            BTWifi-X  -82            2462   \n1486474  64:0f:29:0d:f7:b1       Albion Dental  -70            2432   \n1486475  92:4d:4a:2a:f5:7f     BTWifi-with-FON  -82            2462   \n1486476  64:0f:29:0d:f7:b4          BTOpenzone  -70            2432   \n1486477  88:ce:fa:86:f5:04     TALKTALK-86F4FC  -88            2412   \n\n                                              Capabilities  \n0                                [WPA2-PSK-CCMP][WPS][ESS]  \n1        [WPA-PSK-CCMP+TKIP][WPA2-PSK-CCMP+TKIP][WPS][ESS]  \n2        [WPA-EAP-CCMP+TKIP][WPA2-EAP-CCMP+TKIP-preauth...  \n3                                     [WPA2-PSK-CCMP][ESS]  \n4        [WPA-PSK-CCMP+TKIP][WPA2-PSK-CCMP+TKIP][WPS][ESS]  \n...                                                    ...  \n1486473                       [WPA2-EAP-CCMP-preauth][ESS]  \n1486474                               [WPA2-PSK-CCMP][ESS]  \n1486475                                              [ESS]  \n1486476                                              [ESS]  \n1486477  [WPA-PSK-CCMP+TKIP][WPA2-PSK-CCMP+TKIP][WPS][E...  \n\n[1486478 rows x 9 columns]",
      "text/html": "<div>\n<style scoped>\n    .dataframe tbody tr th:only-of-type {\n        vertical-align: middle;\n    }\n\n    .dataframe tbody tr th {\n        vertical-align: top;\n    }\n\n    .dataframe thead th {\n        text-align: right;\n    }\n</style>\n<table border=\"1\" class=\"dataframe\">\n  <thead>\n    <tr style=\"text-align: right;\">\n      <th></th>\n      <th>Epoch time [ms]</th>\n      <th>Ignore1</th>\n      <th>Ignore2</th>\n      <th>Unknown</th>\n      <th>BSSID</th>\n      <th>SSID</th>\n      <th>RSSI</th>\n      <th>Frequency [MHz]</th>\n      <th>Capabilities</th>\n    </tr>\n  </thead>\n  <tbody>\n    <tr>\n      <th>0</th>\n      <td>1497426495755</td>\n      <td>94062335923</td>\n      <td>25013238017</td>\n      <td>11</td>\n      <td>70:50:af:2d:ed:d9</td>\n      <td>SKY484B1</td>\n      <td>-36</td>\n      <td>2462</td>\n      <td>[WPA2-PSK-CCMP][WPS][ESS]</td>\n    </tr>\n    <tr>\n      <th>1</th>\n      <td>1497426495755</td>\n      <td>94062335923</td>\n      <td>25013238017</td>\n      <td>11</td>\n      <td>74:44:01:f9:12:4c</td>\n      <td>virginmedia7072875</td>\n      <td>-66</td>\n      <td>2437</td>\n      <td>[WPA-PSK-CCMP+TKIP][WPA2-PSK-CCMP+TKIP][WPS][ESS]</td>\n    </tr>\n    <tr>\n      <th>2</th>\n      <td>1497426495755</td>\n      <td>94062335923</td>\n      <td>25013238017</td>\n      <td>11</td>\n      <td>22:03:d8:03:39:62</td>\n      <td>BTWifi-X</td>\n      <td>-66</td>\n      <td>2462</td>\n      <td>[WPA-EAP-CCMP+TKIP][WPA2-EAP-CCMP+TKIP-preauth...</td>\n    </tr>\n    <tr>\n      <th>3</th>\n      <td>1497426495755</td>\n      <td>94062335923</td>\n      <td>25013238017</td>\n      <td>11</td>\n      <td>1c:a5:32:a2:fd:1b</td>\n      <td>EXT2-VM7640780</td>\n      <td>-72</td>\n      <td>2437</td>\n      <td>[WPA2-PSK-CCMP][ESS]</td>\n    </tr>\n    <tr>\n      <th>4</th>\n      <td>1497426495755</td>\n      <td>94062335923</td>\n      <td>25013238017</td>\n      <td>11</td>\n      <td>00:03:d8:03:39:62</td>\n      <td>BTHub3-PHSH</td>\n      <td>-65</td>\n      <td>2462</td>\n      <td>[WPA-PSK-CCMP+TKIP][WPA2-PSK-CCMP+TKIP][WPS][ESS]</td>\n    </tr>\n    <tr>\n      <th>...</th>\n      <td>...</td>\n      <td>...</td>\n      <td>...</td>\n      <td>...</td>\n      <td>...</td>\n      <td>...</td>\n      <td>...</td>\n      <td>...</td>\n      <td>...</td>\n    </tr>\n    <tr>\n      <th>1486473</th>\n      <td>1499462768865</td>\n      <td>39302909359643</td>\n      <td>225472967673</td>\n      <td>8</td>\n      <td>92:4d:4a:2a:f5:7c</td>\n      <td>BTWifi-X</td>\n      <td>-82</td>\n      <td>2462</td>\n      <td>[WPA2-EAP-CCMP-preauth][ESS]</td>\n    </tr>\n    <tr>\n      <th>1486474</th>\n      <td>1499462768865</td>\n      <td>39302909359643</td>\n      <td>225472967673</td>\n      <td>8</td>\n      <td>64:0f:29:0d:f7:b1</td>\n      <td>Albion Dental</td>\n      <td>-70</td>\n      <td>2432</td>\n      <td>[WPA2-PSK-CCMP][ESS]</td>\n    </tr>\n    <tr>\n      <th>1486475</th>\n      <td>1499462768865</td>\n      <td>39302909359643</td>\n      <td>225472967673</td>\n      <td>8</td>\n      <td>92:4d:4a:2a:f5:7f</td>\n      <td>BTWifi-with-FON</td>\n      <td>-82</td>\n      <td>2462</td>\n      <td>[ESS]</td>\n    </tr>\n    <tr>\n      <th>1486476</th>\n      <td>1499462768865</td>\n      <td>39302909359643</td>\n      <td>225472967673</td>\n      <td>8</td>\n      <td>64:0f:29:0d:f7:b4</td>\n      <td>BTOpenzone</td>\n      <td>-70</td>\n      <td>2432</td>\n      <td>[ESS]</td>\n    </tr>\n    <tr>\n      <th>1486477</th>\n      <td>1499462768865</td>\n      <td>39302909359643</td>\n      <td>225472967673</td>\n      <td>8</td>\n      <td>88:ce:fa:86:f5:04</td>\n      <td>TALKTALK-86F4FC</td>\n      <td>-88</td>\n      <td>2412</td>\n      <td>[WPA-PSK-CCMP+TKIP][WPA2-PSK-CCMP+TKIP][WPS][E...</td>\n    </tr>\n  </tbody>\n</table>\n<p>1486478 rows × 9 columns</p>\n</div>"
     },
     "execution_count": 18,
     "metadata": {},
     "output_type": "execute_result"
    }
   ],
   "source": [
    "def parse_csv(path, columns, sep=';', chunk_size=5, head_size=4):\n",
    "    data = []\n",
    "    with open(path) as file:\n",
    "        for line in file:\n",
    "            measurement = line.split(sep)\n",
    "            head = measurement[:head_size]\n",
    "            if len(measurement[head_size:]) % chunk_size != 0:\n",
    "                raise Exception('Row size incorrect for line: ' + line)\n",
    "            for chunk_num in range(round(len(measurement[head_size:]) / chunk_size)):\n",
    "                data.append(head + measurement[head_size + chunk_size * chunk_num:head_size + chunk_size * chunk_num + chunk_size])\n",
    "\n",
    "    return pd.DataFrame(data, columns=columns)\n",
    "\n",
    "\n",
    "parse_csv(\n",
    "    'data/validate/WiFi.txt',\n",
    "    ['Epoch time [ms]', 'Ignore1', 'Ignore2', 'Unknown', 'BSSID', 'SSID', 'RSSI', 'Frequency [MHz]', 'Capabilities']\n",
    ")"
   ],
   "metadata": {
    "collapsed": false,
    "pycharm": {
     "name": "#%%\n"
    }
   }
  },
  {
   "cell_type": "code",
   "execution_count": null,
   "outputs": [],
   "source": [
    "parse_csv(\n",
    "    'data/validate/WiFi.txt',\n",
    "    ['Epoch time [ms]', 'Ignore1', 'Ignore2', 'Unknown', 'BSSID', 'SSID', 'RSSI', 'Frequency [MHz]', 'Capabilities']\n",
    ")"
   ],
   "metadata": {
    "collapsed": false,
    "pycharm": {
     "name": "#%%\n"
    }
   }
  },
  {
   "cell_type": "code",
   "execution_count": null,
   "outputs": [],
   "source": [],
   "metadata": {
    "collapsed": false,
    "pycharm": {
     "name": "#%%\n"
    }
   }
  }
 ],
 "metadata": {
  "kernelspec": {
   "display_name": "Python 3",
   "language": "python",
   "name": "python3"
  },
  "language_info": {
   "codemirror_mode": {
    "name": "ipython",
    "version": 2
   },
   "file_extension": ".py",
   "mimetype": "text/x-python",
   "name": "python",
   "nbconvert_exporter": "python",
   "pygments_lexer": "ipython2",
   "version": "2.7.6"
  }
 },
 "nbformat": 4,
 "nbformat_minor": 0
}