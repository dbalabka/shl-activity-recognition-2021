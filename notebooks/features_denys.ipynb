{
 "cells": [
  {
   "cell_type": "code",
   "execution_count": 2,
   "id": "1389aade-6968-4b31-8e24-ef088ab93ce4",
   "metadata": {},
   "outputs": [],
   "source": [
    "import numpy as np\n",
    "import pandas as pd\n",
    "import os\n",
    "import datetime\n",
    "import time\n",
    "import matplotlib.pyplot as plt\n",
    "\n",
    "os.chdir('../')"
   ]
  },
  {
   "cell_type": "code",
   "execution_count": 8,
   "id": "ee443b26-069e-410f-80c5-12c76c5d473e",
   "metadata": {},
   "outputs": [],
   "source": [
    "def prepare_additional_location_features(df, moving_average_window):  \n",
    "        \n",
    "    # Add time rounded to seconds\n",
    "    df['epoch_time'] = ((df['epoch_time']/1000).round(0)*1000).astype('int64')\n",
    "    \n",
    "    # Group values by rounded time\n",
    "    df = df.groupby(['epoch_time'], as_index=False).mean().drop(['Ignore1', 'Ignore2'], axis=1)\n",
    "    \n",
    "    # Calculate difference to get distance and speed\n",
    "    df_diff = df.diff()\n",
    "    \n",
    "    # Additional features\n",
    "    df_diff['distance'] = (df_diff['Latitude'].pow(2) + df_diff['Longitude'].pow(2)).pow(0.5)\n",
    "    df_diff['speed'] = df_diff['distance']/df_diff['epoch_time']\n",
    "    df_diff['vertical_speed'] = df_diff['Altitude']/df_diff['epoch_time']\n",
    "    df_diff['direction'] = df_diff['Longitude']/df_diff['Latitude']\n",
    "    df_diff['vertical_direction'] = df_diff['Altitude']/df_diff['distance']\n",
    "    \n",
    "    # Remove infinity values\n",
    "    df_diff.replace([np.inf, -np.inf], np.nan, inplace=True)\n",
    "    \n",
    "    # Second diff to get change of the features\n",
    "    df_diff_2 = df_diff.diff().rename(columns={'speed': 'speed_change', \n",
    "                                               'vertical_speed': 'vertical_speed_change', \n",
    "                                               'direction': 'direction_change', \n",
    "                                               'vertical_direction': 'vertical_direction_change'})\n",
    "    \n",
    "    # Remove infinity values\n",
    "    df_diff_2.replace([np.inf, -np.inf], np.nan, inplace=True)\n",
    "    \n",
    "    # Merge new features back to the main dataframe\n",
    "    df = df.merge(df_diff[['distance','speed', 'vertical_speed', 'direction', 'vertical_direction']], left_index=True, right_index=True) \\\n",
    "           .merge(df_diff_2[['speed_change', 'vertical_speed_change', 'direction_change', 'vertical_direction_change']], left_index=True, right_index=True)\n",
    "    \n",
    "    \n",
    "    # Additional abs values features\n",
    "    df['abs_speed_change'] = abs(df['speed_change'])\n",
    "    df['abs_vertical_speed_change'] = abs(df['vertical_speed_change'])\n",
    "    df['abs_direction_change'] = abs(df['direction_change'])\n",
    "    df['abs_vertical_direction_change'] = abs(df['vertical_direction_change'])    \n",
    "        \n",
    "    # Add moving averages within selected window\n",
    "    for column in df.columns[1:]:\n",
    "        df[column + '_' + str(moving_average_window) + '_s'] = df[column].rolling(window=moving_average_window, center=True).mean()\n",
    "        \n",
    "    return df"
   ]
  },
  {
   "cell_type": "code",
   "execution_count": 9,
   "id": "3b496f78-b53c-4c48-a720-93abc5d2ced3",
   "metadata": {},
   "outputs": [],
   "source": [
    "window = 3\n",
    "\n",
    "filename = './data/train/Location.parquet'\n",
    "df = pd.read_parquet(filename)\n",
    "df = prepare_additional_location_features(df, window)\n",
    "df.to_parquet('./data/train/features_denys.parquet')\n",
    "\n",
    "filename = './data/validate/Location.parquet'\n",
    "df = pd.read_parquet(filename)\n",
    "df = prepare_additional_location_features(df, window)\n",
    "df.to_parquet('./data/validate/features_denys.parquet')\n",
    "\n",
    "filename = './data/test/Location.parquet'\n",
    "df = pd.read_parquet(filename)\n",
    "df = prepare_additional_location_features(df, window)\n",
    "df.to_parquet('./data/test/features_denys.parquet')"
   ]
  },
  {
   "cell_type": "code",
   "execution_count": null,
   "id": "314e2322-7f1d-4598-9749-9d3a191cc551",
   "metadata": {},
   "outputs": [],
   "source": []
  }
 ],
 "metadata": {
  "kernelspec": {
   "display_name": "Python 3",
   "language": "python",
   "name": "python3"
  },
  "language_info": {
   "codemirror_mode": {
    "name": "ipython",
    "version": 3
   },
   "file_extension": ".py",
   "mimetype": "text/x-python",
   "name": "python",
   "nbconvert_exporter": "python",
   "pygments_lexer": "ipython3",
   "version": "3.8.0"
  }
 },
 "nbformat": 4,
 "nbformat_minor": 5
}