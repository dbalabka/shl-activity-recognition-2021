{
 "cells": [
  {
   "cell_type": "code",
   "execution_count": 1,
   "metadata": {
    "collapsed": true
   },
   "outputs": [],
   "source": [
    "import re\n",
    "\n",
    "import numpy as np\n",
    "import pandas as pd\n",
    "import os\n",
    "import featuretools as ft\n",
    "from shl.prepare import normalize_epoch_time, normalize_lat_long\n",
    "from shl.features import fetch_location, NoLocationFoundException\n",
    "import plotly.express as px\n",
    "from sklearn.feature_extraction.text import TfidfVectorizer\n",
    "import requests\n",
    "import time\n",
    "from tqdm import tqdm\n",
    "import csv\n",
    "\n",
    "from shl.features import WifiFeature\n",
    "\n",
    "%load_ext autoreload\n",
    "%load_ext dotenv\n",
    "%autoreload 2\n",
    "%dotenv"
   ]
  },
  {
   "cell_type": "code",
   "execution_count": 2,
   "outputs": [],
   "source": [
    "train_cell = normalize_epoch_time(pd.read_parquet('../data/train/Cells.parquet'), 'epoch_time')\n",
    "train_location = normalize_epoch_time(pd.read_parquet('../data/train/Location.parquet'), 'epoch_time')\n",
    "test_cell = normalize_epoch_time(pd.read_parquet('../data/test/Cells.parquet'), 'epoch_time')\n",
    "test_location = normalize_epoch_time(pd.read_parquet('../data/test/Location.parquet'), 'epoch_time')\n",
    "validate_cell = normalize_epoch_time(pd.read_parquet('../data/validate/Cells.parquet'), 'epoch_time')\n",
    "validate_location = normalize_epoch_time(pd.read_parquet('../data/validate/Location.parquet'), 'epoch_time')\n",
    "\n",
    "train_label = normalize_epoch_time(pd.read_parquet('../data/train/Label.parquet'), 'epoch_time')\n",
    "test_label = normalize_epoch_time(pd.read_parquet('../data/test/Label_idx.parquet'), 'epoch_time')\n",
    "validate_label = normalize_epoch_time(pd.read_parquet('../data/validate/Label.parquet'), 'epoch_time')"
   ],
   "metadata": {
    "collapsed": false,
    "pycharm": {
     "name": "#%%\n"
    }
   }
  },
  {
   "cell_type": "code",
   "execution_count": 4,
   "outputs": [
    {
     "data": {
      "text/plain": "{'Latitude': 51.4723711, 'Longitude': -0.4135758, 'accuracy': 873}"
     },
     "execution_count": 4,
     "metadata": {},
     "output_type": "execute_result"
    }
   ],
   "source": [
    "fetch_location(train_cell.query('epoch_time == 1490448212563'))"
   ],
   "metadata": {
    "collapsed": false,
    "pycharm": {
     "name": "#%%\n"
    }
   }
  },
  {
   "cell_type": "code",
   "execution_count": 5,
   "outputs": [
    {
     "name": "stdout",
     "output_type": "stream",
     "text": [
      "(424308,)\n",
      "(47129,)\n",
      "(165563,)\n"
     ]
    }
   ],
   "source": [
    "def fetch_cell_with_missing_location(cell: pd.DataFrame, location: pd.DataFrame) -> pd.DataFrame:\n",
    "    return cell.merge(location, on='epoch_time_id', how=\"left\").sort_values(by='epoch_time_id').query('accuracy != accuracy and cell_type == cell_type')\n",
    "\n",
    "print(fetch_cell_with_missing_location(train_cell, train_location)['epoch_time_id'].value_counts().shape)\n",
    "print(fetch_cell_with_missing_location(validate_cell, validate_location)['epoch_time_id'].value_counts().shape)\n",
    "print(fetch_cell_with_missing_location(test_cell, test_location)['epoch_time_id'].value_counts().shape)"
   ],
   "metadata": {
    "collapsed": false,
    "pycharm": {
     "name": "#%%\n"
    }
   }
  },
  {
   "cell_type": "code",
   "execution_count": 6,
   "outputs": [
    {
     "name": "stdout",
     "output_type": "stream",
     "text": [
      "(908631,)\n",
      "(560792,)\n",
      "(101228,)\n"
     ]
    }
   ],
   "source": [
    "print(train_location['epoch_time_id'].value_counts().shape)\n",
    "print(test_location['epoch_time_id'].value_counts().shape)\n",
    "print(validate_location['epoch_time_id'].value_counts().shape)"
   ],
   "metadata": {
    "collapsed": false,
    "pycharm": {
     "name": "#%%\n"
    }
   }
  },
  {
   "cell_type": "code",
   "execution_count": 7,
   "outputs": [
    {
     "name": "stderr",
     "output_type": "stream",
     "text": [
      "  2%|▏         | 8520/424308 [02:53<2:20:47, 49.22it/s]\n"
     ]
    },
    {
     "ename": "KeyboardInterrupt",
     "evalue": "",
     "output_type": "error",
     "traceback": [
      "\u001B[0;31m---------------------------------------------------------------------------\u001B[0m",
      "\u001B[0;31mKeyboardInterrupt\u001B[0m                         Traceback (most recent call last)",
      "\u001B[0;32m<ipython-input-7-349b6dedb751>\u001B[0m in \u001B[0;36m<module>\u001B[0;34m\u001B[0m\n\u001B[1;32m     16\u001B[0m             \u001B[0mfile\u001B[0m\u001B[0;34m.\u001B[0m\u001B[0mflush\u001B[0m\u001B[0;34m(\u001B[0m\u001B[0;34m)\u001B[0m\u001B[0;34m\u001B[0m\u001B[0;34m\u001B[0m\u001B[0m\n\u001B[1;32m     17\u001B[0m \u001B[0;34m\u001B[0m\u001B[0m\n\u001B[0;32m---> 18\u001B[0;31m \u001B[0mconvert_cell_to_location\u001B[0m\u001B[0;34m(\u001B[0m\u001B[0mtrain_cell\u001B[0m\u001B[0;34m,\u001B[0m \u001B[0mtrain_location\u001B[0m\u001B[0;34m,\u001B[0m \u001B[0;34m'../data/train/features_cell_to_location.csv'\u001B[0m\u001B[0;34m,\u001B[0m \u001B[0mstep\u001B[0m\u001B[0;34m=\u001B[0m\u001B[0;36m60\u001B[0m\u001B[0;34m)\u001B[0m\u001B[0;34m\u001B[0m\u001B[0;34m\u001B[0m\u001B[0m\n\u001B[0m\u001B[1;32m     19\u001B[0m \u001B[0;34m\u001B[0m\u001B[0m\n\u001B[1;32m     20\u001B[0m \u001B[0;34m\u001B[0m\u001B[0m\n",
      "\u001B[0;32m<ipython-input-7-349b6dedb751>\u001B[0m in \u001B[0;36mconvert_cell_to_location\u001B[0;34m(cells_data, location_data, file_path, step)\u001B[0m\n\u001B[1;32m     13\u001B[0m                 \u001B[0;32mcontinue\u001B[0m\u001B[0;34m\u001B[0m\u001B[0;34m\u001B[0m\u001B[0m\n\u001B[1;32m     14\u001B[0m             \u001B[0;32mfinally\u001B[0m\u001B[0;34m:\u001B[0m\u001B[0;34m\u001B[0m\u001B[0;34m\u001B[0m\u001B[0m\n\u001B[0;32m---> 15\u001B[0;31m                 \u001B[0mtime\u001B[0m\u001B[0;34m.\u001B[0m\u001B[0msleep\u001B[0m\u001B[0;34m(\u001B[0m\u001B[0;36m1\u001B[0m\u001B[0;34m)\u001B[0m\u001B[0;34m\u001B[0m\u001B[0;34m\u001B[0m\u001B[0m\n\u001B[0m\u001B[1;32m     16\u001B[0m             \u001B[0mfile\u001B[0m\u001B[0;34m.\u001B[0m\u001B[0mflush\u001B[0m\u001B[0;34m(\u001B[0m\u001B[0;34m)\u001B[0m\u001B[0;34m\u001B[0m\u001B[0;34m\u001B[0m\u001B[0m\n\u001B[1;32m     17\u001B[0m \u001B[0;34m\u001B[0m\u001B[0m\n",
      "\u001B[0;31mKeyboardInterrupt\u001B[0m: "
     ]
    }
   ],
   "source": [
    "def convert_cell_to_location(cells_data, location_data, file_path: str, step: int = 60):\n",
    "    with open(file_path, \"w\") as file:\n",
    "        csv_writer = csv.DictWriter(file, fieldnames=['epoch_time_id', 'Latitude', 'Longitude', 'accuracy'])\n",
    "        csv_writer.writeheader()\n",
    "        cells_groups = fetch_cell_with_missing_location(cells_data, location_data).groupby('epoch_time_id')\n",
    "        for i, (epoch_time, cells) in enumerate(tqdm(cells_groups, total=len(cells_groups))):\n",
    "            if i % step != 0:\n",
    "                continue\n",
    "            try:\n",
    "                csv_writer.writerow({'epoch_time_id': epoch_time, **fetch_location(cells)})\n",
    "            except NoLocationFoundException as e:\n",
    "                print(f'Missing location for:\\n{e.cells}')\n",
    "                continue\n",
    "            finally:\n",
    "                time.sleep(0.5)\n",
    "            file.flush()\n",
    "\n",
    "convert_cell_to_location(train_cell, train_location, '../data/train/features_cell_to_location.csv', step=60)\n",
    "convert_cell_to_location(test_cell, train_location, '../data/train/features_cell_to_location.csv', step=60)\n",
    "convert_cell_to_location(validate_cell, train_location, '../data/train/features_cell_to_location.csv', step=60)\n",
    "\n"
   ],
   "metadata": {
    "collapsed": false,
    "pycharm": {
     "name": "#%%\n"
    }
   }
  },
  {
   "cell_type": "code",
   "execution_count": 19,
   "outputs": [
    {
     "data": {
      "text/plain": "(1236268,)"
     },
     "execution_count": 19,
     "metadata": {},
     "output_type": "execute_result"
    }
   ],
   "source": [
    "train_cell['epoch_time_id'].value_counts().shape"
   ],
   "metadata": {
    "collapsed": false,
    "pycharm": {
     "name": "#%%\n"
    }
   }
  },
  {
   "cell_type": "code",
   "execution_count": 18,
   "outputs": [
    {
     "data": {
      "text/plain": "       epoch_time  num_entries cell_type  isRegistered            ci  MCC  \\\n89  1490448212563            2       LTE             1  1.280593e+08  234   \n90  1490448212563            2       LTE             0  2.147484e+09  234   \n\n    MNC    PCI           TAC  asuLevel  dBm  level  cid  lac  PSC  \\\n89   10  425.0  4.096000e+03        41  -99      3  NaN  NaN  NaN   \n90   10  424.0  2.147484e+09        39 -101      3  NaN  NaN  NaN   \n\n    epoch_time_id  \n89  1490448213000  \n90  1490448213000  ",
      "text/html": "<div>\n<style scoped>\n    .dataframe tbody tr th:only-of-type {\n        vertical-align: middle;\n    }\n\n    .dataframe tbody tr th {\n        vertical-align: top;\n    }\n\n    .dataframe thead th {\n        text-align: right;\n    }\n</style>\n<table border=\"1\" class=\"dataframe\">\n  <thead>\n    <tr style=\"text-align: right;\">\n      <th></th>\n      <th>epoch_time</th>\n      <th>num_entries</th>\n      <th>cell_type</th>\n      <th>isRegistered</th>\n      <th>ci</th>\n      <th>MCC</th>\n      <th>MNC</th>\n      <th>PCI</th>\n      <th>TAC</th>\n      <th>asuLevel</th>\n      <th>dBm</th>\n      <th>level</th>\n      <th>cid</th>\n      <th>lac</th>\n      <th>PSC</th>\n      <th>epoch_time_id</th>\n    </tr>\n  </thead>\n  <tbody>\n    <tr>\n      <th>89</th>\n      <td>1490448212563</td>\n      <td>2</td>\n      <td>LTE</td>\n      <td>1</td>\n      <td>1.280593e+08</td>\n      <td>234</td>\n      <td>10</td>\n      <td>425.0</td>\n      <td>4.096000e+03</td>\n      <td>41</td>\n      <td>-99</td>\n      <td>3</td>\n      <td>NaN</td>\n      <td>NaN</td>\n      <td>NaN</td>\n      <td>1490448213000</td>\n    </tr>\n    <tr>\n      <th>90</th>\n      <td>1490448212563</td>\n      <td>2</td>\n      <td>LTE</td>\n      <td>0</td>\n      <td>2.147484e+09</td>\n      <td>234</td>\n      <td>10</td>\n      <td>424.0</td>\n      <td>2.147484e+09</td>\n      <td>39</td>\n      <td>-101</td>\n      <td>3</td>\n      <td>NaN</td>\n      <td>NaN</td>\n      <td>NaN</td>\n      <td>1490448213000</td>\n    </tr>\n  </tbody>\n</table>\n</div>"
     },
     "execution_count": 18,
     "metadata": {},
     "output_type": "execute_result"
    }
   ],
   "source": [
    "train_cell.query('epoch_time == 1490448212563')"
   ],
   "metadata": {
    "collapsed": false,
    "pycharm": {
     "name": "#%%\n"
    }
   }
  },
  {
   "cell_type": "code",
   "execution_count": 24,
   "outputs": [
    {
     "data": {
      "text/plain": "0          1.280004e+08\n1          2.147484e+09\n2          2.147484e+09\n3          1.280004e+08\n4          2.147484e+09\n               ...     \n4474375             NaN\n4474376             NaN\n4474377             NaN\n4474378             NaN\n4474379             NaN\nName: ci, Length: 4474380, dtype: float64"
     },
     "execution_count": 24,
     "metadata": {},
     "output_type": "execute_result"
    }
   ],
   "source": [
    "train_cell['ci'].astype('int64', errors='ignore')"
   ],
   "metadata": {
    "collapsed": false,
    "pycharm": {
     "name": "#%%\n"
    }
   }
  },
  {
   "cell_type": "code",
   "execution_count": 3,
   "outputs": [],
   "source": [
    "validate_cell_with_label = validate_label.merge(train_cell, how='left', on='epoch_time_id').sort_values(['epoch_time_id', 'cell_type', 'dBm'])[['epoch_time_id', 'label', 'cell_type', 'dBm', 'asuLevel', 'ci']]\n",
    "\n",
    "#.loc[:, ['epoch_time', 'label', 'SSID', 'RSSI']].sort_values(['epoch_time', 'RSSI'], ascending=[True, False]).groupby('epoch_time').agg({'label' : 'first', 'SSID' : 'first'}).reset_index()"
   ],
   "metadata": {
    "collapsed": false,
    "pycharm": {
     "name": "#%%\n"
    }
   }
  },
  {
   "cell_type": "code",
   "execution_count": 10,
   "outputs": [],
   "source": [
    "validate_cell_with_label.to_csv('./validate_cell_with_label.csv')"
   ],
   "metadata": {
    "collapsed": false,
    "pycharm": {
     "name": "#%%\n"
    }
   }
  },
  {
   "cell_type": "code",
   "execution_count": null,
   "outputs": [],
   "source": [],
   "metadata": {
    "collapsed": false,
    "pycharm": {
     "name": "#%%\n"
    }
   }
  }
 ],
 "metadata": {
  "kernelspec": {
   "display_name": "Python 3",
   "language": "python",
   "name": "python3"
  },
  "language_info": {
   "codemirror_mode": {
    "name": "ipython",
    "version": 2
   },
   "file_extension": ".py",
   "mimetype": "text/x-python",
   "name": "python",
   "nbconvert_exporter": "python",
   "pygments_lexer": "ipython2",
   "version": "2.7.6"
  }
 },
 "nbformat": 4,
 "nbformat_minor": 0
}