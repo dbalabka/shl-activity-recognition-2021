{
 "cells": [
  {
   "cell_type": "code",
   "execution_count": 1,
   "metadata": {
    "collapsed": true
   },
   "outputs": [],
   "source": [
    "import re\n",
    "\n",
    "import numpy as np\n",
    "import pandas as pd\n",
    "import os\n",
    "import featuretools as ft\n",
    "from shl.prepare import normalize_epoch_time, normalize_lat_long\n",
    "import plotly.express as px\n",
    "from sklearn.feature_extraction.text import TfidfVectorizer\n",
    "import requests\n",
    "\n",
    "from shl.features import WifiFeature\n",
    "\n",
    "%load_ext autoreload\n",
    "%autoreload 2"
   ]
  },
  {
   "cell_type": "code",
   "execution_count": 2,
   "outputs": [],
   "source": [
    "train_cell = normalize_epoch_time(pd.read_parquet('../data/train/Cells.parquet'), 'epoch_time')\n",
    "train_location = normalize_epoch_time(pd.read_parquet('../data/train/Location.parquet'), 'epoch_time')\n",
    "test_cell = normalize_epoch_time(pd.read_parquet('../data/test/Cells.parquet'), 'epoch_time')\n",
    "test_location = normalize_epoch_time(pd.read_parquet('../data/test/Location.parquet'), 'epoch_time')\n",
    "validate_cell = normalize_epoch_time(pd.read_parquet('../data/validate/Cells.parquet'), 'epoch_time')\n",
    "validate_location = normalize_epoch_time(pd.read_parquet('../data/validate/Location.parquet'), 'epoch_time')\n",
    "\n",
    "train_label = normalize_epoch_time(pd.read_parquet('../data/train/Label.parquet'), 'epoch_time')\n",
    "test_label = normalize_epoch_time(pd.read_parquet('../data/test/Label_idx.parquet'), 'epoch_time')\n",
    "validate_label = normalize_epoch_time(pd.read_parquet('../data/validate/Label.parquet'), 'epoch_time')"
   ],
   "metadata": {
    "collapsed": false,
    "pycharm": {
     "name": "#%%\n"
    }
   }
  },
  {
   "cell_type": "code",
   "execution_count": 6,
   "outputs": [
    {
     "data": {
      "text/plain": "{'Latitude': 51.472396, 'Longitude': -0.4120165, 'accuracy': 1000}"
     },
     "execution_count": 6,
     "metadata": {},
     "output_type": "execute_result"
    }
   ],
   "source": [
    "def fetch_location(cells: pd.DataFrame):\n",
    "    request_body = {\n",
    "        \"cellTowers\": [{\n",
    "            \"cellId\": int(cell.ci),\n",
    "            \"locationAreaCode\": int(cell.TAC),\n",
    "            \"mobileCountryCode\": int(cell.MCC),\n",
    "            \"mobileNetworkCode\": int(cell.MNC)\n",
    "        } for _, cell in cells.iterrows()]\n",
    "    }\n",
    "    resp = requests.post('https://backend.radiocells.org', json=request_body)\n",
    "    if resp.status_code == 200:\n",
    "        # {\"location\": {\"lat\": 48.85702, \"lng\": 2.29520}, \"accuracy\": 30}\n",
    "        location = resp.json()\n",
    "        return {\"Latitude\": location['location']['lat'], \"Longitude\": location['location']['lng'], \"accuracy\": location['accuracy']}\n",
    "    else:\n",
    "        return None\n",
    "\n",
    "fetch_location(train_cell.query('epoch_time == 1490448212563'))"
   ],
   "metadata": {
    "collapsed": false,
    "pycharm": {
     "name": "#%%\n"
    }
   }
  },
  {
   "cell_type": "code",
   "execution_count": 16,
   "outputs": [
    {
     "data": {
      "text/plain": "          epoch_time_x  num_entries cell_type  isRegistered            ci  \\\n88       1490448206591            1       LTE             1  1.280593e+08   \n90       1490448212563            2       LTE             0  2.147484e+09   \n89       1490448212563            2       LTE             1  1.280593e+08   \n92       1490448218571            2       LTE             0  2.147484e+09   \n91       1490448218571            2       LTE             1  1.280593e+08   \n...                ...          ...       ...           ...           ...   \n3040228  1499268276823            9       LTE             1  1.280004e+08   \n3040231  1499268277847            9       LTE             0  2.147484e+09   \n3040230  1499268277847            9       LTE             1  1.280004e+08   \n3040233  1499268278855            9       LTE             0  2.147484e+09   \n3040232  1499268278855            9       LTE             1  1.280004e+08   \n\n         MCC  MNC    PCI           TAC  asuLevel  ...  lac  PSC  \\\n88       234   10  425.0  4.096000e+03        32  ...  NaN  NaN   \n90       234   10  424.0  2.147484e+09        39  ...  NaN  NaN   \n89       234   10  425.0  4.096000e+03        41  ...  NaN  NaN   \n92       234   10  424.0  2.147484e+09        40  ...  NaN  NaN   \n91       234   10  425.0  4.096000e+03        42  ...  NaN  NaN   \n...      ...  ...    ...           ...       ...  ...  ...  ...   \n3040228  234   10   20.0  1.440000e+02        17  ...  NaN  NaN   \n3040231  234   10   20.0  2.147484e+09        10  ...  NaN  NaN   \n3040230  234   10   20.0  1.440000e+02        18  ...  NaN  NaN   \n3040233  234   10   20.0  2.147484e+09        10  ...  NaN  NaN   \n3040232  234   10   20.0  1.440000e+02        18  ...  NaN  NaN   \n\n         epoch_time_id  epoch_time_y       Ignore1       Ignore2  accuracy  \\\n88       1490448207000  1.490448e+12  1.733751e+13  2.426589e+08      24.0   \n90       1490448213000  1.490448e+12  1.734306e+13  2.426589e+08       8.0   \n89       1490448213000  1.490448e+12  1.734306e+13  2.426589e+08       8.0   \n92       1490448219000  1.490448e+12  1.734908e+13  2.426589e+08       6.0   \n91       1490448219000  1.490448e+12  1.734908e+13  2.426589e+08       6.0   \n...                ...           ...           ...           ...       ...   \n3040228  1499268277000  1.499268e+12  2.556436e+13  1.496746e+11      12.0   \n3040231  1499268278000  1.499268e+12  2.556536e+13  1.496746e+11      12.0   \n3040230  1499268278000  1.499268e+12  2.556536e+13  1.496746e+11      12.0   \n3040233  1499268279000  1.499268e+12  2.556636e+13  1.496746e+11      12.0   \n3040232  1499268279000  1.499268e+12  2.556636e+13  1.496746e+11      12.0   \n\n          Latitude  Longitude    Altitude  \n88       51.469703  -0.412526   70.498640  \n90       51.470240  -0.411670   70.672157  \n89       51.470240  -0.411670   70.672157  \n92       51.470672  -0.410402   71.402222  \n91       51.470672  -0.410402   71.402222  \n...            ...        ...         ...  \n3040228  50.846796  -0.133278  117.764547  \n3040231  50.846796  -0.133278  117.764547  \n3040230  50.846796  -0.133278  117.764547  \n3040233  50.846796  -0.133278  117.764547  \n3040232  50.846796  -0.133278  117.764547  \n\n[2303008 rows x 23 columns]",
      "text/html": "<div>\n<style scoped>\n    .dataframe tbody tr th:only-of-type {\n        vertical-align: middle;\n    }\n\n    .dataframe tbody tr th {\n        vertical-align: top;\n    }\n\n    .dataframe thead th {\n        text-align: right;\n    }\n</style>\n<table border=\"1\" class=\"dataframe\">\n  <thead>\n    <tr style=\"text-align: right;\">\n      <th></th>\n      <th>epoch_time_x</th>\n      <th>num_entries</th>\n      <th>cell_type</th>\n      <th>isRegistered</th>\n      <th>ci</th>\n      <th>MCC</th>\n      <th>MNC</th>\n      <th>PCI</th>\n      <th>TAC</th>\n      <th>asuLevel</th>\n      <th>...</th>\n      <th>lac</th>\n      <th>PSC</th>\n      <th>epoch_time_id</th>\n      <th>epoch_time_y</th>\n      <th>Ignore1</th>\n      <th>Ignore2</th>\n      <th>accuracy</th>\n      <th>Latitude</th>\n      <th>Longitude</th>\n      <th>Altitude</th>\n    </tr>\n  </thead>\n  <tbody>\n    <tr>\n      <th>88</th>\n      <td>1490448206591</td>\n      <td>1</td>\n      <td>LTE</td>\n      <td>1</td>\n      <td>1.280593e+08</td>\n      <td>234</td>\n      <td>10</td>\n      <td>425.0</td>\n      <td>4.096000e+03</td>\n      <td>32</td>\n      <td>...</td>\n      <td>NaN</td>\n      <td>NaN</td>\n      <td>1490448207000</td>\n      <td>1.490448e+12</td>\n      <td>1.733751e+13</td>\n      <td>2.426589e+08</td>\n      <td>24.0</td>\n      <td>51.469703</td>\n      <td>-0.412526</td>\n      <td>70.498640</td>\n    </tr>\n    <tr>\n      <th>90</th>\n      <td>1490448212563</td>\n      <td>2</td>\n      <td>LTE</td>\n      <td>0</td>\n      <td>2.147484e+09</td>\n      <td>234</td>\n      <td>10</td>\n      <td>424.0</td>\n      <td>2.147484e+09</td>\n      <td>39</td>\n      <td>...</td>\n      <td>NaN</td>\n      <td>NaN</td>\n      <td>1490448213000</td>\n      <td>1.490448e+12</td>\n      <td>1.734306e+13</td>\n      <td>2.426589e+08</td>\n      <td>8.0</td>\n      <td>51.470240</td>\n      <td>-0.411670</td>\n      <td>70.672157</td>\n    </tr>\n    <tr>\n      <th>89</th>\n      <td>1490448212563</td>\n      <td>2</td>\n      <td>LTE</td>\n      <td>1</td>\n      <td>1.280593e+08</td>\n      <td>234</td>\n      <td>10</td>\n      <td>425.0</td>\n      <td>4.096000e+03</td>\n      <td>41</td>\n      <td>...</td>\n      <td>NaN</td>\n      <td>NaN</td>\n      <td>1490448213000</td>\n      <td>1.490448e+12</td>\n      <td>1.734306e+13</td>\n      <td>2.426589e+08</td>\n      <td>8.0</td>\n      <td>51.470240</td>\n      <td>-0.411670</td>\n      <td>70.672157</td>\n    </tr>\n    <tr>\n      <th>92</th>\n      <td>1490448218571</td>\n      <td>2</td>\n      <td>LTE</td>\n      <td>0</td>\n      <td>2.147484e+09</td>\n      <td>234</td>\n      <td>10</td>\n      <td>424.0</td>\n      <td>2.147484e+09</td>\n      <td>40</td>\n      <td>...</td>\n      <td>NaN</td>\n      <td>NaN</td>\n      <td>1490448219000</td>\n      <td>1.490448e+12</td>\n      <td>1.734908e+13</td>\n      <td>2.426589e+08</td>\n      <td>6.0</td>\n      <td>51.470672</td>\n      <td>-0.410402</td>\n      <td>71.402222</td>\n    </tr>\n    <tr>\n      <th>91</th>\n      <td>1490448218571</td>\n      <td>2</td>\n      <td>LTE</td>\n      <td>1</td>\n      <td>1.280593e+08</td>\n      <td>234</td>\n      <td>10</td>\n      <td>425.0</td>\n      <td>4.096000e+03</td>\n      <td>42</td>\n      <td>...</td>\n      <td>NaN</td>\n      <td>NaN</td>\n      <td>1490448219000</td>\n      <td>1.490448e+12</td>\n      <td>1.734908e+13</td>\n      <td>2.426589e+08</td>\n      <td>6.0</td>\n      <td>51.470672</td>\n      <td>-0.410402</td>\n      <td>71.402222</td>\n    </tr>\n    <tr>\n      <th>...</th>\n      <td>...</td>\n      <td>...</td>\n      <td>...</td>\n      <td>...</td>\n      <td>...</td>\n      <td>...</td>\n      <td>...</td>\n      <td>...</td>\n      <td>...</td>\n      <td>...</td>\n      <td>...</td>\n      <td>...</td>\n      <td>...</td>\n      <td>...</td>\n      <td>...</td>\n      <td>...</td>\n      <td>...</td>\n      <td>...</td>\n      <td>...</td>\n      <td>...</td>\n      <td>...</td>\n    </tr>\n    <tr>\n      <th>3040228</th>\n      <td>1499268276823</td>\n      <td>9</td>\n      <td>LTE</td>\n      <td>1</td>\n      <td>1.280004e+08</td>\n      <td>234</td>\n      <td>10</td>\n      <td>20.0</td>\n      <td>1.440000e+02</td>\n      <td>17</td>\n      <td>...</td>\n      <td>NaN</td>\n      <td>NaN</td>\n      <td>1499268277000</td>\n      <td>1.499268e+12</td>\n      <td>2.556436e+13</td>\n      <td>1.496746e+11</td>\n      <td>12.0</td>\n      <td>50.846796</td>\n      <td>-0.133278</td>\n      <td>117.764547</td>\n    </tr>\n    <tr>\n      <th>3040231</th>\n      <td>1499268277847</td>\n      <td>9</td>\n      <td>LTE</td>\n      <td>0</td>\n      <td>2.147484e+09</td>\n      <td>234</td>\n      <td>10</td>\n      <td>20.0</td>\n      <td>2.147484e+09</td>\n      <td>10</td>\n      <td>...</td>\n      <td>NaN</td>\n      <td>NaN</td>\n      <td>1499268278000</td>\n      <td>1.499268e+12</td>\n      <td>2.556536e+13</td>\n      <td>1.496746e+11</td>\n      <td>12.0</td>\n      <td>50.846796</td>\n      <td>-0.133278</td>\n      <td>117.764547</td>\n    </tr>\n    <tr>\n      <th>3040230</th>\n      <td>1499268277847</td>\n      <td>9</td>\n      <td>LTE</td>\n      <td>1</td>\n      <td>1.280004e+08</td>\n      <td>234</td>\n      <td>10</td>\n      <td>20.0</td>\n      <td>1.440000e+02</td>\n      <td>18</td>\n      <td>...</td>\n      <td>NaN</td>\n      <td>NaN</td>\n      <td>1499268278000</td>\n      <td>1.499268e+12</td>\n      <td>2.556536e+13</td>\n      <td>1.496746e+11</td>\n      <td>12.0</td>\n      <td>50.846796</td>\n      <td>-0.133278</td>\n      <td>117.764547</td>\n    </tr>\n    <tr>\n      <th>3040233</th>\n      <td>1499268278855</td>\n      <td>9</td>\n      <td>LTE</td>\n      <td>0</td>\n      <td>2.147484e+09</td>\n      <td>234</td>\n      <td>10</td>\n      <td>20.0</td>\n      <td>2.147484e+09</td>\n      <td>10</td>\n      <td>...</td>\n      <td>NaN</td>\n      <td>NaN</td>\n      <td>1499268279000</td>\n      <td>1.499268e+12</td>\n      <td>2.556636e+13</td>\n      <td>1.496746e+11</td>\n      <td>12.0</td>\n      <td>50.846796</td>\n      <td>-0.133278</td>\n      <td>117.764547</td>\n    </tr>\n    <tr>\n      <th>3040232</th>\n      <td>1499268278855</td>\n      <td>9</td>\n      <td>LTE</td>\n      <td>1</td>\n      <td>1.280004e+08</td>\n      <td>234</td>\n      <td>10</td>\n      <td>20.0</td>\n      <td>1.440000e+02</td>\n      <td>18</td>\n      <td>...</td>\n      <td>NaN</td>\n      <td>NaN</td>\n      <td>1499268279000</td>\n      <td>1.499268e+12</td>\n      <td>2.556636e+13</td>\n      <td>1.496746e+11</td>\n      <td>12.0</td>\n      <td>50.846796</td>\n      <td>-0.133278</td>\n      <td>117.764547</td>\n    </tr>\n  </tbody>\n</table>\n<p>2303008 rows × 23 columns</p>\n</div>"
     },
     "execution_count": 16,
     "metadata": {},
     "output_type": "execute_result"
    }
   ],
   "source": [
    "train_cell.merge(train_location, on='epoch_time_id', how=\"left\").sort_values(by='epoch_time_id').query('accuracy > 0 and cell_type == \"LTE\"')"
   ],
   "metadata": {
    "collapsed": false,
    "pycharm": {
     "name": "#%%\n"
    }
   }
  },
  {
   "cell_type": "code",
   "execution_count": 18,
   "outputs": [
    {
     "data": {
      "text/plain": "       epoch_time  num_entries cell_type  isRegistered            ci  MCC  \\\n89  1490448212563            2       LTE             1  1.280593e+08  234   \n90  1490448212563            2       LTE             0  2.147484e+09  234   \n\n    MNC    PCI           TAC  asuLevel  dBm  level  cid  lac  PSC  \\\n89   10  425.0  4.096000e+03        41  -99      3  NaN  NaN  NaN   \n90   10  424.0  2.147484e+09        39 -101      3  NaN  NaN  NaN   \n\n    epoch_time_id  \n89  1490448213000  \n90  1490448213000  ",
      "text/html": "<div>\n<style scoped>\n    .dataframe tbody tr th:only-of-type {\n        vertical-align: middle;\n    }\n\n    .dataframe tbody tr th {\n        vertical-align: top;\n    }\n\n    .dataframe thead th {\n        text-align: right;\n    }\n</style>\n<table border=\"1\" class=\"dataframe\">\n  <thead>\n    <tr style=\"text-align: right;\">\n      <th></th>\n      <th>epoch_time</th>\n      <th>num_entries</th>\n      <th>cell_type</th>\n      <th>isRegistered</th>\n      <th>ci</th>\n      <th>MCC</th>\n      <th>MNC</th>\n      <th>PCI</th>\n      <th>TAC</th>\n      <th>asuLevel</th>\n      <th>dBm</th>\n      <th>level</th>\n      <th>cid</th>\n      <th>lac</th>\n      <th>PSC</th>\n      <th>epoch_time_id</th>\n    </tr>\n  </thead>\n  <tbody>\n    <tr>\n      <th>89</th>\n      <td>1490448212563</td>\n      <td>2</td>\n      <td>LTE</td>\n      <td>1</td>\n      <td>1.280593e+08</td>\n      <td>234</td>\n      <td>10</td>\n      <td>425.0</td>\n      <td>4.096000e+03</td>\n      <td>41</td>\n      <td>-99</td>\n      <td>3</td>\n      <td>NaN</td>\n      <td>NaN</td>\n      <td>NaN</td>\n      <td>1490448213000</td>\n    </tr>\n    <tr>\n      <th>90</th>\n      <td>1490448212563</td>\n      <td>2</td>\n      <td>LTE</td>\n      <td>0</td>\n      <td>2.147484e+09</td>\n      <td>234</td>\n      <td>10</td>\n      <td>424.0</td>\n      <td>2.147484e+09</td>\n      <td>39</td>\n      <td>-101</td>\n      <td>3</td>\n      <td>NaN</td>\n      <td>NaN</td>\n      <td>NaN</td>\n      <td>1490448213000</td>\n    </tr>\n  </tbody>\n</table>\n</div>"
     },
     "execution_count": 18,
     "metadata": {},
     "output_type": "execute_result"
    }
   ],
   "source": [
    "train_cell.query('epoch_time == 1490448212563')"
   ],
   "metadata": {
    "collapsed": false,
    "pycharm": {
     "name": "#%%\n"
    }
   }
  },
  {
   "cell_type": "code",
   "execution_count": 3,
   "outputs": [],
   "source": [
    "validate_cell_with_label = validate_label.merge(train_cell, how='left', on='epoch_time_id').sort_values(['epoch_time_id', 'cell_type', 'dBm'])[['epoch_time_id', 'label', 'cell_type', 'dBm', 'asuLevel', 'ci']]\n",
    "\n",
    "#.loc[:, ['epoch_time', 'label', 'SSID', 'RSSI']].sort_values(['epoch_time', 'RSSI'], ascending=[True, False]).groupby('epoch_time').agg({'label' : 'first', 'SSID' : 'first'}).reset_index()"
   ],
   "metadata": {
    "collapsed": false,
    "pycharm": {
     "name": "#%%\n"
    }
   }
  },
  {
   "cell_type": "code",
   "execution_count": 10,
   "outputs": [],
   "source": [
    "validate_cell_with_label.to_csv('./validate_cell_with_label.csv')"
   ],
   "metadata": {
    "collapsed": false,
    "pycharm": {
     "name": "#%%\n"
    }
   }
  },
  {
   "cell_type": "code",
   "execution_count": null,
   "outputs": [],
   "source": [],
   "metadata": {
    "collapsed": false,
    "pycharm": {
     "name": "#%%\n"
    }
   }
  }
 ],
 "metadata": {
  "kernelspec": {
   "display_name": "Python 3",
   "language": "python",
   "name": "python3"
  },
  "language_info": {
   "codemirror_mode": {
    "name": "ipython",
    "version": 2
   },
   "file_extension": ".py",
   "mimetype": "text/x-python",
   "name": "python",
   "nbconvert_exporter": "python",
   "pygments_lexer": "ipython2",
   "version": "2.7.6"
  }
 },
 "nbformat": 4,
 "nbformat_minor": 0
}