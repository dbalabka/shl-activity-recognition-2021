{
 "cells": [
  {
   "cell_type": "code",
   "execution_count": 1,
   "metadata": {
    "collapsed": true
   },
   "outputs": [],
   "source": [
    "%load_ext autoreload\n",
    "%autoreload 2\n",
    "\n",
    "%load_ext dotenv\n",
    "%dotenv"
   ]
  },
  {
   "cell_type": "code",
   "execution_count": 9,
   "outputs": [
    {
     "name": "stdout",
     "output_type": "stream",
     "text": [
      "--2021-06-04 17:21:40--  https://www.buses.co.uk/open-data/network/current\r\n",
      "Resolving www.buses.co.uk (www.buses.co.uk)... 68.183.252.169\r\n",
      "Connecting to www.buses.co.uk (www.buses.co.uk)|68.183.252.169|:443... connected.\r\n",
      "HTTP request sent, awaiting response... 302 Found\r\n",
      "Location: https://s3-eu-west-1.amazonaws.com/passenger-sources/brightonhove/txc/brightonhove_1622712712.zip [following]\r\n",
      "--2021-06-04 17:21:40--  https://s3-eu-west-1.amazonaws.com/passenger-sources/brightonhove/txc/brightonhove_1622712712.zip\r\n",
      "Resolving s3-eu-west-1.amazonaws.com (s3-eu-west-1.amazonaws.com)... 52.218.122.80\r\n",
      "Connecting to s3-eu-west-1.amazonaws.com (s3-eu-west-1.amazonaws.com)|52.218.122.80|:443... connected.\r\n",
      "HTTP request sent, awaiting response... 200 OK\r\n",
      "Length: 12554002 (12M) [application/zip]\r\n",
      "Saving to: ‘../additional_data/bus_stops.zip’\r\n",
      "\r\n",
      "../additional_data/ 100%[===================>]  11.97M  13.6MB/s    in 0.9s    \r\n",
      "\r\n",
      "2021-06-04 17:21:41 (13.6 MB/s) - ‘../additional_data/bus_stops.zip’ saved [12554002/12554002]\r\n",
      "\r\n",
      "Archive:  ../additional_data/bus_stops.zip\r\n",
      "  inflating: ../additional_data/bus_stops/H 0106-1206  27B removed 0306 & 0406/BH-TXC-1.xml  \r\n",
      "  inflating: ../additional_data/bus_stops/H 0106-1206  27B removed 0306 & 0406/BH-TXC-12.xml  \r\n",
      "  inflating: ../additional_data/bus_stops/H 0106-1206  27B removed 0306 & 0406/BH-TXC-12A.xml  \r\n",
      "  inflating: ../additional_data/bus_stops/H 0106-1206  27B removed 0306 & 0406/BH-TXC-12X.xml  \r\n",
      "  inflating: ../additional_data/bus_stops/H 0106-1206  27B removed 0306 & 0406/BH-TXC-13X.xml  \r\n",
      "  inflating: ../additional_data/bus_stops/H 0106-1206  27B removed 0306 & 0406/BH-TXC-14.xml  \r\n",
      "  inflating: ../additional_data/bus_stops/H 0106-1206  27B removed 0306 & 0406/BH-TXC-14A.xml  \r\n",
      "  inflating: ../additional_data/bus_stops/H 0106-1206  27B removed 0306 & 0406/BH-TXC-14B.xml  \r\n",
      "  inflating: ../additional_data/bus_stops/H 0106-1206  27B removed 0306 & 0406/BH-TXC-14C.xml  \r\n",
      "  inflating: ../additional_data/bus_stops/H 0106-1206  27B removed 0306 & 0406/BH-TXC-18.xml  \r\n",
      "  inflating: ../additional_data/bus_stops/H 0106-1206  27B removed 0306 & 0406/BH-TXC-1A.xml  \r\n",
      "  inflating: ../additional_data/bus_stops/H 0106-1206  27B removed 0306 & 0406/BH-TXC-2.xml  \r\n",
      "  inflating: ../additional_data/bus_stops/H 0106-1206  27B removed 0306 & 0406/BH-TXC-21.xml  \r\n",
      "  inflating: ../additional_data/bus_stops/H 0106-1206  27B removed 0306 & 0406/BH-TXC-21A.xml  \r\n",
      "  inflating: ../additional_data/bus_stops/H 0106-1206  27B removed 0306 & 0406/BH-TXC-21E.xml  \r\n",
      "  inflating: ../additional_data/bus_stops/H 0106-1206  27B removed 0306 & 0406/BH-TXC-22.xml  \r\n",
      "  inflating: ../additional_data/bus_stops/H 0106-1206  27B removed 0306 & 0406/BH-TXC-23.xml  \r\n",
      "  inflating: ../additional_data/bus_stops/H 0106-1206  27B removed 0306 & 0406/BH-TXC-24.xml  \r\n",
      "  inflating: ../additional_data/bus_stops/H 0106-1206  27B removed 0306 & 0406/BH-TXC-25.xml  \r\n",
      "  inflating: ../additional_data/bus_stops/H 0106-1206  27B removed 0306 & 0406/BH-TXC-26.xml  \r\n",
      "  inflating: ../additional_data/bus_stops/H 0106-1206  27B removed 0306 & 0406/BH-TXC-27.xml  \r\n",
      "  inflating: ../additional_data/bus_stops/H 0106-1206  27B removed 0306 & 0406/BH-TXC-27C.xml  \r\n",
      "  inflating: ../additional_data/bus_stops/H 0106-1206  27B removed 0306 & 0406/BH-TXC-28.xml  \r\n",
      "  inflating: ../additional_data/bus_stops/H 0106-1206  27B removed 0306 & 0406/BH-TXC-29.xml  \r\n",
      "  inflating: ../additional_data/bus_stops/H 0106-1206  27B removed 0306 & 0406/BH-TXC-29X.xml  \r\n",
      "  inflating: ../additional_data/bus_stops/H 0106-1206  27B removed 0306 & 0406/BH-TXC-2B.xml  \r\n",
      "  inflating: ../additional_data/bus_stops/H 0106-1206  27B removed 0306 & 0406/BH-TXC-46.xml  \r\n",
      "  inflating: ../additional_data/bus_stops/H 0106-1206  27B removed 0306 & 0406/BH-TXC-48.xml  \r\n",
      "  inflating: ../additional_data/bus_stops/H 0106-1206  27B removed 0306 & 0406/BH-TXC-49.xml  \r\n",
      "  inflating: ../additional_data/bus_stops/H 0106-1206  27B removed 0306 & 0406/BH-TXC-492.xml  \r\n",
      "  inflating: ../additional_data/bus_stops/H 0106-1206  27B removed 0306 & 0406/BH-TXC-494.xml  \r\n",
      "  inflating: ../additional_data/bus_stops/H 0106-1206  27B removed 0306 & 0406/BH-TXC-5.xml  \r\n",
      "  inflating: ../additional_data/bus_stops/H 0106-1206  27B removed 0306 & 0406/BH-TXC-50.xml  \r\n",
      "  inflating: ../additional_data/bus_stops/H 0106-1206  27B removed 0306 & 0406/BH-TXC-55.xml  \r\n",
      "  inflating: ../additional_data/bus_stops/H 0106-1206  27B removed 0306 & 0406/BH-TXC-59.xml  \r\n",
      "  inflating: ../additional_data/bus_stops/H 0106-1206  27B removed 0306 & 0406/BH-TXC-59A.xml  \r\n",
      "  inflating: ../additional_data/bus_stops/H 0106-1206  27B removed 0306 & 0406/BH-TXC-5A.xml  \r\n",
      "  inflating: ../additional_data/bus_stops/H 0106-1206  27B removed 0306 & 0406/BH-TXC-5B.xml  \r\n",
      "  inflating: ../additional_data/bus_stops/H 0106-1206  27B removed 0306 & 0406/BH-TXC-6.xml  \r\n",
      "  inflating: ../additional_data/bus_stops/H 0106-1206  27B removed 0306 & 0406/BH-TXC-60.xml  \r\n",
      "  inflating: ../additional_data/bus_stops/H 0106-1206  27B removed 0306 & 0406/BH-TXC-7.xml  \r\n",
      "  inflating: ../additional_data/bus_stops/H 0106-1206  27B removed 0306 & 0406/BH-TXC-70.xml  \r\n",
      "  inflating: ../additional_data/bus_stops/H 0106-1206  27B removed 0306 & 0406/BH-TXC-71.xml  \r\n",
      "  inflating: ../additional_data/bus_stops/H 0106-1206  27B removed 0306 & 0406/BH-TXC-71A.xml  \r\n",
      "  inflating: ../additional_data/bus_stops/H 0106-1206  27B removed 0306 & 0406/BH-TXC-72.xml  \r\n",
      "  inflating: ../additional_data/bus_stops/H 0106-1206  27B removed 0306 & 0406/BH-TXC-72A.xml  \r\n",
      "  inflating: ../additional_data/bus_stops/H 0106-1206  27B removed 0306 & 0406/BH-TXC-73.xml  \r\n",
      "  inflating: ../additional_data/bus_stops/H 0106-1206  27B removed 0306 & 0406/BH-TXC-74.xml  \r\n",
      "  inflating: ../additional_data/bus_stops/H 0106-1206  27B removed 0306 & 0406/BH-TXC-75.xml  \r\n",
      "  inflating: ../additional_data/bus_stops/H 0106-1206  27B removed 0306 & 0406/BH-TXC-76.xml  \r\n",
      "  inflating: ../additional_data/bus_stops/H 0106-1206  27B removed 0306 & 0406/BH-TXC-76A.xml  \r\n",
      "  inflating: ../additional_data/bus_stops/H 0106-1206  27B removed 0306 & 0406/BH-TXC-77.xml  \r\n",
      "  inflating: ../additional_data/bus_stops/H 0106-1206  27B removed 0306 & 0406/BH-TXC-78.xml  \r\n",
      "  inflating: ../additional_data/bus_stops/H 0106-1206  27B removed 0306 & 0406/BH-TXC-79.xml  \r\n",
      "  inflating: ../additional_data/bus_stops/H 0106-1206  27B removed 0306 & 0406/BH-TXC-91.xml  \r\n",
      "  inflating: ../additional_data/bus_stops/H 0106-1206  27B removed 0306 & 0406/BH-TXC-92.xml  \r\n",
      "  inflating: ../additional_data/bus_stops/H 0106-1206  27B removed 0306 & 0406/BH-TXC-93.xml  \r\n",
      "  inflating: ../additional_data/bus_stops/H 0106-1206  27B removed 0306 & 0406/BH-TXC-94.xml  \r\n",
      "  inflating: ../additional_data/bus_stops/H 0106-1206  27B removed 0306 & 0406/BH-TXC-94A.xml  \r\n",
      "  inflating: ../additional_data/bus_stops/H 0106-1206  27B removed 0306 & 0406/BH-TXC-95.xml  \r\n",
      "  inflating: ../additional_data/bus_stops/H 0106-1206  27B removed 0306 & 0406/BH-TXC-95A.xml  \r\n",
      "  inflating: ../additional_data/bus_stops/H 0106-1206  27B removed 0306 & 0406/BH-TXC-96.xml  \r\n",
      "  inflating: ../additional_data/bus_stops/H 0106-1206  27B removed 0306 & 0406/BH-TXC-96A.xml  \r\n",
      "  inflating: ../additional_data/bus_stops/H 0106-1206  27B removed 0306 & 0406/BH-TXC-98.xml  \r\n",
      "  inflating: ../additional_data/bus_stops/H 0106-1206  27B removed 0306 & 0406/BH-TXC-CSR.xml  \r\n",
      "  inflating: ../additional_data/bus_stops/H 0106-1206  27B removed 0306 & 0406/BH-TXC-N1.xml  \r\n",
      "  inflating: ../additional_data/bus_stops/H 0106-1206  27B removed 0306 & 0406/BH-TXC-N25.xml  \r\n",
      "  inflating: ../additional_data/bus_stops/H 0106-1206  27B removed 0306 & 0406/BH-TXC-N5.xml  \r\n",
      "  inflating: ../additional_data/bus_stops/H 0106-1206  27B removed 0306 & 0406/BH-TXC-N7.xml  \r\n",
      "  inflating: ../additional_data/bus_stops/H 0106-1206  27B removed 0306 & 0406/txcRouteSequenceOut.csv  \r\n"
     ]
    }
   ],
   "source": [
    "!wget 'https://www.buses.co.uk/open-data/network/current' -O ../additional_data/bus_stops.zip\n",
    "!mkdir -p ../additional_data/bus_stops\n",
    "!unzip -o ../additional_data/bus_stops.zip -d ../additional_data/bus_stops\n",
    "!mv ../additional_data/bus_stops/*/*.xml ../additional_data/bus_stops/"
   ],
   "metadata": {
    "collapsed": false,
    "pycharm": {
     "name": "#%%\n"
    }
   }
  },
  {
   "cell_type": "code",
   "execution_count": 1,
   "outputs": [],
   "source": [
    "import xml.etree.ElementTree as ET\n",
    "from shapely.geometry import Point, LineString\n",
    "import geopandas as gpd\n",
    "from tqdm import tqdm\n",
    "import glob\n",
    "import pickle"
   ],
   "metadata": {
    "collapsed": false,
    "pycharm": {
     "name": "#%%\n"
    }
   }
  },
  {
   "cell_type": "code",
   "execution_count": 1,
   "outputs": [
    {
     "name": "stderr",
     "output_type": "stream",
     "text": [
      "100%|██████████| 69/69 [00:27<00:00,  2.50it/s]\n"
     ]
    }
   ],
   "source": [
    "def export_stops(file: str) -> list:\n",
    "    root = ET.parse(file).getroot()\n",
    "    points = []\n",
    "    for annotation in root.find('{*}StopPoints'):\n",
    "        longitude = float(annotation.find('{*}Location').find('{*}Longitude').text)\n",
    "        latitude = float(annotation.find('{*}Location').find('{*}Latitude').text)\n",
    "        points.append([latitude, longitude])\n",
    "    return points\n",
    "\n",
    "def export_all_stops() -> list:\n",
    "    all_stops_points = []\n",
    "    for file in tqdm(glob.glob(\"../additional_data/bus_stops/*.xml\")):\n",
    "        all_stops_points = all_stops_points + export_stops(file)\n",
    "    return all_stops_points\n",
    "\n",
    "with open('../additional_data/bus_stops.pickle', 'wb') as f:\n",
    "    pickle.dump(export_all_stops(), f, pickle.HIGHEST_PROTOCOL)"
   ],
   "metadata": {
    "collapsed": false,
    "pycharm": {
     "name": "#%%\n"
    }
   }
  },
  {
   "cell_type": "code",
   "execution_count": 2,
   "outputs": [
    {
     "name": "stderr",
     "output_type": "stream",
     "text": [
      "100%|██████████| 69/69 [00:30<00:00,  2.26it/s]\n"
     ]
    }
   ],
   "source": [
    "def export_routes(file: str) -> list:\n",
    "    route_sections = ET.parse(file).getroot().find('{*}RouteSections')\n",
    "    tracks = []\n",
    "    for route_section in route_sections:\n",
    "        for route_line in route_section:\n",
    "            points = []\n",
    "            for location in route_line.find('{*}Track').find('{*}Mapping').findall('{*}Location'):\n",
    "                longitude = float(location.find('{*}Longitude').text)\n",
    "                latitude = float(location.find('{*}Latitude').text)\n",
    "                points.append(Point(longitude, latitude))\n",
    "            tracks.append(LineString(points))\n",
    "    return tracks\n",
    "\n",
    "def export_all_routes():\n",
    "    all_routes_lines = []\n",
    "    for file in tqdm(glob.glob(\"../additional_data/bus_stops/*.xml\")):\n",
    "        all_routes_lines = all_routes_lines + export_routes(file)\n",
    "    return gpd.GeoDataFrame(geometry=all_routes_lines)\n",
    "\n",
    "export_all_routes().to_file(\"../additional_data/bus_routes.json\", driver=\"GeoJSON\")"
   ],
   "metadata": {
    "collapsed": false,
    "pycharm": {
     "name": "#%%\n"
    }
   }
  },
  {
   "cell_type": "code",
   "execution_count": null,
   "outputs": [],
   "source": [],
   "metadata": {
    "collapsed": false,
    "pycharm": {
     "name": "#%%\n"
    }
   }
  }
 ],
 "metadata": {
  "kernelspec": {
   "display_name": "Python 3",
   "language": "python",
   "name": "python3"
  },
  "language_info": {
   "codemirror_mode": {
    "name": "ipython",
    "version": 2
   },
   "file_extension": ".py",
   "mimetype": "text/x-python",
   "name": "python",
   "nbconvert_exporter": "python",
   "pygments_lexer": "ipython2",
   "version": "2.7.6"
  }
 },
 "nbformat": 4,
 "nbformat_minor": 0
}