{
 "cells": [
  {
   "cell_type": "code",
   "execution_count": 1,
   "metadata": {
    "collapsed": true
   },
   "outputs": [],
   "source": [
    "from shl.prepare import parse_csv"
   ]
  },
  {
   "cell_type": "markdown",
   "source": [
    "# Covert WiFi files into Parquet format"
   ],
   "metadata": {
    "collapsed": false,
    "pycharm": {
     "name": "#%% md\n"
    }
   }
  },
  {
   "cell_type": "code",
   "execution_count": 2,
   "outputs": [
    {
     "name": "stdout",
     "output_type": "stream",
     "text": [
      "         Epoch time [ms]         Ignore1       Ignore2  Unknown  \\\n",
      "0          1497426495755     94062335923   25013238017       11   \n",
      "1          1497426495755     94062335923   25013238017       11   \n",
      "2          1497426495755     94062335923   25013238017       11   \n",
      "3          1497426495755     94062335923   25013238017       11   \n",
      "4          1497426495755     94062335923   25013238017       11   \n",
      "...                  ...             ...           ...      ...   \n",
      "1486473    1499462768865  39302909359643  225472967673        8   \n",
      "1486474    1499462768865  39302909359643  225472967673        8   \n",
      "1486475    1499462768865  39302909359643  225472967673        8   \n",
      "1486476    1499462768865  39302909359643  225472967673        8   \n",
      "1486477    1499462768865  39302909359643  225472967673        8   \n",
      "\n",
      "                     BSSID                SSID  RSSI  Frequency [MHz]  \\\n",
      "0        70:50:af:2d:ed:d9            SKY484B1   -36             2462   \n",
      "1        74:44:01:f9:12:4c  virginmedia7072875   -66             2437   \n",
      "2        22:03:d8:03:39:62            BTWifi-X   -66             2462   \n",
      "3        1c:a5:32:a2:fd:1b      EXT2-VM7640780   -72             2437   \n",
      "4        00:03:d8:03:39:62         BTHub3-PHSH   -65             2462   \n",
      "...                    ...                 ...   ...              ...   \n",
      "1486473  92:4d:4a:2a:f5:7c            BTWifi-X   -82             2462   \n",
      "1486474  64:0f:29:0d:f7:b1       Albion Dental   -70             2432   \n",
      "1486475  92:4d:4a:2a:f5:7f     BTWifi-with-FON   -82             2462   \n",
      "1486476  64:0f:29:0d:f7:b4          BTOpenzone   -70             2432   \n",
      "1486477  88:ce:fa:86:f5:04     TALKTALK-86F4FC   -88             2412   \n",
      "\n",
      "                                              Capabilities  \n",
      "0                                [WPA2-PSK-CCMP][WPS][ESS]  \n",
      "1        [WPA-PSK-CCMP+TKIP][WPA2-PSK-CCMP+TKIP][WPS][ESS]  \n",
      "2        [WPA-EAP-CCMP+TKIP][WPA2-EAP-CCMP+TKIP-preauth...  \n",
      "3                                     [WPA2-PSK-CCMP][ESS]  \n",
      "4        [WPA-PSK-CCMP+TKIP][WPA2-PSK-CCMP+TKIP][WPS][ESS]  \n",
      "...                                                    ...  \n",
      "1486473                       [WPA2-EAP-CCMP-preauth][ESS]  \n",
      "1486474                               [WPA2-PSK-CCMP][ESS]  \n",
      "1486475                                              [ESS]  \n",
      "1486476                                              [ESS]  \n",
      "1486477  [WPA-PSK-CCMP+TKIP][WPA2-PSK-CCMP+TKIP][WPS][E...  \n",
      "\n",
      "[1486478 rows x 9 columns]\n",
      "Epoch time [ms]     int64\n",
      "Ignore1             int64\n",
      "Ignore2             int64\n",
      "Unknown             int64\n",
      "BSSID              object\n",
      "SSID               object\n",
      "RSSI                int64\n",
      "Frequency [MHz]     int64\n",
      "Capabilities       object\n",
      "dtype: object\n"
     ]
    }
   ],
   "source": [
    "settings = {\n",
    "    'columns': ['Epoch time [ms]', 'Ignore1', 'Ignore2', 'Unknown', 'BSSID', 'SSID', 'RSSI', 'Frequency [MHz]', 'Capabilities'],\n",
    "    'numeric_columns': ['Epoch time [ms]', 'Ignore1', 'Ignore2', 'Unknown', 'RSSI', 'Frequency [MHz]'],\n",
    "}\n",
    "df = parse_csv(\n",
    "    '../data/validate/WiFi.txt',\n",
    "    **settings\n",
    ")\n",
    "print(df)\n",
    "print(df.dtypes)\n",
    "\n",
    "df.to_parquet('../data/validate/WiFi.parquet')\n",
    "parse_csv('../data/train/WiFi.txt', **settings).to_parquet('../data/train/WiFi.parquet')\n",
    "parse_csv('../data/test/WiFi.txt', **settings).to_parquet('../data/test/WiFi.parquet')"
   ],
   "metadata": {
    "collapsed": false,
    "pycharm": {
     "name": "#%%\n"
    }
   }
  },
  {
   "cell_type": "markdown",
   "source": [
    "# Covert GSM files into Parquet format"
   ],
   "metadata": {
    "collapsed": false,
    "pycharm": {
     "name": "#%% md\n"
    }
   }
  },
  {
   "cell_type": "code",
   "execution_count": 8,
   "outputs": [
    {
     "name": "stdout",
     "output_type": "stream",
     "text": [
      "         Epoch time [ms]         Ignore1      Ignore2   ID   SNR  \\\n",
      "0          1497426497900     96207437485  25013238017  168  27.0   \n",
      "1          1497426498504     96810820297  25013238017   17  36.0   \n",
      "2          1497426498504     96810820297  25013238017  168  27.0   \n",
      "3          1497426499510     97817632276  25013238017   15  22.0   \n",
      "4          1497426499510     97817632276  25013238017   17  37.0   \n",
      "...                  ...             ...          ...  ...   ...   \n",
      "1516194    1497460951343  19834947491818 -14929687822  169  25.0   \n",
      "1516195    1497460952344  19835948809005 -14929687822   10  22.0   \n",
      "1516196    1497460952344  19835948809005 -14929687822  169  25.0   \n",
      "1516197    1497460953344  19836948478797 -14929687822   10  22.0   \n",
      "1516198    1497460953344  19836948478797 -14929687822  169  25.0   \n",
      "\n",
      "         Azimuth [degrees]  Elevation [degrees]  \n",
      "0                    109.0                 23.0  \n",
      "1                     61.0                 33.0  \n",
      "2                    109.0                 23.0  \n",
      "3                    179.0                 51.0  \n",
      "4                     61.0                 33.0  \n",
      "...                    ...                  ...  \n",
      "1516194              132.0                 40.0  \n",
      "1516195               99.0                 57.0  \n",
      "1516196              132.0                 40.0  \n",
      "1516197               99.0                 57.0  \n",
      "1516198              132.0                 40.0  \n",
      "\n",
      "[1516199 rows x 7 columns]\n",
      "Epoch time [ms]          int64\n",
      "Ignore1                  int64\n",
      "Ignore2                  int64\n",
      "ID                       int64\n",
      "SNR                    float64\n",
      "Azimuth [degrees]      float64\n",
      "Elevation [degrees]    float64\n",
      "dtype: object\n"
     ]
    }
   ],
   "source": [
    "settings = {\n",
    "    'columns': ['Epoch time [ms]', 'Ignore1', 'Ignore2' , 'ID', 'SNR', 'Azimuth [degrees]', 'Elevation [degrees]'],\n",
    "    'numeric_columns': ['Epoch time [ms]', 'Ignore1', 'Ignore2' , 'ID', 'SNR', 'Azimuth [degrees]', 'Elevation [degrees]'],\n",
    "    'head_size': 3,\n",
    "    'chunk_size': 4,\n",
    "    'sep': ' ',\n",
    "    'tail_columns_count': 1,\n",
    "}\n",
    "df = parse_csv(\n",
    "    '../data/validate/GPS.txt',\n",
    "    **settings,\n",
    ")\n",
    "print(df)\n",
    "print(df.dtypes)\n",
    "\n",
    "df.to_parquet('../data/validate/GPS.parquet')\n",
    "parse_csv('../data/train/GPS.txt', **settings).to_parquet('../data/train/GPS.parquet')\n",
    "parse_csv('../data/test/GPS.txt', **settings).to_parquet('../data/test/GPS.parquet')"
   ],
   "metadata": {
    "collapsed": false,
    "pycharm": {
     "name": "#%%\n"
    }
   }
  },
  {
   "cell_type": "markdown",
   "source": [
    "# Covert Location files into Parquet format"
   ],
   "metadata": {
    "collapsed": false,
    "pycharm": {
     "name": "#%% md\n"
    }
   }
  },
  {
   "cell_type": "code",
   "execution_count": 15,
   "outputs": [
    {
     "name": "stdout",
     "output_type": "stream",
     "text": [
      "        Epoch time [ms]         Ignore1      Ignore2  Accuracy   Latitude  \\\n",
      "0         1497426503550    101842044776  25013238017      96.0  50.826394   \n",
      "1         1497426505561    103865796859  25013238017     128.0  50.826394   \n",
      "2         1497426506564    104867506754  25013238017      96.0  50.826394   \n",
      "3         1497426507564    105868579671  25013238017     128.0  50.826396   \n",
      "4         1497426508567    106870385400  25013238017     128.0  50.826396   \n",
      "...                 ...             ...          ...       ...        ...   \n",
      "101519    1497460776353  19659944910595 -14937852926      16.0  50.874213   \n",
      "101520    1497460777355  19660948271532 -14937852926      16.0  50.874213   \n",
      "101521    1497460778374  19661952810595 -14937852926      16.0  50.874213   \n",
      "101522    1497460779366  19662956362678 -14937852926      16.0  50.874212   \n",
      "101523    1497460780367  19663960197053 -14937852926      16.0  50.874212   \n",
      "\n",
      "        Longitude    Altitude  \n",
      "0       -0.119515  248.937172  \n",
      "1       -0.119528  129.362557  \n",
      "2       -0.119551  130.095681  \n",
      "3       -0.119589  130.184470  \n",
      "4       -0.119589  130.184470  \n",
      "...           ...         ...  \n",
      "101519   0.012996   63.847630  \n",
      "101520   0.012996   63.847630  \n",
      "101521   0.012996   63.847630  \n",
      "101522   0.012994   63.847630  \n",
      "101523   0.012993   63.847630  \n",
      "\n",
      "[101524 rows x 7 columns]\n",
      "Epoch time [ms]      int64\n",
      "Ignore1              int64\n",
      "Ignore2              int64\n",
      "Accuracy           float64\n",
      "Latitude           float64\n",
      "Longitude          float64\n",
      "Altitude           float64\n",
      "dtype: object\n"
     ]
    }
   ],
   "source": [
    "settings = {\n",
    "    'columns': ['Epoch time [ms]', 'Ignore1', 'Ignore2' , 'Accuracy', 'Latitude', 'Longitude', 'Altitude'],\n",
    "    'numeric_columns': ['Epoch time [ms]', 'Ignore1', 'Ignore2' , 'Accuracy', 'Latitude', 'Longitude', 'Altitude'],\n",
    "    'head_size': 7,\n",
    "    'chunk_size': 0,\n",
    "    'sep': ' ',\n",
    "    'tail_columns_count': 0,\n",
    "}\n",
    "df = parse_csv(\n",
    "    '../data/validate/Location.txt',\n",
    "    **settings,\n",
    ")\n",
    "print(df)\n",
    "print(df.dtypes)\n",
    "\n",
    "df.to_parquet('../data/validate/Location.parquet')\n",
    "parse_csv('../data/train/Location.txt', **settings).to_parquet('../data/train/Location.parquet')\n",
    "parse_csv('../data/test/Location.txt', **settings).to_parquet('../data/test/Location.parquet')"
   ],
   "metadata": {
    "collapsed": false,
    "pycharm": {
     "name": "#%%\n"
    }
   }
  },
  {
   "cell_type": "code",
   "execution_count": null,
   "outputs": [],
   "source": [],
   "metadata": {
    "collapsed": false,
    "pycharm": {
     "name": "#%%\n"
    }
   }
  }
 ],
 "metadata": {
  "kernelspec": {
   "display_name": "Python 3",
   "language": "python",
   "name": "python3"
  },
  "language_info": {
   "codemirror_mode": {
    "name": "ipython",
    "version": 2
   },
   "file_extension": ".py",
   "mimetype": "text/x-python",
   "name": "python",
   "nbconvert_exporter": "python",
   "pygments_lexer": "ipython2",
   "version": "2.7.6"
  }
 },
 "nbformat": 4,
 "nbformat_minor": 0
}