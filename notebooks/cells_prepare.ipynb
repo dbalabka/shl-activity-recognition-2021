{
 "cells": [
  {
   "cell_type": "code",
   "execution_count": 1,
   "id": "f92f8a8d-598f-41d7-996d-c1b7870f61a1",
   "metadata": {},
   "outputs": [],
   "source": [
    "import numpy as np\n",
    "import pandas as pd\n",
    "import os\n",
    "\n",
    "os.chdir('../')"
   ]
  },
  {
   "cell_type": "markdown",
   "id": "711bdbfb-d644-4acb-bf5e-1c26ba81727c",
   "metadata": {},
   "source": [
    "## Cells dataframe"
   ]
  },
  {
   "cell_type": "code",
   "execution_count": 2,
   "id": "1c5297bc-5ee1-4be6-874d-205afdc86707",
   "metadata": {},
   "outputs": [
    {
     "name": "stdout",
     "output_type": "stream",
     "text": [
      "Lines processed: 1324881\n"
     ]
    }
   ],
   "source": [
    "# Read file and create list of lines from file\n",
    "\n",
    "filename = './data/train/Cells.txt'\n",
    "\n",
    "lines = []\n",
    "with open(filename) as f:\n",
    "    for line in f:\n",
    "        lines.append(line)        \n",
    "\n",
    "print('Lines processed: {}'.format(len(lines)))"
   ]
  },
  {
   "cell_type": "code",
   "execution_count": 3,
   "id": "dd3716c5-e9b8-4df9-9134-5bbcd7a8f008",
   "metadata": {},
   "outputs": [],
   "source": [
    "# Data properties\n",
    "cell_types = ['LTE', 'WCDMA', 'GSM']\n",
    "lte_columns = ['isRegistered', 'ci', 'MCC', 'MNC', 'PCI', 'TAC', 'asuLevel', 'dBm', 'level']\n",
    "wcdma_columns = ['isRegistered', 'cid', 'lac', 'MCC', 'MNC', 'PSC', 'asuLevel', 'dBm', 'level']\n",
    "gsm_columns = ['isRegistered', 'cid', 'lac', 'MCC', 'MNC', 'asuLevel', 'dBm', 'level']\n",
    "cell_columns = [lte_columns, wcdma_columns, gsm_columns]\n",
    "col_lengths = [len(lte_columns), len(wcdma_columns), len(gsm_columns)]"
   ]
  },
  {
   "cell_type": "code",
   "execution_count": 4,
   "id": "58a64db1-5039-466a-84ba-80e3f7cf5846",
   "metadata": {},
   "outputs": [
    {
     "name": "stdout",
     "output_type": "stream",
     "text": [
      "Lines processed: 1324881\n"
     ]
    }
   ],
   "source": [
    "# Transform data from lines into structured format\n",
    "\n",
    "# Create list for transformed data\n",
    "cells_data = []\n",
    "\n",
    "# Iterate through lines\n",
    "for line in lines:    \n",
    "    line_split_space = line.split(' ')   \n",
    "    \n",
    "    # Create dictionary entry\n",
    "    entry = {'epoch_time': line_split_space[0], 'num_entries': line_split_space[3]}\n",
    "    \n",
    "    # Iterate through cell types\n",
    "    for cell_type, col_len in list(zip(cell_types, col_lengths)):        \n",
    "    \n",
    "        # Split line by cell type\n",
    "        line_split = line.split(cell_type)       \n",
    "        \n",
    "        # Create empty list for entries from particular cell type\n",
    "        items = []\n",
    "        \n",
    "        # Iterate through parts of the line (excluding the first one)\n",
    "        for item in line_split[1:]:\n",
    "            \n",
    "            # Split each part by space\n",
    "            item_split = item.strip().split(' ')           \n",
    "\n",
    "            items.append(item_split[:col_len])  \n",
    "        \n",
    "        # Add data received from particular cell type to the dict\n",
    "        entry[cell_type] = items     \n",
    "    \n",
    "    cells_data.append(entry)\n",
    "\n",
    "print('Lines processed: {}'.format(len(cells_data)))"
   ]
  },
  {
   "cell_type": "code",
   "execution_count": 5,
   "id": "659d06e4-b919-4693-a648-91d14dad4bdf",
   "metadata": {},
   "outputs": [
    {
     "name": "stderr",
     "output_type": "stream",
     "text": [
      "<ipython-input-5-59e27d86d6a7>:16: SettingWithCopyWarning: \n",
      "A value is trying to be set on a copy of a slice from a DataFrame.\n",
      "Try using .loc[row_indexer,col_indexer] = value instead\n",
      "\n",
      "See the caveats in the documentation: https://pandas.pydata.org/pandas-docs/stable/user_guide/indexing.html#returning-a-view-versus-a-copy\n",
      "  df['cell_type'] = cell_type\n",
      "<ipython-input-5-59e27d86d6a7>:16: SettingWithCopyWarning: \n",
      "A value is trying to be set on a copy of a slice from a DataFrame.\n",
      "Try using .loc[row_indexer,col_indexer] = value instead\n",
      "\n",
      "See the caveats in the documentation: https://pandas.pydata.org/pandas-docs/stable/user_guide/indexing.html#returning-a-view-versus-a-copy\n",
      "  df['cell_type'] = cell_type\n",
      "<ipython-input-5-59e27d86d6a7>:16: SettingWithCopyWarning: \n",
      "A value is trying to be set on a copy of a slice from a DataFrame.\n",
      "Try using .loc[row_indexer,col_indexer] = value instead\n",
      "\n",
      "See the caveats in the documentation: https://pandas.pydata.org/pandas-docs/stable/user_guide/indexing.html#returning-a-view-versus-a-copy\n",
      "  df['cell_type'] = cell_type\n"
     ]
    }
   ],
   "source": [
    "# Transform data from list to dataframe\n",
    "\n",
    "# Create raw dataframe from list\n",
    "cells_df = pd.DataFrame(cells_data)\n",
    "\n",
    "# Create list of dataframes\n",
    "dfs = []\n",
    "\n",
    "# Iterate through cell types and corresponding column sets\n",
    "for cell_type, cols in list(zip(cell_types, cell_columns)):\n",
    "    \n",
    "    # Create dataframe for each cell type\n",
    "    df = cells_df[['epoch_time', 'num_entries', cell_type]]\n",
    "    \n",
    "    # Create cell type identifier\n",
    "    df['cell_type'] = cell_type  \n",
    "    \n",
    "    # Explode list of lists and drop na\n",
    "    df = df.explode(cell_type).dropna()\n",
    "    \n",
    "    # Create columns from lists\n",
    "    df[cols] = pd.DataFrame(df[cell_type].tolist(), index=df.index)\n",
    "    \n",
    "    # Drop column which is no longer needed\n",
    "    df.drop(cell_type, axis=1, inplace=True)\n",
    "    \n",
    "    # Append df to the list\n",
    "    dfs.append(df)\n",
    "\n",
    "# Concatenate dataframes from different cell types    \n",
    "cells_df = pd.concat(dfs, axis=0, ignore_index=True)"
   ]
  },
  {
   "cell_type": "code",
   "execution_count": 6,
   "id": "5ad603da-23c1-4d71-96ca-8520e8161d31",
   "metadata": {},
   "outputs": [
    {
     "data": {
      "text/html": [
       "<div>\n",
       "<style scoped>\n",
       "    .dataframe tbody tr th:only-of-type {\n",
       "        vertical-align: middle;\n",
       "    }\n",
       "\n",
       "    .dataframe tbody tr th {\n",
       "        vertical-align: top;\n",
       "    }\n",
       "\n",
       "    .dataframe thead th {\n",
       "        text-align: right;\n",
       "    }\n",
       "</style>\n",
       "<table border=\"1\" class=\"dataframe\">\n",
       "  <thead>\n",
       "    <tr style=\"text-align: right;\">\n",
       "      <th></th>\n",
       "      <th>epoch_time</th>\n",
       "      <th>num_entries</th>\n",
       "      <th>cell_type</th>\n",
       "      <th>isRegistered</th>\n",
       "      <th>ci</th>\n",
       "      <th>MCC</th>\n",
       "      <th>MNC</th>\n",
       "      <th>PCI</th>\n",
       "      <th>TAC</th>\n",
       "      <th>asuLevel</th>\n",
       "      <th>dBm</th>\n",
       "      <th>level</th>\n",
       "      <th>cid</th>\n",
       "      <th>lac</th>\n",
       "      <th>PSC</th>\n",
       "    </tr>\n",
       "  </thead>\n",
       "  <tbody>\n",
       "    <tr>\n",
       "      <th>0</th>\n",
       "      <td>1490430923343</td>\n",
       "      <td>3</td>\n",
       "      <td>LTE</td>\n",
       "      <td>1</td>\n",
       "      <td>128000386</td>\n",
       "      <td>234</td>\n",
       "      <td>10</td>\n",
       "      <td>20</td>\n",
       "      <td>144</td>\n",
       "      <td>25</td>\n",
       "      <td>-115</td>\n",
       "      <td>2</td>\n",
       "      <td>NaN</td>\n",
       "      <td>NaN</td>\n",
       "      <td>NaN</td>\n",
       "    </tr>\n",
       "    <tr>\n",
       "      <th>1</th>\n",
       "      <td>1490430923343</td>\n",
       "      <td>3</td>\n",
       "      <td>LTE</td>\n",
       "      <td>0</td>\n",
       "      <td>2147483647</td>\n",
       "      <td>234</td>\n",
       "      <td>10</td>\n",
       "      <td>398</td>\n",
       "      <td>2147483647</td>\n",
       "      <td>22</td>\n",
       "      <td>-118</td>\n",
       "      <td>1</td>\n",
       "      <td>NaN</td>\n",
       "      <td>NaN</td>\n",
       "      <td>NaN</td>\n",
       "    </tr>\n",
       "    <tr>\n",
       "      <th>2</th>\n",
       "      <td>1490430923343</td>\n",
       "      <td>3</td>\n",
       "      <td>LTE</td>\n",
       "      <td>0</td>\n",
       "      <td>2147483647</td>\n",
       "      <td>234</td>\n",
       "      <td>10</td>\n",
       "      <td>4</td>\n",
       "      <td>2147483647</td>\n",
       "      <td>16</td>\n",
       "      <td>-124</td>\n",
       "      <td>1</td>\n",
       "      <td>NaN</td>\n",
       "      <td>NaN</td>\n",
       "      <td>NaN</td>\n",
       "    </tr>\n",
       "    <tr>\n",
       "      <th>3</th>\n",
       "      <td>1490430923349</td>\n",
       "      <td>3</td>\n",
       "      <td>LTE</td>\n",
       "      <td>1</td>\n",
       "      <td>128000386</td>\n",
       "      <td>234</td>\n",
       "      <td>10</td>\n",
       "      <td>20</td>\n",
       "      <td>144</td>\n",
       "      <td>25</td>\n",
       "      <td>-115</td>\n",
       "      <td>2</td>\n",
       "      <td>NaN</td>\n",
       "      <td>NaN</td>\n",
       "      <td>NaN</td>\n",
       "    </tr>\n",
       "    <tr>\n",
       "      <th>4</th>\n",
       "      <td>1490430923349</td>\n",
       "      <td>3</td>\n",
       "      <td>LTE</td>\n",
       "      <td>0</td>\n",
       "      <td>2147483647</td>\n",
       "      <td>234</td>\n",
       "      <td>10</td>\n",
       "      <td>398</td>\n",
       "      <td>2147483647</td>\n",
       "      <td>22</td>\n",
       "      <td>-118</td>\n",
       "      <td>1</td>\n",
       "      <td>NaN</td>\n",
       "      <td>NaN</td>\n",
       "      <td>NaN</td>\n",
       "    </tr>\n",
       "  </tbody>\n",
       "</table>\n",
       "</div>"
      ],
      "text/plain": [
       "      epoch_time num_entries cell_type isRegistered          ci  MCC MNC  PCI  \\\n",
       "0  1490430923343           3       LTE            1   128000386  234  10   20   \n",
       "1  1490430923343           3       LTE            0  2147483647  234  10  398   \n",
       "2  1490430923343           3       LTE            0  2147483647  234  10    4   \n",
       "3  1490430923349           3       LTE            1   128000386  234  10   20   \n",
       "4  1490430923349           3       LTE            0  2147483647  234  10  398   \n",
       "\n",
       "          TAC asuLevel   dBm level  cid  lac  PSC  \n",
       "0         144       25  -115     2  NaN  NaN  NaN  \n",
       "1  2147483647       22  -118     1  NaN  NaN  NaN  \n",
       "2  2147483647       16  -124     1  NaN  NaN  NaN  \n",
       "3         144       25  -115     2  NaN  NaN  NaN  \n",
       "4  2147483647       22  -118     1  NaN  NaN  NaN  "
      ]
     },
     "execution_count": 6,
     "metadata": {},
     "output_type": "execute_result"
    }
   ],
   "source": [
    "cells_df.head()"
   ]
  },
  {
   "cell_type": "code",
   "execution_count": 7,
   "id": "2e58a6bd-f7be-41bd-aaaf-c1f898b26ccd",
   "metadata": {},
   "outputs": [
    {
     "data": {
      "text/plain": [
       "(4474380, 15)"
      ]
     },
     "execution_count": 7,
     "metadata": {},
     "output_type": "execute_result"
    }
   ],
   "source": [
    "cells_df.shape"
   ]
  },
  {
   "cell_type": "code",
   "execution_count": 8,
   "id": "cad73b2f-e297-4293-97fa-ee582fcd73c6",
   "metadata": {},
   "outputs": [],
   "source": [
    "# Save prepared data to csv\n",
    "cells_df.to_csv('./data/train/Cells.csv', index=False)"
   ]
  },
  {
   "cell_type": "code",
   "execution_count": 9,
   "id": "6052f950-67bb-4fff-ace2-058d1f5c03b1",
   "metadata": {},
   "outputs": [
    {
     "data": {
      "text/plain": [
       "LTE      3035275\n",
       "GSM       933211\n",
       "WCDMA     505894\n",
       "Name: cell_type, dtype: int64"
      ]
     },
     "execution_count": 9,
     "metadata": {},
     "output_type": "execute_result"
    }
   ],
   "source": [
    "cells_df.cell_type.value_counts()"
   ]
  },
  {
   "cell_type": "code",
   "execution_count": 10,
   "id": "64786550-ab24-486a-bfd8-b038582b25a8",
   "metadata": {},
   "outputs": [
    {
     "data": {
      "text/plain": [
       "0    3237995\n",
       "1    1236385\n",
       "Name: isRegistered, dtype: int64"
      ]
     },
     "execution_count": 10,
     "metadata": {},
     "output_type": "execute_result"
    }
   ],
   "source": [
    "cells_df.isRegistered.value_counts()"
   ]
  },
  {
   "cell_type": "code",
   "execution_count": 11,
   "id": "723e90fa-0734-44f2-b93e-b5c6e48cd39c",
   "metadata": {},
   "outputs": [
    {
     "data": {
      "text/plain": [
       "234    4472966\n",
       "208       1414\n",
       "Name: MCC, dtype: int64"
      ]
     },
     "execution_count": 11,
     "metadata": {},
     "output_type": "execute_result"
    }
   ],
   "source": [
    "cells_df.MCC.value_counts()"
   ]
  },
  {
   "cell_type": "code",
   "execution_count": 12,
   "id": "d245ad56-faee-41bd-8b43-8bf8881da8c6",
   "metadata": {},
   "outputs": [
    {
     "data": {
      "text/plain": [
       "10    4446064\n",
       "30      16588\n",
       "15       9070\n",
       "20       2062\n",
       "1         440\n",
       "33        156\n",
       "Name: MNC, dtype: int64"
      ]
     },
     "execution_count": 12,
     "metadata": {},
     "output_type": "execute_result"
    }
   ],
   "source": [
    "cells_df.MNC.value_counts()"
   ]
  },
  {
   "cell_type": "code",
   "execution_count": 13,
   "id": "762446c8-0979-4fee-8200-c35f1b49e358",
   "metadata": {},
   "outputs": [
    {
     "data": {
      "text/plain": [
       "20     247926\n",
       "398    153692\n",
       "4      138807\n",
       "169     80231\n",
       "170     64335\n",
       "        ...  \n",
       "123        62\n",
       "497        52\n",
       "499        38\n",
       "496        10\n",
       "501         6\n",
       "Name: PCI, Length: 503, dtype: int64"
      ]
     },
     "execution_count": 13,
     "metadata": {},
     "output_type": "execute_result"
    }
   ],
   "source": [
    "cells_df.PCI.value_counts()"
   ]
  },
  {
   "cell_type": "code",
   "execution_count": 14,
   "id": "e08801f8-595e-4c82-8d59-198d73e26093",
   "metadata": {},
   "outputs": [
    {
     "data": {
      "text/plain": [
       "2147483647    2024952\n",
       "144            635863\n",
       "128             39402\n",
       "16              39401\n",
       "17104           38272\n",
       "               ...   \n",
       "6190                2\n",
       "1401                2\n",
       "5160                2\n",
       "5164                2\n",
       "5109                2\n",
       "Name: TAC, Length: 97, dtype: int64"
      ]
     },
     "execution_count": 14,
     "metadata": {},
     "output_type": "execute_result"
    }
   ],
   "source": [
    "cells_df.TAC.value_counts()"
   ]
  },
  {
   "cell_type": "code",
   "execution_count": 15,
   "id": "a620d470-d3d1-42c8-b93a-cddf19116a84",
   "metadata": {},
   "outputs": [
    {
     "data": {
      "text/plain": [
       "0     320995\n",
       "1     161461\n",
       "2     161392\n",
       "3     135512\n",
       "4     117184\n",
       "       ...  \n",
       "92        12\n",
       "93        10\n",
       "91        10\n",
       "95         4\n",
       "96         4\n",
       "Name: asuLevel, Length: 97, dtype: int64"
      ]
     },
     "execution_count": 15,
     "metadata": {},
     "output_type": "execute_result"
    }
   ],
   "source": [
    "cells_df.asuLevel.value_counts()"
   ]
  },
  {
   "cell_type": "code",
   "execution_count": 16,
   "id": "2a56a205-3969-4766-ba68-ccf7786bf9e8",
   "metadata": {},
   "outputs": [
    {
     "data": {
      "text/plain": [
       "-113    404626\n",
       "-109    259309\n",
       "-111    256484\n",
       "-107    227129\n",
       "-105    205832\n",
       "         ...  \n",
       "-47         10\n",
       "-49         10\n",
       "-139         4\n",
       "-45          4\n",
       "-44          4\n",
       "Name: dBm, Length: 97, dtype: int64"
      ]
     },
     "execution_count": 16,
     "metadata": {},
     "output_type": "execute_result"
    }
   ],
   "source": [
    "cells_df.dBm.value_counts()"
   ]
  },
  {
   "cell_type": "code",
   "execution_count": 17,
   "id": "e449d615-1b32-427e-b283-9f1c50a6cdf7",
   "metadata": {},
   "outputs": [
    {
     "data": {
      "text/plain": [
       "2    1196462\n",
       "3     963973\n",
       "1     891425\n",
       "4     782778\n",
       "0     639742\n",
       "Name: level, dtype: int64"
      ]
     },
     "execution_count": 17,
     "metadata": {},
     "output_type": "execute_result"
    }
   ],
   "source": [
    "cells_df.level.value_counts()"
   ]
  },
  {
   "cell_type": "code",
   "execution_count": null,
   "id": "02fc44b8-fc71-47db-9e9d-c8d39c4e8ae5",
   "metadata": {},
   "outputs": [],
   "source": []
  }
 ],
 "metadata": {
  "kernelspec": {
   "display_name": "Python 3",
   "language": "python",
   "name": "python3"
  },
  "language_info": {
   "codemirror_mode": {
    "name": "ipython",
    "version": 3
   },
   "file_extension": ".py",
   "mimetype": "text/x-python",
   "name": "python",
   "nbconvert_exporter": "python",
   "pygments_lexer": "ipython3",
   "version": "3.8.5"
  },
  "toc-autonumbering": false,
  "toc-showcode": false,
  "toc-showmarkdowntxt": true
 },
 "nbformat": 4,
 "nbformat_minor": 5
}
