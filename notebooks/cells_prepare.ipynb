{
 "cells": [
  {
   "cell_type": "code",
   "execution_count": 1,
   "id": "f92f8a8d-598f-41d7-996d-c1b7870f61a1",
   "metadata": {},
   "outputs": [],
   "source": [
    "import numpy as np\n",
    "import pandas as pd\n",
    "import os\n",
    "import pathlib\n",
    "\n",
    "os.chdir(pathlib.Path(__file__).parent.joinpath('../'))"
   ]
  },
  {
   "cell_type": "code",
   "execution_count": 2,
   "id": "1c5297bc-5ee1-4be6-874d-205afdc86707",
   "metadata": {},
   "outputs": [],
   "source": [
    "# Read file and create list of lines from file\n",
    "\n",
    "def read_file(filename):\n",
    "    lines = []\n",
    "    with open(filename) as f:\n",
    "        for line in f:\n",
    "            lines.append(line)        \n",
    "\n",
    "    print('Lines processed: {}'.format(len(lines)))\n",
    "    return lines"
   ]
  },
  {
   "cell_type": "code",
   "execution_count": 3,
   "id": "58a64db1-5039-466a-84ba-80e3f7cf5846",
   "metadata": {},
   "outputs": [],
   "source": [
    "# Transform data from lines into structured format\n",
    "\n",
    "def parse_lines(lines):\n",
    "    # Create list for transformed data\n",
    "    cells_data = []\n",
    "\n",
    "    # Iterate through lines\n",
    "    for line in lines:    \n",
    "        line_split_space = line.split(' ')   \n",
    "\n",
    "        # Create dictionary entry\n",
    "        entry = {'epoch_time': line_split_space[0], 'num_entries': line_split_space[3]}\n",
    "\n",
    "        # Iterate through cell types\n",
    "        for cell_type, col_len in list(zip(cell_types, col_lengths)):        \n",
    "\n",
    "            # Split line by cell type\n",
    "            line_split = line.split(cell_type)       \n",
    "\n",
    "            # Create empty list for entries from particular cell type\n",
    "            items = []\n",
    "\n",
    "            # Iterate through parts of the line (excluding the first one)\n",
    "            for item in line_split[1:]:\n",
    "\n",
    "                # Split each part by space\n",
    "                item_split = item.strip().split(' ')           \n",
    "\n",
    "                items.append(item_split[:col_len])  \n",
    "\n",
    "            # Add data received from particular cell type to the dict\n",
    "            entry[cell_type] = items     \n",
    "\n",
    "        cells_data.append(entry)\n",
    "\n",
    "    print('Lines processed: {}'.format(len(cells_data)))\n",
    "    return cells_data"
   ]
  },
  {
   "cell_type": "code",
   "execution_count": 4,
   "id": "659d06e4-b919-4693-a648-91d14dad4bdf",
   "metadata": {},
   "outputs": [],
   "source": [
    "# Transform data from list to dataframe\n",
    "\n",
    "def prepare_dataframe(data):\n",
    "    # Create raw dataframe from list\n",
    "    cells_df = pd.DataFrame(data)\n",
    "\n",
    "    # Create list of dataframes\n",
    "    dfs = []\n",
    "\n",
    "    # Iterate through cell types and corresponding column sets\n",
    "    for cell_type, cols in list(zip(cell_types, cell_columns)):\n",
    "\n",
    "        # Create dataframe for each cell type\n",
    "        df = cells_df[['epoch_time', 'num_entries', cell_type]]\n",
    "\n",
    "        # Create cell type identifier\n",
    "        df['cell_type'] = cell_type\n",
    "        #df.loc[:,'cell_type'] = cell_type\n",
    "\n",
    "        # Explode list of lists and drop na\n",
    "        df = df.explode(cell_type).dropna()\n",
    "\n",
    "        # Create columns from lists\n",
    "        df[cols] = pd.DataFrame(df[cell_type].tolist(), index=df.index)\n",
    "\n",
    "        # Drop column which is no longer needed\n",
    "        df.drop(cell_type, axis=1, inplace=True)\n",
    "\n",
    "        # Append df to the list\n",
    "        dfs.append(df)\n",
    "\n",
    "    # Concatenate dataframes from different cell types\n",
    "    df = pd.concat(dfs, axis=0, ignore_index=True)\n",
    "    \n",
    "    # Convert to numeric\n",
    "    numeric_columns = list(df.columns)\n",
    "    numeric_columns.remove('cell_type')\n",
    "    df[numeric_columns] = df[numeric_columns].apply(pd.to_numeric)\n",
    "    \n",
    "    print('Dataframe shape: {}'.format(df.shape))    \n",
    "    \n",
    "    return df\n",
    "    "
   ]
  },
  {
   "cell_type": "code",
   "execution_count": 5,
   "id": "3dff7176-9702-4aee-99a0-fa7dafb32b46",
   "metadata": {},
   "outputs": [],
   "source": [
    "# Full pipeline\n",
    "\n",
    "def prepare_data(filename):\n",
    "    return prepare_dataframe(parse_lines(read_file(filename)))\n",
    "    "
   ]
  },
  {
   "cell_type": "code",
   "execution_count": 6,
   "id": "078d740f-6acc-4ed1-9ae6-bfa194fff065",
   "metadata": {},
   "outputs": [],
   "source": [
    "# Data properties\n",
    "cell_types = ['LTE', 'WCDMA', 'GSM']\n",
    "lte_columns = ['isRegistered', 'ci', 'MCC', 'MNC', 'PCI', 'TAC', 'asuLevel', 'dBm', 'level']\n",
    "wcdma_columns = ['isRegistered', 'cid', 'lac', 'MCC', 'MNC', 'PSC', 'asuLevel', 'dBm', 'level']\n",
    "gsm_columns = ['isRegistered', 'cid', 'lac', 'MCC', 'MNC', 'asuLevel', 'dBm', 'level']\n",
    "cell_columns = [lte_columns, wcdma_columns, gsm_columns]\n",
    "col_lengths = [len(lte_columns), len(wcdma_columns), len(gsm_columns)]"
   ]
  },
  {
   "cell_type": "code",
   "execution_count": null,
   "id": "b508336f-6334-40dc-b773-8b12377e8fde",
   "metadata": {
    "pycharm": {
     "is_executing": true
    }
   },
   "outputs": [
    {
     "name": "stdout",
     "output_type": "stream",
     "text": [
      "Lines processed: 1324881\n",
      "Lines processed: 1324881\n"
     ]
    },
    {
     "name": "stderr",
     "output_type": "stream",
     "text": [
      "<ipython-input-4-f086c046a623>:17: SettingWithCopyWarning: \n",
      "A value is trying to be set on a copy of a slice from a DataFrame.\n",
      "Try using .loc[row_indexer,col_indexer] = value instead\n",
      "\n",
      "See the caveats in the documentation: https://pandas.pydata.org/pandas-docs/stable/user_guide/indexing.html#returning-a-view-versus-a-copy\n",
      "  df['cell_type'] = cell_type\n",
      "<ipython-input-4-f086c046a623>:17: SettingWithCopyWarning: \n",
      "A value is trying to be set on a copy of a slice from a DataFrame.\n",
      "Try using .loc[row_indexer,col_indexer] = value instead\n",
      "\n",
      "See the caveats in the documentation: https://pandas.pydata.org/pandas-docs/stable/user_guide/indexing.html#returning-a-view-versus-a-copy\n",
      "  df['cell_type'] = cell_type\n",
      "<ipython-input-4-f086c046a623>:17: SettingWithCopyWarning: \n",
      "A value is trying to be set on a copy of a slice from a DataFrame.\n",
      "Try using .loc[row_indexer,col_indexer] = value instead\n",
      "\n",
      "See the caveats in the documentation: https://pandas.pydata.org/pandas-docs/stable/user_guide/indexing.html#returning-a-view-versus-a-copy\n",
      "  df['cell_type'] = cell_type\n"
     ]
    },
    {
     "name": "stdout",
     "output_type": "stream",
     "text": [
      "Dataframe shape: (4474380, 15)\n",
      "      epoch_time  num_entries cell_type  isRegistered            ci  MCC  MNC  \\\n",
      "0  1490430923343            3       LTE             1  1.280004e+08  234   10   \n",
      "1  1490430923343            3       LTE             0  2.147484e+09  234   10   \n",
      "2  1490430923343            3       LTE             0  2.147484e+09  234   10   \n",
      "3  1490430923349            3       LTE             1  1.280004e+08  234   10   \n",
      "4  1490430923349            3       LTE             0  2.147484e+09  234   10   \n",
      "\n",
      "     PCI           TAC  asuLevel  dBm  level  cid  lac  PSC  \n",
      "0   20.0  1.440000e+02        25 -115      2  NaN  NaN  NaN  \n",
      "1  398.0  2.147484e+09        22 -118      1  NaN  NaN  NaN  \n",
      "2    4.0  2.147484e+09        16 -124      1  NaN  NaN  NaN  \n",
      "3   20.0  1.440000e+02        25 -115      2  NaN  NaN  NaN  \n",
      "4  398.0  2.147484e+09        22 -118      1  NaN  NaN  NaN  \n",
      "epoch_time        int64\n",
      "num_entries       int64\n",
      "cell_type        object\n",
      "isRegistered      int64\n",
      "ci              float64\n",
      "MCC               int64\n",
      "MNC               int64\n",
      "PCI             float64\n",
      "TAC             float64\n",
      "asuLevel          int64\n",
      "dBm               int64\n",
      "level             int64\n",
      "cid             float64\n",
      "lac             float64\n",
      "PSC             float64\n",
      "dtype: object\n",
      "Lines processed: 126333\n",
      "Lines processed: 126333\n"
     ]
    },
    {
     "name": "stderr",
     "output_type": "stream",
     "text": [
      "<ipython-input-4-f086c046a623>:17: SettingWithCopyWarning: \n",
      "A value is trying to be set on a copy of a slice from a DataFrame.\n",
      "Try using .loc[row_indexer,col_indexer] = value instead\n",
      "\n",
      "See the caveats in the documentation: https://pandas.pydata.org/pandas-docs/stable/user_guide/indexing.html#returning-a-view-versus-a-copy\n",
      "  df['cell_type'] = cell_type\n",
      "<ipython-input-4-f086c046a623>:17: SettingWithCopyWarning: \n",
      "A value is trying to be set on a copy of a slice from a DataFrame.\n",
      "Try using .loc[row_indexer,col_indexer] = value instead\n",
      "\n",
      "See the caveats in the documentation: https://pandas.pydata.org/pandas-docs/stable/user_guide/indexing.html#returning-a-view-versus-a-copy\n",
      "  df['cell_type'] = cell_type\n",
      "<ipython-input-4-f086c046a623>:17: SettingWithCopyWarning: \n",
      "A value is trying to be set on a copy of a slice from a DataFrame.\n",
      "Try using .loc[row_indexer,col_indexer] = value instead\n",
      "\n",
      "See the caveats in the documentation: https://pandas.pydata.org/pandas-docs/stable/user_guide/indexing.html#returning-a-view-versus-a-copy\n",
      "  df['cell_type'] = cell_type\n"
     ]
    },
    {
     "name": "stdout",
     "output_type": "stream",
     "text": [
      "Dataframe shape: (333901, 15)\n",
      "Lines processed: 561369\n",
      "Lines processed: 561369\n"
     ]
    },
    {
     "name": "stderr",
     "output_type": "stream",
     "text": [
      "<ipython-input-4-f086c046a623>:17: SettingWithCopyWarning: \n",
      "A value is trying to be set on a copy of a slice from a DataFrame.\n",
      "Try using .loc[row_indexer,col_indexer] = value instead\n",
      "\n",
      "See the caveats in the documentation: https://pandas.pydata.org/pandas-docs/stable/user_guide/indexing.html#returning-a-view-versus-a-copy\n",
      "  df['cell_type'] = cell_type\n"
     ]
    }
   ],
   "source": [
    "# Run processing\n",
    "\n",
    "filename = './data/train/Cells.txt'\n",
    "df = prepare_data(filename)\n",
    "print(df.head())\n",
    "print(df.dtypes)\n",
    "df.to_parquet('./data/train/Cells.parquet')\n",
    "\n",
    "filename = './data/validate/Cells.txt'\n",
    "prepare_data(filename).to_parquet('./data/validate/Cells.parquet')\n",
    "\n",
    "filename = './data/test/Cells.txt'\n",
    "prepare_data(filename).to_parquet('./data/test/Cells.parquet')\n"
   ]
  },
  {
   "cell_type": "code",
   "execution_count": null,
   "id": "61dc4126-73df-4a28-a500-7ea5178821f4",
   "metadata": {},
   "outputs": [],
   "source": []
  }
 ],
 "metadata": {
  "kernelspec": {
   "display_name": "Python 3",
   "language": "python",
   "name": "python3"
  },
  "language_info": {
   "codemirror_mode": {
    "name": "ipython",
    "version": 3
   },
   "file_extension": ".py",
   "mimetype": "text/x-python",
   "name": "python",
   "nbconvert_exporter": "python",
   "pygments_lexer": "ipython3",
   "version": "3.8.0"
  },
  "toc-autonumbering": false,
  "toc-showcode": false,
  "toc-showmarkdowntxt": true
 },
 "nbformat": 4,
 "nbformat_minor": 5
}