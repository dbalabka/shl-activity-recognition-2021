{
 "cells": [
  {
   "cell_type": "code",
   "execution_count": 1,
   "id": "eb69a746-abc6-49ac-8726-75fea0457cbe",
   "metadata": {},
   "outputs": [],
   "source": [
    "import numpy as np\n",
    "import pandas as pd\n",
    "import os\n",
    "from sklearn.model_selection import train_test_split\n",
    "import pathlib\n",
    "\n",
    "os.chdir(pathlib.Path(__file__).parent.joinpath('../'))"
   ]
  },
  {
   "cell_type": "code",
   "execution_count": 2,
   "id": "f6bb4c03-d81a-4319-ab30-56c4f997f6e0",
   "metadata": {},
   "outputs": [],
   "source": [
    "def parse_label_csv(file, columns=None):\n",
    "    if columns is None:\n",
    "        columns = [\"epoch_time\", \"label\"]\n",
    "    label_df = pd.read_csv(file, sep=\"\\t\", header=None)\n",
    "    label_df.columns = columns\n",
    "    return label_df\n",
    "\n",
    "label_df = parse_label_csv('./data/train/Label.txt')"
   ]
  },
  {
   "cell_type": "code",
   "execution_count": 3,
   "id": "59d6a6d4-2f04-49d3-b1be-906c931c57c9",
   "metadata": {},
   "outputs": [
    {
     "data": {
      "text/plain": "      epoch_time  label\n0  1490431583000      4\n1  1490431584000      4\n2  1490431585000      4\n3  1490431586000      4\n4  1490431587000      4",
      "text/html": "<div>\n<style scoped>\n    .dataframe tbody tr th:only-of-type {\n        vertical-align: middle;\n    }\n\n    .dataframe tbody tr th {\n        vertical-align: top;\n    }\n\n    .dataframe thead th {\n        text-align: right;\n    }\n</style>\n<table border=\"1\" class=\"dataframe\">\n  <thead>\n    <tr style=\"text-align: right;\">\n      <th></th>\n      <th>epoch_time</th>\n      <th>label</th>\n    </tr>\n  </thead>\n  <tbody>\n    <tr>\n      <th>0</th>\n      <td>1490431583000</td>\n      <td>4</td>\n    </tr>\n    <tr>\n      <th>1</th>\n      <td>1490431584000</td>\n      <td>4</td>\n    </tr>\n    <tr>\n      <th>2</th>\n      <td>1490431585000</td>\n      <td>4</td>\n    </tr>\n    <tr>\n      <th>3</th>\n      <td>1490431586000</td>\n      <td>4</td>\n    </tr>\n    <tr>\n      <th>4</th>\n      <td>1490431587000</td>\n      <td>4</td>\n    </tr>\n  </tbody>\n</table>\n</div>"
     },
     "execution_count": 3,
     "metadata": {},
     "output_type": "execute_result"
    }
   ],
   "source": [
    "label_df.head()"
   ]
  },
  {
   "cell_type": "code",
   "execution_count": 4,
   "id": "bdbe587f-7cd7-48c3-81b5-d19329024e4f",
   "metadata": {},
   "outputs": [
    {
     "data": {
      "text/plain": "(980527, 2)"
     },
     "execution_count": 4,
     "metadata": {},
     "output_type": "execute_result"
    }
   ],
   "source": [
    "label_df.shape"
   ]
  },
  {
   "cell_type": "code",
   "execution_count": 6,
   "id": "1cb62c05-854b-4d9b-8bd8-5e5b969069bb",
   "metadata": {},
   "outputs": [],
   "source": [
    "# Save prepared data to csv\n",
    "label_df.to_parquet('data/train/Label.parquet', index=False)\n",
    "\n",
    "# Prepare train-test split for train dataset\n",
    "label_train, label_test = train_test_split(label_df, test_size=0.1, random_state=42)\n",
    "label_df.to_parquet('data/train/Label.parquet', index=False)\n",
    "label_train.to_parquet('data/train/Label_train.parquet', index=False)\n",
    "label_test.to_parquet('data/train/Label_test.parquet', index=False)\n",
    "\n",
    "validate_label_df = parse_label_csv('data/validate/Label.txt')\n",
    "validate_label_df.to_parquet('data/validate/Label.parquet', index=False)\n",
    "\n",
    "parse_label_csv('data/test/Label_idx.txt', columns=[\"epoch_time\"]).to_parquet('data/test/Label_idx.parquet', index=False)"
   ]
  },
  {
   "cell_type": "code",
   "execution_count": 6,
   "id": "728ea335",
   "metadata": {
    "collapsed": false,
    "jupyter": {
     "outputs_hidden": false
    },
    "pycharm": {
     "name": "#%%\n"
    }
   },
   "outputs": [
    {
     "data": {
      "text/plain": [
       "(array([29836., 26149.,  2774.,     0., 12031., 20473.,     0.,  9178.,\n",
       "        21808., 21709.]),\n",
       " array([1. , 1.7, 2.4, 3.1, 3.8, 4.5, 5.2, 5.9, 6.6, 7.3, 8. ]),\n",
       " <BarContainer object of 10 artists>)"
      ]
     },
     "execution_count": 6,
     "metadata": {},
     "output_type": "execute_result"
    },
    {
     "data": {
      "image/png": "[encoded data removed]",
      "text/plain": [
       "<Figure size 432x288 with 1 Axes>"
      ]
     },
     "metadata": {
      "needs_background": "light"
     },
     "output_type": "display_data"
    }
   ],
   "source": [
    "import matplotlib.pyplot as plt\n",
    "plt.hist(label_df['label'])\n",
    "plt.hist(validate_label_df['label'])"
   ]
  },
  {
   "cell_type": "code",
   "execution_count": null,
   "id": "a0a7efad-909d-41ea-a39a-ed67d15086c8",
   "metadata": {},
   "outputs": [],
   "source": []
  }
 ],
 "metadata": {
  "kernelspec": {
   "display_name": "Python 3",
   "language": "python",
   "name": "python3"
  },
  "language_info": {
   "codemirror_mode": {
    "name": "ipython",
    "version": 3
   },
   "file_extension": ".py",
   "mimetype": "text/x-python",
   "name": "python",
   "nbconvert_exporter": "python",
   "pygments_lexer": "ipython3",
   "version": "3.8.0"
  }
 },
 "nbformat": 4,
 "nbformat_minor": 5
}