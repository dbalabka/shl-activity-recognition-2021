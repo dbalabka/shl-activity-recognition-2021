{
 "cells": [
  {
   "cell_type": "code",
   "execution_count": 1,
   "id": "eb69a746-abc6-49ac-8726-75fea0457cbe",
   "metadata": {},
   "outputs": [],
   "source": [
    "import numpy as np\n",
    "import pandas as pd\n",
    "import os\n",
    "from sklearn.model_selection import train_test_split\n",
    "\n",
    "os.chdir('../')"
   ]
  },
  {
   "cell_type": "code",
   "execution_count": 2,
   "id": "f6bb4c03-d81a-4319-ab30-56c4f997f6e0",
   "metadata": {},
   "outputs": [],
   "source": [
    "def parse_label_csv(file, columns=None):\n",
    "    if columns is None:\n",
    "        columns = [\"epoch_time\", \"label\"]\n",
    "    df = pd.read_csv(file, sep=\"\\t\", header=None)\n",
    "    df.columns = columns\n",
    "    return df\n",
    "\n",
    "df = parse_label_csv('./data/train/Label.txt')"
   ]
  },
  {
   "cell_type": "code",
   "execution_count": 3,
   "id": "59d6a6d4-2f04-49d3-b1be-906c931c57c9",
   "metadata": {},
   "outputs": [
    {
     "data": {
      "text/html": [
       "<div>\n",
       "<style scoped>\n",
       "    .dataframe tbody tr th:only-of-type {\n",
       "        vertical-align: middle;\n",
       "    }\n",
       "\n",
       "    .dataframe tbody tr th {\n",
       "        vertical-align: top;\n",
       "    }\n",
       "\n",
       "    .dataframe thead th {\n",
       "        text-align: right;\n",
       "    }\n",
       "</style>\n",
       "<table border=\"1\" class=\"dataframe\">\n",
       "  <thead>\n",
       "    <tr style=\"text-align: right;\">\n",
       "      <th></th>\n",
       "      <th>epoch_time</th>\n",
       "      <th>label</th>\n",
       "    </tr>\n",
       "  </thead>\n",
       "  <tbody>\n",
       "    <tr>\n",
       "      <th>0</th>\n",
       "      <td>1490431583000</td>\n",
       "      <td>4</td>\n",
       "    </tr>\n",
       "    <tr>\n",
       "      <th>1</th>\n",
       "      <td>1490431584000</td>\n",
       "      <td>4</td>\n",
       "    </tr>\n",
       "    <tr>\n",
       "      <th>2</th>\n",
       "      <td>1490431585000</td>\n",
       "      <td>4</td>\n",
       "    </tr>\n",
       "    <tr>\n",
       "      <th>3</th>\n",
       "      <td>1490431586000</td>\n",
       "      <td>4</td>\n",
       "    </tr>\n",
       "    <tr>\n",
       "      <th>4</th>\n",
       "      <td>1490431587000</td>\n",
       "      <td>4</td>\n",
       "    </tr>\n",
       "    <tr>\n",
       "      <th>...</th>\n",
       "      <td>...</td>\n",
       "      <td>...</td>\n",
       "    </tr>\n",
       "    <tr>\n",
       "      <th>980522</th>\n",
       "      <td>1499267848000</td>\n",
       "      <td>5</td>\n",
       "    </tr>\n",
       "    <tr>\n",
       "      <th>980523</th>\n",
       "      <td>1499267849000</td>\n",
       "      <td>5</td>\n",
       "    </tr>\n",
       "    <tr>\n",
       "      <th>980524</th>\n",
       "      <td>1499267850000</td>\n",
       "      <td>5</td>\n",
       "    </tr>\n",
       "    <tr>\n",
       "      <th>980525</th>\n",
       "      <td>1499267851000</td>\n",
       "      <td>5</td>\n",
       "    </tr>\n",
       "    <tr>\n",
       "      <th>980526</th>\n",
       "      <td>1499267852000</td>\n",
       "      <td>5</td>\n",
       "    </tr>\n",
       "  </tbody>\n",
       "</table>\n",
       "<p>980527 rows × 2 columns</p>\n",
       "</div>"
      ],
      "text/plain": [
       "           epoch_time  label\n",
       "0       1490431583000      4\n",
       "1       1490431584000      4\n",
       "2       1490431585000      4\n",
       "3       1490431586000      4\n",
       "4       1490431587000      4\n",
       "...               ...    ...\n",
       "980522  1499267848000      5\n",
       "980523  1499267849000      5\n",
       "980524  1499267850000      5\n",
       "980525  1499267851000      5\n",
       "980526  1499267852000      5\n",
       "\n",
       "[980527 rows x 2 columns]"
      ]
     },
     "execution_count": 3,
     "metadata": {},
     "output_type": "execute_result"
    }
   ],
   "source": [
    "df"
   ]
  },
  {
   "cell_type": "code",
   "execution_count": 4,
   "id": "1cb62c05-854b-4d9b-8bd8-5e5b969069bb",
   "metadata": {},
   "outputs": [],
   "source": [
    "# Save prepared data to csv\n",
    "df.to_parquet('data/train/Label.parquet')\n",
    "\n",
    "# Prepare train-test split for train dataset\n",
    "label_train, label_test = train_test_split(df, test_size=0.1, random_state=42)\n",
    "label_train.to_parquet('data/train/Label_train.parquet')\n",
    "label_test.to_parquet('data/train/Label_test.parquet')\n",
    "\n",
    "parse_label_csv('data/validate/Label.txt').to_parquet('data/validate/Label.parquet')\n",
    "parse_label_csv('data/test/Label_idx.txt', columns=[\"epoch_time\"]).to_parquet('data/test/Label_idx.parquet')"
   ]
  },
  {
   "cell_type": "code",
   "execution_count": null,
   "id": "97e19dd7-d731-4ea4-af6b-9e48d24f541e",
   "metadata": {},
   "outputs": [],
   "source": []
  }
 ],
 "metadata": {
  "kernelspec": {
   "display_name": "Python 3",
   "language": "python",
   "name": "python3"
  },
  "language_info": {
   "codemirror_mode": {
    "name": "ipython",
    "version": 3
   },
   "file_extension": ".py",
   "mimetype": "text/x-python",
   "name": "python",
   "nbconvert_exporter": "python",
   "pygments_lexer": "ipython3",
   "version": "3.8.0"
  }
 },
 "nbformat": 4,
 "nbformat_minor": 5
}