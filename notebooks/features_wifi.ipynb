{
 "cells": [
  {
   "cell_type": "code",
   "execution_count": 1,
   "metadata": {
    "collapsed": true,
    "pycharm": {
     "name": "#%%\n"
    }
   },
   "outputs": [
    {
     "name": "stderr",
     "output_type": "stream",
     "text": [
      "/Users/torinaki/www/htdocs/shl-2021/.venv/lib/python3.9/site-packages/gensim/similarities/__init__.py:15: UserWarning: The gensim.similarities.levenshtein submodule is disabled, because the optional Levenshtein package <https://pypi.org/project/python-Levenshtein/> is unavailable. Install Levenhstein (e.g. `pip install python-Levenshtein`) to suppress this warning.\n",
      "  warnings.warn(msg)\n"
     ]
    }
   ],
   "source": [
    "import re\n",
    "\n",
    "import numpy as np\n",
    "import pandas as pd\n",
    "import os\n",
    "import featuretools as ft\n",
    "from shl.prepare import normalize_epoch_time, normalize_lat_long\n",
    "import plotly.express as px\n",
    "from sklearn.feature_extraction.text import TfidfVectorizer\n",
    "from gensim.parsing.preprocessing import \\\n",
    "    strip_tags, strip_punctuation, strip_multiple_whitespaces, strip_numeric, \\\n",
    "    strip_short, stem_text\n",
    "\n",
    "from shl.features import WifiFeature\n",
    "\n",
    "%load_ext autoreload\n",
    "%autoreload 2"
   ]
  },
  {
   "cell_type": "code",
   "execution_count": 2,
   "outputs": [],
   "source": [
    "train_wifi = normalize_epoch_time(pd.read_parquet('../data/train/WiFi.parquet'), 'Epoch time [ms]')\n",
    "test_wifi = normalize_epoch_time(pd.read_parquet('../data/test/WiFi.parquet'), 'Epoch time [ms]')\n",
    "validate_wifi = normalize_epoch_time(pd.read_parquet('../data/validate/WiFi.parquet'), 'Epoch time [ms]')\n",
    "train_label = normalize_epoch_time(pd.read_parquet('../data/train/Label.parquet'), 'epoch_time')\n",
    "test_label = normalize_epoch_time(pd.read_parquet('../data/test/Label_idx.parquet'), 'epoch_time')\n",
    "validate_label = normalize_epoch_time(pd.read_parquet('../data/validate/Label.parquet'), 'epoch_time')"
   ],
   "metadata": {
    "collapsed": false,
    "pycharm": {
     "name": "#%%\n"
    }
   }
  },
  {
   "cell_type": "code",
   "execution_count": 3,
   "outputs": [
    {
     "data": {
      "text/plain": "            epoch_time  label                   SSID  RSSI\n9073178  1499267852000      5           Virgin Media -78.0\n9073179  1499267852000      5           Virgin Media -82.0\n9073180  1499267852000      5              VM1689925 -85.0\n9073182  1499267852000      5        BTWifi-with-FON -86.0\n9073181  1499267852000      5               BTWifi-X -87.0\n...                ...    ...                    ...   ...\n1        1490431583000      4              VM8236218 -48.0\n2        1490431583000      4           Virgin Media -48.0\n3        1490431583000      4         TP-LINK_F5B890 -64.0\n4        1490431583000      4         TALKTALKB93F0E -71.0\n5        1490431583000      4  PlusnetWireless0647C9 -90.0\n\n[9073183 rows x 4 columns]",
      "text/html": "<div>\n<style scoped>\n    .dataframe tbody tr th:only-of-type {\n        vertical-align: middle;\n    }\n\n    .dataframe tbody tr th {\n        vertical-align: top;\n    }\n\n    .dataframe thead th {\n        text-align: right;\n    }\n</style>\n<table border=\"1\" class=\"dataframe\">\n  <thead>\n    <tr style=\"text-align: right;\">\n      <th></th>\n      <th>epoch_time</th>\n      <th>label</th>\n      <th>SSID</th>\n      <th>RSSI</th>\n    </tr>\n  </thead>\n  <tbody>\n    <tr>\n      <th>9073178</th>\n      <td>1499267852000</td>\n      <td>5</td>\n      <td>Virgin Media</td>\n      <td>-78.0</td>\n    </tr>\n    <tr>\n      <th>9073179</th>\n      <td>1499267852000</td>\n      <td>5</td>\n      <td>Virgin Media</td>\n      <td>-82.0</td>\n    </tr>\n    <tr>\n      <th>9073180</th>\n      <td>1499267852000</td>\n      <td>5</td>\n      <td>VM1689925</td>\n      <td>-85.0</td>\n    </tr>\n    <tr>\n      <th>9073182</th>\n      <td>1499267852000</td>\n      <td>5</td>\n      <td>BTWifi-with-FON</td>\n      <td>-86.0</td>\n    </tr>\n    <tr>\n      <th>9073181</th>\n      <td>1499267852000</td>\n      <td>5</td>\n      <td>BTWifi-X</td>\n      <td>-87.0</td>\n    </tr>\n    <tr>\n      <th>...</th>\n      <td>...</td>\n      <td>...</td>\n      <td>...</td>\n      <td>...</td>\n    </tr>\n    <tr>\n      <th>1</th>\n      <td>1490431583000</td>\n      <td>4</td>\n      <td>VM8236218</td>\n      <td>-48.0</td>\n    </tr>\n    <tr>\n      <th>2</th>\n      <td>1490431583000</td>\n      <td>4</td>\n      <td>Virgin Media</td>\n      <td>-48.0</td>\n    </tr>\n    <tr>\n      <th>3</th>\n      <td>1490431583000</td>\n      <td>4</td>\n      <td>TP-LINK_F5B890</td>\n      <td>-64.0</td>\n    </tr>\n    <tr>\n      <th>4</th>\n      <td>1490431583000</td>\n      <td>4</td>\n      <td>TALKTALKB93F0E</td>\n      <td>-71.0</td>\n    </tr>\n    <tr>\n      <th>5</th>\n      <td>1490431583000</td>\n      <td>4</td>\n      <td>PlusnetWireless0647C9</td>\n      <td>-90.0</td>\n    </tr>\n  </tbody>\n</table>\n<p>9073183 rows × 4 columns</p>\n</div>"
     },
     "execution_count": 3,
     "metadata": {},
     "output_type": "execute_result"
    }
   ],
   "source": [
    "train_wifi_with_labels = train_label.merge(train_wifi, how='left', on='epoch_time_id').sort_values(by=['epoch_time_id', 'RSSI'], ascending=False)[['epoch_time', 'label', 'SSID', 'RSSI']]\n",
    "train_wifi_with_labels"
   ],
   "metadata": {
    "collapsed": false,
    "pycharm": {
     "name": "#%%\n"
    }
   }
  },
  {
   "cell_type": "markdown",
   "source": [],
   "metadata": {
    "collapsed": false
   }
  },
  {
   "cell_type": "code",
   "execution_count": 4,
   "outputs": [],
   "source": [
    "train_wifi_with_labels_run = train_wifi_with_labels[train_wifi_with_labels['label'].isin([2,3])]\n",
    "train_wifi_with_labels_car = train_wifi_with_labels[train_wifi_with_labels['label'].isin([5])]\n",
    "train_wifi_with_labels_bus = train_wifi_with_labels[train_wifi_with_labels['label'].isin([6])]"
   ],
   "metadata": {
    "collapsed": false,
    "pycharm": {
     "name": "#%%\n"
    }
   }
  },
  {
   "cell_type": "code",
   "execution_count": 5,
   "outputs": [
    {
     "data": {
      "text/plain": "         epoch_time_id                                          SSID_high  \\\n0        1490430923000  Virgin Media VM8236218 TALKTALKB93F0E VM201213-2G   \n1        1490430924000  Virgin Media VM8236218 TALKTALKB93F0E VM201213-2G   \n2        1490430925000  Virgin Media VM8236218 TALKTALKB93F0E VM201213-2G   \n3        1490430926000  Virgin Media VM8236218 TALKTALKB93F0E VM201213-2G   \n4        1490430927000  Virgin Media VM8236218 TALKTALKB93F0E VM201213-2G   \n...                ...                                                ...   \n1048336  1499268293000                                                NaN   \n1048337  1499268294000                                                NaN   \n1048338  1499268295000                                                NaN   \n1048339  1499268296000                                                NaN   \n1048340  1499268297000                                                NaN   \n\n                                                  SSID_low  \\\n0        VM201213-2G TP-LINK_F5B890 VM702835-2G_EXT VM9...   \n1        VM201213-2G TP-LINK_F5B890 VM702835-2G_EXT VM9...   \n2        VM201213-2G TP-LINK_F5B890 VM702835-2G_EXT VM9...   \n3        VM201213-2G TP-LINK_F5B890 VM702835-2G_EXT VM9...   \n4        VM201213-2G TP-LINK_F5B890 VM702835-2G_EXT VM9...   \n...                                                    ...   \n1048336    Virgin Media VM1689925 BTWifi-with-FON BTWifi-X   \n1048337    Virgin Media VM1689925 BTWifi-with-FON BTWifi-X   \n1048338    Virgin Media VM1689925 BTWifi-with-FON BTWifi-X   \n1048339    Virgin Media VM1689925 BTWifi-with-FON BTWifi-X   \n1048340    Virgin Media VM1689925 BTWifi-with-FON BTWifi-X   \n\n                                              Capabilities  \\\n0        [WPA2-EAP-CCMP][ESS] [WPA-PSK-CCMP+TKIP][WPA2-...   \n1        [WPA2-EAP-CCMP][ESS] [WPA-PSK-CCMP+TKIP][WPA2-...   \n2        [WPA2-EAP-CCMP][ESS] [WPA-PSK-CCMP+TKIP][WPA2-...   \n3        [WPA2-EAP-CCMP][ESS] [WPA-PSK-CCMP+TKIP][WPA2-...   \n4        [WPA2-EAP-CCMP][ESS] [WPA-PSK-CCMP+TKIP][WPA2-...   \n...                                                    ...   \n1048336                                                NaN   \n1048337                                                NaN   \n1048338                                                NaN   \n1048339                                                NaN   \n1048340                                                NaN   \n\n                                          Capabilities_low  \\\n0        [WPA-PSK-CCMP][WPA2-PSK-CCMP][WPS][ESS] [WPA2-...   \n1        [WPA-PSK-CCMP][WPA2-PSK-CCMP][WPS][ESS] [WPA2-...   \n2        [WPA-PSK-CCMP][WPA2-PSK-CCMP][WPS][ESS] [WPA2-...   \n3        [WPA-PSK-CCMP][WPA2-PSK-CCMP][WPS][ESS] [WPA2-...   \n4        [WPA-PSK-CCMP][WPA2-PSK-CCMP][WPS][ESS] [WPA2-...   \n...                                                    ...   \n1048336  [WPA2-EAP-CCMP][ESS] [WPA-PSK-CCMP+TKIP][WPA2-...   \n1048337  [WPA2-EAP-CCMP][ESS] [WPA-PSK-CCMP+TKIP][WPA2-...   \n1048338  [WPA2-EAP-CCMP][ESS] [WPA-PSK-CCMP+TKIP][WPA2-...   \n1048339  [WPA2-EAP-CCMP][ESS] [WPA-PSK-CCMP+TKIP][WPA2-...   \n1048340  [WPA2-EAP-CCMP][ESS] [WPA-PSK-CCMP+TKIP][WPA2-...   \n\n                                            BSSID  \\\n0        [d2:05:c2, c0:05:c2, 98:e7:f5, c4:04:15]   \n1        [d2:05:c2, c0:05:c2, 98:e7:f5, c4:04:15]   \n2        [d2:05:c2, c0:05:c2, 98:e7:f5, c4:04:15]   \n3        [d2:05:c2, c0:05:c2, 98:e7:f5, c4:04:15]   \n4        [d2:05:c2, c0:05:c2, 98:e7:f5, c4:04:15]   \n...                                           ...   \n1048336                                       NaN   \n1048337                                       NaN   \n1048338                                       NaN   \n1048339                                       NaN   \n1048340                                       NaN   \n\n                                                 BSSID_low  \n0                 [c4:04:15, 90:f6:52, a0:63:91, 50:6a:03]  \n1                 [c4:04:15, 90:f6:52, a0:63:91, 50:6a:03]  \n2                 [c4:04:15, 90:f6:52, a0:63:91, 50:6a:03]  \n3                 [c4:04:15, 90:f6:52, a0:63:91, 50:6a:03]  \n4                 [c4:04:15, 90:f6:52, a0:63:91, 50:6a:03]  \n...                                                    ...  \n1048336  [52:0d:10, d2:05:c2, 40:0d:10, 8e:10:d4, ae:10...  \n1048337  [52:0d:10, d2:05:c2, 40:0d:10, 8e:10:d4, ae:10...  \n1048338  [52:0d:10, d2:05:c2, 40:0d:10, 8e:10:d4, ae:10...  \n1048339  [52:0d:10, d2:05:c2, 40:0d:10, 8e:10:d4, ae:10...  \n1048340  [52:0d:10, d2:05:c2, 40:0d:10, 8e:10:d4, ae:10...  \n\n[1048341 rows x 7 columns]",
      "text/html": "<div>\n<style scoped>\n    .dataframe tbody tr th:only-of-type {\n        vertical-align: middle;\n    }\n\n    .dataframe tbody tr th {\n        vertical-align: top;\n    }\n\n    .dataframe thead th {\n        text-align: right;\n    }\n</style>\n<table border=\"1\" class=\"dataframe\">\n  <thead>\n    <tr style=\"text-align: right;\">\n      <th></th>\n      <th>epoch_time_id</th>\n      <th>SSID_high</th>\n      <th>SSID_low</th>\n      <th>Capabilities</th>\n      <th>Capabilities_low</th>\n      <th>BSSID</th>\n      <th>BSSID_low</th>\n    </tr>\n  </thead>\n  <tbody>\n    <tr>\n      <th>0</th>\n      <td>1490430923000</td>\n      <td>Virgin Media VM8236218 TALKTALKB93F0E VM201213-2G</td>\n      <td>VM201213-2G TP-LINK_F5B890 VM702835-2G_EXT VM9...</td>\n      <td>[WPA2-EAP-CCMP][ESS] [WPA-PSK-CCMP+TKIP][WPA2-...</td>\n      <td>[WPA-PSK-CCMP][WPA2-PSK-CCMP][WPS][ESS] [WPA2-...</td>\n      <td>[d2:05:c2, c0:05:c2, 98:e7:f5, c4:04:15]</td>\n      <td>[c4:04:15, 90:f6:52, a0:63:91, 50:6a:03]</td>\n    </tr>\n    <tr>\n      <th>1</th>\n      <td>1490430924000</td>\n      <td>Virgin Media VM8236218 TALKTALKB93F0E VM201213-2G</td>\n      <td>VM201213-2G TP-LINK_F5B890 VM702835-2G_EXT VM9...</td>\n      <td>[WPA2-EAP-CCMP][ESS] [WPA-PSK-CCMP+TKIP][WPA2-...</td>\n      <td>[WPA-PSK-CCMP][WPA2-PSK-CCMP][WPS][ESS] [WPA2-...</td>\n      <td>[d2:05:c2, c0:05:c2, 98:e7:f5, c4:04:15]</td>\n      <td>[c4:04:15, 90:f6:52, a0:63:91, 50:6a:03]</td>\n    </tr>\n    <tr>\n      <th>2</th>\n      <td>1490430925000</td>\n      <td>Virgin Media VM8236218 TALKTALKB93F0E VM201213-2G</td>\n      <td>VM201213-2G TP-LINK_F5B890 VM702835-2G_EXT VM9...</td>\n      <td>[WPA2-EAP-CCMP][ESS] [WPA-PSK-CCMP+TKIP][WPA2-...</td>\n      <td>[WPA-PSK-CCMP][WPA2-PSK-CCMP][WPS][ESS] [WPA2-...</td>\n      <td>[d2:05:c2, c0:05:c2, 98:e7:f5, c4:04:15]</td>\n      <td>[c4:04:15, 90:f6:52, a0:63:91, 50:6a:03]</td>\n    </tr>\n    <tr>\n      <th>3</th>\n      <td>1490430926000</td>\n      <td>Virgin Media VM8236218 TALKTALKB93F0E VM201213-2G</td>\n      <td>VM201213-2G TP-LINK_F5B890 VM702835-2G_EXT VM9...</td>\n      <td>[WPA2-EAP-CCMP][ESS] [WPA-PSK-CCMP+TKIP][WPA2-...</td>\n      <td>[WPA-PSK-CCMP][WPA2-PSK-CCMP][WPS][ESS] [WPA2-...</td>\n      <td>[d2:05:c2, c0:05:c2, 98:e7:f5, c4:04:15]</td>\n      <td>[c4:04:15, 90:f6:52, a0:63:91, 50:6a:03]</td>\n    </tr>\n    <tr>\n      <th>4</th>\n      <td>1490430927000</td>\n      <td>Virgin Media VM8236218 TALKTALKB93F0E VM201213-2G</td>\n      <td>VM201213-2G TP-LINK_F5B890 VM702835-2G_EXT VM9...</td>\n      <td>[WPA2-EAP-CCMP][ESS] [WPA-PSK-CCMP+TKIP][WPA2-...</td>\n      <td>[WPA-PSK-CCMP][WPA2-PSK-CCMP][WPS][ESS] [WPA2-...</td>\n      <td>[d2:05:c2, c0:05:c2, 98:e7:f5, c4:04:15]</td>\n      <td>[c4:04:15, 90:f6:52, a0:63:91, 50:6a:03]</td>\n    </tr>\n    <tr>\n      <th>...</th>\n      <td>...</td>\n      <td>...</td>\n      <td>...</td>\n      <td>...</td>\n      <td>...</td>\n      <td>...</td>\n      <td>...</td>\n    </tr>\n    <tr>\n      <th>1048336</th>\n      <td>1499268293000</td>\n      <td>NaN</td>\n      <td>Virgin Media VM1689925 BTWifi-with-FON BTWifi-X</td>\n      <td>NaN</td>\n      <td>[WPA2-EAP-CCMP][ESS] [WPA-PSK-CCMP+TKIP][WPA2-...</td>\n      <td>NaN</td>\n      <td>[52:0d:10, d2:05:c2, 40:0d:10, 8e:10:d4, ae:10...</td>\n    </tr>\n    <tr>\n      <th>1048337</th>\n      <td>1499268294000</td>\n      <td>NaN</td>\n      <td>Virgin Media VM1689925 BTWifi-with-FON BTWifi-X</td>\n      <td>NaN</td>\n      <td>[WPA2-EAP-CCMP][ESS] [WPA-PSK-CCMP+TKIP][WPA2-...</td>\n      <td>NaN</td>\n      <td>[52:0d:10, d2:05:c2, 40:0d:10, 8e:10:d4, ae:10...</td>\n    </tr>\n    <tr>\n      <th>1048338</th>\n      <td>1499268295000</td>\n      <td>NaN</td>\n      <td>Virgin Media VM1689925 BTWifi-with-FON BTWifi-X</td>\n      <td>NaN</td>\n      <td>[WPA2-EAP-CCMP][ESS] [WPA-PSK-CCMP+TKIP][WPA2-...</td>\n      <td>NaN</td>\n      <td>[52:0d:10, d2:05:c2, 40:0d:10, 8e:10:d4, ae:10...</td>\n    </tr>\n    <tr>\n      <th>1048339</th>\n      <td>1499268296000</td>\n      <td>NaN</td>\n      <td>Virgin Media VM1689925 BTWifi-with-FON BTWifi-X</td>\n      <td>NaN</td>\n      <td>[WPA2-EAP-CCMP][ESS] [WPA-PSK-CCMP+TKIP][WPA2-...</td>\n      <td>NaN</td>\n      <td>[52:0d:10, d2:05:c2, 40:0d:10, 8e:10:d4, ae:10...</td>\n    </tr>\n    <tr>\n      <th>1048340</th>\n      <td>1499268297000</td>\n      <td>NaN</td>\n      <td>Virgin Media VM1689925 BTWifi-with-FON BTWifi-X</td>\n      <td>NaN</td>\n      <td>[WPA2-EAP-CCMP][ESS] [WPA-PSK-CCMP+TKIP][WPA2-...</td>\n      <td>NaN</td>\n      <td>[52:0d:10, d2:05:c2, 40:0d:10, 8e:10:d4, ae:10...</td>\n    </tr>\n  </tbody>\n</table>\n<p>1048341 rows × 7 columns</p>\n</div>"
     },
     "metadata": {},
     "output_type": "display_data"
    }
   ],
   "source": [
    "def normalize_ssid(ssid: pd.Series):\n",
    "    return ssid.str.replace(\"[0-9]{2}[0-9A-Z]+\", \"\", regex=True) \\\n",
    "            .str.replace(\"^(BTHub|BTWiFi|BTOpenzone|DIRECT|EE(?:-BrightBox)?|HP-Print|MY WIFI|NETGEAR|PLUSNET|SKY|TALKTALK|TNCAP|VodafoneMobileWiFi|XLN For Small Biz|VM|ZyXEL|EXT2-BTHub|EXT2-PLUSNET).*$\", \"\\\\1\", regex=True) \\\n",
    "            .str.strip()\n",
    "\n",
    "def get_strongest_ssid_by_rssi(wifi: pd.DataFrame, n_top: int = 2, **limit_kwargs) -> pd.Series:\n",
    "    return sort_by_most_strongets_rssi(limit_most_strongest(wifi, **limit_kwargs)).groupby(by='epoch_time_id').head(n_top).reset_index()\n",
    "\n",
    "def limit_most_strongest(wifi: pd.DataFrame, rssi_min: int = -70, rssi_max: int = 0):\n",
    "    return wifi.query(f'{rssi_min} <= RSSI <= {rssi_max}')\n",
    "\n",
    "def sort_by_most_strongets_rssi(wifi: pd.DataFrame):\n",
    "    return wifi.sort_values(by=['epoch_time_id', 'RSSI'], ascending=[True, False])\n",
    "\n",
    "def drop_duplicates_ssid(wifi: pd.DataFrame, col: str):\n",
    "    \"\"\"Drops duplicates and empty SSIDs\"\"\"\n",
    "    return sort_by_most_strongets_rssi(wifi)\\\n",
    "        .drop_duplicates(subset=['epoch_time_id', col], keep='first')\\\n",
    "        .replace('', np.nan)\\\n",
    "        .dropna()\n",
    "\n",
    "\n",
    "def print_unique(ssid):\n",
    "    unique_ssid = ssid.unique()\n",
    "    print(np.sort(unique_ssid))\n",
    "    print(unique_ssid.shape)\n",
    "\n",
    "def prepare_ssid_feature(wifi: pd.DataFrame, col: str = 'SSID'):\n",
    "    strongest_normalized = drop_duplicates_ssid(wifi.assign(**{col: lambda x: normalize_ssid(x[col])}), col)\n",
    "\n",
    "    strongest_normalized = get_strongest_ssid_by_rssi(strongest_normalized)\n",
    "    # create columns names\n",
    "    strongest_normalized['pivot_variable'] = strongest_normalized.groupby(by='epoch_time_id').cumcount() + 1\n",
    "    strongest_normalized['pivot_variable'] = strongest_normalized['pivot_variable'].apply(lambda x: f\"{col}_{x}\")\n",
    "    # turn rows into columns\n",
    "    return strongest_normalized.pivot(index=\"epoch_time_id\", columns=\"pivot_variable\", values=col).reset_index().sort_values(by='epoch_time_id')\n",
    "\n",
    "def concat_ssid(wifi: pd.DataFrame, col: str = 'SSID', to_string: bool = True, top_n: int = 5, **limit_kwargs) -> pd.DataFrame:\n",
    "    if to_string:\n",
    "        agg_func = lambda x: ' '.join(x)\n",
    "    else:\n",
    "        agg_func = lambda x: list(np.hstack(x.values))\n",
    "    return get_strongest_ssid_by_rssi(drop_duplicates_ssid(wifi, col), top_n, **limit_kwargs).groupby(by='epoch_time_id')[col].apply(agg_func).reset_index()\n",
    "\n",
    "def concat_normalized_bssid(wifi: pd.DataFrame, **limit_kwargs) -> pd.DataFrame:\n",
    "    return concat_ssid(wifi.assign(BSSID=lambda x: x['BSSID'].astype(str).str.slice(start=0, stop=8)), col='BSSID', to_string=False, **limit_kwargs)\n",
    "# features_train_ssid = prepare_ssid_feature(train_wifi)\n",
    "# print(features_train_ssid)\n",
    "#\n",
    "# features_train_ssid.to_parquet('../data/train/features_wifi_ssid.parquet')\n",
    "# prepare_ssid_feature(test_wifi).to_parquet('../data/test/features_wifi_ssid.parquet')\n",
    "# prepare_ssid_feature(validate_wifi).to_parquet('../data/validate/features_wifi_ssid.parquet')\n",
    "\n",
    "def create_wifi_features(wifi: pd.DataFrame) -> pd.DataFrame:\n",
    "    high_rssi = {\n",
    "        'top_n': 5,\n",
    "        'rssi_min': -70,\n",
    "        'rssi_max': 0,\n",
    "    }\n",
    "    low_rssi = {\n",
    "        'top_n': 5,\n",
    "        'rssi_min': -100,\n",
    "        'rssi_max': -69,\n",
    "    }\n",
    "    return concat_ssid(wifi, col='SSID', **high_rssi)\\\n",
    "        .merge(concat_ssid(wifi, col='SSID', **low_rssi), on='epoch_time_id', how=\"outer\", suffixes=(\"_high\", \"_low\"))\\\n",
    "        .merge(concat_ssid(wifi, col='Capabilities', **high_rssi), on='epoch_time_id', how=\"outer\", suffixes=(\"\", \"_high\"))\\\n",
    "        .merge(concat_ssid(wifi, col='Capabilities', **low_rssi), on='epoch_time_id', how=\"outer\", suffixes=(\"\", \"_low\"))\\\n",
    "        .merge(concat_normalized_bssid(wifi, **high_rssi), on='epoch_time_id', how=\"outer\", suffixes=(\"\", \"_high\"))\\\n",
    "        .merge(concat_normalized_bssid(wifi, **low_rssi), on='epoch_time_id', how=\"outer\", suffixes=(\"\", \"_low\"))\n",
    "\n",
    "features_train_ssid_concat = create_wifi_features(train_wifi)\n",
    "display(features_train_ssid_concat)\n",
    "features_train_ssid_concat.to_parquet('../data/train/features_wifi_ssid_cap_bssid_concat.parquet')\n",
    "\n",
    "create_wifi_features(test_wifi).to_parquet('../data/test/features_wifi_ssid_cap_bssid_concat.parquet')\n",
    "create_wifi_features(validate_wifi).to_parquet('../data/validate/features_wifi_ssid_cap_bssid_concat.parquet')"
   ],
   "metadata": {
    "collapsed": false,
    "pycharm": {
     "name": "#%%\n"
    }
   }
  },
  {
   "cell_type": "code",
   "execution_count": 25,
   "outputs": [
    {
     "data": {
      "text/plain": "        epoch_time_id             SSID_high                    SSID_low  \\\n0       1497426496000  SKY484B1 BTHub3-PHSH  EXT2-VM7640780 TheDarkSide   \n1       1497426497000  SKY484B1 BTHub3-PHSH  EXT2-VM7640780 TheDarkSide   \n2       1497426498000  SKY484B1 BTHub3-PHSH  EXT2-VM7640780 TheDarkSide   \n3       1497426499000  SKY484B1 BTHub3-PHSH  EXT2-VM7640780 TheDarkSide   \n4       1497426500000  SKY484B1 BTHub3-PHSH  EXT2-VM7640780 TheDarkSide   \n...               ...                   ...                         ...   \n124417  1500386703000                   NaN             VME albionhouse   \n124418  1500386704000                   NaN             VME albionhouse   \n124419  1500386705000                   NaN             VME albionhouse   \n124420  1500386706000                   NaN             VME albionhouse   \n124421  1500386707000                   NaN             VME albionhouse   \n\n                                             Capabilities  \\\n0       [WPA2-PSK-CCMP][WPS][ESS] [WPA-PSK-CCMP+TKIP][...   \n1       [WPA2-PSK-CCMP][WPS][ESS] [WPA-PSK-CCMP+TKIP][...   \n2       [WPA2-PSK-CCMP][WPS][ESS] [WPA-PSK-CCMP+TKIP][...   \n3       [WPA2-PSK-CCMP][WPS][ESS] [WPA-PSK-CCMP+TKIP][...   \n4       [WPA2-PSK-CCMP][WPS][ESS] [WPA-PSK-CCMP+TKIP][...   \n...                                                   ...   \n124417                                                NaN   \n124418                                                NaN   \n124419                                                NaN   \n124420                                                NaN   \n124421                                                NaN   \n\n                                         Capabilities_low  \\\n0       [WPA2-PSK-CCMP][ESS] [WPA-PSK-CCMP+TKIP][WPA2-...   \n1       [WPA2-PSK-CCMP][ESS] [WPA-PSK-CCMP+TKIP][WPA2-...   \n2       [WPA2-PSK-CCMP][ESS] [WPA-PSK-CCMP+TKIP][WPA2-...   \n3       [WPA2-PSK-CCMP][ESS] [WPA-PSK-CCMP+TKIP][WPA2-...   \n4       [WPA2-PSK-CCMP][ESS] [WPA-PSK-CCMP+TKIP][WPA2-...   \n...                                                   ...   \n124417  [WPA2-PSK-CCMP][WPS][ESS] [WPA-PSK-CCMP+TKIP][...   \n124418  [WPA2-PSK-CCMP][WPS][ESS] [WPA-PSK-CCMP+TKIP][...   \n124419  [WPA2-PSK-CCMP][WPS][ESS] [WPA-PSK-CCMP+TKIP][...   \n124420  [WPA2-PSK-CCMP][WPS][ESS] [WPA-PSK-CCMP+TKIP][...   \n124421  [WPA2-PSK-CCMP][WPS][ESS] [WPA-PSK-CCMP+TKIP][...   \n\n                       BSSID             BSSID_low  \n0       [70:50:af, 00:03:d8]  [1c:a5:32, 00:1d:aa]  \n1       [70:50:af, 00:03:d8]  [1c:a5:32, 00:1d:aa]  \n2       [70:50:af, 00:03:d8]  [1c:a5:32, 00:1d:aa]  \n3       [70:50:af, 00:03:d8]  [1c:a5:32, 00:1d:aa]  \n4       [70:50:af, 00:03:d8]  [1c:a5:32, 00:1d:aa]  \n...                      ...                   ...  \n124417                   NaN  [c0:56:27, fc:f5:28]  \n124418                   NaN  [c0:56:27, fc:f5:28]  \n124419                   NaN  [c0:56:27, fc:f5:28]  \n124420                   NaN  [c0:56:27, fc:f5:28]  \n124421                   NaN  [c0:56:27, fc:f5:28]  \n\n[124422 rows x 7 columns]",
      "text/html": "<div>\n<style scoped>\n    .dataframe tbody tr th:only-of-type {\n        vertical-align: middle;\n    }\n\n    .dataframe tbody tr th {\n        vertical-align: top;\n    }\n\n    .dataframe thead th {\n        text-align: right;\n    }\n</style>\n<table border=\"1\" class=\"dataframe\">\n  <thead>\n    <tr style=\"text-align: right;\">\n      <th></th>\n      <th>epoch_time_id</th>\n      <th>SSID_high</th>\n      <th>SSID_low</th>\n      <th>Capabilities</th>\n      <th>Capabilities_low</th>\n      <th>BSSID</th>\n      <th>BSSID_low</th>\n    </tr>\n  </thead>\n  <tbody>\n    <tr>\n      <th>0</th>\n      <td>1497426496000</td>\n      <td>SKY484B1 BTHub3-PHSH</td>\n      <td>EXT2-VM7640780 TheDarkSide</td>\n      <td>[WPA2-PSK-CCMP][WPS][ESS] [WPA-PSK-CCMP+TKIP][...</td>\n      <td>[WPA2-PSK-CCMP][ESS] [WPA-PSK-CCMP+TKIP][WPA2-...</td>\n      <td>[70:50:af, 00:03:d8]</td>\n      <td>[1c:a5:32, 00:1d:aa]</td>\n    </tr>\n    <tr>\n      <th>1</th>\n      <td>1497426497000</td>\n      <td>SKY484B1 BTHub3-PHSH</td>\n      <td>EXT2-VM7640780 TheDarkSide</td>\n      <td>[WPA2-PSK-CCMP][WPS][ESS] [WPA-PSK-CCMP+TKIP][...</td>\n      <td>[WPA2-PSK-CCMP][ESS] [WPA-PSK-CCMP+TKIP][WPA2-...</td>\n      <td>[70:50:af, 00:03:d8]</td>\n      <td>[1c:a5:32, 00:1d:aa]</td>\n    </tr>\n    <tr>\n      <th>2</th>\n      <td>1497426498000</td>\n      <td>SKY484B1 BTHub3-PHSH</td>\n      <td>EXT2-VM7640780 TheDarkSide</td>\n      <td>[WPA2-PSK-CCMP][WPS][ESS] [WPA-PSK-CCMP+TKIP][...</td>\n      <td>[WPA2-PSK-CCMP][ESS] [WPA-PSK-CCMP+TKIP][WPA2-...</td>\n      <td>[70:50:af, 00:03:d8]</td>\n      <td>[1c:a5:32, 00:1d:aa]</td>\n    </tr>\n    <tr>\n      <th>3</th>\n      <td>1497426499000</td>\n      <td>SKY484B1 BTHub3-PHSH</td>\n      <td>EXT2-VM7640780 TheDarkSide</td>\n      <td>[WPA2-PSK-CCMP][WPS][ESS] [WPA-PSK-CCMP+TKIP][...</td>\n      <td>[WPA2-PSK-CCMP][ESS] [WPA-PSK-CCMP+TKIP][WPA2-...</td>\n      <td>[70:50:af, 00:03:d8]</td>\n      <td>[1c:a5:32, 00:1d:aa]</td>\n    </tr>\n    <tr>\n      <th>4</th>\n      <td>1497426500000</td>\n      <td>SKY484B1 BTHub3-PHSH</td>\n      <td>EXT2-VM7640780 TheDarkSide</td>\n      <td>[WPA2-PSK-CCMP][WPS][ESS] [WPA-PSK-CCMP+TKIP][...</td>\n      <td>[WPA2-PSK-CCMP][ESS] [WPA-PSK-CCMP+TKIP][WPA2-...</td>\n      <td>[70:50:af, 00:03:d8]</td>\n      <td>[1c:a5:32, 00:1d:aa]</td>\n    </tr>\n    <tr>\n      <th>...</th>\n      <td>...</td>\n      <td>...</td>\n      <td>...</td>\n      <td>...</td>\n      <td>...</td>\n      <td>...</td>\n      <td>...</td>\n    </tr>\n    <tr>\n      <th>124417</th>\n      <td>1500386703000</td>\n      <td>NaN</td>\n      <td>VME albionhouse</td>\n      <td>NaN</td>\n      <td>[WPA2-PSK-CCMP][WPS][ESS] [WPA-PSK-CCMP+TKIP][...</td>\n      <td>NaN</td>\n      <td>[c0:56:27, fc:f5:28]</td>\n    </tr>\n    <tr>\n      <th>124418</th>\n      <td>1500386704000</td>\n      <td>NaN</td>\n      <td>VME albionhouse</td>\n      <td>NaN</td>\n      <td>[WPA2-PSK-CCMP][WPS][ESS] [WPA-PSK-CCMP+TKIP][...</td>\n      <td>NaN</td>\n      <td>[c0:56:27, fc:f5:28]</td>\n    </tr>\n    <tr>\n      <th>124419</th>\n      <td>1500386705000</td>\n      <td>NaN</td>\n      <td>VME albionhouse</td>\n      <td>NaN</td>\n      <td>[WPA2-PSK-CCMP][WPS][ESS] [WPA-PSK-CCMP+TKIP][...</td>\n      <td>NaN</td>\n      <td>[c0:56:27, fc:f5:28]</td>\n    </tr>\n    <tr>\n      <th>124420</th>\n      <td>1500386706000</td>\n      <td>NaN</td>\n      <td>VME albionhouse</td>\n      <td>NaN</td>\n      <td>[WPA2-PSK-CCMP][WPS][ESS] [WPA-PSK-CCMP+TKIP][...</td>\n      <td>NaN</td>\n      <td>[c0:56:27, fc:f5:28]</td>\n    </tr>\n    <tr>\n      <th>124421</th>\n      <td>1500386707000</td>\n      <td>NaN</td>\n      <td>VME albionhouse</td>\n      <td>NaN</td>\n      <td>[WPA2-PSK-CCMP][WPS][ESS] [WPA-PSK-CCMP+TKIP][...</td>\n      <td>NaN</td>\n      <td>[c0:56:27, fc:f5:28]</td>\n    </tr>\n  </tbody>\n</table>\n<p>124422 rows × 7 columns</p>\n</div>"
     },
     "execution_count": 25,
     "metadata": {},
     "output_type": "execute_result"
    }
   ],
   "source": [
    "create_wifi_features(validate_wifi)"
   ],
   "metadata": {
    "collapsed": false,
    "pycharm": {
     "name": "#%%\n"
    }
   }
  },
  {
   "cell_type": "code",
   "execution_count": 32,
   "outputs": [],
   "source": [
    "features_wifi_train_with_labels = train_label.merge(features_train_ssid_concat, how='left', on='epoch_time_id').sort_values(by=['epoch_time_id'])\n",
    "features_wifi_train_with_labels"
   ],
   "metadata": {
    "collapsed": false,
    "pycharm": {
     "name": "#%%\n"
    }
   }
  },
  {
   "cell_type": "code",
   "execution_count": 26,
   "outputs": [
    {
     "data": {
      "text/plain": "    Epoch time [ms]      Ignore1      Ignore2  Unknown              BSSID  \\\n0     1497426495755  94062335923  25013238017       11  70:50:af:2d:ed:d9   \n1     1497426495755  94062335923  25013238017       11  74:44:01:f9:12:4c   \n2     1497426495755  94062335923  25013238017       11  22:03:d8:03:39:62   \n3     1497426495755  94062335923  25013238017       11  1c:a5:32:a2:fd:1b   \n4     1497426495755  94062335923  25013238017       11  00:03:d8:03:39:62   \n5     1497426495755  94062335923  25013238017       11  c0:05:c2:b9:e3:71   \n6     1497426495755  94062335923  25013238017       11  d2:05:c2:b9:e3:71   \n7     1497426495755  94062335923  25013238017       11  22:39:96:ba:99:08   \n8     1497426495755  94062335923  25013238017       11  02:03:d8:03:39:62   \n9     1497426495755  94062335923  25013238017       11  fa:8f:ca:56:88:62   \n10    1497426495755  94062335923  25013238017       11  00:1d:aa:f0:a2:80   \n\n                  SSID  RSSI  Frequency [MHz]  \\\n0             SKY484B1   -36             2462   \n1   virginmedia7072875   -66             2437   \n2             BTWifi-X   -66             2462   \n3       EXT2-VM7640780   -72             2437   \n4          BTHub3-PHSH   -65             2462   \n5            VM7640780   -84             2437   \n6         Virgin Media   -85             2437   \n7             BTWifi-X   -89             2412   \n8      BTWifi-with-FON   -65             2462   \n9                        -45             2462   \n10         TheDarkSide   -75             2412   \n\n                                         Capabilities  epoch_time_id  \n0                           [WPA2-PSK-CCMP][WPS][ESS]  1497426496000  \n1   [WPA-PSK-CCMP+TKIP][WPA2-PSK-CCMP+TKIP][WPS][ESS]  1497426496000  \n2   [WPA-EAP-CCMP+TKIP][WPA2-EAP-CCMP+TKIP-preauth...  1497426496000  \n3                                [WPA2-PSK-CCMP][ESS]  1497426496000  \n4   [WPA-PSK-CCMP+TKIP][WPA2-PSK-CCMP+TKIP][WPS][ESS]  1497426496000  \n5   [WPA-PSK-CCMP+TKIP][WPA2-PSK-CCMP+TKIP][WPS][ESS]  1497426496000  \n6                                [WPA2-EAP-CCMP][ESS]  1497426496000  \n7   [WPA-EAP-CCMP+TKIP][WPA2-EAP-CCMP+TKIP-preauth...  1497426496000  \n8                                               [ESS]  1497426496000  \n9                                               [ESS]  1497426496000  \n10  [WPA-PSK-CCMP+TKIP][WPA2-PSK-CCMP+TKIP][WPS][E...  1497426496000  ",
      "text/html": "<div>\n<style scoped>\n    .dataframe tbody tr th:only-of-type {\n        vertical-align: middle;\n    }\n\n    .dataframe tbody tr th {\n        vertical-align: top;\n    }\n\n    .dataframe thead th {\n        text-align: right;\n    }\n</style>\n<table border=\"1\" class=\"dataframe\">\n  <thead>\n    <tr style=\"text-align: right;\">\n      <th></th>\n      <th>Epoch time [ms]</th>\n      <th>Ignore1</th>\n      <th>Ignore2</th>\n      <th>Unknown</th>\n      <th>BSSID</th>\n      <th>SSID</th>\n      <th>RSSI</th>\n      <th>Frequency [MHz]</th>\n      <th>Capabilities</th>\n      <th>epoch_time_id</th>\n    </tr>\n  </thead>\n  <tbody>\n    <tr>\n      <th>0</th>\n      <td>1497426495755</td>\n      <td>94062335923</td>\n      <td>25013238017</td>\n      <td>11</td>\n      <td>70:50:af:2d:ed:d9</td>\n      <td>SKY484B1</td>\n      <td>-36</td>\n      <td>2462</td>\n      <td>[WPA2-PSK-CCMP][WPS][ESS]</td>\n      <td>1497426496000</td>\n    </tr>\n    <tr>\n      <th>1</th>\n      <td>1497426495755</td>\n      <td>94062335923</td>\n      <td>25013238017</td>\n      <td>11</td>\n      <td>74:44:01:f9:12:4c</td>\n      <td>virginmedia7072875</td>\n      <td>-66</td>\n      <td>2437</td>\n      <td>[WPA-PSK-CCMP+TKIP][WPA2-PSK-CCMP+TKIP][WPS][ESS]</td>\n      <td>1497426496000</td>\n    </tr>\n    <tr>\n      <th>2</th>\n      <td>1497426495755</td>\n      <td>94062335923</td>\n      <td>25013238017</td>\n      <td>11</td>\n      <td>22:03:d8:03:39:62</td>\n      <td>BTWifi-X</td>\n      <td>-66</td>\n      <td>2462</td>\n      <td>[WPA-EAP-CCMP+TKIP][WPA2-EAP-CCMP+TKIP-preauth...</td>\n      <td>1497426496000</td>\n    </tr>\n    <tr>\n      <th>3</th>\n      <td>1497426495755</td>\n      <td>94062335923</td>\n      <td>25013238017</td>\n      <td>11</td>\n      <td>1c:a5:32:a2:fd:1b</td>\n      <td>EXT2-VM7640780</td>\n      <td>-72</td>\n      <td>2437</td>\n      <td>[WPA2-PSK-CCMP][ESS]</td>\n      <td>1497426496000</td>\n    </tr>\n    <tr>\n      <th>4</th>\n      <td>1497426495755</td>\n      <td>94062335923</td>\n      <td>25013238017</td>\n      <td>11</td>\n      <td>00:03:d8:03:39:62</td>\n      <td>BTHub3-PHSH</td>\n      <td>-65</td>\n      <td>2462</td>\n      <td>[WPA-PSK-CCMP+TKIP][WPA2-PSK-CCMP+TKIP][WPS][ESS]</td>\n      <td>1497426496000</td>\n    </tr>\n    <tr>\n      <th>5</th>\n      <td>1497426495755</td>\n      <td>94062335923</td>\n      <td>25013238017</td>\n      <td>11</td>\n      <td>c0:05:c2:b9:e3:71</td>\n      <td>VM7640780</td>\n      <td>-84</td>\n      <td>2437</td>\n      <td>[WPA-PSK-CCMP+TKIP][WPA2-PSK-CCMP+TKIP][WPS][ESS]</td>\n      <td>1497426496000</td>\n    </tr>\n    <tr>\n      <th>6</th>\n      <td>1497426495755</td>\n      <td>94062335923</td>\n      <td>25013238017</td>\n      <td>11</td>\n      <td>d2:05:c2:b9:e3:71</td>\n      <td>Virgin Media</td>\n      <td>-85</td>\n      <td>2437</td>\n      <td>[WPA2-EAP-CCMP][ESS]</td>\n      <td>1497426496000</td>\n    </tr>\n    <tr>\n      <th>7</th>\n      <td>1497426495755</td>\n      <td>94062335923</td>\n      <td>25013238017</td>\n      <td>11</td>\n      <td>22:39:96:ba:99:08</td>\n      <td>BTWifi-X</td>\n      <td>-89</td>\n      <td>2412</td>\n      <td>[WPA-EAP-CCMP+TKIP][WPA2-EAP-CCMP+TKIP-preauth...</td>\n      <td>1497426496000</td>\n    </tr>\n    <tr>\n      <th>8</th>\n      <td>1497426495755</td>\n      <td>94062335923</td>\n      <td>25013238017</td>\n      <td>11</td>\n      <td>02:03:d8:03:39:62</td>\n      <td>BTWifi-with-FON</td>\n      <td>-65</td>\n      <td>2462</td>\n      <td>[ESS]</td>\n      <td>1497426496000</td>\n    </tr>\n    <tr>\n      <th>9</th>\n      <td>1497426495755</td>\n      <td>94062335923</td>\n      <td>25013238017</td>\n      <td>11</td>\n      <td>fa:8f:ca:56:88:62</td>\n      <td></td>\n      <td>-45</td>\n      <td>2462</td>\n      <td>[ESS]</td>\n      <td>1497426496000</td>\n    </tr>\n    <tr>\n      <th>10</th>\n      <td>1497426495755</td>\n      <td>94062335923</td>\n      <td>25013238017</td>\n      <td>11</td>\n      <td>00:1d:aa:f0:a2:80</td>\n      <td>TheDarkSide</td>\n      <td>-75</td>\n      <td>2412</td>\n      <td>[WPA-PSK-CCMP+TKIP][WPA2-PSK-CCMP+TKIP][WPS][E...</td>\n      <td>1497426496000</td>\n    </tr>\n  </tbody>\n</table>\n</div>"
     },
     "execution_count": 26,
     "metadata": {},
     "output_type": "execute_result"
    }
   ],
   "source": [
    "validate_wifi.query('epoch_time_id == 1497426496000')"
   ],
   "metadata": {
    "collapsed": false,
    "pycharm": {
     "name": "#%%\n"
    }
   }
  },
  {
   "cell_type": "code",
   "execution_count": 20,
   "outputs": [
    {
     "data": {
      "text/plain": "   epoch_time_id               SSID\n0  1497272170000       Virgin Media\n1  1497272171000  Virgin Media WiFi",
      "text/html": "<div>\n<style scoped>\n    .dataframe tbody tr th:only-of-type {\n        vertical-align: middle;\n    }\n\n    .dataframe tbody tr th {\n        vertical-align: top;\n    }\n\n    .dataframe thead th {\n        text-align: right;\n    }\n</style>\n<table border=\"1\" class=\"dataframe\">\n  <thead>\n    <tr style=\"text-align: right;\">\n      <th></th>\n      <th>epoch_time_id</th>\n      <th>SSID</th>\n    </tr>\n  </thead>\n  <tbody>\n    <tr>\n      <th>0</th>\n      <td>1497272170000</td>\n      <td>Virgin Media</td>\n    </tr>\n    <tr>\n      <th>1</th>\n      <td>1497272171000</td>\n      <td>Virgin Media WiFi</td>\n    </tr>\n  </tbody>\n</table>\n</div>"
     },
     "execution_count": 20,
     "metadata": {},
     "output_type": "execute_result"
    }
   ],
   "source": [
    "concat_ssid(train_wifi.query('epoch_time_id == 1497272170000 or epoch_time_id == 1497272171000'))"
   ],
   "metadata": {
    "collapsed": false,
    "pycharm": {
     "name": "#%%\n"
    }
   }
  },
  {
   "cell_type": "code",
   "execution_count": 21,
   "outputs": [
    {
     "data": {
      "text/plain": "          Epoch time [ms]         Ignore1       Ignore2  Unknown  \\\n10209930    1497272170202  15304015012245  130219565604       40   \n10209931    1497272170202  15304015012245  130219565604       40   \n10209932    1497272170202  15304015012245  130219565604       40   \n10209933    1497272170202  15304015012245  130219565604       40   \n10209934    1497272170202  15304015012245  130219565604       40   \n...                   ...             ...           ...      ...   \n10210005    1497272171210  15305023205474  130219565604       40   \n10210006    1497272171210  15305023205474  130219565604       40   \n10210007    1497272171210  15305023205474  130219565604       40   \n10210008    1497272171210  15305023205474  130219565604       40   \n10210009    1497272171210  15305023205474  130219565604       40   \n\n                      BSSID               SSID  RSSI  Frequency [MHz]  \\\n10209930  2c:36:f8:0f:2d:89         Wifi Extra   -65             5500   \n10209931  c8:f9:f9:29:43:1b       EE WiFi-Auto   -65             5320   \n10209932  c8:f9:f9:29:43:1f          222666328   -65             5320   \n10209933  2c:36:f8:0f:2d:8b       EE WiFi-Auto   -65             5500   \n10209934  2c:36:f8:0f:2d:8f          222666328   -65             5500   \n...                     ...                ...   ...              ...   \n10210005  c8:f9:f9:29:43:13  Virgin Media WiFi   -55             2437   \n10210006  2c:36:f8:0f:2d:83  Virgin Media WiFi   -70             2437   \n10210007  2c:36:f8:0f:2e:83  Virgin Media WiFi   -77             2412   \n10210008  2c:36:f8:0f:28:f3  Virgin Media WiFi   -83             2462   \n10210009  2c:36:f8:0f:4b:03  Virgin Media WiFi   -85             2412   \n\n                         Capabilities  epoch_time_id  \n10209930  [WPA2-EAP+FT/EAP-CCMP][ESS]  1497272170000  \n10209931  [WPA2-EAP+FT/EAP-CCMP][ESS]  1497272170000  \n10209932  [WPA2-EAP+FT/EAP-CCMP][ESS]  1497272170000  \n10209933  [WPA2-EAP+FT/EAP-CCMP][ESS]  1497272170000  \n10209934  [WPA2-EAP+FT/EAP-CCMP][ESS]  1497272170000  \n...                               ...            ...  \n10210005                        [ESS]  1497272171000  \n10210006                        [ESS]  1497272171000  \n10210007                        [ESS]  1497272171000  \n10210008                        [ESS]  1497272171000  \n10210009                      [ESS]\\n  1497272171000  \n\n[80 rows x 10 columns]",
      "text/html": "<div>\n<style scoped>\n    .dataframe tbody tr th:only-of-type {\n        vertical-align: middle;\n    }\n\n    .dataframe tbody tr th {\n        vertical-align: top;\n    }\n\n    .dataframe thead th {\n        text-align: right;\n    }\n</style>\n<table border=\"1\" class=\"dataframe\">\n  <thead>\n    <tr style=\"text-align: right;\">\n      <th></th>\n      <th>Epoch time [ms]</th>\n      <th>Ignore1</th>\n      <th>Ignore2</th>\n      <th>Unknown</th>\n      <th>BSSID</th>\n      <th>SSID</th>\n      <th>RSSI</th>\n      <th>Frequency [MHz]</th>\n      <th>Capabilities</th>\n      <th>epoch_time_id</th>\n    </tr>\n  </thead>\n  <tbody>\n    <tr>\n      <th>10209930</th>\n      <td>1497272170202</td>\n      <td>15304015012245</td>\n      <td>130219565604</td>\n      <td>40</td>\n      <td>2c:36:f8:0f:2d:89</td>\n      <td>Wifi Extra</td>\n      <td>-65</td>\n      <td>5500</td>\n      <td>[WPA2-EAP+FT/EAP-CCMP][ESS]</td>\n      <td>1497272170000</td>\n    </tr>\n    <tr>\n      <th>10209931</th>\n      <td>1497272170202</td>\n      <td>15304015012245</td>\n      <td>130219565604</td>\n      <td>40</td>\n      <td>c8:f9:f9:29:43:1b</td>\n      <td>EE WiFi-Auto</td>\n      <td>-65</td>\n      <td>5320</td>\n      <td>[WPA2-EAP+FT/EAP-CCMP][ESS]</td>\n      <td>1497272170000</td>\n    </tr>\n    <tr>\n      <th>10209932</th>\n      <td>1497272170202</td>\n      <td>15304015012245</td>\n      <td>130219565604</td>\n      <td>40</td>\n      <td>c8:f9:f9:29:43:1f</td>\n      <td>222666328</td>\n      <td>-65</td>\n      <td>5320</td>\n      <td>[WPA2-EAP+FT/EAP-CCMP][ESS]</td>\n      <td>1497272170000</td>\n    </tr>\n    <tr>\n      <th>10209933</th>\n      <td>1497272170202</td>\n      <td>15304015012245</td>\n      <td>130219565604</td>\n      <td>40</td>\n      <td>2c:36:f8:0f:2d:8b</td>\n      <td>EE WiFi-Auto</td>\n      <td>-65</td>\n      <td>5500</td>\n      <td>[WPA2-EAP+FT/EAP-CCMP][ESS]</td>\n      <td>1497272170000</td>\n    </tr>\n    <tr>\n      <th>10209934</th>\n      <td>1497272170202</td>\n      <td>15304015012245</td>\n      <td>130219565604</td>\n      <td>40</td>\n      <td>2c:36:f8:0f:2d:8f</td>\n      <td>222666328</td>\n      <td>-65</td>\n      <td>5500</td>\n      <td>[WPA2-EAP+FT/EAP-CCMP][ESS]</td>\n      <td>1497272170000</td>\n    </tr>\n    <tr>\n      <th>...</th>\n      <td>...</td>\n      <td>...</td>\n      <td>...</td>\n      <td>...</td>\n      <td>...</td>\n      <td>...</td>\n      <td>...</td>\n      <td>...</td>\n      <td>...</td>\n      <td>...</td>\n    </tr>\n    <tr>\n      <th>10210005</th>\n      <td>1497272171210</td>\n      <td>15305023205474</td>\n      <td>130219565604</td>\n      <td>40</td>\n      <td>c8:f9:f9:29:43:13</td>\n      <td>Virgin Media WiFi</td>\n      <td>-55</td>\n      <td>2437</td>\n      <td>[ESS]</td>\n      <td>1497272171000</td>\n    </tr>\n    <tr>\n      <th>10210006</th>\n      <td>1497272171210</td>\n      <td>15305023205474</td>\n      <td>130219565604</td>\n      <td>40</td>\n      <td>2c:36:f8:0f:2d:83</td>\n      <td>Virgin Media WiFi</td>\n      <td>-70</td>\n      <td>2437</td>\n      <td>[ESS]</td>\n      <td>1497272171000</td>\n    </tr>\n    <tr>\n      <th>10210007</th>\n      <td>1497272171210</td>\n      <td>15305023205474</td>\n      <td>130219565604</td>\n      <td>40</td>\n      <td>2c:36:f8:0f:2e:83</td>\n      <td>Virgin Media WiFi</td>\n      <td>-77</td>\n      <td>2412</td>\n      <td>[ESS]</td>\n      <td>1497272171000</td>\n    </tr>\n    <tr>\n      <th>10210008</th>\n      <td>1497272171210</td>\n      <td>15305023205474</td>\n      <td>130219565604</td>\n      <td>40</td>\n      <td>2c:36:f8:0f:28:f3</td>\n      <td>Virgin Media WiFi</td>\n      <td>-83</td>\n      <td>2462</td>\n      <td>[ESS]</td>\n      <td>1497272171000</td>\n    </tr>\n    <tr>\n      <th>10210009</th>\n      <td>1497272171210</td>\n      <td>15305023205474</td>\n      <td>130219565604</td>\n      <td>40</td>\n      <td>2c:36:f8:0f:4b:03</td>\n      <td>Virgin Media WiFi</td>\n      <td>-85</td>\n      <td>2412</td>\n      <td>[ESS]\\n</td>\n      <td>1497272171000</td>\n    </tr>\n  </tbody>\n</table>\n<p>80 rows × 10 columns</p>\n</div>"
     },
     "execution_count": 21,
     "metadata": {},
     "output_type": "execute_result"
    }
   ],
   "source": [
    "train_wifi.query('epoch_time_id == 1497272170000 or epoch_time_id == 1497272171000')"
   ],
   "metadata": {
    "collapsed": false,
    "pycharm": {
     "name": "#%%\n"
    }
   }
  },
  {
   "cell_type": "code",
   "execution_count": 5,
   "outputs": [
    {
     "data": {
      "text/plain": "array(['VM8236218', 'VM201213-2G', 'VM702835-2G_EXT', ...,\n       'PAH_Colleague', 'HP-Print-c7-LaserJet 100', 'BTHub6-293G'],\n      dtype=object)"
     },
     "execution_count": 5,
     "metadata": {},
     "output_type": "execute_result"
    }
   ],
   "source": [
    "pd.concat([train_wifi['SSID'], test_wifi['SSID'], validate_wifi['SSID']]).unique()"
   ],
   "metadata": {
    "collapsed": false,
    "pycharm": {
     "name": "#%%\n"
    }
   }
  },
  {
   "cell_type": "code",
   "execution_count": null,
   "outputs": [],
   "source": [
    "%%time\n",
    "\n",
    "wifi_feature = WifiFeature(train_wifi)\n",
    "train_wifi_features = wifi_feature.transform(train_wifi)\n",
    "validate_wifi_features = wifi_feature.transform(validate_wifi)\n",
    "test_wifi_features = wifi_feature.transform(test_wifi)"
   ],
   "metadata": {
    "collapsed": false,
    "pycharm": {
     "name": "#%%\n"
    }
   }
  },
  {
   "cell_type": "code",
   "execution_count": null,
   "outputs": [],
   "source": [
    "validate_wifi_features"
   ],
   "metadata": {
    "collapsed": false,
    "pycharm": {
     "name": "#%%\n"
    }
   }
  },
  {
   "cell_type": "code",
   "execution_count": null,
   "outputs": [],
   "source": [
    "wifi_feature_names = wifi_feature.get_feature_names()\n",
    "print(wifi_feature_names)"
   ],
   "metadata": {
    "collapsed": false,
    "pycharm": {
     "name": "#%%\n"
    }
   }
  },
  {
   "cell_type": "code",
   "execution_count": null,
   "outputs": [],
   "source": [
    "wifi_feature.hist([train_wifi_features, validate_wifi_features, test_wifi_features])"
   ],
   "metadata": {
    "collapsed": false,
    "pycharm": {
     "name": "#%%\n"
    }
   }
  },
  {
   "cell_type": "code",
   "execution_count": null,
   "outputs": [],
   "source": [
    "train_wifi_features.to_parquet('../data/train/features_wifi_names.parquet')\n",
    "test_wifi_features.to_parquet('../data/test/features_wifi_names.parquet')\n",
    "validate_wifi_features.to_parquet('../data/validate/features_wifi_names.parquet')"
   ],
   "metadata": {
    "collapsed": false,
    "pycharm": {
     "name": "#%%\n"
    }
   }
  },
  {
   "cell_type": "code",
   "execution_count": null,
   "outputs": [],
   "source": [
    "train_wifi_features.dtypes"
   ],
   "metadata": {
    "collapsed": false,
    "pycharm": {
     "name": "#%%\n"
    }
   }
  },
  {
   "cell_type": "code",
   "execution_count": null,
   "outputs": [],
   "source": [],
   "metadata": {
    "collapsed": false,
    "pycharm": {
     "name": "#%%\n"
    }
   }
  }
 ],
 "metadata": {
  "kernelspec": {
   "display_name": "Python 3",
   "language": "python",
   "name": "python3"
  },
  "language_info": {
   "codemirror_mode": {
    "name": "ipython",
    "version": 2
   },
   "file_extension": ".py",
   "mimetype": "text/x-python",
   "name": "python",
   "nbconvert_exporter": "python",
   "pygments_lexer": "ipython2",
   "version": "2.7.6"
  }
 },
 "nbformat": 4,
 "nbformat_minor": 0
}