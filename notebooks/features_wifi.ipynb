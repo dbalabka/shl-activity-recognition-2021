{
 "cells": [
  {
   "cell_type": "code",
   "execution_count": 1,
   "metadata": {
    "collapsed": true,
    "pycharm": {
     "name": "#%%\n"
    }
   },
   "outputs": [
    {
     "name": "stderr",
     "output_type": "stream",
     "text": [
      "/Users/torinaki/www/htdocs/shl-2021/.venv/lib/python3.9/site-packages/gensim/similarities/__init__.py:15: UserWarning: The gensim.similarities.levenshtein submodule is disabled, because the optional Levenshtein package <https://pypi.org/project/python-Levenshtein/> is unavailable. Install Levenhstein (e.g. `pip install python-Levenshtein`) to suppress this warning.\n",
      "  warnings.warn(msg)\n"
     ]
    }
   ],
   "source": [
    "import re\n",
    "\n",
    "import numpy as np\n",
    "import pandas as pd\n",
    "import os\n",
    "import featuretools as ft\n",
    "from shl.prepare import normalize_epoch_time, normalize_lat_long\n",
    "import plotly.express as px\n",
    "from sklearn.feature_extraction.text import TfidfVectorizer\n",
    "from gensim.parsing.preprocessing import \\\n",
    "    strip_tags, strip_punctuation, strip_multiple_whitespaces, strip_numeric, \\\n",
    "    strip_short, stem_text\n",
    "\n",
    "from shl.features import WifiFeature\n",
    "\n",
    "%load_ext autoreload\n",
    "%autoreload 2"
   ]
  },
  {
   "cell_type": "code",
   "execution_count": 2,
   "outputs": [],
   "source": [
    "train_wifi = normalize_epoch_time(pd.read_parquet('../data/train/WiFi.parquet'), 'Epoch time [ms]')\n",
    "test_wifi = normalize_epoch_time(pd.read_parquet('../data/test/WiFi.parquet'), 'Epoch time [ms]')\n",
    "validate_wifi = normalize_epoch_time(pd.read_parquet('../data/validate/WiFi.parquet'), 'Epoch time [ms]')\n",
    "train_label = normalize_epoch_time(pd.read_parquet('../data/train/Label.parquet'), 'epoch_time')\n",
    "test_label = normalize_epoch_time(pd.read_parquet('../data/test/Label_idx.parquet'), 'epoch_time')\n",
    "validate_label = normalize_epoch_time(pd.read_parquet('../data/validate/Label.parquet'), 'epoch_time')"
   ],
   "metadata": {
    "collapsed": false,
    "pycharm": {
     "name": "#%%\n"
    }
   }
  },
  {
   "cell_type": "code",
   "execution_count": 3,
   "outputs": [
    {
     "data": {
      "text/plain": "            epoch_time  label  epoch_time_id  Epoch time [ms]       Ignore1  \\\n0        1490431583000      4  1490431583000     1.490432e+12  7.138649e+11   \n1        1490431583000      4  1490431583000     1.490432e+12  7.138649e+11   \n2        1490431583000      4  1490431583000     1.490432e+12  7.138649e+11   \n3        1490431583000      4  1490431583000     1.490432e+12  7.138649e+11   \n4        1490431583000      4  1490431583000     1.490432e+12  7.138649e+11   \n...                ...    ...            ...              ...           ...   \n9073178  1499267852000      5  1499267852000     1.499268e+12  2.513964e+13   \n9073179  1499267852000      5  1499267852000     1.499268e+12  2.513964e+13   \n9073180  1499267852000      5  1499267852000     1.499268e+12  2.513964e+13   \n9073181  1499267852000      5  1499267852000     1.499268e+12  2.513964e+13   \n9073182  1499267852000      5  1499267852000     1.499268e+12  2.513964e+13   \n\n              Ignore2  Unknown              BSSID             SSID  RSSI  \\\n0        2.426589e+08      6.0  c0:05:c2:29:40:ff        VM8236218 -43.0   \n1        2.426589e+08      6.0  c0:05:c2:29:40:f9        VM8236218 -48.0   \n2        2.426589e+08      6.0  d2:05:c2:29:40:f9     Virgin Media -48.0   \n3        2.426589e+08      6.0  90:f6:52:f5:b8:90   TP-LINK_F5B890 -64.0   \n4        2.426589e+08      6.0  98:e7:f5:b9:3f:14   TALKTALKB93F0E -71.0   \n...               ...      ...                ...              ...   ...   \n9073178  1.496746e+11      5.0  52:0d:10:1a:29:49     Virgin Media -78.0   \n9073179  1.496746e+11      5.0  d2:05:c2:bb:1b:69     Virgin Media -82.0   \n9073180  1.496746e+11      5.0  40:0d:10:1a:29:49        VM1689925 -85.0   \n9073181  1.496746e+11      5.0  ae:10:d4:0e:d6:d5         BTWifi-X -87.0   \n9073182  1.496746e+11      5.0  8e:10:d4:0e:d6:d5  BTWifi-with-FON -86.0   \n\n         Frequency [MHz]                                       Capabilities  \n0                 5220.0                     [WPA2-PSK-CCMP+TKIP][WPS][ESS]  \n1                 2412.0  [WPA-PSK-CCMP+TKIP][WPA2-PSK-CCMP+TKIP][WPS][ESS]  \n2                 2412.0                               [WPA2-EAP-CCMP][ESS]  \n3                 2452.0            [WPA-PSK-CCMP][WPA2-PSK-CCMP][WPS][ESS]  \n4                 2432.0  [WPA-PSK-CCMP+TKIP][WPA2-PSK-CCMP+TKIP][WPS][ESS]  \n...                  ...                                                ...  \n9073178           2437.0                               [WPA2-EAP-CCMP][ESS]  \n9073179           2462.0                               [WPA2-EAP-CCMP][ESS]  \n9073180           2437.0  [WPA-PSK-CCMP+TKIP][WPA2-PSK-CCMP+TKIP][WPS][ESS]  \n9073181           2462.0  [WPA-EAP-CCMP+TKIP][WPA2-EAP-CCMP+TKIP-preauth...  \n9073182           2462.0                                            [ESS]\\n  \n\n[9073183 rows x 12 columns]",
      "text/html": "<div>\n<style scoped>\n    .dataframe tbody tr th:only-of-type {\n        vertical-align: middle;\n    }\n\n    .dataframe tbody tr th {\n        vertical-align: top;\n    }\n\n    .dataframe thead th {\n        text-align: right;\n    }\n</style>\n<table border=\"1\" class=\"dataframe\">\n  <thead>\n    <tr style=\"text-align: right;\">\n      <th></th>\n      <th>epoch_time</th>\n      <th>label</th>\n      <th>epoch_time_id</th>\n      <th>Epoch time [ms]</th>\n      <th>Ignore1</th>\n      <th>Ignore2</th>\n      <th>Unknown</th>\n      <th>BSSID</th>\n      <th>SSID</th>\n      <th>RSSI</th>\n      <th>Frequency [MHz]</th>\n      <th>Capabilities</th>\n    </tr>\n  </thead>\n  <tbody>\n    <tr>\n      <th>0</th>\n      <td>1490431583000</td>\n      <td>4</td>\n      <td>1490431583000</td>\n      <td>1.490432e+12</td>\n      <td>7.138649e+11</td>\n      <td>2.426589e+08</td>\n      <td>6.0</td>\n      <td>c0:05:c2:29:40:ff</td>\n      <td>VM8236218</td>\n      <td>-43.0</td>\n      <td>5220.0</td>\n      <td>[WPA2-PSK-CCMP+TKIP][WPS][ESS]</td>\n    </tr>\n    <tr>\n      <th>1</th>\n      <td>1490431583000</td>\n      <td>4</td>\n      <td>1490431583000</td>\n      <td>1.490432e+12</td>\n      <td>7.138649e+11</td>\n      <td>2.426589e+08</td>\n      <td>6.0</td>\n      <td>c0:05:c2:29:40:f9</td>\n      <td>VM8236218</td>\n      <td>-48.0</td>\n      <td>2412.0</td>\n      <td>[WPA-PSK-CCMP+TKIP][WPA2-PSK-CCMP+TKIP][WPS][ESS]</td>\n    </tr>\n    <tr>\n      <th>2</th>\n      <td>1490431583000</td>\n      <td>4</td>\n      <td>1490431583000</td>\n      <td>1.490432e+12</td>\n      <td>7.138649e+11</td>\n      <td>2.426589e+08</td>\n      <td>6.0</td>\n      <td>d2:05:c2:29:40:f9</td>\n      <td>Virgin Media</td>\n      <td>-48.0</td>\n      <td>2412.0</td>\n      <td>[WPA2-EAP-CCMP][ESS]</td>\n    </tr>\n    <tr>\n      <th>3</th>\n      <td>1490431583000</td>\n      <td>4</td>\n      <td>1490431583000</td>\n      <td>1.490432e+12</td>\n      <td>7.138649e+11</td>\n      <td>2.426589e+08</td>\n      <td>6.0</td>\n      <td>90:f6:52:f5:b8:90</td>\n      <td>TP-LINK_F5B890</td>\n      <td>-64.0</td>\n      <td>2452.0</td>\n      <td>[WPA-PSK-CCMP][WPA2-PSK-CCMP][WPS][ESS]</td>\n    </tr>\n    <tr>\n      <th>4</th>\n      <td>1490431583000</td>\n      <td>4</td>\n      <td>1490431583000</td>\n      <td>1.490432e+12</td>\n      <td>7.138649e+11</td>\n      <td>2.426589e+08</td>\n      <td>6.0</td>\n      <td>98:e7:f5:b9:3f:14</td>\n      <td>TALKTALKB93F0E</td>\n      <td>-71.0</td>\n      <td>2432.0</td>\n      <td>[WPA-PSK-CCMP+TKIP][WPA2-PSK-CCMP+TKIP][WPS][ESS]</td>\n    </tr>\n    <tr>\n      <th>...</th>\n      <td>...</td>\n      <td>...</td>\n      <td>...</td>\n      <td>...</td>\n      <td>...</td>\n      <td>...</td>\n      <td>...</td>\n      <td>...</td>\n      <td>...</td>\n      <td>...</td>\n      <td>...</td>\n      <td>...</td>\n    </tr>\n    <tr>\n      <th>9073178</th>\n      <td>1499267852000</td>\n      <td>5</td>\n      <td>1499267852000</td>\n      <td>1.499268e+12</td>\n      <td>2.513964e+13</td>\n      <td>1.496746e+11</td>\n      <td>5.0</td>\n      <td>52:0d:10:1a:29:49</td>\n      <td>Virgin Media</td>\n      <td>-78.0</td>\n      <td>2437.0</td>\n      <td>[WPA2-EAP-CCMP][ESS]</td>\n    </tr>\n    <tr>\n      <th>9073179</th>\n      <td>1499267852000</td>\n      <td>5</td>\n      <td>1499267852000</td>\n      <td>1.499268e+12</td>\n      <td>2.513964e+13</td>\n      <td>1.496746e+11</td>\n      <td>5.0</td>\n      <td>d2:05:c2:bb:1b:69</td>\n      <td>Virgin Media</td>\n      <td>-82.0</td>\n      <td>2462.0</td>\n      <td>[WPA2-EAP-CCMP][ESS]</td>\n    </tr>\n    <tr>\n      <th>9073180</th>\n      <td>1499267852000</td>\n      <td>5</td>\n      <td>1499267852000</td>\n      <td>1.499268e+12</td>\n      <td>2.513964e+13</td>\n      <td>1.496746e+11</td>\n      <td>5.0</td>\n      <td>40:0d:10:1a:29:49</td>\n      <td>VM1689925</td>\n      <td>-85.0</td>\n      <td>2437.0</td>\n      <td>[WPA-PSK-CCMP+TKIP][WPA2-PSK-CCMP+TKIP][WPS][ESS]</td>\n    </tr>\n    <tr>\n      <th>9073181</th>\n      <td>1499267852000</td>\n      <td>5</td>\n      <td>1499267852000</td>\n      <td>1.499268e+12</td>\n      <td>2.513964e+13</td>\n      <td>1.496746e+11</td>\n      <td>5.0</td>\n      <td>ae:10:d4:0e:d6:d5</td>\n      <td>BTWifi-X</td>\n      <td>-87.0</td>\n      <td>2462.0</td>\n      <td>[WPA-EAP-CCMP+TKIP][WPA2-EAP-CCMP+TKIP-preauth...</td>\n    </tr>\n    <tr>\n      <th>9073182</th>\n      <td>1499267852000</td>\n      <td>5</td>\n      <td>1499267852000</td>\n      <td>1.499268e+12</td>\n      <td>2.513964e+13</td>\n      <td>1.496746e+11</td>\n      <td>5.0</td>\n      <td>8e:10:d4:0e:d6:d5</td>\n      <td>BTWifi-with-FON</td>\n      <td>-86.0</td>\n      <td>2462.0</td>\n      <td>[ESS]\\n</td>\n    </tr>\n  </tbody>\n</table>\n<p>9073183 rows × 12 columns</p>\n</div>"
     },
     "execution_count": 3,
     "metadata": {},
     "output_type": "execute_result"
    }
   ],
   "source": [
    "train_label.merge(train_wifi, how='left', on='epoch_time_id')\n"
   ],
   "metadata": {
    "collapsed": false,
    "pycharm": {
     "name": "#%%\n"
    }
   }
  },
  {
   "cell_type": "code",
   "execution_count": 4,
   "outputs": [
    {
     "name": "stdout",
     "output_type": "stream",
     "text": [
      "pivot_variable  epoch_time_id        SSID_1 SSID_2    SSID_3       SSID_4  \\\n",
      "0               1490430923000  Virgin Media     VM  TALKTALK  TP-LINK_F5B   \n",
      "1               1490430924000  Virgin Media     VM  TALKTALK  TP-LINK_F5B   \n",
      "2               1490430925000  Virgin Media     VM  TALKTALK  TP-LINK_F5B   \n",
      "3               1490430926000  Virgin Media     VM  TALKTALK  TP-LINK_F5B   \n",
      "4               1490430927000  Virgin Media     VM  TALKTALK  TP-LINK_F5B   \n",
      "...                       ...           ...    ...       ...          ...   \n",
      "1050729         1499268457000  Virgin Media     VM  TALKTALK  TP-LINK_F5B   \n",
      "1050730         1499268458000  Virgin Media     VM  TALKTALK  TP-LINK_F5B   \n",
      "1050731         1499268459000  Virgin Media     VM  TALKTALK  TP-LINK_F5B   \n",
      "1050732         1499268460000  Virgin Media     VM  TALKTALK  TP-LINK_F5B   \n",
      "1050733         1499268461000  Virgin Media     VM  TALKTALK  TP-LINK_F5B   \n",
      "\n",
      "pivot_variable SSID_5  \n",
      "0                 NaN  \n",
      "1                 NaN  \n",
      "2                 NaN  \n",
      "3                 NaN  \n",
      "4                 NaN  \n",
      "...               ...  \n",
      "1050729           NaN  \n",
      "1050730           NaN  \n",
      "1050731           NaN  \n",
      "1050732           NaN  \n",
      "1050733           NaN  \n",
      "\n",
      "[1050734 rows x 6 columns]\n"
     ]
    }
   ],
   "source": [
    "def normalize_ssid(ssid: pd.Series):\n",
    "    return ssid.str.replace(\"[0-9]{2}[0-9A-Z]+\", \"\", regex=True) \\\n",
    "            .str.replace(\"^(BTHub|BTWiFi|BTOpenzone|DIRECT|EE(?:-BrightBox)?|HP-Print|MY WIFI|NETGEAR|PLUSNET|SKY|TALKTALK|TNCAP|VodafoneMobileWiFi|XLN For Small Biz|VM|ZyXEL|EXT2-BTHub|EXT2-PLUSNET).*$\", \"\\\\1\", regex=True) \\\n",
    "            .str.strip()\n",
    "\n",
    "def get_strongest_ssid_by_rssi(wifi: pd.DataFrame) -> pd.Series:\n",
    "    return wifi.sort_values(by='RSSI', ascending=False).groupby(by='epoch_time_id').head(5).reset_index()\n",
    "\n",
    "def print_unique(ssid):\n",
    "    unique_ssid = ssid.unique()\n",
    "    print(np.sort(unique_ssid))\n",
    "    print(unique_ssid.shape)\n",
    "\n",
    "def prepare_ssid_feature(wifi: pd.DataFrame):\n",
    "    strongest_normalized = wifi.assign(SSID=lambda x: normalize_ssid(x['SSID']))\\\n",
    "        .drop_duplicates(subset=['epoch_time_id', 'SSID'], keep='first')\n",
    "\n",
    "    strongest_normalized = get_strongest_ssid_by_rssi(strongest_normalized)\n",
    "    # create columns names\n",
    "    strongest_normalized['pivot_variable'] = strongest_normalized.groupby(by='epoch_time_id').cumcount() + 1\n",
    "    strongest_normalized['pivot_variable'] = strongest_normalized['pivot_variable'].apply(lambda x: f\"SSID_{x}\")\n",
    "    # turn rows into columns\n",
    "    return strongest_normalized.pivot(index=\"epoch_time_id\", columns=\"pivot_variable\", values=\"SSID\").reset_index().sort_values(by='epoch_time_id')\n",
    "\n",
    "\n",
    "\n",
    "# print_unique(normalize_ssid(get_strongest_ssid_by_rssi(train_wifi)))\n",
    "# print_unique(normalize_ssid(get_strongest_ssid_by_rssi(test_wifi)))\n",
    "features_train_ssid = prepare_ssid_feature(train_wifi)\n",
    "print(features_train_ssid)\n",
    "\n",
    "features_train_ssid.to_parquet('../data/train/features_wifi_ssid.parquet')\n",
    "prepare_ssid_feature(test_wifi).to_parquet('../data/test/features_wifi_ssid.parquet')\n",
    "prepare_ssid_feature(validate_wifi).to_parquet('../data/validate/features_wifi_ssid.parquet')"
   ],
   "metadata": {
    "collapsed": false,
    "pycharm": {
     "name": "#%%\n"
    }
   }
  },
  {
   "cell_type": "code",
   "execution_count": 5,
   "outputs": [
    {
     "data": {
      "text/plain": "array(['VM8236218', 'VM201213-2G', 'VM702835-2G_EXT', ...,\n       'PAH_Colleague', 'HP-Print-c7-LaserJet 100', 'BTHub6-293G'],\n      dtype=object)"
     },
     "execution_count": 5,
     "metadata": {},
     "output_type": "execute_result"
    }
   ],
   "source": [
    "pd.concat([train_wifi['SSID'], test_wifi['SSID'], validate_wifi['SSID']]).unique()"
   ],
   "metadata": {
    "collapsed": false,
    "pycharm": {
     "name": "#%%\n"
    }
   }
  },
  {
   "cell_type": "code",
   "execution_count": null,
   "outputs": [],
   "source": [
    "%%time\n",
    "\n",
    "wifi_feature = WifiFeature(train_wifi)\n",
    "train_wifi_features = wifi_feature.transform(train_wifi)\n",
    "validate_wifi_features = wifi_feature.transform(validate_wifi)\n",
    "test_wifi_features = wifi_feature.transform(test_wifi)"
   ],
   "metadata": {
    "collapsed": false,
    "pycharm": {
     "name": "#%%\n",
     "is_executing": true
    }
   }
  },
  {
   "cell_type": "code",
   "execution_count": null,
   "outputs": [],
   "source": [
    "validate_wifi_features"
   ],
   "metadata": {
    "collapsed": false,
    "pycharm": {
     "name": "#%%\n",
     "is_executing": true
    }
   }
  },
  {
   "cell_type": "code",
   "execution_count": null,
   "outputs": [],
   "source": [
    "wifi_feature_names = wifi_feature.get_feature_names()\n",
    "print(wifi_feature_names)"
   ],
   "metadata": {
    "collapsed": false,
    "pycharm": {
     "name": "#%%\n",
     "is_executing": true
    }
   }
  },
  {
   "cell_type": "code",
   "execution_count": null,
   "outputs": [],
   "source": [
    "wifi_feature.hist([train_wifi_features, validate_wifi_features, test_wifi_features])"
   ],
   "metadata": {
    "collapsed": false,
    "pycharm": {
     "name": "#%%\n",
     "is_executing": true
    }
   }
  },
  {
   "cell_type": "code",
   "execution_count": null,
   "outputs": [],
   "source": [
    "train_wifi_features.to_parquet('../data/train/features_wifi_names.parquet')\n",
    "test_wifi_features.to_parquet('../data/test/features_wifi_names.parquet')\n",
    "validate_wifi_features.to_parquet('../data/validate/features_wifi_names.parquet')"
   ],
   "metadata": {
    "collapsed": false,
    "pycharm": {
     "name": "#%%\n",
     "is_executing": true
    }
   }
  },
  {
   "cell_type": "code",
   "execution_count": null,
   "outputs": [],
   "source": [
    "train_wifi_features.dtypes"
   ],
   "metadata": {
    "collapsed": false,
    "pycharm": {
     "name": "#%%\n",
     "is_executing": true
    }
   }
  },
  {
   "cell_type": "code",
   "execution_count": null,
   "outputs": [],
   "source": [],
   "metadata": {
    "collapsed": false,
    "pycharm": {
     "name": "#%%\n"
    }
   }
  }
 ],
 "metadata": {
  "kernelspec": {
   "display_name": "Python 3",
   "language": "python",
   "name": "python3"
  },
  "language_info": {
   "codemirror_mode": {
    "name": "ipython",
    "version": 2
   },
   "file_extension": ".py",
   "mimetype": "text/x-python",
   "name": "python",
   "nbconvert_exporter": "python",
   "pygments_lexer": "ipython2",
   "version": "2.7.6"
  }
 },
 "nbformat": 4,
 "nbformat_minor": 0
}