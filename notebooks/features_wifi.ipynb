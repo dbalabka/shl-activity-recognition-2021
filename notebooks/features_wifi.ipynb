{
 "cells": [
  {
   "cell_type": "code",
   "execution_count": 1,
   "metadata": {
    "collapsed": true,
    "pycharm": {
     "name": "#%%\n"
    }
   },
   "outputs": [
    {
     "name": "stderr",
     "output_type": "stream",
     "text": [
      "/Users/torinaki/www/htdocs/shl-2021/.venv/lib/python3.9/site-packages/gensim/similarities/__init__.py:15: UserWarning: The gensim.similarities.levenshtein submodule is disabled, because the optional Levenshtein package <https://pypi.org/project/python-Levenshtein/> is unavailable. Install Levenhstein (e.g. `pip install python-Levenshtein`) to suppress this warning.\n",
      "  warnings.warn(msg)\n"
     ]
    }
   ],
   "source": [
    "import re\n",
    "\n",
    "import numpy as np\n",
    "import pandas as pd\n",
    "import os\n",
    "import featuretools as ft\n",
    "from shl.prepare import normalize_epoch_time, normalize_lat_long\n",
    "import plotly.express as px\n",
    "from sklearn.feature_extraction.text import TfidfVectorizer\n",
    "from gensim.parsing.preprocessing import \\\n",
    "    strip_tags, strip_punctuation, strip_multiple_whitespaces, strip_numeric, \\\n",
    "    strip_short, stem_text\n",
    "\n",
    "from shl.features import WifiFeature\n",
    "\n",
    "%load_ext autoreload\n",
    "%autoreload 2"
   ]
  },
  {
   "cell_type": "code",
   "execution_count": 2,
   "outputs": [],
   "source": [
    "train_wifi = normalize_epoch_time(pd.read_parquet('../data/train/WiFi.parquet'), 'Epoch time [ms]')\n",
    "test_wifi = normalize_epoch_time(pd.read_parquet('../data/test/WiFi.parquet'), 'Epoch time [ms]')\n",
    "validate_wifi = normalize_epoch_time(pd.read_parquet('../data/validate/WiFi.parquet'), 'Epoch time [ms]')\n",
    "train_label = normalize_epoch_time(pd.read_parquet('../data/train/Label.parquet'), 'epoch_time')\n",
    "test_label = normalize_epoch_time(pd.read_parquet('../data/test/Label_idx.parquet'), 'epoch_time')\n",
    "validate_label = normalize_epoch_time(pd.read_parquet('../data/validate/Label.parquet'), 'epoch_time')"
   ],
   "metadata": {
    "collapsed": false,
    "pycharm": {
     "name": "#%%\n"
    }
   }
  },
  {
   "cell_type": "code",
   "execution_count": 3,
   "outputs": [
    {
     "data": {
      "text/plain": "            epoch_time  label                   SSID  RSSI\n9073178  1499267852000      5           Virgin Media -78.0\n9073179  1499267852000      5           Virgin Media -82.0\n9073180  1499267852000      5              VM1689925 -85.0\n9073182  1499267852000      5        BTWifi-with-FON -86.0\n9073181  1499267852000      5               BTWifi-X -87.0\n...                ...    ...                    ...   ...\n1        1490431583000      4              VM8236218 -48.0\n2        1490431583000      4           Virgin Media -48.0\n3        1490431583000      4         TP-LINK_F5B890 -64.0\n4        1490431583000      4         TALKTALKB93F0E -71.0\n5        1490431583000      4  PlusnetWireless0647C9 -90.0\n\n[9073183 rows x 4 columns]",
      "text/html": "<div>\n<style scoped>\n    .dataframe tbody tr th:only-of-type {\n        vertical-align: middle;\n    }\n\n    .dataframe tbody tr th {\n        vertical-align: top;\n    }\n\n    .dataframe thead th {\n        text-align: right;\n    }\n</style>\n<table border=\"1\" class=\"dataframe\">\n  <thead>\n    <tr style=\"text-align: right;\">\n      <th></th>\n      <th>epoch_time</th>\n      <th>label</th>\n      <th>SSID</th>\n      <th>RSSI</th>\n    </tr>\n  </thead>\n  <tbody>\n    <tr>\n      <th>9073178</th>\n      <td>1499267852000</td>\n      <td>5</td>\n      <td>Virgin Media</td>\n      <td>-78.0</td>\n    </tr>\n    <tr>\n      <th>9073179</th>\n      <td>1499267852000</td>\n      <td>5</td>\n      <td>Virgin Media</td>\n      <td>-82.0</td>\n    </tr>\n    <tr>\n      <th>9073180</th>\n      <td>1499267852000</td>\n      <td>5</td>\n      <td>VM1689925</td>\n      <td>-85.0</td>\n    </tr>\n    <tr>\n      <th>9073182</th>\n      <td>1499267852000</td>\n      <td>5</td>\n      <td>BTWifi-with-FON</td>\n      <td>-86.0</td>\n    </tr>\n    <tr>\n      <th>9073181</th>\n      <td>1499267852000</td>\n      <td>5</td>\n      <td>BTWifi-X</td>\n      <td>-87.0</td>\n    </tr>\n    <tr>\n      <th>...</th>\n      <td>...</td>\n      <td>...</td>\n      <td>...</td>\n      <td>...</td>\n    </tr>\n    <tr>\n      <th>1</th>\n      <td>1490431583000</td>\n      <td>4</td>\n      <td>VM8236218</td>\n      <td>-48.0</td>\n    </tr>\n    <tr>\n      <th>2</th>\n      <td>1490431583000</td>\n      <td>4</td>\n      <td>Virgin Media</td>\n      <td>-48.0</td>\n    </tr>\n    <tr>\n      <th>3</th>\n      <td>1490431583000</td>\n      <td>4</td>\n      <td>TP-LINK_F5B890</td>\n      <td>-64.0</td>\n    </tr>\n    <tr>\n      <th>4</th>\n      <td>1490431583000</td>\n      <td>4</td>\n      <td>TALKTALKB93F0E</td>\n      <td>-71.0</td>\n    </tr>\n    <tr>\n      <th>5</th>\n      <td>1490431583000</td>\n      <td>4</td>\n      <td>PlusnetWireless0647C9</td>\n      <td>-90.0</td>\n    </tr>\n  </tbody>\n</table>\n<p>9073183 rows × 4 columns</p>\n</div>"
     },
     "execution_count": 3,
     "metadata": {},
     "output_type": "execute_result"
    }
   ],
   "source": [
    "train_wifi_with_labels = train_label.merge(train_wifi, how='left', on='epoch_time_id').sort_values(by=['epoch_time_id', 'RSSI'], ascending=False)[['epoch_time', 'label', 'SSID', 'RSSI']]\n",
    "train_wifi_with_labels"
   ],
   "metadata": {
    "collapsed": false,
    "pycharm": {
     "name": "#%%\n"
    }
   }
  },
  {
   "cell_type": "markdown",
   "source": [],
   "metadata": {
    "collapsed": false
   }
  },
  {
   "cell_type": "code",
   "execution_count": 4,
   "outputs": [],
   "source": [
    "train_wifi_with_labels_run = train_wifi_with_labels[train_wifi_with_labels['label'].isin([2,3])]\n",
    "train_wifi_with_labels_car = train_wifi_with_labels[train_wifi_with_labels['label'].isin([5])]\n",
    "train_wifi_with_labels_bus = train_wifi_with_labels[train_wifi_with_labels['label'].isin([6])]"
   ],
   "metadata": {
    "collapsed": false,
    "pycharm": {
     "name": "#%%\n"
    }
   }
  },
  {
   "cell_type": "code",
   "execution_count": 15,
   "outputs": [
    {
     "data": {
      "text/plain": "         epoch_time_id               SSID_high                    SSID_low  \\\n0        1490430923000  Virgin Media VM8236218  VM201213-2G TP-LINK_F5B890   \n1        1490430924000  Virgin Media VM8236218  VM201213-2G TP-LINK_F5B890   \n2        1490430925000  Virgin Media VM8236218  VM201213-2G TP-LINK_F5B890   \n3        1490430926000  Virgin Media VM8236218  VM201213-2G TP-LINK_F5B890   \n4        1490430927000  Virgin Media VM8236218  VM201213-2G TP-LINK_F5B890   \n...                ...                     ...                         ...   \n1050729  1496839625000                     NaN                         NaN   \n1050730  1496839626000                     NaN                         NaN   \n1050731  1496839627000                     NaN                         NaN   \n1050732  1496839628000                     NaN                         NaN   \n1050733  1496839629000                     NaN                         NaN   \n\n                                              Capabilities  \\\n0        [WPA2-EAP-CCMP][ESS] [WPA-PSK-CCMP+TKIP][WPA2-...   \n1        [WPA2-EAP-CCMP][ESS] [WPA-PSK-CCMP+TKIP][WPA2-...   \n2        [WPA2-EAP-CCMP][ESS] [WPA-PSK-CCMP+TKIP][WPA2-...   \n3        [WPA2-EAP-CCMP][ESS] [WPA-PSK-CCMP+TKIP][WPA2-...   \n4        [WPA2-EAP-CCMP][ESS] [WPA-PSK-CCMP+TKIP][WPA2-...   \n...                                                    ...   \n1050729                                                NaN   \n1050730                                                NaN   \n1050731                                                NaN   \n1050732                                                NaN   \n1050733                                                NaN   \n\n                                          Capabilities_low     BSSID BSSID_low  \n0        [WPA-PSK-CCMP][WPA2-PSK-CCMP][WPS][ESS] [WPA2-...  d2:05:c2  c4:04:15  \n1        [WPA-PSK-CCMP][WPA2-PSK-CCMP][WPS][ESS] [WPA2-...  d2:05:c2  c4:04:15  \n2        [WPA-PSK-CCMP][WPA2-PSK-CCMP][WPS][ESS] [WPA2-...  d2:05:c2  c4:04:15  \n3        [WPA-PSK-CCMP][WPA2-PSK-CCMP][WPS][ESS] [WPA2-...  d2:05:c2  c4:04:15  \n4        [WPA-PSK-CCMP][WPA2-PSK-CCMP][WPS][ESS] [WPA2-...  d2:05:c2  c4:04:15  \n...                                                    ...       ...       ...  \n1050729                                            [ESS]\\n       NaN  fa:8f:ca  \n1050730                                            [ESS]\\n       NaN  fa:8f:ca  \n1050731                                            [ESS]\\n       NaN  fa:8f:ca  \n1050732                                            [ESS]\\n       NaN  fa:8f:ca  \n1050733                                            [ESS]\\n       NaN  fa:8f:ca  \n\n[1050734 rows x 7 columns]",
      "text/html": "<div>\n<style scoped>\n    .dataframe tbody tr th:only-of-type {\n        vertical-align: middle;\n    }\n\n    .dataframe tbody tr th {\n        vertical-align: top;\n    }\n\n    .dataframe thead th {\n        text-align: right;\n    }\n</style>\n<table border=\"1\" class=\"dataframe\">\n  <thead>\n    <tr style=\"text-align: right;\">\n      <th></th>\n      <th>epoch_time_id</th>\n      <th>SSID_high</th>\n      <th>SSID_low</th>\n      <th>Capabilities</th>\n      <th>Capabilities_low</th>\n      <th>BSSID</th>\n      <th>BSSID_low</th>\n    </tr>\n  </thead>\n  <tbody>\n    <tr>\n      <th>0</th>\n      <td>1490430923000</td>\n      <td>Virgin Media VM8236218</td>\n      <td>VM201213-2G TP-LINK_F5B890</td>\n      <td>[WPA2-EAP-CCMP][ESS] [WPA-PSK-CCMP+TKIP][WPA2-...</td>\n      <td>[WPA-PSK-CCMP][WPA2-PSK-CCMP][WPS][ESS] [WPA2-...</td>\n      <td>d2:05:c2</td>\n      <td>c4:04:15</td>\n    </tr>\n    <tr>\n      <th>1</th>\n      <td>1490430924000</td>\n      <td>Virgin Media VM8236218</td>\n      <td>VM201213-2G TP-LINK_F5B890</td>\n      <td>[WPA2-EAP-CCMP][ESS] [WPA-PSK-CCMP+TKIP][WPA2-...</td>\n      <td>[WPA-PSK-CCMP][WPA2-PSK-CCMP][WPS][ESS] [WPA2-...</td>\n      <td>d2:05:c2</td>\n      <td>c4:04:15</td>\n    </tr>\n    <tr>\n      <th>2</th>\n      <td>1490430925000</td>\n      <td>Virgin Media VM8236218</td>\n      <td>VM201213-2G TP-LINK_F5B890</td>\n      <td>[WPA2-EAP-CCMP][ESS] [WPA-PSK-CCMP+TKIP][WPA2-...</td>\n      <td>[WPA-PSK-CCMP][WPA2-PSK-CCMP][WPS][ESS] [WPA2-...</td>\n      <td>d2:05:c2</td>\n      <td>c4:04:15</td>\n    </tr>\n    <tr>\n      <th>3</th>\n      <td>1490430926000</td>\n      <td>Virgin Media VM8236218</td>\n      <td>VM201213-2G TP-LINK_F5B890</td>\n      <td>[WPA2-EAP-CCMP][ESS] [WPA-PSK-CCMP+TKIP][WPA2-...</td>\n      <td>[WPA-PSK-CCMP][WPA2-PSK-CCMP][WPS][ESS] [WPA2-...</td>\n      <td>d2:05:c2</td>\n      <td>c4:04:15</td>\n    </tr>\n    <tr>\n      <th>4</th>\n      <td>1490430927000</td>\n      <td>Virgin Media VM8236218</td>\n      <td>VM201213-2G TP-LINK_F5B890</td>\n      <td>[WPA2-EAP-CCMP][ESS] [WPA-PSK-CCMP+TKIP][WPA2-...</td>\n      <td>[WPA-PSK-CCMP][WPA2-PSK-CCMP][WPS][ESS] [WPA2-...</td>\n      <td>d2:05:c2</td>\n      <td>c4:04:15</td>\n    </tr>\n    <tr>\n      <th>...</th>\n      <td>...</td>\n      <td>...</td>\n      <td>...</td>\n      <td>...</td>\n      <td>...</td>\n      <td>...</td>\n      <td>...</td>\n    </tr>\n    <tr>\n      <th>1050729</th>\n      <td>1496839625000</td>\n      <td>NaN</td>\n      <td>NaN</td>\n      <td>NaN</td>\n      <td>[ESS]\\n</td>\n      <td>NaN</td>\n      <td>fa:8f:ca</td>\n    </tr>\n    <tr>\n      <th>1050730</th>\n      <td>1496839626000</td>\n      <td>NaN</td>\n      <td>NaN</td>\n      <td>NaN</td>\n      <td>[ESS]\\n</td>\n      <td>NaN</td>\n      <td>fa:8f:ca</td>\n    </tr>\n    <tr>\n      <th>1050731</th>\n      <td>1496839627000</td>\n      <td>NaN</td>\n      <td>NaN</td>\n      <td>NaN</td>\n      <td>[ESS]\\n</td>\n      <td>NaN</td>\n      <td>fa:8f:ca</td>\n    </tr>\n    <tr>\n      <th>1050732</th>\n      <td>1496839628000</td>\n      <td>NaN</td>\n      <td>NaN</td>\n      <td>NaN</td>\n      <td>[ESS]\\n</td>\n      <td>NaN</td>\n      <td>fa:8f:ca</td>\n    </tr>\n    <tr>\n      <th>1050733</th>\n      <td>1496839629000</td>\n      <td>NaN</td>\n      <td>NaN</td>\n      <td>NaN</td>\n      <td>[ESS]\\n</td>\n      <td>NaN</td>\n      <td>fa:8f:ca</td>\n    </tr>\n  </tbody>\n</table>\n<p>1050734 rows × 7 columns</p>\n</div>"
     },
     "metadata": {},
     "output_type": "display_data"
    }
   ],
   "source": [
    "def normalize_ssid(ssid: pd.Series):\n",
    "    return ssid.str.replace(\"[0-9]{2}[0-9A-Z]+\", \"\", regex=True) \\\n",
    "            .str.replace(\"^(BTHub|BTWiFi|BTOpenzone|DIRECT|EE(?:-BrightBox)?|HP-Print|MY WIFI|NETGEAR|PLUSNET|SKY|TALKTALK|TNCAP|VodafoneMobileWiFi|XLN For Small Biz|VM|ZyXEL|EXT2-BTHub|EXT2-PLUSNET).*$\", \"\\\\1\", regex=True) \\\n",
    "            .str.strip()\n",
    "\n",
    "def get_strongest_ssid_by_rssi(wifi: pd.DataFrame, n_top: int = 2, **limit_kwargs) -> pd.Series:\n",
    "    return sort_by_most_strongets_rssi(limit_most_strongest(wifi, **limit_kwargs)).groupby(by='epoch_time_id').head(n_top).reset_index()\n",
    "\n",
    "def limit_most_strongest(wifi: pd.DataFrame, rssi_min: int = -70, rssi_max: int = 0):\n",
    "    return wifi.query(f'{rssi_min} <= RSSI <= {rssi_max}')\n",
    "\n",
    "def sort_by_most_strongets_rssi(wifi: pd.DataFrame):\n",
    "    return wifi.sort_values(by=['epoch_time_id', 'RSSI'], ascending=[True, False])\n",
    "\n",
    "def drop_duplicates_ssid(wifi: pd.DataFrame, col: str):\n",
    "    \"\"\"Drops duplicates and empty SSIDs\"\"\"\n",
    "    return sort_by_most_strongets_rssi(wifi)\\\n",
    "        .drop_duplicates(subset=['epoch_time_id', col], keep='first')\\\n",
    "        .replace('', np.nan)\\\n",
    "        .dropna(subset=[col])\n",
    "\n",
    "\n",
    "def print_unique(ssid):\n",
    "    unique_ssid = ssid.unique()\n",
    "    print(np.sort(unique_ssid))\n",
    "    print(unique_ssid.shape)\n",
    "\n",
    "def prepare_ssid_feature(wifi: pd.DataFrame, col: str = 'SSID'):\n",
    "    strongest_normalized = drop_duplicates_ssid(wifi.assign(**{col: lambda x: normalize_ssid(x[col])}), col)\n",
    "\n",
    "    strongest_normalized = get_strongest_ssid_by_rssi(strongest_normalized)\n",
    "    # create columns names\n",
    "    strongest_normalized['pivot_variable'] = strongest_normalized.groupby(by='epoch_time_id').cumcount() + 1\n",
    "    strongest_normalized['pivot_variable'] = strongest_normalized['pivot_variable'].apply(lambda x: f\"{col}_{x}\")\n",
    "    # turn rows into columns\n",
    "    return strongest_normalized.pivot(index=\"epoch_time_id\", columns=\"pivot_variable\", values=col).reset_index().sort_values(by='epoch_time_id')\n",
    "\n",
    "def concat_ssid(wifi: pd.DataFrame, col: str = 'SSID', **limit_kwargs) -> pd.DataFrame:\n",
    "    return get_strongest_ssid_by_rssi(drop_duplicates_ssid(wifi, col), **limit_kwargs).groupby(by='epoch_time_id')[col].apply(lambda x: ' '.join(x)).reset_index()\n",
    "\n",
    "def concat_normalized_bssid(wifi: pd.DataFrame, **limit_kwargs) -> pd.DataFrame:\n",
    "    return concat_ssid(wifi, col='BSSID', **limit_kwargs).assign(BSSID=lambda x: x['BSSID'].astype(str).str.slice(start=0, stop=8))\n",
    "# features_train_ssid = prepare_ssid_feature(train_wifi)\n",
    "# print(features_train_ssid)\n",
    "#\n",
    "# features_train_ssid.to_parquet('../data/train/features_wifi_ssid.parquet')\n",
    "# prepare_ssid_feature(test_wifi).to_parquet('../data/test/features_wifi_ssid.parquet')\n",
    "# prepare_ssid_feature(validate_wifi).to_parquet('../data/validate/features_wifi_ssid.parquet')\n",
    "\n",
    "def create_wifi_features(wifi: pd.DataFrame) -> pd.DataFrame:\n",
    "    high_rssi = {\n",
    "        'rssi_min': -70,\n",
    "        'rssi_max': 0,\n",
    "    }\n",
    "    low_rssi = {\n",
    "        'rssi_min': -100,\n",
    "        'rssi_max': -69,\n",
    "    }\n",
    "    return concat_ssid(wifi, col='SSID', **high_rssi)\\\n",
    "        .merge(concat_ssid(wifi, col='SSID', **low_rssi), on='epoch_time_id', how=\"outer\", suffixes=(\"_high\", \"_low\"))\\\n",
    "        .merge(concat_ssid(wifi, col='Capabilities', **high_rssi), on='epoch_time_id', how=\"outer\", suffixes=(\"\", \"_high\"))\\\n",
    "        .merge(concat_ssid(wifi, col='Capabilities', **low_rssi), on='epoch_time_id', how=\"outer\", suffixes=(\"\", \"_low\"))\\\n",
    "        .merge(concat_normalized_bssid(wifi, **high_rssi), on='epoch_time_id', how=\"outer\", suffixes=(\"\", \"_high\"))\\\n",
    "        .merge(concat_normalized_bssid(wifi, **low_rssi), on='epoch_time_id', how=\"outer\", suffixes=(\"\", \"_low\"))\n",
    "\n",
    "features_train_ssid_concat = create_wifi_features(train_wifi)\n",
    "display(features_train_ssid_concat)\n",
    "features_train_ssid_concat.to_parquet('../data/train/features_wifi_ssid_cap_bssid_concat.parquet')\n",
    "\n",
    "create_wifi_features(test_wifi).to_parquet('../data/test/features_wifi_ssid_cap_bssid_concat.parquet')\n",
    "create_wifi_features(validate_wifi).to_parquet('../data/validate/features_wifi_ssid_cap_bssid_concat.parquet')"
   ],
   "metadata": {
    "collapsed": false,
    "pycharm": {
     "name": "#%%\n"
    }
   }
  },
  {
   "cell_type": "code",
   "execution_count": 32,
   "outputs": [],
   "source": [
    "features_wifi_train_with_labels = train_label.merge(features_train_ssid_concat, how='left', on='epoch_time_id').sort_values(by=['epoch_time_id'])\n",
    "features_wifi_train_with_labels"
   ],
   "metadata": {
    "collapsed": false,
    "pycharm": {
     "name": "#%%\n"
    }
   }
  },
  {
   "cell_type": "code",
   "execution_count": 16,
   "outputs": [
    {
     "data": {
      "text/plain": "            epoch_time  label SSID  RSSI\n7198731  1496839625000      6      -88.0",
      "text/html": "<div>\n<style scoped>\n    .dataframe tbody tr th:only-of-type {\n        vertical-align: middle;\n    }\n\n    .dataframe tbody tr th {\n        vertical-align: top;\n    }\n\n    .dataframe thead th {\n        text-align: right;\n    }\n</style>\n<table border=\"1\" class=\"dataframe\">\n  <thead>\n    <tr style=\"text-align: right;\">\n      <th></th>\n      <th>epoch_time</th>\n      <th>label</th>\n      <th>SSID</th>\n      <th>RSSI</th>\n    </tr>\n  </thead>\n  <tbody>\n    <tr>\n      <th>7198731</th>\n      <td>1496839625000</td>\n      <td>6</td>\n      <td></td>\n      <td>-88.0</td>\n    </tr>\n  </tbody>\n</table>\n</div>"
     },
     "execution_count": 16,
     "metadata": {},
     "output_type": "execute_result"
    }
   ],
   "source": [
    "train_wifi_with_labels.query('epoch_time == 1496839625000')"
   ],
   "metadata": {
    "collapsed": false,
    "pycharm": {
     "name": "#%%\n"
    }
   }
  },
  {
   "cell_type": "code",
   "execution_count": 20,
   "outputs": [
    {
     "data": {
      "text/plain": "   epoch_time_id               SSID\n0  1497272170000       Virgin Media\n1  1497272171000  Virgin Media WiFi",
      "text/html": "<div>\n<style scoped>\n    .dataframe tbody tr th:only-of-type {\n        vertical-align: middle;\n    }\n\n    .dataframe tbody tr th {\n        vertical-align: top;\n    }\n\n    .dataframe thead th {\n        text-align: right;\n    }\n</style>\n<table border=\"1\" class=\"dataframe\">\n  <thead>\n    <tr style=\"text-align: right;\">\n      <th></th>\n      <th>epoch_time_id</th>\n      <th>SSID</th>\n    </tr>\n  </thead>\n  <tbody>\n    <tr>\n      <th>0</th>\n      <td>1497272170000</td>\n      <td>Virgin Media</td>\n    </tr>\n    <tr>\n      <th>1</th>\n      <td>1497272171000</td>\n      <td>Virgin Media WiFi</td>\n    </tr>\n  </tbody>\n</table>\n</div>"
     },
     "execution_count": 20,
     "metadata": {},
     "output_type": "execute_result"
    }
   ],
   "source": [
    "concat_ssid(train_wifi.query('epoch_time_id == 1497272170000 or epoch_time_id == 1497272171000'))"
   ],
   "metadata": {
    "collapsed": false,
    "pycharm": {
     "name": "#%%\n"
    }
   }
  },
  {
   "cell_type": "code",
   "execution_count": 21,
   "outputs": [
    {
     "data": {
      "text/plain": "          Epoch time [ms]         Ignore1       Ignore2  Unknown  \\\n10209930    1497272170202  15304015012245  130219565604       40   \n10209931    1497272170202  15304015012245  130219565604       40   \n10209932    1497272170202  15304015012245  130219565604       40   \n10209933    1497272170202  15304015012245  130219565604       40   \n10209934    1497272170202  15304015012245  130219565604       40   \n...                   ...             ...           ...      ...   \n10210005    1497272171210  15305023205474  130219565604       40   \n10210006    1497272171210  15305023205474  130219565604       40   \n10210007    1497272171210  15305023205474  130219565604       40   \n10210008    1497272171210  15305023205474  130219565604       40   \n10210009    1497272171210  15305023205474  130219565604       40   \n\n                      BSSID               SSID  RSSI  Frequency [MHz]  \\\n10209930  2c:36:f8:0f:2d:89         Wifi Extra   -65             5500   \n10209931  c8:f9:f9:29:43:1b       EE WiFi-Auto   -65             5320   \n10209932  c8:f9:f9:29:43:1f          222666328   -65             5320   \n10209933  2c:36:f8:0f:2d:8b       EE WiFi-Auto   -65             5500   \n10209934  2c:36:f8:0f:2d:8f          222666328   -65             5500   \n...                     ...                ...   ...              ...   \n10210005  c8:f9:f9:29:43:13  Virgin Media WiFi   -55             2437   \n10210006  2c:36:f8:0f:2d:83  Virgin Media WiFi   -70             2437   \n10210007  2c:36:f8:0f:2e:83  Virgin Media WiFi   -77             2412   \n10210008  2c:36:f8:0f:28:f3  Virgin Media WiFi   -83             2462   \n10210009  2c:36:f8:0f:4b:03  Virgin Media WiFi   -85             2412   \n\n                         Capabilities  epoch_time_id  \n10209930  [WPA2-EAP+FT/EAP-CCMP][ESS]  1497272170000  \n10209931  [WPA2-EAP+FT/EAP-CCMP][ESS]  1497272170000  \n10209932  [WPA2-EAP+FT/EAP-CCMP][ESS]  1497272170000  \n10209933  [WPA2-EAP+FT/EAP-CCMP][ESS]  1497272170000  \n10209934  [WPA2-EAP+FT/EAP-CCMP][ESS]  1497272170000  \n...                               ...            ...  \n10210005                        [ESS]  1497272171000  \n10210006                        [ESS]  1497272171000  \n10210007                        [ESS]  1497272171000  \n10210008                        [ESS]  1497272171000  \n10210009                      [ESS]\\n  1497272171000  \n\n[80 rows x 10 columns]",
      "text/html": "<div>\n<style scoped>\n    .dataframe tbody tr th:only-of-type {\n        vertical-align: middle;\n    }\n\n    .dataframe tbody tr th {\n        vertical-align: top;\n    }\n\n    .dataframe thead th {\n        text-align: right;\n    }\n</style>\n<table border=\"1\" class=\"dataframe\">\n  <thead>\n    <tr style=\"text-align: right;\">\n      <th></th>\n      <th>Epoch time [ms]</th>\n      <th>Ignore1</th>\n      <th>Ignore2</th>\n      <th>Unknown</th>\n      <th>BSSID</th>\n      <th>SSID</th>\n      <th>RSSI</th>\n      <th>Frequency [MHz]</th>\n      <th>Capabilities</th>\n      <th>epoch_time_id</th>\n    </tr>\n  </thead>\n  <tbody>\n    <tr>\n      <th>10209930</th>\n      <td>1497272170202</td>\n      <td>15304015012245</td>\n      <td>130219565604</td>\n      <td>40</td>\n      <td>2c:36:f8:0f:2d:89</td>\n      <td>Wifi Extra</td>\n      <td>-65</td>\n      <td>5500</td>\n      <td>[WPA2-EAP+FT/EAP-CCMP][ESS]</td>\n      <td>1497272170000</td>\n    </tr>\n    <tr>\n      <th>10209931</th>\n      <td>1497272170202</td>\n      <td>15304015012245</td>\n      <td>130219565604</td>\n      <td>40</td>\n      <td>c8:f9:f9:29:43:1b</td>\n      <td>EE WiFi-Auto</td>\n      <td>-65</td>\n      <td>5320</td>\n      <td>[WPA2-EAP+FT/EAP-CCMP][ESS]</td>\n      <td>1497272170000</td>\n    </tr>\n    <tr>\n      <th>10209932</th>\n      <td>1497272170202</td>\n      <td>15304015012245</td>\n      <td>130219565604</td>\n      <td>40</td>\n      <td>c8:f9:f9:29:43:1f</td>\n      <td>222666328</td>\n      <td>-65</td>\n      <td>5320</td>\n      <td>[WPA2-EAP+FT/EAP-CCMP][ESS]</td>\n      <td>1497272170000</td>\n    </tr>\n    <tr>\n      <th>10209933</th>\n      <td>1497272170202</td>\n      <td>15304015012245</td>\n      <td>130219565604</td>\n      <td>40</td>\n      <td>2c:36:f8:0f:2d:8b</td>\n      <td>EE WiFi-Auto</td>\n      <td>-65</td>\n      <td>5500</td>\n      <td>[WPA2-EAP+FT/EAP-CCMP][ESS]</td>\n      <td>1497272170000</td>\n    </tr>\n    <tr>\n      <th>10209934</th>\n      <td>1497272170202</td>\n      <td>15304015012245</td>\n      <td>130219565604</td>\n      <td>40</td>\n      <td>2c:36:f8:0f:2d:8f</td>\n      <td>222666328</td>\n      <td>-65</td>\n      <td>5500</td>\n      <td>[WPA2-EAP+FT/EAP-CCMP][ESS]</td>\n      <td>1497272170000</td>\n    </tr>\n    <tr>\n      <th>...</th>\n      <td>...</td>\n      <td>...</td>\n      <td>...</td>\n      <td>...</td>\n      <td>...</td>\n      <td>...</td>\n      <td>...</td>\n      <td>...</td>\n      <td>...</td>\n      <td>...</td>\n    </tr>\n    <tr>\n      <th>10210005</th>\n      <td>1497272171210</td>\n      <td>15305023205474</td>\n      <td>130219565604</td>\n      <td>40</td>\n      <td>c8:f9:f9:29:43:13</td>\n      <td>Virgin Media WiFi</td>\n      <td>-55</td>\n      <td>2437</td>\n      <td>[ESS]</td>\n      <td>1497272171000</td>\n    </tr>\n    <tr>\n      <th>10210006</th>\n      <td>1497272171210</td>\n      <td>15305023205474</td>\n      <td>130219565604</td>\n      <td>40</td>\n      <td>2c:36:f8:0f:2d:83</td>\n      <td>Virgin Media WiFi</td>\n      <td>-70</td>\n      <td>2437</td>\n      <td>[ESS]</td>\n      <td>1497272171000</td>\n    </tr>\n    <tr>\n      <th>10210007</th>\n      <td>1497272171210</td>\n      <td>15305023205474</td>\n      <td>130219565604</td>\n      <td>40</td>\n      <td>2c:36:f8:0f:2e:83</td>\n      <td>Virgin Media WiFi</td>\n      <td>-77</td>\n      <td>2412</td>\n      <td>[ESS]</td>\n      <td>1497272171000</td>\n    </tr>\n    <tr>\n      <th>10210008</th>\n      <td>1497272171210</td>\n      <td>15305023205474</td>\n      <td>130219565604</td>\n      <td>40</td>\n      <td>2c:36:f8:0f:28:f3</td>\n      <td>Virgin Media WiFi</td>\n      <td>-83</td>\n      <td>2462</td>\n      <td>[ESS]</td>\n      <td>1497272171000</td>\n    </tr>\n    <tr>\n      <th>10210009</th>\n      <td>1497272171210</td>\n      <td>15305023205474</td>\n      <td>130219565604</td>\n      <td>40</td>\n      <td>2c:36:f8:0f:4b:03</td>\n      <td>Virgin Media WiFi</td>\n      <td>-85</td>\n      <td>2412</td>\n      <td>[ESS]\\n</td>\n      <td>1497272171000</td>\n    </tr>\n  </tbody>\n</table>\n<p>80 rows × 10 columns</p>\n</div>"
     },
     "execution_count": 21,
     "metadata": {},
     "output_type": "execute_result"
    }
   ],
   "source": [
    "train_wifi.query('epoch_time_id == 1497272170000 or epoch_time_id == 1497272171000')"
   ],
   "metadata": {
    "collapsed": false,
    "pycharm": {
     "name": "#%%\n"
    }
   }
  },
  {
   "cell_type": "code",
   "execution_count": 5,
   "outputs": [
    {
     "data": {
      "text/plain": "array(['VM8236218', 'VM201213-2G', 'VM702835-2G_EXT', ...,\n       'PAH_Colleague', 'HP-Print-c7-LaserJet 100', 'BTHub6-293G'],\n      dtype=object)"
     },
     "execution_count": 5,
     "metadata": {},
     "output_type": "execute_result"
    }
   ],
   "source": [
    "pd.concat([train_wifi['SSID'], test_wifi['SSID'], validate_wifi['SSID']]).unique()"
   ],
   "metadata": {
    "collapsed": false,
    "pycharm": {
     "name": "#%%\n"
    }
   }
  },
  {
   "cell_type": "code",
   "execution_count": null,
   "outputs": [],
   "source": [
    "%%time\n",
    "\n",
    "wifi_feature = WifiFeature(train_wifi)\n",
    "train_wifi_features = wifi_feature.transform(train_wifi)\n",
    "validate_wifi_features = wifi_feature.transform(validate_wifi)\n",
    "test_wifi_features = wifi_feature.transform(test_wifi)"
   ],
   "metadata": {
    "collapsed": false,
    "pycharm": {
     "name": "#%%\n"
    }
   }
  },
  {
   "cell_type": "code",
   "execution_count": null,
   "outputs": [],
   "source": [
    "validate_wifi_features"
   ],
   "metadata": {
    "collapsed": false,
    "pycharm": {
     "name": "#%%\n"
    }
   }
  },
  {
   "cell_type": "code",
   "execution_count": null,
   "outputs": [],
   "source": [
    "wifi_feature_names = wifi_feature.get_feature_names()\n",
    "print(wifi_feature_names)"
   ],
   "metadata": {
    "collapsed": false,
    "pycharm": {
     "name": "#%%\n"
    }
   }
  },
  {
   "cell_type": "code",
   "execution_count": null,
   "outputs": [],
   "source": [
    "wifi_feature.hist([train_wifi_features, validate_wifi_features, test_wifi_features])"
   ],
   "metadata": {
    "collapsed": false,
    "pycharm": {
     "name": "#%%\n"
    }
   }
  },
  {
   "cell_type": "code",
   "execution_count": null,
   "outputs": [],
   "source": [
    "train_wifi_features.to_parquet('../data/train/features_wifi_names.parquet')\n",
    "test_wifi_features.to_parquet('../data/test/features_wifi_names.parquet')\n",
    "validate_wifi_features.to_parquet('../data/validate/features_wifi_names.parquet')"
   ],
   "metadata": {
    "collapsed": false,
    "pycharm": {
     "name": "#%%\n"
    }
   }
  },
  {
   "cell_type": "code",
   "execution_count": null,
   "outputs": [],
   "source": [
    "train_wifi_features.dtypes"
   ],
   "metadata": {
    "collapsed": false,
    "pycharm": {
     "name": "#%%\n"
    }
   }
  },
  {
   "cell_type": "code",
   "execution_count": null,
   "outputs": [],
   "source": [],
   "metadata": {
    "collapsed": false,
    "pycharm": {
     "name": "#%%\n"
    }
   }
  }
 ],
 "metadata": {
  "kernelspec": {
   "display_name": "Python 3",
   "language": "python",
   "name": "python3"
  },
  "language_info": {
   "codemirror_mode": {
    "name": "ipython",
    "version": 2
   },
   "file_extension": ".py",
   "mimetype": "text/x-python",
   "name": "python",
   "nbconvert_exporter": "python",
   "pygments_lexer": "ipython2",
   "version": "2.7.6"
  }
 },
 "nbformat": 4,
 "nbformat_minor": 0
}