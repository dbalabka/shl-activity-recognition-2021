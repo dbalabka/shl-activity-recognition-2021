{
 "cells": [
  {
   "cell_type": "code",
   "execution_count": 1,
   "metadata": {
    "collapsed": true,
    "pycharm": {
     "name": "#%%\n"
    }
   },
   "outputs": [],
   "source": [
    "import numpy as np\n",
    "import pandas as pd\n",
    "import os\n",
    "import featuretools as ft\n",
    "from shl.prepare import normalize_epoch_time\n",
    "\n",
    "%load_ext autoreload\n",
    "%autoreload 2"
   ]
  },
  {
   "cell_type": "code",
   "execution_count": 2,
   "outputs": [],
   "source": [
    "train_wifi = normalize_epoch_time(pd.read_parquet('../data/train/WiFi.parquet'), 'Epoch time [ms]')\n",
    "train_gps = normalize_epoch_time(pd.read_parquet('../data/train/GPS.parquet'), 'Epoch time [ms]')\n",
    "train_location = normalize_epoch_time(pd.read_parquet('../data/train/Location.parquet'), 'Epoch time [ms]')\n",
    "train_label = normalize_epoch_time(pd.read_parquet('../data/train/Label.parquet'), 'epoch_time')"
   ],
   "metadata": {
    "collapsed": false,
    "pycharm": {
     "name": "#%%\n"
    }
   }
  },
  {
   "cell_type": "code",
   "execution_count": 9,
   "outputs": [
    {
     "data": {
      "text/plain": "Epoch time [ms]     int64\nIgnore1             int64\nIgnore2             int64\nUnknown             int64\nBSSID              object\nSSID               object\nRSSI                int64\nFrequency [MHz]     int64\nCapabilities       object\nepoch_time_id       int64\ndtype: object"
     },
     "execution_count": 9,
     "metadata": {},
     "output_type": "execute_result"
    }
   ],
   "source": [
    "train_wifi.dtypes"
   ],
   "metadata": {
    "collapsed": false,
    "pycharm": {
     "name": "#%%\n"
    }
   }
  },
  {
   "cell_type": "code",
   "execution_count": 2,
   "outputs": [
    {
     "ename": "NameError",
     "evalue": "name 'train_label' is not defined",
     "output_type": "error",
     "traceback": [
      "\u001B[0;31m---------------------------------------------------------------------------\u001B[0m",
      "\u001B[0;31mNameError\u001B[0m                                 Traceback (most recent call last)",
      "\u001B[0;32m<ipython-input-2-3980d4881442>\u001B[0m in \u001B[0;36m<module>\u001B[0;34m\u001B[0m\n\u001B[0;32m----> 1\u001B[0;31m \u001B[0mtrain_label\u001B[0m\u001B[0;34m\u001B[0m\u001B[0;34m\u001B[0m\u001B[0m\n\u001B[0m",
      "\u001B[0;31mNameError\u001B[0m: name 'train_label' is not defined"
     ]
    }
   ],
   "source": [
    "train_label"
   ],
   "metadata": {
    "collapsed": false,
    "pycharm": {
     "name": "#%%\n"
    }
   }
  },
  {
   "cell_type": "code",
   "execution_count": 3,
   "outputs": [
    {
     "data": {
      "text/plain": "Entityset: train\n  Entities:\n    label [Rows: 980527, Columns: 3]\n  Relationships:\n    No relationships"
     },
     "execution_count": 3,
     "metadata": {},
     "output_type": "execute_result"
    }
   ],
   "source": [
    "es = ft.EntitySet(id=\"train\")\n",
    "es = es.entity_from_dataframe(\n",
    "    entity_id=\"label\",\n",
    "    dataframe=train_label,\n",
    "    index='epoch_time_id',\n",
    "    time_index=\"epoch_time\",\n",
    "    variable_types={\"label\": ft.variable_types.Categorical},\n",
    ")\n",
    "es"
   ],
   "metadata": {
    "collapsed": false,
    "pycharm": {
     "name": "#%%\n"
    }
   }
  },
  {
   "cell_type": "code",
   "execution_count": 4,
   "outputs": [
    {
     "data": {
      "text/plain": "Entityset: train\n  Entities:\n    label [Rows: 980527, Columns: 3]\n    location [Rows: 911109, Columns: 9]\n  Relationships:\n    No relationships"
     },
     "execution_count": 4,
     "metadata": {},
     "output_type": "execute_result"
    }
   ],
   "source": [
    "es.entity_from_dataframe(\n",
    "    entity_id='location',\n",
    "    dataframe=train_location,\n",
    "    index='id',\n",
    "    make_index=True,\n",
    "    time_index='Epoch time [ms]',\n",
    "    variable_types={\n",
    "        \"epoch_time_id\": ft.variable_types.Id,\n",
    "        \"Accuracy\": ft.variable_types.Numeric,\n",
    "        \"Latitude\": ft.variable_types.Numeric,\n",
    "        \"Longitude\": ft.variable_types.Numeric,\n",
    "        \"Altitude\": ft.variable_types.Numeric,\n",
    "    },\n",
    ")\n",
    "es"
   ],
   "metadata": {
    "collapsed": false,
    "pycharm": {
     "name": "#%%\n"
    }
   }
  },
  {
   "cell_type": "code",
   "execution_count": 5,
   "outputs": [
    {
     "data": {
      "text/plain": "Entityset: train\n  Entities:\n    label [Rows: 980527, Columns: 3]\n    location [Rows: 911109, Columns: 9]\n    wifi [Rows: 12604135, Columns: 11]\n  Relationships:\n    No relationships"
     },
     "execution_count": 5,
     "metadata": {},
     "output_type": "execute_result"
    }
   ],
   "source": [
    "es.entity_from_dataframe(\n",
    "    entity_id='wifi',\n",
    "    dataframe=train_wifi,\n",
    "    index='id',\n",
    "    make_index=True,\n",
    "    time_index='Epoch time [ms]',\n",
    "    variable_types={\n",
    "        \"epoch_time_id\": ft.variable_types.Id,\n",
    "        \"BSSID\": ft.variable_types.Id,\n",
    "        \"SSID\": ft.variable_types.Id,\n",
    "        \"RSSI\": ft.variable_types.Numeric,\n",
    "        \"Frequency [MHz]\": ft.variable_types.Numeric,\n",
    "        \"Capabilities\": ft.variable_types.NaturalLanguage,\n",
    "    },\n",
    ")\n",
    "es"
   ],
   "metadata": {
    "collapsed": false,
    "pycharm": {
     "name": "#%%\n"
    }
   }
  },
  {
   "cell_type": "code",
   "execution_count": 6,
   "outputs": [
    {
     "data": {
      "text/plain": "Entityset: train\n  Entities:\n    label [Rows: 980527, Columns: 3]\n    location [Rows: 911109, Columns: 9]\n    wifi [Rows: 12604135, Columns: 11]\n    gps [Rows: 14046969, Columns: 9]\n  Relationships:\n    No relationships"
     },
     "execution_count": 6,
     "metadata": {},
     "output_type": "execute_result"
    }
   ],
   "source": [
    "es.entity_from_dataframe(\n",
    "    entity_id='gps',\n",
    "    dataframe=train_gps,\n",
    "    index='id',\n",
    "    make_index=True,\n",
    "    time_index='Epoch time [ms]',\n",
    "    variable_types={\n",
    "        \"epoch_time_id\": ft.variable_types.Id,\n",
    "        \"ID\": ft.variable_types.Id,\n",
    "        \"SNR\": ft.variable_types.Numeric,\n",
    "        \"Azimuth [degrees]\": ft.variable_types.Numeric,\n",
    "        \"Elevation [degrees]\": ft.variable_types.Numeric,\n",
    "    },\n",
    ")\n",
    "es"
   ],
   "metadata": {
    "collapsed": false,
    "pycharm": {
     "name": "#%%\n"
    }
   }
  },
  {
   "cell_type": "code",
   "execution_count": 7,
   "outputs": [
    {
     "data": {
      "text/plain": "Entityset: train\n  Entities:\n    label [Rows: 980527, Columns: 3]\n    location [Rows: 911109, Columns: 9]\n    wifi [Rows: 12604135, Columns: 11]\n    gps [Rows: 14046969, Columns: 9]\n  Relationships:\n    wifi.epoch_time_id -> label.epoch_time_id\n    gps.epoch_time_id -> label.epoch_time_id\n    location.epoch_time_id -> label.epoch_time_id"
     },
     "execution_count": 7,
     "metadata": {},
     "output_type": "execute_result"
    }
   ],
   "source": [
    "es = es.add_relationship(\n",
    "    ft.Relationship(es[\"label\"][\"epoch_time_id\"], es[\"wifi\"][\"epoch_time_id\"])\n",
    ").add_relationship(\n",
    "    ft.Relationship(es[\"label\"][\"epoch_time_id\"], es[\"gps\"][\"epoch_time_id\"])\n",
    ").add_relationship(\n",
    "    ft.Relationship(es[\"label\"][\"epoch_time_id\"], es[\"location\"][\"epoch_time_id\"])\n",
    ")\n",
    "es"
   ],
   "metadata": {
    "collapsed": false,
    "pycharm": {
     "name": "#%%\n"
    }
   }
  },
  {
   "cell_type": "code",
   "execution_count": null,
   "outputs": [],
   "source": [],
   "metadata": {
    "collapsed": false,
    "pycharm": {
     "name": "#%%\n"
    }
   }
  }
 ],
 "metadata": {
  "kernelspec": {
   "display_name": "Python 3",
   "language": "python",
   "name": "python3"
  },
  "language_info": {
   "codemirror_mode": {
    "name": "ipython",
    "version": 2
   },
   "file_extension": ".py",
   "mimetype": "text/x-python",
   "name": "python",
   "nbconvert_exporter": "python",
   "pygments_lexer": "ipython2",
   "version": "2.7.6"
  }
 },
 "nbformat": 4,
 "nbformat_minor": 0
}