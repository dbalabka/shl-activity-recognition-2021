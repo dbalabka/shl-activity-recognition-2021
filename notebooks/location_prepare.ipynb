{
 "cells": [
  {
   "cell_type": "code",
   "execution_count": 1,
   "id": "f92f8a8d-598f-41d7-996d-c1b7870f61a1",
   "metadata": {},
   "outputs": [],
   "source": [
    "import numpy as np\n",
    "import pandas as pd\n",
    "import os\n",
    "import pathlib\n",
    "\n",
    "os.chdir(pathlib.Path(__file__).parent.joinpath('../'))"
   ]
  },
  {
   "cell_type": "markdown",
   "id": "ecc1f623-80d5-431e-b846-154d6432d8e4",
   "metadata": {},
   "source": [
    "## Location dataframe"
   ]
  },
  {
   "cell_type": "code",
   "execution_count": 2,
   "id": "3d0065ec-3c07-466a-8736-3d5882066bde",
   "metadata": {},
   "outputs": [],
   "source": [
    "# Prepare data\n",
    "\n",
    "def prepare_data(filename):\n",
    "    df = pd.read_csv(filename, sep=\" \", header=None)\n",
    "    columns = [\"epoch_time\", \"Ignore1\", \"Ignore2\", \"accuracy\", \"Latitude\", \"Longitude\", \"Altitude\"]\n",
    "    df.columns = columns   \n",
    "    df = df.apply(pd.to_numeric)\n",
    "    return df"
   ]
  },
  {
   "cell_type": "code",
   "execution_count": 3,
   "id": "45bfec01-fd0c-4ee3-a4f7-e6b254a0bc09",
   "metadata": {},
   "outputs": [
    {
     "name": "stdout",
     "output_type": "stream",
     "text": [
      "      epoch_time       Ignore1    Ignore2  accuracy   Latitude  Longitude  \\\n",
      "0  1490431658118  788515246232  242658854      64.0  50.844494  -0.132922   \n",
      "1  1490431659760  790162926961  242658854      48.0  50.844491  -0.132924   \n",
      "2  1490431660766  791166135295  242658854      48.0  50.844481  -0.132931   \n",
      "3  1490431661765  792168861857  242658854      12.0  50.844469  -0.132930   \n",
      "4  1490431662768  793172255086  242658854      32.0  50.844267  -0.132787   \n",
      "\n",
      "     Altitude  \n",
      "0   97.664610  \n",
      "1  128.267900  \n",
      "2  135.611425  \n",
      "3  134.436050  \n",
      "4  135.993866  \n",
      "(911109, 7)\n",
      "epoch_time      int64\n",
      "Ignore1         int64\n",
      "Ignore2         int64\n",
      "accuracy      float64\n",
      "Latitude      float64\n",
      "Longitude     float64\n",
      "Altitude      float64\n",
      "dtype: object\n"
     ]
    }
   ],
   "source": [
    "# Run processing\n",
    "\n",
    "filename = './data/train/Location.txt'\n",
    "df = prepare_data(filename)\n",
    "print(df.head())\n",
    "print(df.shape)\n",
    "print(df.dtypes)\n",
    "df.to_parquet('./data/train/Location.parquet')\n",
    "\n",
    "filename = './data/validate/Location.txt'\n",
    "df = prepare_data(filename)\n",
    "df.to_parquet('./data/validate/Location.parquet')\n",
    "\n",
    "filename = './data/test/Location.txt'\n",
    "df = prepare_data(filename)\n",
    "df.to_parquet('./data/test/Location.parquet')\n"
   ]
  },
  {
   "cell_type": "code",
   "execution_count": null,
   "id": "6dc7710a-43a5-4d52-989c-b119dc28ff80",
   "metadata": {},
   "outputs": [],
   "source": []
  }
 ],
 "metadata": {
  "kernelspec": {
   "display_name": "Python 3",
   "language": "python",
   "name": "python3"
  },
  "language_info": {
   "codemirror_mode": {
    "name": "ipython",
    "version": 3
   },
   "file_extension": ".py",
   "mimetype": "text/x-python",
   "name": "python",
   "nbconvert_exporter": "python",
   "pygments_lexer": "ipython3",
   "version": "3.8.0"
  },
  "toc-autonumbering": false,
  "toc-showcode": false,
  "toc-showmarkdowntxt": true
 },
 "nbformat": 4,
 "nbformat_minor": 5
}