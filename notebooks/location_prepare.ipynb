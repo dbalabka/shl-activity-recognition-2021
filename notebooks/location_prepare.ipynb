{
 "cells": [
  {
   "cell_type": "code",
   "execution_count": 2,
   "id": "f92f8a8d-598f-41d7-996d-c1b7870f61a1",
   "metadata": {},
   "outputs": [],
   "source": [
    "import numpy as np\n",
    "import pandas as pd\n",
    "import os\n",
    "\n",
    "os.chdir('../')"
   ]
  },
  {
   "cell_type": "markdown",
   "id": "ecc1f623-80d5-431e-b846-154d6432d8e4",
   "metadata": {},
   "source": [
    "## Location dataframe"
   ]
  },
  {
   "cell_type": "code",
   "execution_count": 2,
   "id": "3d0065ec-3c07-466a-8736-3d5882066bde",
   "metadata": {},
   "outputs": [],
   "source": [
    "location_df = pd.read_csv('./data/train/Location.txt', sep=\" \", header=None)\n",
    "location_df.drop(location_df.columns[1:3], axis=1, inplace=True)\n",
    "location_df.columns = [\"epoch_time\", \"accuracy\", \"Latitude\", \"Longitude\", \"Altitude\"]"
   ]
  },
  {
   "cell_type": "code",
   "execution_count": 3,
   "id": "a9f4fb4c-69b5-45cf-9155-d1075358c35f",
   "metadata": {},
   "outputs": [
    {
     "data": {
      "text/html": [
       "<div>\n",
       "<style scoped>\n",
       "    .dataframe tbody tr th:only-of-type {\n",
       "        vertical-align: middle;\n",
       "    }\n",
       "\n",
       "    .dataframe tbody tr th {\n",
       "        vertical-align: top;\n",
       "    }\n",
       "\n",
       "    .dataframe thead th {\n",
       "        text-align: right;\n",
       "    }\n",
       "</style>\n",
       "<table border=\"1\" class=\"dataframe\">\n",
       "  <thead>\n",
       "    <tr style=\"text-align: right;\">\n",
       "      <th></th>\n",
       "      <th>epoch_time</th>\n",
       "      <th>accuracy</th>\n",
       "      <th>Latitude</th>\n",
       "      <th>Longitude</th>\n",
       "      <th>Altitude</th>\n",
       "    </tr>\n",
       "  </thead>\n",
       "  <tbody>\n",
       "    <tr>\n",
       "      <th>0</th>\n",
       "      <td>1490431658118</td>\n",
       "      <td>64.0</td>\n",
       "      <td>50.844494</td>\n",
       "      <td>-0.132922</td>\n",
       "      <td>97.664610</td>\n",
       "    </tr>\n",
       "    <tr>\n",
       "      <th>1</th>\n",
       "      <td>1490431659760</td>\n",
       "      <td>48.0</td>\n",
       "      <td>50.844491</td>\n",
       "      <td>-0.132924</td>\n",
       "      <td>128.267900</td>\n",
       "    </tr>\n",
       "    <tr>\n",
       "      <th>2</th>\n",
       "      <td>1490431660766</td>\n",
       "      <td>48.0</td>\n",
       "      <td>50.844481</td>\n",
       "      <td>-0.132931</td>\n",
       "      <td>135.611425</td>\n",
       "    </tr>\n",
       "    <tr>\n",
       "      <th>3</th>\n",
       "      <td>1490431661765</td>\n",
       "      <td>12.0</td>\n",
       "      <td>50.844469</td>\n",
       "      <td>-0.132930</td>\n",
       "      <td>134.436050</td>\n",
       "    </tr>\n",
       "    <tr>\n",
       "      <th>4</th>\n",
       "      <td>1490431662768</td>\n",
       "      <td>32.0</td>\n",
       "      <td>50.844267</td>\n",
       "      <td>-0.132787</td>\n",
       "      <td>135.993866</td>\n",
       "    </tr>\n",
       "  </tbody>\n",
       "</table>\n",
       "</div>"
      ],
      "text/plain": [
       "      epoch_time  accuracy   Latitude  Longitude    Altitude\n",
       "0  1490431658118      64.0  50.844494  -0.132922   97.664610\n",
       "1  1490431659760      48.0  50.844491  -0.132924  128.267900\n",
       "2  1490431660766      48.0  50.844481  -0.132931  135.611425\n",
       "3  1490431661765      12.0  50.844469  -0.132930  134.436050\n",
       "4  1490431662768      32.0  50.844267  -0.132787  135.993866"
      ]
     },
     "execution_count": 3,
     "metadata": {},
     "output_type": "execute_result"
    }
   ],
   "source": [
    "location_df.head()"
   ]
  },
  {
   "cell_type": "code",
   "execution_count": 4,
   "id": "7994fb61-f428-439e-ae04-61dc7dd934e6",
   "metadata": {},
   "outputs": [
    {
     "data": {
      "text/plain": [
       "(911109, 5)"
      ]
     },
     "execution_count": 4,
     "metadata": {},
     "output_type": "execute_result"
    }
   ],
   "source": [
    "location_df.shape"
   ]
  },
  {
   "cell_type": "code",
   "execution_count": 5,
   "id": "30445f24-cb0c-44da-9299-20b8f68724cd",
   "metadata": {},
   "outputs": [],
   "source": [
    "# Save prepared data to csv\n",
    "location_df.to_parquet('./data/train/Location.parquet')"
   ]
  },
  {
   "cell_type": "code",
   "execution_count": null,
   "id": "6dc7710a-43a5-4d52-989c-b119dc28ff80",
   "metadata": {},
   "outputs": [],
   "source": []
  }
 ],
 "metadata": {
  "kernelspec": {
   "display_name": "Python 3",
   "language": "python",
   "name": "python3"
  },
  "language_info": {
   "codemirror_mode": {
    "name": "ipython",
    "version": 3
   },
   "file_extension": ".py",
   "mimetype": "text/x-python",
   "name": "python",
   "nbconvert_exporter": "python",
   "pygments_lexer": "ipython3",
   "version": "3.8.5"
  },
  "toc-autonumbering": false,
  "toc-showcode": false,
  "toc-showmarkdowntxt": true
 },
 "nbformat": 4,
 "nbformat_minor": 5
}
